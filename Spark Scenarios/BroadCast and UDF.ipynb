{
 "cells": [
  {
   "cell_type": "code",
   "execution_count": 0,
   "metadata": {
    "application/vnd.databricks.v1+cell": {
     "cellMetadata": {
      "byteLimit": 2048000,
      "rowLimit": 10000
     },
     "inputWidgets": {},
     "nuid": "d8b8ef34-ab9c-41c3-b7ea-c950ca8a2f41",
     "showTitle": false,
     "title": ""
    }
   },
   "outputs": [
    {
     "output_type": "display_data",
     "data": {
      "text/html": [
       "<style scoped>\n",
       "  .table-result-container {\n",
       "    max-height: 300px;\n",
       "    overflow: auto;\n",
       "  }\n",
       "  table, th, td {\n",
       "    border: 1px solid black;\n",
       "    border-collapse: collapse;\n",
       "  }\n",
       "  th, td {\n",
       "    padding: 5px;\n",
       "  }\n",
       "  th {\n",
       "    text-align: left;\n",
       "  }\n",
       "</style><div class='table-result-container'><table class='table-result'><thead style='background-color: white'><tr><th>2019_rank</th><th>City</th><th>State_Code</th><th>2019_estimate</th><th>2010_Census</th><th>Change</th></tr></thead><tbody><tr><td>1</td><td>New York[d]</td><td>NY</td><td>8336817</td><td>8175133</td><td>0.0198</td></tr><tr><td>2</td><td>Los Angeles</td><td>CA</td><td>3979576</td><td>3792621</td><td>0.0493</td></tr><tr><td>3</td><td>Chicago</td><td>IL</td><td>2693976</td><td>2695598</td><td>−0.06%            </td></tr><tr><td>4</td><td>Houston[3]</td><td>TX</td><td>2320268</td><td>2100263</td><td>0.1048</td></tr><tr><td>5</td><td>Phoenix</td><td>AZ</td><td>1680992</td><td>1445632</td><td>0.1628</td></tr><tr><td>6</td><td>San Antonio</td><td>TX</td><td>1547253</td><td>1327407</td><td>0.1656</td></tr><tr><td>7</td><td>San Diego</td><td>CA</td><td>1423851</td><td>1307402</td><td>0.0891</td></tr><tr><td>8</td><td>Dallas</td><td>TX</td><td>1343573</td><td>1197816</td><td>0.1217</td></tr><tr><td>9</td><td>San Jose</td><td>CA</td><td>1021795</td><td>945942</td><td>0.0802</td></tr><tr><td>10</td><td>Austin</td><td>TX</td><td>978908</td><td>790390</td><td>0.2385</td></tr><tr><td>11</td><td>Fort Worth</td><td>TX</td><td>909585</td><td>741206</td><td>0.2272</td></tr><tr><td>12</td><td>Columbus</td><td>OH</td><td>898553</td><td>787033</td><td>0.1417</td></tr><tr><td>13</td><td>San Francisco[g]</td><td>CA</td><td>881549</td><td>805235</td><td>0.0948</td></tr><tr><td>14</td><td>Denver[i]</td><td>CO</td><td>727211</td><td>600158</td><td>0.2117</td></tr><tr><td>15</td><td>El Paso</td><td>TX</td><td>681728</td><td>649121</td><td>0.0502</td></tr><tr><td>16</td><td>Tucson</td><td>AZ</td><td>548073</td><td>520116</td><td>0.0538</td></tr><tr><td>17</td><td>Fresno</td><td>CA</td><td>531576</td><td>494665</td><td>0.0746</td></tr><tr><td>18</td><td>Mesa</td><td>AZ</td><td>518012</td><td>439041</td><td>0.1799</td></tr><tr><td>19</td><td>Sacramento</td><td>CA</td><td>513624</td><td>466488</td><td>0.101</td></tr><tr><td>20</td><td>Colorado Springs</td><td>CO</td><td>478221</td><td>416427</td><td>0.1484</td></tr><tr><td>21</td><td>Long Beach</td><td>CA</td><td>462628</td><td>462257</td><td>0.0008</td></tr><tr><td>22</td><td>Oakland</td><td>CA</td><td>433031</td><td>390724</td><td>0.1083</td></tr><tr><td>23</td><td>Arlington</td><td>TX</td><td>398854</td><td>365438</td><td>0.0914</td></tr><tr><td>24</td><td>Bakersfield</td><td>CA</td><td>384145</td><td>347483</td><td>0.1055</td></tr><tr><td>25</td><td>Cleveland</td><td>OH</td><td>381009</td><td>396815</td><td>−3.98%                           </td></tr><tr><td>26</td><td>Aurora</td><td>CO</td><td>379289</td><td>325078</td><td>0.1668</td></tr><tr><td>27</td><td>Anaheim</td><td>CA</td><td>350365</td><td>336265</td><td>0.0419</td></tr><tr><td>28</td><td>Santa Ana</td><td>CA</td><td>332318</td><td>324528</td><td>0.024</td></tr><tr><td>29</td><td>Riverside</td><td>CA</td><td>331360</td><td>303871</td><td>0.0905</td></tr><tr><td>30</td><td>Corpus Christi</td><td>TX</td><td>326586</td><td>305215</td><td>0.07</td></tr><tr><td>31</td><td>Stockton</td><td>CA</td><td>312697</td><td>291707</td><td>0.072</td></tr><tr><td>32</td><td>Cincinnati</td><td>OH</td><td>303940</td><td>296943</td><td>0.0236</td></tr><tr><td>33</td><td>Plano</td><td>TX</td><td>287677</td><td>259841</td><td>0.1071</td></tr><tr><td>34</td><td>Irvine</td><td>CA</td><td>287401</td><td>212375</td><td>0.3533</td></tr><tr><td>35</td><td>Chula Vista</td><td>CA</td><td>274492</td><td>243916</td><td>0.1254</td></tr><tr><td>36</td><td>Toledo</td><td>OH</td><td>272779</td><td>287208</td><td>−5.02%                               </td></tr><tr><td>37</td><td>Laredo</td><td>TX</td><td>262491</td><td>236091</td><td>0.1118</td></tr><tr><td>38</td><td>Chandler</td><td>AZ</td><td>261165</td><td>236123</td><td>0.1061</td></tr><tr><td>39</td><td>Lubbock</td><td>TX</td><td>258862</td><td>229573</td><td>0.1276</td></tr><tr><td>40</td><td>Scottsdale</td><td>AZ</td><td>258069</td><td>217385</td><td>0.1872</td></tr><tr><td>41</td><td>Buffalo</td><td>NY</td><td>255284</td><td>261310</td><td>−2.31%                           </td></tr><tr><td>42</td><td>Gilbert[q]</td><td>AZ</td><td>254114</td><td>208453</td><td>0.219</td></tr><tr><td>43</td><td>Glendale</td><td>AZ</td><td>252381</td><td>226721</td><td>0.1132</td></tr><tr><td>44</td><td>Fremont</td><td>CA</td><td>241110</td><td>214089</td><td>0.1262</td></tr><tr><td>45</td><td>Garland</td><td>TX</td><td>239928</td><td>226876</td><td>0.0575</td></tr><tr><td>46</td><td>Irving</td><td>TX</td><td>239798</td><td>216290</td><td>0.1087</td></tr><tr><td>47</td><td>San Bernardino</td><td>CA</td><td>215784</td><td>209924</td><td>0.0279</td></tr><tr><td>48</td><td>Modesto</td><td>CA</td><td>215196</td><td>201165</td><td>0.0697</td></tr><tr><td>49</td><td>Fontana</td><td>CA</td><td>214547</td><td>196069</td><td>0.0942</td></tr><tr><td>50</td><td>Moreno Valley</td><td>CA</td><td>213055</td><td>193365</td><td>0.1018</td></tr><tr><td>51</td><td>Santa Clarita</td><td>CA</td><td>212979</td><td>176320</td><td>0.2079</td></tr><tr><td>52</td><td>Oxnard</td><td>CA</td><td>208881</td><td>197899</td><td>0.0555</td></tr><tr><td>53</td><td>Rochester</td><td>NY</td><td>205695</td><td>210565</td><td>−2.31%                       </td></tr><tr><td>54</td><td>Frisco</td><td>TX</td><td>200490</td><td>116989</td><td>0.7138</td></tr><tr><td>55</td><td>Yonkers</td><td>NY</td><td>200370</td><td>195976</td><td>0.0224</td></tr><tr><td>56</td><td>Amarillo</td><td>TX</td><td>199371</td><td>190695</td><td>0.0455</td></tr><tr><td>57</td><td>Glendale</td><td>CA</td><td>199303</td><td>191719</td><td>0.0396</td></tr><tr><td>58</td><td>Huntington Beach</td><td>CA</td><td>199223</td><td>189992</td><td>0.0486</td></tr><tr><td>59</td><td>McKinney</td><td>TX</td><td>199177</td><td>131117</td><td>0.5191</td></tr><tr><td>60</td><td>Aurora</td><td>IL</td><td>197757</td><td>197899</td><td>−0.07%                           </td></tr><tr><td>61</td><td>Akron</td><td>OH</td><td>197597</td><td>199110</td><td>−0.76%                               </td></tr><tr><td>62</td><td>Tempe</td><td>AZ</td><td>195805</td><td>161719</td><td>0.2108</td></tr><tr><td>63</td><td>Grand Prairie</td><td>TX</td><td>194543</td><td>175396</td><td>0.1092</td></tr><tr><td>64</td><td>Ontario</td><td>CA</td><td>185010</td><td>163924</td><td>0.1286</td></tr><tr><td>65</td><td>Brownsville</td><td>TX</td><td>182781</td><td>175023</td><td>0.0443</td></tr><tr><td>66</td><td>Rancho Cucamonga</td><td>CA</td><td>177603</td><td>165269</td><td>0.0746</td></tr><tr><td>67</td><td>Santa Rosa</td><td>CA</td><td>176753</td><td>167815</td><td>0.0533</td></tr><tr><td>68</td><td>Peoria</td><td>AZ</td><td>175961</td><td>154065</td><td>0.1421</td></tr><tr><td>69</td><td>Oceanside</td><td>CA</td><td>175742</td><td>167086</td><td>0.0518</td></tr><tr><td>70</td><td>Elk Grove</td><td>CA</td><td>174775</td><td>153015</td><td>0.1422</td></tr><tr><td>71</td><td>Garden Grove</td><td>CA</td><td>171644</td><td>170883</td><td>0.0045</td></tr><tr><td>72</td><td>Fort Collins</td><td>CO</td><td>170243</td><td>143986</td><td>0.1824</td></tr><tr><td>73</td><td>Corona</td><td>CA</td><td>169868</td><td>152374</td><td>0.1148</td></tr><tr><td>74</td><td>Hayward</td><td>CA</td><td>159203</td><td>144186</td><td>0.1042</td></tr><tr><td>75</td><td>Lakewood</td><td>CO</td><td>157935</td><td>142980</td><td>0.1046</td></tr><tr><td>76</td><td>Lancaster</td><td>CA</td><td>157601</td><td>156633</td><td>0.0062</td></tr><tr><td>77</td><td>Salinas</td><td>CA</td><td>155465</td><td>150441</td><td>0.0334</td></tr><tr><td>78</td><td>Palmdale</td><td>CA</td><td>155079</td><td>152750</td><td>0.0152</td></tr><tr><td>79</td><td>Sunnyvale</td><td>CA</td><td>152703</td><td>140081</td><td>0.0901</td></tr><tr><td>80</td><td>Pomona</td><td>CA</td><td>151691</td><td>149058</td><td>0.0177</td></tr><tr><td>81</td><td>Killeen</td><td>TX</td><td>151666</td><td>127921</td><td>0.1856</td></tr><tr><td>82</td><td>Escondido</td><td>CA</td><td>151625</td><td>143911</td><td>0.0536</td></tr><tr><td>83</td><td>Pasadena</td><td>TX</td><td>151227</td><td>149043</td><td>0.0147</td></tr><tr><td>84</td><td>Naperville</td><td>IL</td><td>148449</td><td>141853</td><td>0.0465</td></tr><tr><td>85</td><td>Joliet</td><td>IL</td><td>147344</td><td>147433</td><td>−0.06%                           </td></tr><tr><td>86</td><td>Midland</td><td>TX</td><td>146038</td><td>111147</td><td>0.3139</td></tr><tr><td>87</td><td>Rockford</td><td>IL</td><td>145609</td><td>152871</td><td>−4.75%                       </td></tr><tr><td>88</td><td>Torrance</td><td>CA</td><td>143592</td><td>145438</td><td>−1.27%                       </td></tr><tr><td>89</td><td>McAllen</td><td>TX</td><td>143268</td><td>129877</td><td>0.1031</td></tr><tr><td>90</td><td>Syracuse</td><td>NY</td><td>142327</td><td>145170</td><td>−1.96%                       </td></tr><tr><td>91</td><td>Surprise</td><td>AZ</td><td>141664</td><td>117517</td><td>0.2055</td></tr><tr><td>92</td><td>Denton</td><td>TX</td><td>141541</td><td>113383</td><td>0.2483</td></tr><tr><td>93</td><td>Roseville</td><td>CA</td><td>141500</td><td>118788</td><td>0.1912</td></tr><tr><td>94</td><td>Thornton</td><td>CO</td><td>141464</td><td>118772</td><td>0.1911</td></tr><tr><td>95</td><td>Pasadena</td><td>CA</td><td>141029</td><td>137122</td><td>0.0285</td></tr><tr><td>96</td><td>Mesquite</td><td>TX</td><td>140937</td><td>139824</td><td>0.008</td></tr><tr><td>97</td><td>Dayton</td><td>OH</td><td>140407</td><td>141527</td><td>−0.79%                               </td></tr><tr><td>98</td><td>Carrollton</td><td>TX</td><td>139248</td><td>119097</td><td>0.1692</td></tr><tr><td>99</td><td>Waco</td><td>TX</td><td>139236</td><td>124805</td><td>0.1156</td></tr><tr><td>100</td><td>Orange</td><td>CA</td><td>138669</td><td>136416</td><td>0.0165</td></tr><tr><td>101</td><td>Fullerton</td><td>CA</td><td>138632</td><td>135161</td><td>0.0257</td></tr><tr><td>102</td><td>Visalia</td><td>CA</td><td>134605</td><td>124442</td><td>0.0817</td></tr><tr><td>103</td><td>Round Rock</td><td>TX</td><td>133372</td><td>99887</td><td>0.3352</td></tr><tr><td>104</td><td>Santa Clara</td><td>CA</td><td>130365</td><td>116468</td><td>0.1193</td></tr><tr><td>105</td><td>Concord</td><td>CA</td><td>129295</td><td>122067</td><td>0.0592</td></tr><tr><td>106</td><td>Thousand Oaks</td><td>CA</td><td>126813</td><td>126683</td><td>0.001</td></tr><tr><td>107</td><td>Simi Valley</td><td>CA</td><td>125613</td><td>124237</td><td>0.0111</td></tr><tr><td>108</td><td>Abilene</td><td>TX</td><td>123420</td><td>117063</td><td>0.0543</td></tr><tr><td>109</td><td>Odessa</td><td>TX</td><td>123334</td><td>99940</td><td>0.2341</td></tr><tr><td>110</td><td>Pearland</td><td>TX</td><td>122460</td><td>91252</td><td>0.342</td></tr><tr><td>111</td><td>Victorville</td><td>CA</td><td>122385</td><td>115903</td><td>0.0559</td></tr><tr><td>112</td><td>Vallejo</td><td>CA</td><td>121692</td><td>115942</td><td>0.0496</td></tr><tr><td>113</td><td>Berkeley</td><td>CA</td><td>121363</td><td>112580</td><td>0.078</td></tr><tr><td>114</td><td>Richardson</td><td>TX</td><td>121323</td><td>99223</td><td>0.2227</td></tr><tr><td>115</td><td>Arvada</td><td>CO</td><td>121272</td><td>106433</td><td>0.1394</td></tr><tr><td>116</td><td>Sugar Land</td><td>TX</td><td>118488</td><td>78817</td><td>0.5033</td></tr><tr><td>117</td><td>College Station</td><td>TX</td><td>117911</td><td>93857</td><td>0.2563</td></tr><tr><td>118</td><td>Fairfield</td><td>CA</td><td>117133</td><td>105321</td><td>0.1122</td></tr><tr><td>119</td><td>Beaumont</td><td>TX</td><td>116825</td><td>118296</td><td>−1.24%                           </td></tr><tr><td>120</td><td>Murrieta</td><td>CA</td><td>116223</td><td>103466</td><td>0.1233</td></tr><tr><td>121</td><td>El Monte</td><td>CA</td><td>115487</td><td>113475</td><td>0.0177</td></tr><tr><td>122</td><td>Carlsbad</td><td>CA</td><td>115382</td><td>105328</td><td>0.0955</td></tr><tr><td>123</td><td>Temecula</td><td>CA</td><td>114761</td><td>100097</td><td>0.1465</td></tr><tr><td>124</td><td>Clovis</td><td>CA</td><td>114584</td><td>95631</td><td>0.1982</td></tr><tr><td>125</td><td>Springfield</td><td>IL</td><td>114230</td><td>116250</td><td>−1.74%                       </td></tr><tr><td>126</td><td>Westminster</td><td>CO</td><td>113166</td><td>106114</td><td>0.0665</td></tr><tr><td>127</td><td>Costa Mesa</td><td>CA</td><td>113003</td><td>109960</td><td>0.0277</td></tr><tr><td>128</td><td>Pueblo</td><td>CO</td><td>112361</td><td>106595</td><td>0.0541</td></tr><tr><td>129</td><td>Antioch</td><td>CA</td><td>111502</td><td>102372</td><td>0.0892</td></tr><tr><td>130</td><td>Downey</td><td>CA</td><td>111126</td><td>111772</td><td>−0.58%                           </td></tr><tr><td>131</td><td>Centennial</td><td>CO</td><td>110937</td><td>100377</td><td>0.1052</td></tr><tr><td>132</td><td>Elgin</td><td>IL</td><td>110849</td><td>108188</td><td>0.0246</td></tr><tr><td>133</td><td>Richmond</td><td>CA</td><td>110567</td><td>103701</td><td>0.0662</td></tr><tr><td>134</td><td>Peoria</td><td>IL</td><td>110417</td><td>115007</td><td>−3.99%                           </td></tr><tr><td>135</td><td>Lewisville</td><td>TX</td><td>109212</td><td>95290</td><td>0.1461</td></tr><tr><td>136</td><td>Ventura[ab]</td><td>CA</td><td>109106</td><td>106433</td><td>0.0251</td></tr><tr><td>137</td><td>Greeley</td><td>CO</td><td>108649</td><td>92889</td><td>0.1697</td></tr><tr><td>138</td><td>Inglewood</td><td>CA</td><td>108151</td><td>109673</td><td>−1.39%                       </td></tr><tr><td>139</td><td>League City</td><td>TX</td><td>107536</td><td>83560</td><td>0.2869</td></tr><tr><td>140</td><td>Santa Maria</td><td>CA</td><td>107263</td><td>99553</td><td>0.0774</td></tr><tr><td>141</td><td>Tyler</td><td>TX</td><td>106985</td><td>96900</td><td>0.1041</td></tr><tr><td>142</td><td>Daly City</td><td>CA</td><td>106280</td><td>101123</td><td>0.051</td></tr><tr><td>143</td><td>Boulder</td><td>CO</td><td>105673</td><td>97385</td><td>0.0851</td></tr><tr><td>144</td><td>Allen</td><td>TX</td><td>105623</td><td>84246</td><td>0.2537</td></tr><tr><td>145</td><td>West Covina</td><td>CA</td><td>105101</td><td>106098</td><td>−0.94%                       </td></tr><tr><td>146</td><td>Wichita Falls</td><td>TX</td><td>104683</td><td>104553</td><td>0.0012</td></tr><tr><td>147</td><td>San Mateo</td><td>CA</td><td>104430</td><td>97207</td><td>0.0743</td></tr><tr><td>148</td><td>Norwalk</td><td>CA</td><td>103949</td><td>105549</td><td>−1.52%                           </td></tr><tr><td>149</td><td>Rialto</td><td>CA</td><td>103526</td><td>99171</td><td>0.0439</td></tr><tr><td>150</td><td>Chico</td><td>CA</td><td>103301</td><td>86187</td><td>0.1986</td></tr><tr><td>151</td><td>El Cajon</td><td>CA</td><td>102708</td><td>99478</td><td>0.0325</td></tr><tr><td>152</td><td>Burbank</td><td>CA</td><td>102511</td><td>103340</td><td>−0.80%                           </td></tr><tr><td>153</td><td>Vista</td><td>CA</td><td>101638</td><td>93834</td><td>0.0832</td></tr><tr><td>154</td><td>Edinburg</td><td>TX</td><td>101170</td><td>77100</td><td>0.3122</td></tr><tr><td>155</td><td>San Angelo</td><td>TX</td><td>101004</td><td>93200</td><td>0.0837</td></tr><tr><td>156</td><td>Vacaville</td><td>CA</td><td>100670</td><td>92428</td><td>0.0892</td></tr></tbody></table></div>"
      ]
     },
     "metadata": {
      "application/vnd.databricks.v1+output": {
       "addedWidgets": {},
       "aggData": [],
       "aggError": "",
       "aggOverflow": false,
       "aggSchema": [],
       "aggSeriesLimitReached": false,
       "aggType": "",
       "arguments": {},
       "columnCustomDisplayInfos": {},
       "data": [
        [
         1,
         "New York[d]",
         "NY",
         8336817,
         8175133,
         "0.0198"
        ],
        [
         2,
         "Los Angeles",
         "CA",
         3979576,
         3792621,
         "0.0493"
        ],
        [
         3,
         "Chicago",
         "IL",
         2693976,
         2695598,
         "−0.06%            "
        ],
        [
         4,
         "Houston[3]",
         "TX",
         2320268,
         2100263,
         "0.1048"
        ],
        [
         5,
         "Phoenix",
         "AZ",
         1680992,
         1445632,
         "0.1628"
        ],
        [
         6,
         "San Antonio",
         "TX",
         1547253,
         1327407,
         "0.1656"
        ],
        [
         7,
         "San Diego",
         "CA",
         1423851,
         1307402,
         "0.0891"
        ],
        [
         8,
         "Dallas",
         "TX",
         1343573,
         1197816,
         "0.1217"
        ],
        [
         9,
         "San Jose",
         "CA",
         1021795,
         945942,
         "0.0802"
        ],
        [
         10,
         "Austin",
         "TX",
         978908,
         790390,
         "0.2385"
        ],
        [
         11,
         "Fort Worth",
         "TX",
         909585,
         741206,
         "0.2272"
        ],
        [
         12,
         "Columbus",
         "OH",
         898553,
         787033,
         "0.1417"
        ],
        [
         13,
         "San Francisco[g]",
         "CA",
         881549,
         805235,
         "0.0948"
        ],
        [
         14,
         "Denver[i]",
         "CO",
         727211,
         600158,
         "0.2117"
        ],
        [
         15,
         "El Paso",
         "TX",
         681728,
         649121,
         "0.0502"
        ],
        [
         16,
         "Tucson",
         "AZ",
         548073,
         520116,
         "0.0538"
        ],
        [
         17,
         "Fresno",
         "CA",
         531576,
         494665,
         "0.0746"
        ],
        [
         18,
         "Mesa",
         "AZ",
         518012,
         439041,
         "0.1799"
        ],
        [
         19,
         "Sacramento",
         "CA",
         513624,
         466488,
         "0.101"
        ],
        [
         20,
         "Colorado Springs",
         "CO",
         478221,
         416427,
         "0.1484"
        ],
        [
         21,
         "Long Beach",
         "CA",
         462628,
         462257,
         "0.0008"
        ],
        [
         22,
         "Oakland",
         "CA",
         433031,
         390724,
         "0.1083"
        ],
        [
         23,
         "Arlington",
         "TX",
         398854,
         365438,
         "0.0914"
        ],
        [
         24,
         "Bakersfield",
         "CA",
         384145,
         347483,
         "0.1055"
        ],
        [
         25,
         "Cleveland",
         "OH",
         381009,
         396815,
         "−3.98%                           "
        ],
        [
         26,
         "Aurora",
         "CO",
         379289,
         325078,
         "0.1668"
        ],
        [
         27,
         "Anaheim",
         "CA",
         350365,
         336265,
         "0.0419"
        ],
        [
         28,
         "Santa Ana",
         "CA",
         332318,
         324528,
         "0.024"
        ],
        [
         29,
         "Riverside",
         "CA",
         331360,
         303871,
         "0.0905"
        ],
        [
         30,
         "Corpus Christi",
         "TX",
         326586,
         305215,
         "0.07"
        ],
        [
         31,
         "Stockton",
         "CA",
         312697,
         291707,
         "0.072"
        ],
        [
         32,
         "Cincinnati",
         "OH",
         303940,
         296943,
         "0.0236"
        ],
        [
         33,
         "Plano",
         "TX",
         287677,
         259841,
         "0.1071"
        ],
        [
         34,
         "Irvine",
         "CA",
         287401,
         212375,
         "0.3533"
        ],
        [
         35,
         "Chula Vista",
         "CA",
         274492,
         243916,
         "0.1254"
        ],
        [
         36,
         "Toledo",
         "OH",
         272779,
         287208,
         "−5.02%                               "
        ],
        [
         37,
         "Laredo",
         "TX",
         262491,
         236091,
         "0.1118"
        ],
        [
         38,
         "Chandler",
         "AZ",
         261165,
         236123,
         "0.1061"
        ],
        [
         39,
         "Lubbock",
         "TX",
         258862,
         229573,
         "0.1276"
        ],
        [
         40,
         "Scottsdale",
         "AZ",
         258069,
         217385,
         "0.1872"
        ],
        [
         41,
         "Buffalo",
         "NY",
         255284,
         261310,
         "−2.31%                           "
        ],
        [
         42,
         "Gilbert[q]",
         "AZ",
         254114,
         208453,
         "0.219"
        ],
        [
         43,
         "Glendale",
         "AZ",
         252381,
         226721,
         "0.1132"
        ],
        [
         44,
         "Fremont",
         "CA",
         241110,
         214089,
         "0.1262"
        ],
        [
         45,
         "Garland",
         "TX",
         239928,
         226876,
         "0.0575"
        ],
        [
         46,
         "Irving",
         "TX",
         239798,
         216290,
         "0.1087"
        ],
        [
         47,
         "San Bernardino",
         "CA",
         215784,
         209924,
         "0.0279"
        ],
        [
         48,
         "Modesto",
         "CA",
         215196,
         201165,
         "0.0697"
        ],
        [
         49,
         "Fontana",
         "CA",
         214547,
         196069,
         "0.0942"
        ],
        [
         50,
         "Moreno Valley",
         "CA",
         213055,
         193365,
         "0.1018"
        ],
        [
         51,
         "Santa Clarita",
         "CA",
         212979,
         176320,
         "0.2079"
        ],
        [
         52,
         "Oxnard",
         "CA",
         208881,
         197899,
         "0.0555"
        ],
        [
         53,
         "Rochester",
         "NY",
         205695,
         210565,
         "−2.31%                       "
        ],
        [
         54,
         "Frisco",
         "TX",
         200490,
         116989,
         "0.7138"
        ],
        [
         55,
         "Yonkers",
         "NY",
         200370,
         195976,
         "0.0224"
        ],
        [
         56,
         "Amarillo",
         "TX",
         199371,
         190695,
         "0.0455"
        ],
        [
         57,
         "Glendale",
         "CA",
         199303,
         191719,
         "0.0396"
        ],
        [
         58,
         "Huntington Beach",
         "CA",
         199223,
         189992,
         "0.0486"
        ],
        [
         59,
         "McKinney",
         "TX",
         199177,
         131117,
         "0.5191"
        ],
        [
         60,
         "Aurora",
         "IL",
         197757,
         197899,
         "−0.07%                           "
        ],
        [
         61,
         "Akron",
         "OH",
         197597,
         199110,
         "−0.76%                               "
        ],
        [
         62,
         "Tempe",
         "AZ",
         195805,
         161719,
         "0.2108"
        ],
        [
         63,
         "Grand Prairie",
         "TX",
         194543,
         175396,
         "0.1092"
        ],
        [
         64,
         "Ontario",
         "CA",
         185010,
         163924,
         "0.1286"
        ],
        [
         65,
         "Brownsville",
         "TX",
         182781,
         175023,
         "0.0443"
        ],
        [
         66,
         "Rancho Cucamonga",
         "CA",
         177603,
         165269,
         "0.0746"
        ],
        [
         67,
         "Santa Rosa",
         "CA",
         176753,
         167815,
         "0.0533"
        ],
        [
         68,
         "Peoria",
         "AZ",
         175961,
         154065,
         "0.1421"
        ],
        [
         69,
         "Oceanside",
         "CA",
         175742,
         167086,
         "0.0518"
        ],
        [
         70,
         "Elk Grove",
         "CA",
         174775,
         153015,
         "0.1422"
        ],
        [
         71,
         "Garden Grove",
         "CA",
         171644,
         170883,
         "0.0045"
        ],
        [
         72,
         "Fort Collins",
         "CO",
         170243,
         143986,
         "0.1824"
        ],
        [
         73,
         "Corona",
         "CA",
         169868,
         152374,
         "0.1148"
        ],
        [
         74,
         "Hayward",
         "CA",
         159203,
         144186,
         "0.1042"
        ],
        [
         75,
         "Lakewood",
         "CO",
         157935,
         142980,
         "0.1046"
        ],
        [
         76,
         "Lancaster",
         "CA",
         157601,
         156633,
         "0.0062"
        ],
        [
         77,
         "Salinas",
         "CA",
         155465,
         150441,
         "0.0334"
        ],
        [
         78,
         "Palmdale",
         "CA",
         155079,
         152750,
         "0.0152"
        ],
        [
         79,
         "Sunnyvale",
         "CA",
         152703,
         140081,
         "0.0901"
        ],
        [
         80,
         "Pomona",
         "CA",
         151691,
         149058,
         "0.0177"
        ],
        [
         81,
         "Killeen",
         "TX",
         151666,
         127921,
         "0.1856"
        ],
        [
         82,
         "Escondido",
         "CA",
         151625,
         143911,
         "0.0536"
        ],
        [
         83,
         "Pasadena",
         "TX",
         151227,
         149043,
         "0.0147"
        ],
        [
         84,
         "Naperville",
         "IL",
         148449,
         141853,
         "0.0465"
        ],
        [
         85,
         "Joliet",
         "IL",
         147344,
         147433,
         "−0.06%                           "
        ],
        [
         86,
         "Midland",
         "TX",
         146038,
         111147,
         "0.3139"
        ],
        [
         87,
         "Rockford",
         "IL",
         145609,
         152871,
         "−4.75%                       "
        ],
        [
         88,
         "Torrance",
         "CA",
         143592,
         145438,
         "−1.27%                       "
        ],
        [
         89,
         "McAllen",
         "TX",
         143268,
         129877,
         "0.1031"
        ],
        [
         90,
         "Syracuse",
         "NY",
         142327,
         145170,
         "−1.96%                       "
        ],
        [
         91,
         "Surprise",
         "AZ",
         141664,
         117517,
         "0.2055"
        ],
        [
         92,
         "Denton",
         "TX",
         141541,
         113383,
         "0.2483"
        ],
        [
         93,
         "Roseville",
         "CA",
         141500,
         118788,
         "0.1912"
        ],
        [
         94,
         "Thornton",
         "CO",
         141464,
         118772,
         "0.1911"
        ],
        [
         95,
         "Pasadena",
         "CA",
         141029,
         137122,
         "0.0285"
        ],
        [
         96,
         "Mesquite",
         "TX",
         140937,
         139824,
         "0.008"
        ],
        [
         97,
         "Dayton",
         "OH",
         140407,
         141527,
         "−0.79%                               "
        ],
        [
         98,
         "Carrollton",
         "TX",
         139248,
         119097,
         "0.1692"
        ],
        [
         99,
         "Waco",
         "TX",
         139236,
         124805,
         "0.1156"
        ],
        [
         100,
         "Orange",
         "CA",
         138669,
         136416,
         "0.0165"
        ],
        [
         101,
         "Fullerton",
         "CA",
         138632,
         135161,
         "0.0257"
        ],
        [
         102,
         "Visalia",
         "CA",
         134605,
         124442,
         "0.0817"
        ],
        [
         103,
         "Round Rock",
         "TX",
         133372,
         99887,
         "0.3352"
        ],
        [
         104,
         "Santa Clara",
         "CA",
         130365,
         116468,
         "0.1193"
        ],
        [
         105,
         "Concord",
         "CA",
         129295,
         122067,
         "0.0592"
        ],
        [
         106,
         "Thousand Oaks",
         "CA",
         126813,
         126683,
         "0.001"
        ],
        [
         107,
         "Simi Valley",
         "CA",
         125613,
         124237,
         "0.0111"
        ],
        [
         108,
         "Abilene",
         "TX",
         123420,
         117063,
         "0.0543"
        ],
        [
         109,
         "Odessa",
         "TX",
         123334,
         99940,
         "0.2341"
        ],
        [
         110,
         "Pearland",
         "TX",
         122460,
         91252,
         "0.342"
        ],
        [
         111,
         "Victorville",
         "CA",
         122385,
         115903,
         "0.0559"
        ],
        [
         112,
         "Vallejo",
         "CA",
         121692,
         115942,
         "0.0496"
        ],
        [
         113,
         "Berkeley",
         "CA",
         121363,
         112580,
         "0.078"
        ],
        [
         114,
         "Richardson",
         "TX",
         121323,
         99223,
         "0.2227"
        ],
        [
         115,
         "Arvada",
         "CO",
         121272,
         106433,
         "0.1394"
        ],
        [
         116,
         "Sugar Land",
         "TX",
         118488,
         78817,
         "0.5033"
        ],
        [
         117,
         "College Station",
         "TX",
         117911,
         93857,
         "0.2563"
        ],
        [
         118,
         "Fairfield",
         "CA",
         117133,
         105321,
         "0.1122"
        ],
        [
         119,
         "Beaumont",
         "TX",
         116825,
         118296,
         "−1.24%                           "
        ],
        [
         120,
         "Murrieta",
         "CA",
         116223,
         103466,
         "0.1233"
        ],
        [
         121,
         "El Monte",
         "CA",
         115487,
         113475,
         "0.0177"
        ],
        [
         122,
         "Carlsbad",
         "CA",
         115382,
         105328,
         "0.0955"
        ],
        [
         123,
         "Temecula",
         "CA",
         114761,
         100097,
         "0.1465"
        ],
        [
         124,
         "Clovis",
         "CA",
         114584,
         95631,
         "0.1982"
        ],
        [
         125,
         "Springfield",
         "IL",
         114230,
         116250,
         "−1.74%                       "
        ],
        [
         126,
         "Westminster",
         "CO",
         113166,
         106114,
         "0.0665"
        ],
        [
         127,
         "Costa Mesa",
         "CA",
         113003,
         109960,
         "0.0277"
        ],
        [
         128,
         "Pueblo",
         "CO",
         112361,
         106595,
         "0.0541"
        ],
        [
         129,
         "Antioch",
         "CA",
         111502,
         102372,
         "0.0892"
        ],
        [
         130,
         "Downey",
         "CA",
         111126,
         111772,
         "−0.58%                           "
        ],
        [
         131,
         "Centennial",
         "CO",
         110937,
         100377,
         "0.1052"
        ],
        [
         132,
         "Elgin",
         "IL",
         110849,
         108188,
         "0.0246"
        ],
        [
         133,
         "Richmond",
         "CA",
         110567,
         103701,
         "0.0662"
        ],
        [
         134,
         "Peoria",
         "IL",
         110417,
         115007,
         "−3.99%                           "
        ],
        [
         135,
         "Lewisville",
         "TX",
         109212,
         95290,
         "0.1461"
        ],
        [
         136,
         "Ventura[ab]",
         "CA",
         109106,
         106433,
         "0.0251"
        ],
        [
         137,
         "Greeley",
         "CO",
         108649,
         92889,
         "0.1697"
        ],
        [
         138,
         "Inglewood",
         "CA",
         108151,
         109673,
         "−1.39%                       "
        ],
        [
         139,
         "League City",
         "TX",
         107536,
         83560,
         "0.2869"
        ],
        [
         140,
         "Santa Maria",
         "CA",
         107263,
         99553,
         "0.0774"
        ],
        [
         141,
         "Tyler",
         "TX",
         106985,
         96900,
         "0.1041"
        ],
        [
         142,
         "Daly City",
         "CA",
         106280,
         101123,
         "0.051"
        ],
        [
         143,
         "Boulder",
         "CO",
         105673,
         97385,
         "0.0851"
        ],
        [
         144,
         "Allen",
         "TX",
         105623,
         84246,
         "0.2537"
        ],
        [
         145,
         "West Covina",
         "CA",
         105101,
         106098,
         "−0.94%                       "
        ],
        [
         146,
         "Wichita Falls",
         "TX",
         104683,
         104553,
         "0.0012"
        ],
        [
         147,
         "San Mateo",
         "CA",
         104430,
         97207,
         "0.0743"
        ],
        [
         148,
         "Norwalk",
         "CA",
         103949,
         105549,
         "−1.52%                           "
        ],
        [
         149,
         "Rialto",
         "CA",
         103526,
         99171,
         "0.0439"
        ],
        [
         150,
         "Chico",
         "CA",
         103301,
         86187,
         "0.1986"
        ],
        [
         151,
         "El Cajon",
         "CA",
         102708,
         99478,
         "0.0325"
        ],
        [
         152,
         "Burbank",
         "CA",
         102511,
         103340,
         "−0.80%                           "
        ],
        [
         153,
         "Vista",
         "CA",
         101638,
         93834,
         "0.0832"
        ],
        [
         154,
         "Edinburg",
         "TX",
         101170,
         77100,
         "0.3122"
        ],
        [
         155,
         "San Angelo",
         "TX",
         101004,
         93200,
         "0.0837"
        ],
        [
         156,
         "Vacaville",
         "CA",
         100670,
         92428,
         "0.0892"
        ]
       ],
       "datasetInfos": [],
       "dbfsResultPath": null,
       "isJsonSchema": true,
       "metadata": {},
       "overflow": false,
       "plotOptions": {
        "customPlotOptions": {},
        "displayType": "table",
        "pivotAggregation": null,
        "pivotColumns": null,
        "xColumns": null,
        "yColumns": null
       },
       "removedWidgets": [],
       "schema": [
        {
         "metadata": "{}",
         "name": "2019_rank",
         "type": "\"integer\""
        },
        {
         "metadata": "{}",
         "name": "City",
         "type": "\"string\""
        },
        {
         "metadata": "{}",
         "name": "State_Code",
         "type": "\"string\""
        },
        {
         "metadata": "{}",
         "name": "2019_estimate",
         "type": "\"integer\""
        },
        {
         "metadata": "{}",
         "name": "2010_Census",
         "type": "\"integer\""
        },
        {
         "metadata": "{}",
         "name": "Change",
         "type": "\"string\""
        }
       ],
       "type": "table"
      }
     },
     "output_type": "display_data"
    }
   ],
   "source": [
    "df=(spark\n",
    "    .read\n",
    "    .format(\"csv\")\n",
    "    .option(\"header\",\"true\")\n",
    "    .option(\"inferSchema\",\"true\")\n",
    "    .option(\"delimiter\",\"|\")\n",
    "    .load(\"/FileStore/tables/uspopulation.csv\"))\n",
    "display(df)"
   ]
  },
  {
   "cell_type": "markdown",
   "metadata": {
    "application/vnd.databricks.v1+cell": {
     "cellMetadata": {},
     "inputWidgets": {},
     "nuid": "02c30d63-300d-42c3-a61b-2df7d5ff7128",
     "showTitle": false,
     "title": ""
    }
   },
   "source": [
    "User Defined Functions"
   ]
  },
  {
   "cell_type": "code",
   "execution_count": 0,
   "metadata": {
    "application/vnd.databricks.v1+cell": {
     "cellMetadata": {
      "byteLimit": 2048000,
      "rowLimit": 10000
     },
     "inputWidgets": {},
     "nuid": "20628a14-5cee-41ab-be88-9ed3d8c64dec",
     "showTitle": false,
     "title": ""
    }
   },
   "outputs": [],
   "source": [
    "lookup ={\n",
    "    \"NY\":\"New York\",\n",
    "    \"CA\":\"California\",\n",
    "    \"IL\":\"Illinois\",\n",
    "    \"TX\":\"Texas\",\n",
    "    \"AZ\":\"Arizona\",\n",
    "    \"CO\":\"Colorado\",\n",
    "    \"OH\":\"Ohio\"\n",
    "}\n",
    "@udf\n",
    "def map_state_code(state_code):\n",
    "    if(state_code in lookup.keys()):\n",
    "        return lookup[state_code]\n",
    "    else:\n",
    "        return state_code"
   ]
  },
  {
   "cell_type": "code",
   "execution_count": 0,
   "metadata": {
    "application/vnd.databricks.v1+cell": {
     "cellMetadata": {
      "byteLimit": 2048000,
      "rowLimit": 10000
     },
     "inputWidgets": {},
     "nuid": "9e9585df-f94b-47ec-a296-4e7664fe7264",
     "showTitle": false,
     "title": ""
    }
   },
   "outputs": [
    {
     "output_type": "display_data",
     "data": {
      "text/html": [
       "<style scoped>\n",
       "  .table-result-container {\n",
       "    max-height: 300px;\n",
       "    overflow: auto;\n",
       "  }\n",
       "  table, th, td {\n",
       "    border: 1px solid black;\n",
       "    border-collapse: collapse;\n",
       "  }\n",
       "  th, td {\n",
       "    padding: 5px;\n",
       "  }\n",
       "  th {\n",
       "    text-align: left;\n",
       "  }\n",
       "</style><div class='table-result-container'><table class='table-result'><thead style='background-color: white'><tr><th>2019_rank</th><th>City</th><th>State_Code</th><th>2019_estimate</th><th>2010_Census</th><th>Change</th><th>State_Udf</th></tr></thead><tbody><tr><td>1</td><td>New York[d]</td><td>NY</td><td>8336817</td><td>8175133</td><td>0.0198</td><td>New York</td></tr><tr><td>2</td><td>Los Angeles</td><td>CA</td><td>3979576</td><td>3792621</td><td>0.0493</td><td>California</td></tr><tr><td>3</td><td>Chicago</td><td>IL</td><td>2693976</td><td>2695598</td><td>−0.06%            </td><td>Illinois</td></tr><tr><td>4</td><td>Houston[3]</td><td>TX</td><td>2320268</td><td>2100263</td><td>0.1048</td><td>Texas</td></tr><tr><td>5</td><td>Phoenix</td><td>AZ</td><td>1680992</td><td>1445632</td><td>0.1628</td><td>Arizona</td></tr><tr><td>6</td><td>San Antonio</td><td>TX</td><td>1547253</td><td>1327407</td><td>0.1656</td><td>Texas</td></tr><tr><td>7</td><td>San Diego</td><td>CA</td><td>1423851</td><td>1307402</td><td>0.0891</td><td>California</td></tr><tr><td>8</td><td>Dallas</td><td>TX</td><td>1343573</td><td>1197816</td><td>0.1217</td><td>Texas</td></tr><tr><td>9</td><td>San Jose</td><td>CA</td><td>1021795</td><td>945942</td><td>0.0802</td><td>California</td></tr><tr><td>10</td><td>Austin</td><td>TX</td><td>978908</td><td>790390</td><td>0.2385</td><td>Texas</td></tr><tr><td>11</td><td>Fort Worth</td><td>TX</td><td>909585</td><td>741206</td><td>0.2272</td><td>Texas</td></tr><tr><td>12</td><td>Columbus</td><td>OH</td><td>898553</td><td>787033</td><td>0.1417</td><td>Ohio</td></tr><tr><td>13</td><td>San Francisco[g]</td><td>CA</td><td>881549</td><td>805235</td><td>0.0948</td><td>California</td></tr><tr><td>14</td><td>Denver[i]</td><td>CO</td><td>727211</td><td>600158</td><td>0.2117</td><td>Colorado</td></tr><tr><td>15</td><td>El Paso</td><td>TX</td><td>681728</td><td>649121</td><td>0.0502</td><td>Texas</td></tr><tr><td>16</td><td>Tucson</td><td>AZ</td><td>548073</td><td>520116</td><td>0.0538</td><td>Arizona</td></tr><tr><td>17</td><td>Fresno</td><td>CA</td><td>531576</td><td>494665</td><td>0.0746</td><td>California</td></tr><tr><td>18</td><td>Mesa</td><td>AZ</td><td>518012</td><td>439041</td><td>0.1799</td><td>Arizona</td></tr><tr><td>19</td><td>Sacramento</td><td>CA</td><td>513624</td><td>466488</td><td>0.101</td><td>California</td></tr><tr><td>20</td><td>Colorado Springs</td><td>CO</td><td>478221</td><td>416427</td><td>0.1484</td><td>Colorado</td></tr><tr><td>21</td><td>Long Beach</td><td>CA</td><td>462628</td><td>462257</td><td>0.0008</td><td>California</td></tr><tr><td>22</td><td>Oakland</td><td>CA</td><td>433031</td><td>390724</td><td>0.1083</td><td>California</td></tr><tr><td>23</td><td>Arlington</td><td>TX</td><td>398854</td><td>365438</td><td>0.0914</td><td>Texas</td></tr><tr><td>24</td><td>Bakersfield</td><td>CA</td><td>384145</td><td>347483</td><td>0.1055</td><td>California</td></tr><tr><td>25</td><td>Cleveland</td><td>OH</td><td>381009</td><td>396815</td><td>−3.98%                           </td><td>Ohio</td></tr><tr><td>26</td><td>Aurora</td><td>CO</td><td>379289</td><td>325078</td><td>0.1668</td><td>Colorado</td></tr><tr><td>27</td><td>Anaheim</td><td>CA</td><td>350365</td><td>336265</td><td>0.0419</td><td>California</td></tr><tr><td>28</td><td>Santa Ana</td><td>CA</td><td>332318</td><td>324528</td><td>0.024</td><td>California</td></tr><tr><td>29</td><td>Riverside</td><td>CA</td><td>331360</td><td>303871</td><td>0.0905</td><td>California</td></tr><tr><td>30</td><td>Corpus Christi</td><td>TX</td><td>326586</td><td>305215</td><td>0.07</td><td>Texas</td></tr><tr><td>31</td><td>Stockton</td><td>CA</td><td>312697</td><td>291707</td><td>0.072</td><td>California</td></tr><tr><td>32</td><td>Cincinnati</td><td>OH</td><td>303940</td><td>296943</td><td>0.0236</td><td>Ohio</td></tr><tr><td>33</td><td>Plano</td><td>TX</td><td>287677</td><td>259841</td><td>0.1071</td><td>Texas</td></tr><tr><td>34</td><td>Irvine</td><td>CA</td><td>287401</td><td>212375</td><td>0.3533</td><td>California</td></tr><tr><td>35</td><td>Chula Vista</td><td>CA</td><td>274492</td><td>243916</td><td>0.1254</td><td>California</td></tr><tr><td>36</td><td>Toledo</td><td>OH</td><td>272779</td><td>287208</td><td>−5.02%                               </td><td>Ohio</td></tr><tr><td>37</td><td>Laredo</td><td>TX</td><td>262491</td><td>236091</td><td>0.1118</td><td>Texas</td></tr><tr><td>38</td><td>Chandler</td><td>AZ</td><td>261165</td><td>236123</td><td>0.1061</td><td>Arizona</td></tr><tr><td>39</td><td>Lubbock</td><td>TX</td><td>258862</td><td>229573</td><td>0.1276</td><td>Texas</td></tr><tr><td>40</td><td>Scottsdale</td><td>AZ</td><td>258069</td><td>217385</td><td>0.1872</td><td>Arizona</td></tr><tr><td>41</td><td>Buffalo</td><td>NY</td><td>255284</td><td>261310</td><td>−2.31%                           </td><td>New York</td></tr><tr><td>42</td><td>Gilbert[q]</td><td>AZ</td><td>254114</td><td>208453</td><td>0.219</td><td>Arizona</td></tr><tr><td>43</td><td>Glendale</td><td>AZ</td><td>252381</td><td>226721</td><td>0.1132</td><td>Arizona</td></tr><tr><td>44</td><td>Fremont</td><td>CA</td><td>241110</td><td>214089</td><td>0.1262</td><td>California</td></tr><tr><td>45</td><td>Garland</td><td>TX</td><td>239928</td><td>226876</td><td>0.0575</td><td>Texas</td></tr><tr><td>46</td><td>Irving</td><td>TX</td><td>239798</td><td>216290</td><td>0.1087</td><td>Texas</td></tr><tr><td>47</td><td>San Bernardino</td><td>CA</td><td>215784</td><td>209924</td><td>0.0279</td><td>California</td></tr><tr><td>48</td><td>Modesto</td><td>CA</td><td>215196</td><td>201165</td><td>0.0697</td><td>California</td></tr><tr><td>49</td><td>Fontana</td><td>CA</td><td>214547</td><td>196069</td><td>0.0942</td><td>California</td></tr><tr><td>50</td><td>Moreno Valley</td><td>CA</td><td>213055</td><td>193365</td><td>0.1018</td><td>California</td></tr><tr><td>51</td><td>Santa Clarita</td><td>CA</td><td>212979</td><td>176320</td><td>0.2079</td><td>California</td></tr><tr><td>52</td><td>Oxnard</td><td>CA</td><td>208881</td><td>197899</td><td>0.0555</td><td>California</td></tr><tr><td>53</td><td>Rochester</td><td>NY</td><td>205695</td><td>210565</td><td>−2.31%                       </td><td>New York</td></tr><tr><td>54</td><td>Frisco</td><td>TX</td><td>200490</td><td>116989</td><td>0.7138</td><td>Texas</td></tr><tr><td>55</td><td>Yonkers</td><td>NY</td><td>200370</td><td>195976</td><td>0.0224</td><td>New York</td></tr><tr><td>56</td><td>Amarillo</td><td>TX</td><td>199371</td><td>190695</td><td>0.0455</td><td>Texas</td></tr><tr><td>57</td><td>Glendale</td><td>CA</td><td>199303</td><td>191719</td><td>0.0396</td><td>California</td></tr><tr><td>58</td><td>Huntington Beach</td><td>CA</td><td>199223</td><td>189992</td><td>0.0486</td><td>California</td></tr><tr><td>59</td><td>McKinney</td><td>TX</td><td>199177</td><td>131117</td><td>0.5191</td><td>Texas</td></tr><tr><td>60</td><td>Aurora</td><td>IL</td><td>197757</td><td>197899</td><td>−0.07%                           </td><td>Illinois</td></tr><tr><td>61</td><td>Akron</td><td>OH</td><td>197597</td><td>199110</td><td>−0.76%                               </td><td>Ohio</td></tr><tr><td>62</td><td>Tempe</td><td>AZ</td><td>195805</td><td>161719</td><td>0.2108</td><td>Arizona</td></tr><tr><td>63</td><td>Grand Prairie</td><td>TX</td><td>194543</td><td>175396</td><td>0.1092</td><td>Texas</td></tr><tr><td>64</td><td>Ontario</td><td>CA</td><td>185010</td><td>163924</td><td>0.1286</td><td>California</td></tr><tr><td>65</td><td>Brownsville</td><td>TX</td><td>182781</td><td>175023</td><td>0.0443</td><td>Texas</td></tr><tr><td>66</td><td>Rancho Cucamonga</td><td>CA</td><td>177603</td><td>165269</td><td>0.0746</td><td>California</td></tr><tr><td>67</td><td>Santa Rosa</td><td>CA</td><td>176753</td><td>167815</td><td>0.0533</td><td>California</td></tr><tr><td>68</td><td>Peoria</td><td>AZ</td><td>175961</td><td>154065</td><td>0.1421</td><td>Arizona</td></tr><tr><td>69</td><td>Oceanside</td><td>CA</td><td>175742</td><td>167086</td><td>0.0518</td><td>California</td></tr><tr><td>70</td><td>Elk Grove</td><td>CA</td><td>174775</td><td>153015</td><td>0.1422</td><td>California</td></tr><tr><td>71</td><td>Garden Grove</td><td>CA</td><td>171644</td><td>170883</td><td>0.0045</td><td>California</td></tr><tr><td>72</td><td>Fort Collins</td><td>CO</td><td>170243</td><td>143986</td><td>0.1824</td><td>Colorado</td></tr><tr><td>73</td><td>Corona</td><td>CA</td><td>169868</td><td>152374</td><td>0.1148</td><td>California</td></tr><tr><td>74</td><td>Hayward</td><td>CA</td><td>159203</td><td>144186</td><td>0.1042</td><td>California</td></tr><tr><td>75</td><td>Lakewood</td><td>CO</td><td>157935</td><td>142980</td><td>0.1046</td><td>Colorado</td></tr><tr><td>76</td><td>Lancaster</td><td>CA</td><td>157601</td><td>156633</td><td>0.0062</td><td>California</td></tr><tr><td>77</td><td>Salinas</td><td>CA</td><td>155465</td><td>150441</td><td>0.0334</td><td>California</td></tr><tr><td>78</td><td>Palmdale</td><td>CA</td><td>155079</td><td>152750</td><td>0.0152</td><td>California</td></tr><tr><td>79</td><td>Sunnyvale</td><td>CA</td><td>152703</td><td>140081</td><td>0.0901</td><td>California</td></tr><tr><td>80</td><td>Pomona</td><td>CA</td><td>151691</td><td>149058</td><td>0.0177</td><td>California</td></tr><tr><td>81</td><td>Killeen</td><td>TX</td><td>151666</td><td>127921</td><td>0.1856</td><td>Texas</td></tr><tr><td>82</td><td>Escondido</td><td>CA</td><td>151625</td><td>143911</td><td>0.0536</td><td>California</td></tr><tr><td>83</td><td>Pasadena</td><td>TX</td><td>151227</td><td>149043</td><td>0.0147</td><td>Texas</td></tr><tr><td>84</td><td>Naperville</td><td>IL</td><td>148449</td><td>141853</td><td>0.0465</td><td>Illinois</td></tr><tr><td>85</td><td>Joliet</td><td>IL</td><td>147344</td><td>147433</td><td>−0.06%                           </td><td>Illinois</td></tr><tr><td>86</td><td>Midland</td><td>TX</td><td>146038</td><td>111147</td><td>0.3139</td><td>Texas</td></tr><tr><td>87</td><td>Rockford</td><td>IL</td><td>145609</td><td>152871</td><td>−4.75%                       </td><td>Illinois</td></tr><tr><td>88</td><td>Torrance</td><td>CA</td><td>143592</td><td>145438</td><td>−1.27%                       </td><td>California</td></tr><tr><td>89</td><td>McAllen</td><td>TX</td><td>143268</td><td>129877</td><td>0.1031</td><td>Texas</td></tr><tr><td>90</td><td>Syracuse</td><td>NY</td><td>142327</td><td>145170</td><td>−1.96%                       </td><td>New York</td></tr><tr><td>91</td><td>Surprise</td><td>AZ</td><td>141664</td><td>117517</td><td>0.2055</td><td>Arizona</td></tr><tr><td>92</td><td>Denton</td><td>TX</td><td>141541</td><td>113383</td><td>0.2483</td><td>Texas</td></tr><tr><td>93</td><td>Roseville</td><td>CA</td><td>141500</td><td>118788</td><td>0.1912</td><td>California</td></tr><tr><td>94</td><td>Thornton</td><td>CO</td><td>141464</td><td>118772</td><td>0.1911</td><td>Colorado</td></tr><tr><td>95</td><td>Pasadena</td><td>CA</td><td>141029</td><td>137122</td><td>0.0285</td><td>California</td></tr><tr><td>96</td><td>Mesquite</td><td>TX</td><td>140937</td><td>139824</td><td>0.008</td><td>Texas</td></tr><tr><td>97</td><td>Dayton</td><td>OH</td><td>140407</td><td>141527</td><td>−0.79%                               </td><td>Ohio</td></tr><tr><td>98</td><td>Carrollton</td><td>TX</td><td>139248</td><td>119097</td><td>0.1692</td><td>Texas</td></tr><tr><td>99</td><td>Waco</td><td>TX</td><td>139236</td><td>124805</td><td>0.1156</td><td>Texas</td></tr><tr><td>100</td><td>Orange</td><td>CA</td><td>138669</td><td>136416</td><td>0.0165</td><td>California</td></tr><tr><td>101</td><td>Fullerton</td><td>CA</td><td>138632</td><td>135161</td><td>0.0257</td><td>California</td></tr><tr><td>102</td><td>Visalia</td><td>CA</td><td>134605</td><td>124442</td><td>0.0817</td><td>California</td></tr><tr><td>103</td><td>Round Rock</td><td>TX</td><td>133372</td><td>99887</td><td>0.3352</td><td>Texas</td></tr><tr><td>104</td><td>Santa Clara</td><td>CA</td><td>130365</td><td>116468</td><td>0.1193</td><td>California</td></tr><tr><td>105</td><td>Concord</td><td>CA</td><td>129295</td><td>122067</td><td>0.0592</td><td>California</td></tr><tr><td>106</td><td>Thousand Oaks</td><td>CA</td><td>126813</td><td>126683</td><td>0.001</td><td>California</td></tr><tr><td>107</td><td>Simi Valley</td><td>CA</td><td>125613</td><td>124237</td><td>0.0111</td><td>California</td></tr><tr><td>108</td><td>Abilene</td><td>TX</td><td>123420</td><td>117063</td><td>0.0543</td><td>Texas</td></tr><tr><td>109</td><td>Odessa</td><td>TX</td><td>123334</td><td>99940</td><td>0.2341</td><td>Texas</td></tr><tr><td>110</td><td>Pearland</td><td>TX</td><td>122460</td><td>91252</td><td>0.342</td><td>Texas</td></tr><tr><td>111</td><td>Victorville</td><td>CA</td><td>122385</td><td>115903</td><td>0.0559</td><td>California</td></tr><tr><td>112</td><td>Vallejo</td><td>CA</td><td>121692</td><td>115942</td><td>0.0496</td><td>California</td></tr><tr><td>113</td><td>Berkeley</td><td>CA</td><td>121363</td><td>112580</td><td>0.078</td><td>California</td></tr><tr><td>114</td><td>Richardson</td><td>TX</td><td>121323</td><td>99223</td><td>0.2227</td><td>Texas</td></tr><tr><td>115</td><td>Arvada</td><td>CO</td><td>121272</td><td>106433</td><td>0.1394</td><td>Colorado</td></tr><tr><td>116</td><td>Sugar Land</td><td>TX</td><td>118488</td><td>78817</td><td>0.5033</td><td>Texas</td></tr><tr><td>117</td><td>College Station</td><td>TX</td><td>117911</td><td>93857</td><td>0.2563</td><td>Texas</td></tr><tr><td>118</td><td>Fairfield</td><td>CA</td><td>117133</td><td>105321</td><td>0.1122</td><td>California</td></tr><tr><td>119</td><td>Beaumont</td><td>TX</td><td>116825</td><td>118296</td><td>−1.24%                           </td><td>Texas</td></tr><tr><td>120</td><td>Murrieta</td><td>CA</td><td>116223</td><td>103466</td><td>0.1233</td><td>California</td></tr><tr><td>121</td><td>El Monte</td><td>CA</td><td>115487</td><td>113475</td><td>0.0177</td><td>California</td></tr><tr><td>122</td><td>Carlsbad</td><td>CA</td><td>115382</td><td>105328</td><td>0.0955</td><td>California</td></tr><tr><td>123</td><td>Temecula</td><td>CA</td><td>114761</td><td>100097</td><td>0.1465</td><td>California</td></tr><tr><td>124</td><td>Clovis</td><td>CA</td><td>114584</td><td>95631</td><td>0.1982</td><td>California</td></tr><tr><td>125</td><td>Springfield</td><td>IL</td><td>114230</td><td>116250</td><td>−1.74%                       </td><td>Illinois</td></tr><tr><td>126</td><td>Westminster</td><td>CO</td><td>113166</td><td>106114</td><td>0.0665</td><td>Colorado</td></tr><tr><td>127</td><td>Costa Mesa</td><td>CA</td><td>113003</td><td>109960</td><td>0.0277</td><td>California</td></tr><tr><td>128</td><td>Pueblo</td><td>CO</td><td>112361</td><td>106595</td><td>0.0541</td><td>Colorado</td></tr><tr><td>129</td><td>Antioch</td><td>CA</td><td>111502</td><td>102372</td><td>0.0892</td><td>California</td></tr><tr><td>130</td><td>Downey</td><td>CA</td><td>111126</td><td>111772</td><td>−0.58%                           </td><td>California</td></tr><tr><td>131</td><td>Centennial</td><td>CO</td><td>110937</td><td>100377</td><td>0.1052</td><td>Colorado</td></tr><tr><td>132</td><td>Elgin</td><td>IL</td><td>110849</td><td>108188</td><td>0.0246</td><td>Illinois</td></tr><tr><td>133</td><td>Richmond</td><td>CA</td><td>110567</td><td>103701</td><td>0.0662</td><td>California</td></tr><tr><td>134</td><td>Peoria</td><td>IL</td><td>110417</td><td>115007</td><td>−3.99%                           </td><td>Illinois</td></tr><tr><td>135</td><td>Lewisville</td><td>TX</td><td>109212</td><td>95290</td><td>0.1461</td><td>Texas</td></tr><tr><td>136</td><td>Ventura[ab]</td><td>CA</td><td>109106</td><td>106433</td><td>0.0251</td><td>California</td></tr><tr><td>137</td><td>Greeley</td><td>CO</td><td>108649</td><td>92889</td><td>0.1697</td><td>Colorado</td></tr><tr><td>138</td><td>Inglewood</td><td>CA</td><td>108151</td><td>109673</td><td>−1.39%                       </td><td>California</td></tr><tr><td>139</td><td>League City</td><td>TX</td><td>107536</td><td>83560</td><td>0.2869</td><td>Texas</td></tr><tr><td>140</td><td>Santa Maria</td><td>CA</td><td>107263</td><td>99553</td><td>0.0774</td><td>California</td></tr><tr><td>141</td><td>Tyler</td><td>TX</td><td>106985</td><td>96900</td><td>0.1041</td><td>Texas</td></tr><tr><td>142</td><td>Daly City</td><td>CA</td><td>106280</td><td>101123</td><td>0.051</td><td>California</td></tr><tr><td>143</td><td>Boulder</td><td>CO</td><td>105673</td><td>97385</td><td>0.0851</td><td>Colorado</td></tr><tr><td>144</td><td>Allen</td><td>TX</td><td>105623</td><td>84246</td><td>0.2537</td><td>Texas</td></tr><tr><td>145</td><td>West Covina</td><td>CA</td><td>105101</td><td>106098</td><td>−0.94%                       </td><td>California</td></tr><tr><td>146</td><td>Wichita Falls</td><td>TX</td><td>104683</td><td>104553</td><td>0.0012</td><td>Texas</td></tr><tr><td>147</td><td>San Mateo</td><td>CA</td><td>104430</td><td>97207</td><td>0.0743</td><td>California</td></tr><tr><td>148</td><td>Norwalk</td><td>CA</td><td>103949</td><td>105549</td><td>−1.52%                           </td><td>California</td></tr><tr><td>149</td><td>Rialto</td><td>CA</td><td>103526</td><td>99171</td><td>0.0439</td><td>California</td></tr><tr><td>150</td><td>Chico</td><td>CA</td><td>103301</td><td>86187</td><td>0.1986</td><td>California</td></tr><tr><td>151</td><td>El Cajon</td><td>CA</td><td>102708</td><td>99478</td><td>0.0325</td><td>California</td></tr><tr><td>152</td><td>Burbank</td><td>CA</td><td>102511</td><td>103340</td><td>−0.80%                           </td><td>California</td></tr><tr><td>153</td><td>Vista</td><td>CA</td><td>101638</td><td>93834</td><td>0.0832</td><td>California</td></tr><tr><td>154</td><td>Edinburg</td><td>TX</td><td>101170</td><td>77100</td><td>0.3122</td><td>Texas</td></tr><tr><td>155</td><td>San Angelo</td><td>TX</td><td>101004</td><td>93200</td><td>0.0837</td><td>Texas</td></tr><tr><td>156</td><td>Vacaville</td><td>CA</td><td>100670</td><td>92428</td><td>0.0892</td><td>California</td></tr></tbody></table></div>"
      ]
     },
     "metadata": {
      "application/vnd.databricks.v1+output": {
       "addedWidgets": {},
       "aggData": [],
       "aggError": "",
       "aggOverflow": false,
       "aggSchema": [],
       "aggSeriesLimitReached": false,
       "aggType": "",
       "arguments": {},
       "columnCustomDisplayInfos": {},
       "data": [
        [
         1,
         "New York[d]",
         "NY",
         8336817,
         8175133,
         "0.0198",
         "New York"
        ],
        [
         2,
         "Los Angeles",
         "CA",
         3979576,
         3792621,
         "0.0493",
         "California"
        ],
        [
         3,
         "Chicago",
         "IL",
         2693976,
         2695598,
         "−0.06%            ",
         "Illinois"
        ],
        [
         4,
         "Houston[3]",
         "TX",
         2320268,
         2100263,
         "0.1048",
         "Texas"
        ],
        [
         5,
         "Phoenix",
         "AZ",
         1680992,
         1445632,
         "0.1628",
         "Arizona"
        ],
        [
         6,
         "San Antonio",
         "TX",
         1547253,
         1327407,
         "0.1656",
         "Texas"
        ],
        [
         7,
         "San Diego",
         "CA",
         1423851,
         1307402,
         "0.0891",
         "California"
        ],
        [
         8,
         "Dallas",
         "TX",
         1343573,
         1197816,
         "0.1217",
         "Texas"
        ],
        [
         9,
         "San Jose",
         "CA",
         1021795,
         945942,
         "0.0802",
         "California"
        ],
        [
         10,
         "Austin",
         "TX",
         978908,
         790390,
         "0.2385",
         "Texas"
        ],
        [
         11,
         "Fort Worth",
         "TX",
         909585,
         741206,
         "0.2272",
         "Texas"
        ],
        [
         12,
         "Columbus",
         "OH",
         898553,
         787033,
         "0.1417",
         "Ohio"
        ],
        [
         13,
         "San Francisco[g]",
         "CA",
         881549,
         805235,
         "0.0948",
         "California"
        ],
        [
         14,
         "Denver[i]",
         "CO",
         727211,
         600158,
         "0.2117",
         "Colorado"
        ],
        [
         15,
         "El Paso",
         "TX",
         681728,
         649121,
         "0.0502",
         "Texas"
        ],
        [
         16,
         "Tucson",
         "AZ",
         548073,
         520116,
         "0.0538",
         "Arizona"
        ],
        [
         17,
         "Fresno",
         "CA",
         531576,
         494665,
         "0.0746",
         "California"
        ],
        [
         18,
         "Mesa",
         "AZ",
         518012,
         439041,
         "0.1799",
         "Arizona"
        ],
        [
         19,
         "Sacramento",
         "CA",
         513624,
         466488,
         "0.101",
         "California"
        ],
        [
         20,
         "Colorado Springs",
         "CO",
         478221,
         416427,
         "0.1484",
         "Colorado"
        ],
        [
         21,
         "Long Beach",
         "CA",
         462628,
         462257,
         "0.0008",
         "California"
        ],
        [
         22,
         "Oakland",
         "CA",
         433031,
         390724,
         "0.1083",
         "California"
        ],
        [
         23,
         "Arlington",
         "TX",
         398854,
         365438,
         "0.0914",
         "Texas"
        ],
        [
         24,
         "Bakersfield",
         "CA",
         384145,
         347483,
         "0.1055",
         "California"
        ],
        [
         25,
         "Cleveland",
         "OH",
         381009,
         396815,
         "−3.98%                           ",
         "Ohio"
        ],
        [
         26,
         "Aurora",
         "CO",
         379289,
         325078,
         "0.1668",
         "Colorado"
        ],
        [
         27,
         "Anaheim",
         "CA",
         350365,
         336265,
         "0.0419",
         "California"
        ],
        [
         28,
         "Santa Ana",
         "CA",
         332318,
         324528,
         "0.024",
         "California"
        ],
        [
         29,
         "Riverside",
         "CA",
         331360,
         303871,
         "0.0905",
         "California"
        ],
        [
         30,
         "Corpus Christi",
         "TX",
         326586,
         305215,
         "0.07",
         "Texas"
        ],
        [
         31,
         "Stockton",
         "CA",
         312697,
         291707,
         "0.072",
         "California"
        ],
        [
         32,
         "Cincinnati",
         "OH",
         303940,
         296943,
         "0.0236",
         "Ohio"
        ],
        [
         33,
         "Plano",
         "TX",
         287677,
         259841,
         "0.1071",
         "Texas"
        ],
        [
         34,
         "Irvine",
         "CA",
         287401,
         212375,
         "0.3533",
         "California"
        ],
        [
         35,
         "Chula Vista",
         "CA",
         274492,
         243916,
         "0.1254",
         "California"
        ],
        [
         36,
         "Toledo",
         "OH",
         272779,
         287208,
         "−5.02%                               ",
         "Ohio"
        ],
        [
         37,
         "Laredo",
         "TX",
         262491,
         236091,
         "0.1118",
         "Texas"
        ],
        [
         38,
         "Chandler",
         "AZ",
         261165,
         236123,
         "0.1061",
         "Arizona"
        ],
        [
         39,
         "Lubbock",
         "TX",
         258862,
         229573,
         "0.1276",
         "Texas"
        ],
        [
         40,
         "Scottsdale",
         "AZ",
         258069,
         217385,
         "0.1872",
         "Arizona"
        ],
        [
         41,
         "Buffalo",
         "NY",
         255284,
         261310,
         "−2.31%                           ",
         "New York"
        ],
        [
         42,
         "Gilbert[q]",
         "AZ",
         254114,
         208453,
         "0.219",
         "Arizona"
        ],
        [
         43,
         "Glendale",
         "AZ",
         252381,
         226721,
         "0.1132",
         "Arizona"
        ],
        [
         44,
         "Fremont",
         "CA",
         241110,
         214089,
         "0.1262",
         "California"
        ],
        [
         45,
         "Garland",
         "TX",
         239928,
         226876,
         "0.0575",
         "Texas"
        ],
        [
         46,
         "Irving",
         "TX",
         239798,
         216290,
         "0.1087",
         "Texas"
        ],
        [
         47,
         "San Bernardino",
         "CA",
         215784,
         209924,
         "0.0279",
         "California"
        ],
        [
         48,
         "Modesto",
         "CA",
         215196,
         201165,
         "0.0697",
         "California"
        ],
        [
         49,
         "Fontana",
         "CA",
         214547,
         196069,
         "0.0942",
         "California"
        ],
        [
         50,
         "Moreno Valley",
         "CA",
         213055,
         193365,
         "0.1018",
         "California"
        ],
        [
         51,
         "Santa Clarita",
         "CA",
         212979,
         176320,
         "0.2079",
         "California"
        ],
        [
         52,
         "Oxnard",
         "CA",
         208881,
         197899,
         "0.0555",
         "California"
        ],
        [
         53,
         "Rochester",
         "NY",
         205695,
         210565,
         "−2.31%                       ",
         "New York"
        ],
        [
         54,
         "Frisco",
         "TX",
         200490,
         116989,
         "0.7138",
         "Texas"
        ],
        [
         55,
         "Yonkers",
         "NY",
         200370,
         195976,
         "0.0224",
         "New York"
        ],
        [
         56,
         "Amarillo",
         "TX",
         199371,
         190695,
         "0.0455",
         "Texas"
        ],
        [
         57,
         "Glendale",
         "CA",
         199303,
         191719,
         "0.0396",
         "California"
        ],
        [
         58,
         "Huntington Beach",
         "CA",
         199223,
         189992,
         "0.0486",
         "California"
        ],
        [
         59,
         "McKinney",
         "TX",
         199177,
         131117,
         "0.5191",
         "Texas"
        ],
        [
         60,
         "Aurora",
         "IL",
         197757,
         197899,
         "−0.07%                           ",
         "Illinois"
        ],
        [
         61,
         "Akron",
         "OH",
         197597,
         199110,
         "−0.76%                               ",
         "Ohio"
        ],
        [
         62,
         "Tempe",
         "AZ",
         195805,
         161719,
         "0.2108",
         "Arizona"
        ],
        [
         63,
         "Grand Prairie",
         "TX",
         194543,
         175396,
         "0.1092",
         "Texas"
        ],
        [
         64,
         "Ontario",
         "CA",
         185010,
         163924,
         "0.1286",
         "California"
        ],
        [
         65,
         "Brownsville",
         "TX",
         182781,
         175023,
         "0.0443",
         "Texas"
        ],
        [
         66,
         "Rancho Cucamonga",
         "CA",
         177603,
         165269,
         "0.0746",
         "California"
        ],
        [
         67,
         "Santa Rosa",
         "CA",
         176753,
         167815,
         "0.0533",
         "California"
        ],
        [
         68,
         "Peoria",
         "AZ",
         175961,
         154065,
         "0.1421",
         "Arizona"
        ],
        [
         69,
         "Oceanside",
         "CA",
         175742,
         167086,
         "0.0518",
         "California"
        ],
        [
         70,
         "Elk Grove",
         "CA",
         174775,
         153015,
         "0.1422",
         "California"
        ],
        [
         71,
         "Garden Grove",
         "CA",
         171644,
         170883,
         "0.0045",
         "California"
        ],
        [
         72,
         "Fort Collins",
         "CO",
         170243,
         143986,
         "0.1824",
         "Colorado"
        ],
        [
         73,
         "Corona",
         "CA",
         169868,
         152374,
         "0.1148",
         "California"
        ],
        [
         74,
         "Hayward",
         "CA",
         159203,
         144186,
         "0.1042",
         "California"
        ],
        [
         75,
         "Lakewood",
         "CO",
         157935,
         142980,
         "0.1046",
         "Colorado"
        ],
        [
         76,
         "Lancaster",
         "CA",
         157601,
         156633,
         "0.0062",
         "California"
        ],
        [
         77,
         "Salinas",
         "CA",
         155465,
         150441,
         "0.0334",
         "California"
        ],
        [
         78,
         "Palmdale",
         "CA",
         155079,
         152750,
         "0.0152",
         "California"
        ],
        [
         79,
         "Sunnyvale",
         "CA",
         152703,
         140081,
         "0.0901",
         "California"
        ],
        [
         80,
         "Pomona",
         "CA",
         151691,
         149058,
         "0.0177",
         "California"
        ],
        [
         81,
         "Killeen",
         "TX",
         151666,
         127921,
         "0.1856",
         "Texas"
        ],
        [
         82,
         "Escondido",
         "CA",
         151625,
         143911,
         "0.0536",
         "California"
        ],
        [
         83,
         "Pasadena",
         "TX",
         151227,
         149043,
         "0.0147",
         "Texas"
        ],
        [
         84,
         "Naperville",
         "IL",
         148449,
         141853,
         "0.0465",
         "Illinois"
        ],
        [
         85,
         "Joliet",
         "IL",
         147344,
         147433,
         "−0.06%                           ",
         "Illinois"
        ],
        [
         86,
         "Midland",
         "TX",
         146038,
         111147,
         "0.3139",
         "Texas"
        ],
        [
         87,
         "Rockford",
         "IL",
         145609,
         152871,
         "−4.75%                       ",
         "Illinois"
        ],
        [
         88,
         "Torrance",
         "CA",
         143592,
         145438,
         "−1.27%                       ",
         "California"
        ],
        [
         89,
         "McAllen",
         "TX",
         143268,
         129877,
         "0.1031",
         "Texas"
        ],
        [
         90,
         "Syracuse",
         "NY",
         142327,
         145170,
         "−1.96%                       ",
         "New York"
        ],
        [
         91,
         "Surprise",
         "AZ",
         141664,
         117517,
         "0.2055",
         "Arizona"
        ],
        [
         92,
         "Denton",
         "TX",
         141541,
         113383,
         "0.2483",
         "Texas"
        ],
        [
         93,
         "Roseville",
         "CA",
         141500,
         118788,
         "0.1912",
         "California"
        ],
        [
         94,
         "Thornton",
         "CO",
         141464,
         118772,
         "0.1911",
         "Colorado"
        ],
        [
         95,
         "Pasadena",
         "CA",
         141029,
         137122,
         "0.0285",
         "California"
        ],
        [
         96,
         "Mesquite",
         "TX",
         140937,
         139824,
         "0.008",
         "Texas"
        ],
        [
         97,
         "Dayton",
         "OH",
         140407,
         141527,
         "−0.79%                               ",
         "Ohio"
        ],
        [
         98,
         "Carrollton",
         "TX",
         139248,
         119097,
         "0.1692",
         "Texas"
        ],
        [
         99,
         "Waco",
         "TX",
         139236,
         124805,
         "0.1156",
         "Texas"
        ],
        [
         100,
         "Orange",
         "CA",
         138669,
         136416,
         "0.0165",
         "California"
        ],
        [
         101,
         "Fullerton",
         "CA",
         138632,
         135161,
         "0.0257",
         "California"
        ],
        [
         102,
         "Visalia",
         "CA",
         134605,
         124442,
         "0.0817",
         "California"
        ],
        [
         103,
         "Round Rock",
         "TX",
         133372,
         99887,
         "0.3352",
         "Texas"
        ],
        [
         104,
         "Santa Clara",
         "CA",
         130365,
         116468,
         "0.1193",
         "California"
        ],
        [
         105,
         "Concord",
         "CA",
         129295,
         122067,
         "0.0592",
         "California"
        ],
        [
         106,
         "Thousand Oaks",
         "CA",
         126813,
         126683,
         "0.001",
         "California"
        ],
        [
         107,
         "Simi Valley",
         "CA",
         125613,
         124237,
         "0.0111",
         "California"
        ],
        [
         108,
         "Abilene",
         "TX",
         123420,
         117063,
         "0.0543",
         "Texas"
        ],
        [
         109,
         "Odessa",
         "TX",
         123334,
         99940,
         "0.2341",
         "Texas"
        ],
        [
         110,
         "Pearland",
         "TX",
         122460,
         91252,
         "0.342",
         "Texas"
        ],
        [
         111,
         "Victorville",
         "CA",
         122385,
         115903,
         "0.0559",
         "California"
        ],
        [
         112,
         "Vallejo",
         "CA",
         121692,
         115942,
         "0.0496",
         "California"
        ],
        [
         113,
         "Berkeley",
         "CA",
         121363,
         112580,
         "0.078",
         "California"
        ],
        [
         114,
         "Richardson",
         "TX",
         121323,
         99223,
         "0.2227",
         "Texas"
        ],
        [
         115,
         "Arvada",
         "CO",
         121272,
         106433,
         "0.1394",
         "Colorado"
        ],
        [
         116,
         "Sugar Land",
         "TX",
         118488,
         78817,
         "0.5033",
         "Texas"
        ],
        [
         117,
         "College Station",
         "TX",
         117911,
         93857,
         "0.2563",
         "Texas"
        ],
        [
         118,
         "Fairfield",
         "CA",
         117133,
         105321,
         "0.1122",
         "California"
        ],
        [
         119,
         "Beaumont",
         "TX",
         116825,
         118296,
         "−1.24%                           ",
         "Texas"
        ],
        [
         120,
         "Murrieta",
         "CA",
         116223,
         103466,
         "0.1233",
         "California"
        ],
        [
         121,
         "El Monte",
         "CA",
         115487,
         113475,
         "0.0177",
         "California"
        ],
        [
         122,
         "Carlsbad",
         "CA",
         115382,
         105328,
         "0.0955",
         "California"
        ],
        [
         123,
         "Temecula",
         "CA",
         114761,
         100097,
         "0.1465",
         "California"
        ],
        [
         124,
         "Clovis",
         "CA",
         114584,
         95631,
         "0.1982",
         "California"
        ],
        [
         125,
         "Springfield",
         "IL",
         114230,
         116250,
         "−1.74%                       ",
         "Illinois"
        ],
        [
         126,
         "Westminster",
         "CO",
         113166,
         106114,
         "0.0665",
         "Colorado"
        ],
        [
         127,
         "Costa Mesa",
         "CA",
         113003,
         109960,
         "0.0277",
         "California"
        ],
        [
         128,
         "Pueblo",
         "CO",
         112361,
         106595,
         "0.0541",
         "Colorado"
        ],
        [
         129,
         "Antioch",
         "CA",
         111502,
         102372,
         "0.0892",
         "California"
        ],
        [
         130,
         "Downey",
         "CA",
         111126,
         111772,
         "−0.58%                           ",
         "California"
        ],
        [
         131,
         "Centennial",
         "CO",
         110937,
         100377,
         "0.1052",
         "Colorado"
        ],
        [
         132,
         "Elgin",
         "IL",
         110849,
         108188,
         "0.0246",
         "Illinois"
        ],
        [
         133,
         "Richmond",
         "CA",
         110567,
         103701,
         "0.0662",
         "California"
        ],
        [
         134,
         "Peoria",
         "IL",
         110417,
         115007,
         "−3.99%                           ",
         "Illinois"
        ],
        [
         135,
         "Lewisville",
         "TX",
         109212,
         95290,
         "0.1461",
         "Texas"
        ],
        [
         136,
         "Ventura[ab]",
         "CA",
         109106,
         106433,
         "0.0251",
         "California"
        ],
        [
         137,
         "Greeley",
         "CO",
         108649,
         92889,
         "0.1697",
         "Colorado"
        ],
        [
         138,
         "Inglewood",
         "CA",
         108151,
         109673,
         "−1.39%                       ",
         "California"
        ],
        [
         139,
         "League City",
         "TX",
         107536,
         83560,
         "0.2869",
         "Texas"
        ],
        [
         140,
         "Santa Maria",
         "CA",
         107263,
         99553,
         "0.0774",
         "California"
        ],
        [
         141,
         "Tyler",
         "TX",
         106985,
         96900,
         "0.1041",
         "Texas"
        ],
        [
         142,
         "Daly City",
         "CA",
         106280,
         101123,
         "0.051",
         "California"
        ],
        [
         143,
         "Boulder",
         "CO",
         105673,
         97385,
         "0.0851",
         "Colorado"
        ],
        [
         144,
         "Allen",
         "TX",
         105623,
         84246,
         "0.2537",
         "Texas"
        ],
        [
         145,
         "West Covina",
         "CA",
         105101,
         106098,
         "−0.94%                       ",
         "California"
        ],
        [
         146,
         "Wichita Falls",
         "TX",
         104683,
         104553,
         "0.0012",
         "Texas"
        ],
        [
         147,
         "San Mateo",
         "CA",
         104430,
         97207,
         "0.0743",
         "California"
        ],
        [
         148,
         "Norwalk",
         "CA",
         103949,
         105549,
         "−1.52%                           ",
         "California"
        ],
        [
         149,
         "Rialto",
         "CA",
         103526,
         99171,
         "0.0439",
         "California"
        ],
        [
         150,
         "Chico",
         "CA",
         103301,
         86187,
         "0.1986",
         "California"
        ],
        [
         151,
         "El Cajon",
         "CA",
         102708,
         99478,
         "0.0325",
         "California"
        ],
        [
         152,
         "Burbank",
         "CA",
         102511,
         103340,
         "−0.80%                           ",
         "California"
        ],
        [
         153,
         "Vista",
         "CA",
         101638,
         93834,
         "0.0832",
         "California"
        ],
        [
         154,
         "Edinburg",
         "TX",
         101170,
         77100,
         "0.3122",
         "Texas"
        ],
        [
         155,
         "San Angelo",
         "TX",
         101004,
         93200,
         "0.0837",
         "Texas"
        ],
        [
         156,
         "Vacaville",
         "CA",
         100670,
         92428,
         "0.0892",
         "California"
        ]
       ],
       "datasetInfos": [],
       "dbfsResultPath": null,
       "isJsonSchema": true,
       "metadata": {},
       "overflow": false,
       "plotOptions": {
        "customPlotOptions": {},
        "displayType": "table",
        "pivotAggregation": null,
        "pivotColumns": null,
        "xColumns": null,
        "yColumns": null
       },
       "removedWidgets": [],
       "schema": [
        {
         "metadata": "{}",
         "name": "2019_rank",
         "type": "\"integer\""
        },
        {
         "metadata": "{}",
         "name": "City",
         "type": "\"string\""
        },
        {
         "metadata": "{}",
         "name": "State_Code",
         "type": "\"string\""
        },
        {
         "metadata": "{}",
         "name": "2019_estimate",
         "type": "\"integer\""
        },
        {
         "metadata": "{}",
         "name": "2010_Census",
         "type": "\"integer\""
        },
        {
         "metadata": "{}",
         "name": "Change",
         "type": "\"string\""
        },
        {
         "metadata": "{}",
         "name": "State_Udf",
         "type": "\"string\""
        }
       ],
       "type": "table"
      }
     },
     "output_type": "display_data"
    }
   ],
   "source": [
    "df=df.withColumn(\"State_Udf\", map_state_code(\"State_Code\"))\n",
    "display(df)"
   ]
  },
  {
   "cell_type": "markdown",
   "metadata": {
    "application/vnd.databricks.v1+cell": {
     "cellMetadata": {},
     "inputWidgets": {},
     "nuid": "20e6b11b-3aab-4047-b0cd-bd68ca70b606",
     "showTitle": false,
     "title": ""
    }
   },
   "source": [
    "Broadcast Variable"
   ]
  },
  {
   "cell_type": "code",
   "execution_count": 0,
   "metadata": {
    "application/vnd.databricks.v1+cell": {
     "cellMetadata": {
      "byteLimit": 2048000,
      "rowLimit": 10000
     },
     "inputWidgets": {},
     "nuid": "a9873079-6094-4143-91cf-ede0cfd8ce29",
     "showTitle": false,
     "title": ""
    }
   },
   "outputs": [],
   "source": [
    "broadcastVariable=sc.broadcast(lookup)"
   ]
  },
  {
   "cell_type": "code",
   "execution_count": 0,
   "metadata": {
    "application/vnd.databricks.v1+cell": {
     "cellMetadata": {
      "byteLimit": 2048000,
      "rowLimit": 10000
     },
     "inputWidgets": {},
     "nuid": "60663b96-73ad-42a5-984c-a6e235984a10",
     "showTitle": false,
     "title": ""
    }
   },
   "outputs": [
    {
     "output_type": "stream",
     "name": "stdout",
     "output_type": "stream",
     "text": [
      "Out[42]: pyspark.broadcast.Broadcast"
     ]
    }
   ],
   "source": [
    "type(broadcastVariable)"
   ]
  },
  {
   "cell_type": "code",
   "execution_count": 0,
   "metadata": {
    "application/vnd.databricks.v1+cell": {
     "cellMetadata": {
      "byteLimit": 2048000,
      "rowLimit": 10000
     },
     "inputWidgets": {},
     "nuid": "b7d6887d-c175-4ff5-85d2-a7ff95e9d60c",
     "showTitle": false,
     "title": ""
    }
   },
   "outputs": [],
   "source": [
    "@udf\n",
    "def map_state_code_bv(State_code):\n",
    "    return broadcastVariable.value[State_code]"
   ]
  },
  {
   "cell_type": "code",
   "execution_count": 0,
   "metadata": {
    "application/vnd.databricks.v1+cell": {
     "cellMetadata": {
      "byteLimit": 2048000,
      "rowLimit": 10000
     },
     "inputWidgets": {},
     "nuid": "43987095-b94d-4b8e-bac4-7b9d85847982",
     "showTitle": false,
     "title": ""
    }
   },
   "outputs": [
    {
     "output_type": "display_data",
     "data": {
      "text/html": [
       "<style scoped>\n",
       "  .table-result-container {\n",
       "    max-height: 300px;\n",
       "    overflow: auto;\n",
       "  }\n",
       "  table, th, td {\n",
       "    border: 1px solid black;\n",
       "    border-collapse: collapse;\n",
       "  }\n",
       "  th, td {\n",
       "    padding: 5px;\n",
       "  }\n",
       "  th {\n",
       "    text-align: left;\n",
       "  }\n",
       "</style><div class='table-result-container'><table class='table-result'><thead style='background-color: white'><tr><th>2019_rank</th><th>City</th><th>State_Code</th><th>2019_estimate</th><th>2010_Census</th><th>Change</th><th>State_Udf</th><th>State_Bvar</th></tr></thead><tbody><tr><td>1</td><td>New York[d]</td><td>NY</td><td>8336817</td><td>8175133</td><td>0.0198</td><td>New York</td><td>New York</td></tr><tr><td>2</td><td>Los Angeles</td><td>CA</td><td>3979576</td><td>3792621</td><td>0.0493</td><td>California</td><td>California</td></tr><tr><td>3</td><td>Chicago</td><td>IL</td><td>2693976</td><td>2695598</td><td>−0.06%            </td><td>Illinois</td><td>Illinois</td></tr><tr><td>4</td><td>Houston[3]</td><td>TX</td><td>2320268</td><td>2100263</td><td>0.1048</td><td>Texas</td><td>Texas</td></tr><tr><td>5</td><td>Phoenix</td><td>AZ</td><td>1680992</td><td>1445632</td><td>0.1628</td><td>Arizona</td><td>Arizona</td></tr><tr><td>6</td><td>San Antonio</td><td>TX</td><td>1547253</td><td>1327407</td><td>0.1656</td><td>Texas</td><td>Texas</td></tr><tr><td>7</td><td>San Diego</td><td>CA</td><td>1423851</td><td>1307402</td><td>0.0891</td><td>California</td><td>California</td></tr><tr><td>8</td><td>Dallas</td><td>TX</td><td>1343573</td><td>1197816</td><td>0.1217</td><td>Texas</td><td>Texas</td></tr><tr><td>9</td><td>San Jose</td><td>CA</td><td>1021795</td><td>945942</td><td>0.0802</td><td>California</td><td>California</td></tr><tr><td>10</td><td>Austin</td><td>TX</td><td>978908</td><td>790390</td><td>0.2385</td><td>Texas</td><td>Texas</td></tr><tr><td>11</td><td>Fort Worth</td><td>TX</td><td>909585</td><td>741206</td><td>0.2272</td><td>Texas</td><td>Texas</td></tr><tr><td>12</td><td>Columbus</td><td>OH</td><td>898553</td><td>787033</td><td>0.1417</td><td>Ohio</td><td>Ohio</td></tr><tr><td>13</td><td>San Francisco[g]</td><td>CA</td><td>881549</td><td>805235</td><td>0.0948</td><td>California</td><td>California</td></tr><tr><td>14</td><td>Denver[i]</td><td>CO</td><td>727211</td><td>600158</td><td>0.2117</td><td>Colorado</td><td>Colorado</td></tr><tr><td>15</td><td>El Paso</td><td>TX</td><td>681728</td><td>649121</td><td>0.0502</td><td>Texas</td><td>Texas</td></tr><tr><td>16</td><td>Tucson</td><td>AZ</td><td>548073</td><td>520116</td><td>0.0538</td><td>Arizona</td><td>Arizona</td></tr><tr><td>17</td><td>Fresno</td><td>CA</td><td>531576</td><td>494665</td><td>0.0746</td><td>California</td><td>California</td></tr><tr><td>18</td><td>Mesa</td><td>AZ</td><td>518012</td><td>439041</td><td>0.1799</td><td>Arizona</td><td>Arizona</td></tr><tr><td>19</td><td>Sacramento</td><td>CA</td><td>513624</td><td>466488</td><td>0.101</td><td>California</td><td>California</td></tr><tr><td>20</td><td>Colorado Springs</td><td>CO</td><td>478221</td><td>416427</td><td>0.1484</td><td>Colorado</td><td>Colorado</td></tr><tr><td>21</td><td>Long Beach</td><td>CA</td><td>462628</td><td>462257</td><td>0.0008</td><td>California</td><td>California</td></tr><tr><td>22</td><td>Oakland</td><td>CA</td><td>433031</td><td>390724</td><td>0.1083</td><td>California</td><td>California</td></tr><tr><td>23</td><td>Arlington</td><td>TX</td><td>398854</td><td>365438</td><td>0.0914</td><td>Texas</td><td>Texas</td></tr><tr><td>24</td><td>Bakersfield</td><td>CA</td><td>384145</td><td>347483</td><td>0.1055</td><td>California</td><td>California</td></tr><tr><td>25</td><td>Cleveland</td><td>OH</td><td>381009</td><td>396815</td><td>−3.98%                           </td><td>Ohio</td><td>Ohio</td></tr><tr><td>26</td><td>Aurora</td><td>CO</td><td>379289</td><td>325078</td><td>0.1668</td><td>Colorado</td><td>Colorado</td></tr><tr><td>27</td><td>Anaheim</td><td>CA</td><td>350365</td><td>336265</td><td>0.0419</td><td>California</td><td>California</td></tr><tr><td>28</td><td>Santa Ana</td><td>CA</td><td>332318</td><td>324528</td><td>0.024</td><td>California</td><td>California</td></tr><tr><td>29</td><td>Riverside</td><td>CA</td><td>331360</td><td>303871</td><td>0.0905</td><td>California</td><td>California</td></tr><tr><td>30</td><td>Corpus Christi</td><td>TX</td><td>326586</td><td>305215</td><td>0.07</td><td>Texas</td><td>Texas</td></tr><tr><td>31</td><td>Stockton</td><td>CA</td><td>312697</td><td>291707</td><td>0.072</td><td>California</td><td>California</td></tr><tr><td>32</td><td>Cincinnati</td><td>OH</td><td>303940</td><td>296943</td><td>0.0236</td><td>Ohio</td><td>Ohio</td></tr><tr><td>33</td><td>Plano</td><td>TX</td><td>287677</td><td>259841</td><td>0.1071</td><td>Texas</td><td>Texas</td></tr><tr><td>34</td><td>Irvine</td><td>CA</td><td>287401</td><td>212375</td><td>0.3533</td><td>California</td><td>California</td></tr><tr><td>35</td><td>Chula Vista</td><td>CA</td><td>274492</td><td>243916</td><td>0.1254</td><td>California</td><td>California</td></tr><tr><td>36</td><td>Toledo</td><td>OH</td><td>272779</td><td>287208</td><td>−5.02%                               </td><td>Ohio</td><td>Ohio</td></tr><tr><td>37</td><td>Laredo</td><td>TX</td><td>262491</td><td>236091</td><td>0.1118</td><td>Texas</td><td>Texas</td></tr><tr><td>38</td><td>Chandler</td><td>AZ</td><td>261165</td><td>236123</td><td>0.1061</td><td>Arizona</td><td>Arizona</td></tr><tr><td>39</td><td>Lubbock</td><td>TX</td><td>258862</td><td>229573</td><td>0.1276</td><td>Texas</td><td>Texas</td></tr><tr><td>40</td><td>Scottsdale</td><td>AZ</td><td>258069</td><td>217385</td><td>0.1872</td><td>Arizona</td><td>Arizona</td></tr><tr><td>41</td><td>Buffalo</td><td>NY</td><td>255284</td><td>261310</td><td>−2.31%                           </td><td>New York</td><td>New York</td></tr><tr><td>42</td><td>Gilbert[q]</td><td>AZ</td><td>254114</td><td>208453</td><td>0.219</td><td>Arizona</td><td>Arizona</td></tr><tr><td>43</td><td>Glendale</td><td>AZ</td><td>252381</td><td>226721</td><td>0.1132</td><td>Arizona</td><td>Arizona</td></tr><tr><td>44</td><td>Fremont</td><td>CA</td><td>241110</td><td>214089</td><td>0.1262</td><td>California</td><td>California</td></tr><tr><td>45</td><td>Garland</td><td>TX</td><td>239928</td><td>226876</td><td>0.0575</td><td>Texas</td><td>Texas</td></tr><tr><td>46</td><td>Irving</td><td>TX</td><td>239798</td><td>216290</td><td>0.1087</td><td>Texas</td><td>Texas</td></tr><tr><td>47</td><td>San Bernardino</td><td>CA</td><td>215784</td><td>209924</td><td>0.0279</td><td>California</td><td>California</td></tr><tr><td>48</td><td>Modesto</td><td>CA</td><td>215196</td><td>201165</td><td>0.0697</td><td>California</td><td>California</td></tr><tr><td>49</td><td>Fontana</td><td>CA</td><td>214547</td><td>196069</td><td>0.0942</td><td>California</td><td>California</td></tr><tr><td>50</td><td>Moreno Valley</td><td>CA</td><td>213055</td><td>193365</td><td>0.1018</td><td>California</td><td>California</td></tr><tr><td>51</td><td>Santa Clarita</td><td>CA</td><td>212979</td><td>176320</td><td>0.2079</td><td>California</td><td>California</td></tr><tr><td>52</td><td>Oxnard</td><td>CA</td><td>208881</td><td>197899</td><td>0.0555</td><td>California</td><td>California</td></tr><tr><td>53</td><td>Rochester</td><td>NY</td><td>205695</td><td>210565</td><td>−2.31%                       </td><td>New York</td><td>New York</td></tr><tr><td>54</td><td>Frisco</td><td>TX</td><td>200490</td><td>116989</td><td>0.7138</td><td>Texas</td><td>Texas</td></tr><tr><td>55</td><td>Yonkers</td><td>NY</td><td>200370</td><td>195976</td><td>0.0224</td><td>New York</td><td>New York</td></tr><tr><td>56</td><td>Amarillo</td><td>TX</td><td>199371</td><td>190695</td><td>0.0455</td><td>Texas</td><td>Texas</td></tr><tr><td>57</td><td>Glendale</td><td>CA</td><td>199303</td><td>191719</td><td>0.0396</td><td>California</td><td>California</td></tr><tr><td>58</td><td>Huntington Beach</td><td>CA</td><td>199223</td><td>189992</td><td>0.0486</td><td>California</td><td>California</td></tr><tr><td>59</td><td>McKinney</td><td>TX</td><td>199177</td><td>131117</td><td>0.5191</td><td>Texas</td><td>Texas</td></tr><tr><td>60</td><td>Aurora</td><td>IL</td><td>197757</td><td>197899</td><td>−0.07%                           </td><td>Illinois</td><td>Illinois</td></tr><tr><td>61</td><td>Akron</td><td>OH</td><td>197597</td><td>199110</td><td>−0.76%                               </td><td>Ohio</td><td>Ohio</td></tr><tr><td>62</td><td>Tempe</td><td>AZ</td><td>195805</td><td>161719</td><td>0.2108</td><td>Arizona</td><td>Arizona</td></tr><tr><td>63</td><td>Grand Prairie</td><td>TX</td><td>194543</td><td>175396</td><td>0.1092</td><td>Texas</td><td>Texas</td></tr><tr><td>64</td><td>Ontario</td><td>CA</td><td>185010</td><td>163924</td><td>0.1286</td><td>California</td><td>California</td></tr><tr><td>65</td><td>Brownsville</td><td>TX</td><td>182781</td><td>175023</td><td>0.0443</td><td>Texas</td><td>Texas</td></tr><tr><td>66</td><td>Rancho Cucamonga</td><td>CA</td><td>177603</td><td>165269</td><td>0.0746</td><td>California</td><td>California</td></tr><tr><td>67</td><td>Santa Rosa</td><td>CA</td><td>176753</td><td>167815</td><td>0.0533</td><td>California</td><td>California</td></tr><tr><td>68</td><td>Peoria</td><td>AZ</td><td>175961</td><td>154065</td><td>0.1421</td><td>Arizona</td><td>Arizona</td></tr><tr><td>69</td><td>Oceanside</td><td>CA</td><td>175742</td><td>167086</td><td>0.0518</td><td>California</td><td>California</td></tr><tr><td>70</td><td>Elk Grove</td><td>CA</td><td>174775</td><td>153015</td><td>0.1422</td><td>California</td><td>California</td></tr><tr><td>71</td><td>Garden Grove</td><td>CA</td><td>171644</td><td>170883</td><td>0.0045</td><td>California</td><td>California</td></tr><tr><td>72</td><td>Fort Collins</td><td>CO</td><td>170243</td><td>143986</td><td>0.1824</td><td>Colorado</td><td>Colorado</td></tr><tr><td>73</td><td>Corona</td><td>CA</td><td>169868</td><td>152374</td><td>0.1148</td><td>California</td><td>California</td></tr><tr><td>74</td><td>Hayward</td><td>CA</td><td>159203</td><td>144186</td><td>0.1042</td><td>California</td><td>California</td></tr><tr><td>75</td><td>Lakewood</td><td>CO</td><td>157935</td><td>142980</td><td>0.1046</td><td>Colorado</td><td>Colorado</td></tr><tr><td>76</td><td>Lancaster</td><td>CA</td><td>157601</td><td>156633</td><td>0.0062</td><td>California</td><td>California</td></tr><tr><td>77</td><td>Salinas</td><td>CA</td><td>155465</td><td>150441</td><td>0.0334</td><td>California</td><td>California</td></tr><tr><td>78</td><td>Palmdale</td><td>CA</td><td>155079</td><td>152750</td><td>0.0152</td><td>California</td><td>California</td></tr><tr><td>79</td><td>Sunnyvale</td><td>CA</td><td>152703</td><td>140081</td><td>0.0901</td><td>California</td><td>California</td></tr><tr><td>80</td><td>Pomona</td><td>CA</td><td>151691</td><td>149058</td><td>0.0177</td><td>California</td><td>California</td></tr><tr><td>81</td><td>Killeen</td><td>TX</td><td>151666</td><td>127921</td><td>0.1856</td><td>Texas</td><td>Texas</td></tr><tr><td>82</td><td>Escondido</td><td>CA</td><td>151625</td><td>143911</td><td>0.0536</td><td>California</td><td>California</td></tr><tr><td>83</td><td>Pasadena</td><td>TX</td><td>151227</td><td>149043</td><td>0.0147</td><td>Texas</td><td>Texas</td></tr><tr><td>84</td><td>Naperville</td><td>IL</td><td>148449</td><td>141853</td><td>0.0465</td><td>Illinois</td><td>Illinois</td></tr><tr><td>85</td><td>Joliet</td><td>IL</td><td>147344</td><td>147433</td><td>−0.06%                           </td><td>Illinois</td><td>Illinois</td></tr><tr><td>86</td><td>Midland</td><td>TX</td><td>146038</td><td>111147</td><td>0.3139</td><td>Texas</td><td>Texas</td></tr><tr><td>87</td><td>Rockford</td><td>IL</td><td>145609</td><td>152871</td><td>−4.75%                       </td><td>Illinois</td><td>Illinois</td></tr><tr><td>88</td><td>Torrance</td><td>CA</td><td>143592</td><td>145438</td><td>−1.27%                       </td><td>California</td><td>California</td></tr><tr><td>89</td><td>McAllen</td><td>TX</td><td>143268</td><td>129877</td><td>0.1031</td><td>Texas</td><td>Texas</td></tr><tr><td>90</td><td>Syracuse</td><td>NY</td><td>142327</td><td>145170</td><td>−1.96%                       </td><td>New York</td><td>New York</td></tr><tr><td>91</td><td>Surprise</td><td>AZ</td><td>141664</td><td>117517</td><td>0.2055</td><td>Arizona</td><td>Arizona</td></tr><tr><td>92</td><td>Denton</td><td>TX</td><td>141541</td><td>113383</td><td>0.2483</td><td>Texas</td><td>Texas</td></tr><tr><td>93</td><td>Roseville</td><td>CA</td><td>141500</td><td>118788</td><td>0.1912</td><td>California</td><td>California</td></tr><tr><td>94</td><td>Thornton</td><td>CO</td><td>141464</td><td>118772</td><td>0.1911</td><td>Colorado</td><td>Colorado</td></tr><tr><td>95</td><td>Pasadena</td><td>CA</td><td>141029</td><td>137122</td><td>0.0285</td><td>California</td><td>California</td></tr><tr><td>96</td><td>Mesquite</td><td>TX</td><td>140937</td><td>139824</td><td>0.008</td><td>Texas</td><td>Texas</td></tr><tr><td>97</td><td>Dayton</td><td>OH</td><td>140407</td><td>141527</td><td>−0.79%                               </td><td>Ohio</td><td>Ohio</td></tr><tr><td>98</td><td>Carrollton</td><td>TX</td><td>139248</td><td>119097</td><td>0.1692</td><td>Texas</td><td>Texas</td></tr><tr><td>99</td><td>Waco</td><td>TX</td><td>139236</td><td>124805</td><td>0.1156</td><td>Texas</td><td>Texas</td></tr><tr><td>100</td><td>Orange</td><td>CA</td><td>138669</td><td>136416</td><td>0.0165</td><td>California</td><td>California</td></tr><tr><td>101</td><td>Fullerton</td><td>CA</td><td>138632</td><td>135161</td><td>0.0257</td><td>California</td><td>California</td></tr><tr><td>102</td><td>Visalia</td><td>CA</td><td>134605</td><td>124442</td><td>0.0817</td><td>California</td><td>California</td></tr><tr><td>103</td><td>Round Rock</td><td>TX</td><td>133372</td><td>99887</td><td>0.3352</td><td>Texas</td><td>Texas</td></tr><tr><td>104</td><td>Santa Clara</td><td>CA</td><td>130365</td><td>116468</td><td>0.1193</td><td>California</td><td>California</td></tr><tr><td>105</td><td>Concord</td><td>CA</td><td>129295</td><td>122067</td><td>0.0592</td><td>California</td><td>California</td></tr><tr><td>106</td><td>Thousand Oaks</td><td>CA</td><td>126813</td><td>126683</td><td>0.001</td><td>California</td><td>California</td></tr><tr><td>107</td><td>Simi Valley</td><td>CA</td><td>125613</td><td>124237</td><td>0.0111</td><td>California</td><td>California</td></tr><tr><td>108</td><td>Abilene</td><td>TX</td><td>123420</td><td>117063</td><td>0.0543</td><td>Texas</td><td>Texas</td></tr><tr><td>109</td><td>Odessa</td><td>TX</td><td>123334</td><td>99940</td><td>0.2341</td><td>Texas</td><td>Texas</td></tr><tr><td>110</td><td>Pearland</td><td>TX</td><td>122460</td><td>91252</td><td>0.342</td><td>Texas</td><td>Texas</td></tr><tr><td>111</td><td>Victorville</td><td>CA</td><td>122385</td><td>115903</td><td>0.0559</td><td>California</td><td>California</td></tr><tr><td>112</td><td>Vallejo</td><td>CA</td><td>121692</td><td>115942</td><td>0.0496</td><td>California</td><td>California</td></tr><tr><td>113</td><td>Berkeley</td><td>CA</td><td>121363</td><td>112580</td><td>0.078</td><td>California</td><td>California</td></tr><tr><td>114</td><td>Richardson</td><td>TX</td><td>121323</td><td>99223</td><td>0.2227</td><td>Texas</td><td>Texas</td></tr><tr><td>115</td><td>Arvada</td><td>CO</td><td>121272</td><td>106433</td><td>0.1394</td><td>Colorado</td><td>Colorado</td></tr><tr><td>116</td><td>Sugar Land</td><td>TX</td><td>118488</td><td>78817</td><td>0.5033</td><td>Texas</td><td>Texas</td></tr><tr><td>117</td><td>College Station</td><td>TX</td><td>117911</td><td>93857</td><td>0.2563</td><td>Texas</td><td>Texas</td></tr><tr><td>118</td><td>Fairfield</td><td>CA</td><td>117133</td><td>105321</td><td>0.1122</td><td>California</td><td>California</td></tr><tr><td>119</td><td>Beaumont</td><td>TX</td><td>116825</td><td>118296</td><td>−1.24%                           </td><td>Texas</td><td>Texas</td></tr><tr><td>120</td><td>Murrieta</td><td>CA</td><td>116223</td><td>103466</td><td>0.1233</td><td>California</td><td>California</td></tr><tr><td>121</td><td>El Monte</td><td>CA</td><td>115487</td><td>113475</td><td>0.0177</td><td>California</td><td>California</td></tr><tr><td>122</td><td>Carlsbad</td><td>CA</td><td>115382</td><td>105328</td><td>0.0955</td><td>California</td><td>California</td></tr><tr><td>123</td><td>Temecula</td><td>CA</td><td>114761</td><td>100097</td><td>0.1465</td><td>California</td><td>California</td></tr><tr><td>124</td><td>Clovis</td><td>CA</td><td>114584</td><td>95631</td><td>0.1982</td><td>California</td><td>California</td></tr><tr><td>125</td><td>Springfield</td><td>IL</td><td>114230</td><td>116250</td><td>−1.74%                       </td><td>Illinois</td><td>Illinois</td></tr><tr><td>126</td><td>Westminster</td><td>CO</td><td>113166</td><td>106114</td><td>0.0665</td><td>Colorado</td><td>Colorado</td></tr><tr><td>127</td><td>Costa Mesa</td><td>CA</td><td>113003</td><td>109960</td><td>0.0277</td><td>California</td><td>California</td></tr><tr><td>128</td><td>Pueblo</td><td>CO</td><td>112361</td><td>106595</td><td>0.0541</td><td>Colorado</td><td>Colorado</td></tr><tr><td>129</td><td>Antioch</td><td>CA</td><td>111502</td><td>102372</td><td>0.0892</td><td>California</td><td>California</td></tr><tr><td>130</td><td>Downey</td><td>CA</td><td>111126</td><td>111772</td><td>−0.58%                           </td><td>California</td><td>California</td></tr><tr><td>131</td><td>Centennial</td><td>CO</td><td>110937</td><td>100377</td><td>0.1052</td><td>Colorado</td><td>Colorado</td></tr><tr><td>132</td><td>Elgin</td><td>IL</td><td>110849</td><td>108188</td><td>0.0246</td><td>Illinois</td><td>Illinois</td></tr><tr><td>133</td><td>Richmond</td><td>CA</td><td>110567</td><td>103701</td><td>0.0662</td><td>California</td><td>California</td></tr><tr><td>134</td><td>Peoria</td><td>IL</td><td>110417</td><td>115007</td><td>−3.99%                           </td><td>Illinois</td><td>Illinois</td></tr><tr><td>135</td><td>Lewisville</td><td>TX</td><td>109212</td><td>95290</td><td>0.1461</td><td>Texas</td><td>Texas</td></tr><tr><td>136</td><td>Ventura[ab]</td><td>CA</td><td>109106</td><td>106433</td><td>0.0251</td><td>California</td><td>California</td></tr><tr><td>137</td><td>Greeley</td><td>CO</td><td>108649</td><td>92889</td><td>0.1697</td><td>Colorado</td><td>Colorado</td></tr><tr><td>138</td><td>Inglewood</td><td>CA</td><td>108151</td><td>109673</td><td>−1.39%                       </td><td>California</td><td>California</td></tr><tr><td>139</td><td>League City</td><td>TX</td><td>107536</td><td>83560</td><td>0.2869</td><td>Texas</td><td>Texas</td></tr><tr><td>140</td><td>Santa Maria</td><td>CA</td><td>107263</td><td>99553</td><td>0.0774</td><td>California</td><td>California</td></tr><tr><td>141</td><td>Tyler</td><td>TX</td><td>106985</td><td>96900</td><td>0.1041</td><td>Texas</td><td>Texas</td></tr><tr><td>142</td><td>Daly City</td><td>CA</td><td>106280</td><td>101123</td><td>0.051</td><td>California</td><td>California</td></tr><tr><td>143</td><td>Boulder</td><td>CO</td><td>105673</td><td>97385</td><td>0.0851</td><td>Colorado</td><td>Colorado</td></tr><tr><td>144</td><td>Allen</td><td>TX</td><td>105623</td><td>84246</td><td>0.2537</td><td>Texas</td><td>Texas</td></tr><tr><td>145</td><td>West Covina</td><td>CA</td><td>105101</td><td>106098</td><td>−0.94%                       </td><td>California</td><td>California</td></tr><tr><td>146</td><td>Wichita Falls</td><td>TX</td><td>104683</td><td>104553</td><td>0.0012</td><td>Texas</td><td>Texas</td></tr><tr><td>147</td><td>San Mateo</td><td>CA</td><td>104430</td><td>97207</td><td>0.0743</td><td>California</td><td>California</td></tr><tr><td>148</td><td>Norwalk</td><td>CA</td><td>103949</td><td>105549</td><td>−1.52%                           </td><td>California</td><td>California</td></tr><tr><td>149</td><td>Rialto</td><td>CA</td><td>103526</td><td>99171</td><td>0.0439</td><td>California</td><td>California</td></tr><tr><td>150</td><td>Chico</td><td>CA</td><td>103301</td><td>86187</td><td>0.1986</td><td>California</td><td>California</td></tr><tr><td>151</td><td>El Cajon</td><td>CA</td><td>102708</td><td>99478</td><td>0.0325</td><td>California</td><td>California</td></tr><tr><td>152</td><td>Burbank</td><td>CA</td><td>102511</td><td>103340</td><td>−0.80%                           </td><td>California</td><td>California</td></tr><tr><td>153</td><td>Vista</td><td>CA</td><td>101638</td><td>93834</td><td>0.0832</td><td>California</td><td>California</td></tr><tr><td>154</td><td>Edinburg</td><td>TX</td><td>101170</td><td>77100</td><td>0.3122</td><td>Texas</td><td>Texas</td></tr><tr><td>155</td><td>San Angelo</td><td>TX</td><td>101004</td><td>93200</td><td>0.0837</td><td>Texas</td><td>Texas</td></tr><tr><td>156</td><td>Vacaville</td><td>CA</td><td>100670</td><td>92428</td><td>0.0892</td><td>California</td><td>California</td></tr></tbody></table></div>"
      ]
     },
     "metadata": {
      "application/vnd.databricks.v1+output": {
       "addedWidgets": {},
       "aggData": [],
       "aggError": "",
       "aggOverflow": false,
       "aggSchema": [],
       "aggSeriesLimitReached": false,
       "aggType": "",
       "arguments": {},
       "columnCustomDisplayInfos": {},
       "data": [
        [
         1,
         "New York[d]",
         "NY",
         8336817,
         8175133,
         "0.0198",
         "New York",
         "New York"
        ],
        [
         2,
         "Los Angeles",
         "CA",
         3979576,
         3792621,
         "0.0493",
         "California",
         "California"
        ],
        [
         3,
         "Chicago",
         "IL",
         2693976,
         2695598,
         "−0.06%            ",
         "Illinois",
         "Illinois"
        ],
        [
         4,
         "Houston[3]",
         "TX",
         2320268,
         2100263,
         "0.1048",
         "Texas",
         "Texas"
        ],
        [
         5,
         "Phoenix",
         "AZ",
         1680992,
         1445632,
         "0.1628",
         "Arizona",
         "Arizona"
        ],
        [
         6,
         "San Antonio",
         "TX",
         1547253,
         1327407,
         "0.1656",
         "Texas",
         "Texas"
        ],
        [
         7,
         "San Diego",
         "CA",
         1423851,
         1307402,
         "0.0891",
         "California",
         "California"
        ],
        [
         8,
         "Dallas",
         "TX",
         1343573,
         1197816,
         "0.1217",
         "Texas",
         "Texas"
        ],
        [
         9,
         "San Jose",
         "CA",
         1021795,
         945942,
         "0.0802",
         "California",
         "California"
        ],
        [
         10,
         "Austin",
         "TX",
         978908,
         790390,
         "0.2385",
         "Texas",
         "Texas"
        ],
        [
         11,
         "Fort Worth",
         "TX",
         909585,
         741206,
         "0.2272",
         "Texas",
         "Texas"
        ],
        [
         12,
         "Columbus",
         "OH",
         898553,
         787033,
         "0.1417",
         "Ohio",
         "Ohio"
        ],
        [
         13,
         "San Francisco[g]",
         "CA",
         881549,
         805235,
         "0.0948",
         "California",
         "California"
        ],
        [
         14,
         "Denver[i]",
         "CO",
         727211,
         600158,
         "0.2117",
         "Colorado",
         "Colorado"
        ],
        [
         15,
         "El Paso",
         "TX",
         681728,
         649121,
         "0.0502",
         "Texas",
         "Texas"
        ],
        [
         16,
         "Tucson",
         "AZ",
         548073,
         520116,
         "0.0538",
         "Arizona",
         "Arizona"
        ],
        [
         17,
         "Fresno",
         "CA",
         531576,
         494665,
         "0.0746",
         "California",
         "California"
        ],
        [
         18,
         "Mesa",
         "AZ",
         518012,
         439041,
         "0.1799",
         "Arizona",
         "Arizona"
        ],
        [
         19,
         "Sacramento",
         "CA",
         513624,
         466488,
         "0.101",
         "California",
         "California"
        ],
        [
         20,
         "Colorado Springs",
         "CO",
         478221,
         416427,
         "0.1484",
         "Colorado",
         "Colorado"
        ],
        [
         21,
         "Long Beach",
         "CA",
         462628,
         462257,
         "0.0008",
         "California",
         "California"
        ],
        [
         22,
         "Oakland",
         "CA",
         433031,
         390724,
         "0.1083",
         "California",
         "California"
        ],
        [
         23,
         "Arlington",
         "TX",
         398854,
         365438,
         "0.0914",
         "Texas",
         "Texas"
        ],
        [
         24,
         "Bakersfield",
         "CA",
         384145,
         347483,
         "0.1055",
         "California",
         "California"
        ],
        [
         25,
         "Cleveland",
         "OH",
         381009,
         396815,
         "−3.98%                           ",
         "Ohio",
         "Ohio"
        ],
        [
         26,
         "Aurora",
         "CO",
         379289,
         325078,
         "0.1668",
         "Colorado",
         "Colorado"
        ],
        [
         27,
         "Anaheim",
         "CA",
         350365,
         336265,
         "0.0419",
         "California",
         "California"
        ],
        [
         28,
         "Santa Ana",
         "CA",
         332318,
         324528,
         "0.024",
         "California",
         "California"
        ],
        [
         29,
         "Riverside",
         "CA",
         331360,
         303871,
         "0.0905",
         "California",
         "California"
        ],
        [
         30,
         "Corpus Christi",
         "TX",
         326586,
         305215,
         "0.07",
         "Texas",
         "Texas"
        ],
        [
         31,
         "Stockton",
         "CA",
         312697,
         291707,
         "0.072",
         "California",
         "California"
        ],
        [
         32,
         "Cincinnati",
         "OH",
         303940,
         296943,
         "0.0236",
         "Ohio",
         "Ohio"
        ],
        [
         33,
         "Plano",
         "TX",
         287677,
         259841,
         "0.1071",
         "Texas",
         "Texas"
        ],
        [
         34,
         "Irvine",
         "CA",
         287401,
         212375,
         "0.3533",
         "California",
         "California"
        ],
        [
         35,
         "Chula Vista",
         "CA",
         274492,
         243916,
         "0.1254",
         "California",
         "California"
        ],
        [
         36,
         "Toledo",
         "OH",
         272779,
         287208,
         "−5.02%                               ",
         "Ohio",
         "Ohio"
        ],
        [
         37,
         "Laredo",
         "TX",
         262491,
         236091,
         "0.1118",
         "Texas",
         "Texas"
        ],
        [
         38,
         "Chandler",
         "AZ",
         261165,
         236123,
         "0.1061",
         "Arizona",
         "Arizona"
        ],
        [
         39,
         "Lubbock",
         "TX",
         258862,
         229573,
         "0.1276",
         "Texas",
         "Texas"
        ],
        [
         40,
         "Scottsdale",
         "AZ",
         258069,
         217385,
         "0.1872",
         "Arizona",
         "Arizona"
        ],
        [
         41,
         "Buffalo",
         "NY",
         255284,
         261310,
         "−2.31%                           ",
         "New York",
         "New York"
        ],
        [
         42,
         "Gilbert[q]",
         "AZ",
         254114,
         208453,
         "0.219",
         "Arizona",
         "Arizona"
        ],
        [
         43,
         "Glendale",
         "AZ",
         252381,
         226721,
         "0.1132",
         "Arizona",
         "Arizona"
        ],
        [
         44,
         "Fremont",
         "CA",
         241110,
         214089,
         "0.1262",
         "California",
         "California"
        ],
        [
         45,
         "Garland",
         "TX",
         239928,
         226876,
         "0.0575",
         "Texas",
         "Texas"
        ],
        [
         46,
         "Irving",
         "TX",
         239798,
         216290,
         "0.1087",
         "Texas",
         "Texas"
        ],
        [
         47,
         "San Bernardino",
         "CA",
         215784,
         209924,
         "0.0279",
         "California",
         "California"
        ],
        [
         48,
         "Modesto",
         "CA",
         215196,
         201165,
         "0.0697",
         "California",
         "California"
        ],
        [
         49,
         "Fontana",
         "CA",
         214547,
         196069,
         "0.0942",
         "California",
         "California"
        ],
        [
         50,
         "Moreno Valley",
         "CA",
         213055,
         193365,
         "0.1018",
         "California",
         "California"
        ],
        [
         51,
         "Santa Clarita",
         "CA",
         212979,
         176320,
         "0.2079",
         "California",
         "California"
        ],
        [
         52,
         "Oxnard",
         "CA",
         208881,
         197899,
         "0.0555",
         "California",
         "California"
        ],
        [
         53,
         "Rochester",
         "NY",
         205695,
         210565,
         "−2.31%                       ",
         "New York",
         "New York"
        ],
        [
         54,
         "Frisco",
         "TX",
         200490,
         116989,
         "0.7138",
         "Texas",
         "Texas"
        ],
        [
         55,
         "Yonkers",
         "NY",
         200370,
         195976,
         "0.0224",
         "New York",
         "New York"
        ],
        [
         56,
         "Amarillo",
         "TX",
         199371,
         190695,
         "0.0455",
         "Texas",
         "Texas"
        ],
        [
         57,
         "Glendale",
         "CA",
         199303,
         191719,
         "0.0396",
         "California",
         "California"
        ],
        [
         58,
         "Huntington Beach",
         "CA",
         199223,
         189992,
         "0.0486",
         "California",
         "California"
        ],
        [
         59,
         "McKinney",
         "TX",
         199177,
         131117,
         "0.5191",
         "Texas",
         "Texas"
        ],
        [
         60,
         "Aurora",
         "IL",
         197757,
         197899,
         "−0.07%                           ",
         "Illinois",
         "Illinois"
        ],
        [
         61,
         "Akron",
         "OH",
         197597,
         199110,
         "−0.76%                               ",
         "Ohio",
         "Ohio"
        ],
        [
         62,
         "Tempe",
         "AZ",
         195805,
         161719,
         "0.2108",
         "Arizona",
         "Arizona"
        ],
        [
         63,
         "Grand Prairie",
         "TX",
         194543,
         175396,
         "0.1092",
         "Texas",
         "Texas"
        ],
        [
         64,
         "Ontario",
         "CA",
         185010,
         163924,
         "0.1286",
         "California",
         "California"
        ],
        [
         65,
         "Brownsville",
         "TX",
         182781,
         175023,
         "0.0443",
         "Texas",
         "Texas"
        ],
        [
         66,
         "Rancho Cucamonga",
         "CA",
         177603,
         165269,
         "0.0746",
         "California",
         "California"
        ],
        [
         67,
         "Santa Rosa",
         "CA",
         176753,
         167815,
         "0.0533",
         "California",
         "California"
        ],
        [
         68,
         "Peoria",
         "AZ",
         175961,
         154065,
         "0.1421",
         "Arizona",
         "Arizona"
        ],
        [
         69,
         "Oceanside",
         "CA",
         175742,
         167086,
         "0.0518",
         "California",
         "California"
        ],
        [
         70,
         "Elk Grove",
         "CA",
         174775,
         153015,
         "0.1422",
         "California",
         "California"
        ],
        [
         71,
         "Garden Grove",
         "CA",
         171644,
         170883,
         "0.0045",
         "California",
         "California"
        ],
        [
         72,
         "Fort Collins",
         "CO",
         170243,
         143986,
         "0.1824",
         "Colorado",
         "Colorado"
        ],
        [
         73,
         "Corona",
         "CA",
         169868,
         152374,
         "0.1148",
         "California",
         "California"
        ],
        [
         74,
         "Hayward",
         "CA",
         159203,
         144186,
         "0.1042",
         "California",
         "California"
        ],
        [
         75,
         "Lakewood",
         "CO",
         157935,
         142980,
         "0.1046",
         "Colorado",
         "Colorado"
        ],
        [
         76,
         "Lancaster",
         "CA",
         157601,
         156633,
         "0.0062",
         "California",
         "California"
        ],
        [
         77,
         "Salinas",
         "CA",
         155465,
         150441,
         "0.0334",
         "California",
         "California"
        ],
        [
         78,
         "Palmdale",
         "CA",
         155079,
         152750,
         "0.0152",
         "California",
         "California"
        ],
        [
         79,
         "Sunnyvale",
         "CA",
         152703,
         140081,
         "0.0901",
         "California",
         "California"
        ],
        [
         80,
         "Pomona",
         "CA",
         151691,
         149058,
         "0.0177",
         "California",
         "California"
        ],
        [
         81,
         "Killeen",
         "TX",
         151666,
         127921,
         "0.1856",
         "Texas",
         "Texas"
        ],
        [
         82,
         "Escondido",
         "CA",
         151625,
         143911,
         "0.0536",
         "California",
         "California"
        ],
        [
         83,
         "Pasadena",
         "TX",
         151227,
         149043,
         "0.0147",
         "Texas",
         "Texas"
        ],
        [
         84,
         "Naperville",
         "IL",
         148449,
         141853,
         "0.0465",
         "Illinois",
         "Illinois"
        ],
        [
         85,
         "Joliet",
         "IL",
         147344,
         147433,
         "−0.06%                           ",
         "Illinois",
         "Illinois"
        ],
        [
         86,
         "Midland",
         "TX",
         146038,
         111147,
         "0.3139",
         "Texas",
         "Texas"
        ],
        [
         87,
         "Rockford",
         "IL",
         145609,
         152871,
         "−4.75%                       ",
         "Illinois",
         "Illinois"
        ],
        [
         88,
         "Torrance",
         "CA",
         143592,
         145438,
         "−1.27%                       ",
         "California",
         "California"
        ],
        [
         89,
         "McAllen",
         "TX",
         143268,
         129877,
         "0.1031",
         "Texas",
         "Texas"
        ],
        [
         90,
         "Syracuse",
         "NY",
         142327,
         145170,
         "−1.96%                       ",
         "New York",
         "New York"
        ],
        [
         91,
         "Surprise",
         "AZ",
         141664,
         117517,
         "0.2055",
         "Arizona",
         "Arizona"
        ],
        [
         92,
         "Denton",
         "TX",
         141541,
         113383,
         "0.2483",
         "Texas",
         "Texas"
        ],
        [
         93,
         "Roseville",
         "CA",
         141500,
         118788,
         "0.1912",
         "California",
         "California"
        ],
        [
         94,
         "Thornton",
         "CO",
         141464,
         118772,
         "0.1911",
         "Colorado",
         "Colorado"
        ],
        [
         95,
         "Pasadena",
         "CA",
         141029,
         137122,
         "0.0285",
         "California",
         "California"
        ],
        [
         96,
         "Mesquite",
         "TX",
         140937,
         139824,
         "0.008",
         "Texas",
         "Texas"
        ],
        [
         97,
         "Dayton",
         "OH",
         140407,
         141527,
         "−0.79%                               ",
         "Ohio",
         "Ohio"
        ],
        [
         98,
         "Carrollton",
         "TX",
         139248,
         119097,
         "0.1692",
         "Texas",
         "Texas"
        ],
        [
         99,
         "Waco",
         "TX",
         139236,
         124805,
         "0.1156",
         "Texas",
         "Texas"
        ],
        [
         100,
         "Orange",
         "CA",
         138669,
         136416,
         "0.0165",
         "California",
         "California"
        ],
        [
         101,
         "Fullerton",
         "CA",
         138632,
         135161,
         "0.0257",
         "California",
         "California"
        ],
        [
         102,
         "Visalia",
         "CA",
         134605,
         124442,
         "0.0817",
         "California",
         "California"
        ],
        [
         103,
         "Round Rock",
         "TX",
         133372,
         99887,
         "0.3352",
         "Texas",
         "Texas"
        ],
        [
         104,
         "Santa Clara",
         "CA",
         130365,
         116468,
         "0.1193",
         "California",
         "California"
        ],
        [
         105,
         "Concord",
         "CA",
         129295,
         122067,
         "0.0592",
         "California",
         "California"
        ],
        [
         106,
         "Thousand Oaks",
         "CA",
         126813,
         126683,
         "0.001",
         "California",
         "California"
        ],
        [
         107,
         "Simi Valley",
         "CA",
         125613,
         124237,
         "0.0111",
         "California",
         "California"
        ],
        [
         108,
         "Abilene",
         "TX",
         123420,
         117063,
         "0.0543",
         "Texas",
         "Texas"
        ],
        [
         109,
         "Odessa",
         "TX",
         123334,
         99940,
         "0.2341",
         "Texas",
         "Texas"
        ],
        [
         110,
         "Pearland",
         "TX",
         122460,
         91252,
         "0.342",
         "Texas",
         "Texas"
        ],
        [
         111,
         "Victorville",
         "CA",
         122385,
         115903,
         "0.0559",
         "California",
         "California"
        ],
        [
         112,
         "Vallejo",
         "CA",
         121692,
         115942,
         "0.0496",
         "California",
         "California"
        ],
        [
         113,
         "Berkeley",
         "CA",
         121363,
         112580,
         "0.078",
         "California",
         "California"
        ],
        [
         114,
         "Richardson",
         "TX",
         121323,
         99223,
         "0.2227",
         "Texas",
         "Texas"
        ],
        [
         115,
         "Arvada",
         "CO",
         121272,
         106433,
         "0.1394",
         "Colorado",
         "Colorado"
        ],
        [
         116,
         "Sugar Land",
         "TX",
         118488,
         78817,
         "0.5033",
         "Texas",
         "Texas"
        ],
        [
         117,
         "College Station",
         "TX",
         117911,
         93857,
         "0.2563",
         "Texas",
         "Texas"
        ],
        [
         118,
         "Fairfield",
         "CA",
         117133,
         105321,
         "0.1122",
         "California",
         "California"
        ],
        [
         119,
         "Beaumont",
         "TX",
         116825,
         118296,
         "−1.24%                           ",
         "Texas",
         "Texas"
        ],
        [
         120,
         "Murrieta",
         "CA",
         116223,
         103466,
         "0.1233",
         "California",
         "California"
        ],
        [
         121,
         "El Monte",
         "CA",
         115487,
         113475,
         "0.0177",
         "California",
         "California"
        ],
        [
         122,
         "Carlsbad",
         "CA",
         115382,
         105328,
         "0.0955",
         "California",
         "California"
        ],
        [
         123,
         "Temecula",
         "CA",
         114761,
         100097,
         "0.1465",
         "California",
         "California"
        ],
        [
         124,
         "Clovis",
         "CA",
         114584,
         95631,
         "0.1982",
         "California",
         "California"
        ],
        [
         125,
         "Springfield",
         "IL",
         114230,
         116250,
         "−1.74%                       ",
         "Illinois",
         "Illinois"
        ],
        [
         126,
         "Westminster",
         "CO",
         113166,
         106114,
         "0.0665",
         "Colorado",
         "Colorado"
        ],
        [
         127,
         "Costa Mesa",
         "CA",
         113003,
         109960,
         "0.0277",
         "California",
         "California"
        ],
        [
         128,
         "Pueblo",
         "CO",
         112361,
         106595,
         "0.0541",
         "Colorado",
         "Colorado"
        ],
        [
         129,
         "Antioch",
         "CA",
         111502,
         102372,
         "0.0892",
         "California",
         "California"
        ],
        [
         130,
         "Downey",
         "CA",
         111126,
         111772,
         "−0.58%                           ",
         "California",
         "California"
        ],
        [
         131,
         "Centennial",
         "CO",
         110937,
         100377,
         "0.1052",
         "Colorado",
         "Colorado"
        ],
        [
         132,
         "Elgin",
         "IL",
         110849,
         108188,
         "0.0246",
         "Illinois",
         "Illinois"
        ],
        [
         133,
         "Richmond",
         "CA",
         110567,
         103701,
         "0.0662",
         "California",
         "California"
        ],
        [
         134,
         "Peoria",
         "IL",
         110417,
         115007,
         "−3.99%                           ",
         "Illinois",
         "Illinois"
        ],
        [
         135,
         "Lewisville",
         "TX",
         109212,
         95290,
         "0.1461",
         "Texas",
         "Texas"
        ],
        [
         136,
         "Ventura[ab]",
         "CA",
         109106,
         106433,
         "0.0251",
         "California",
         "California"
        ],
        [
         137,
         "Greeley",
         "CO",
         108649,
         92889,
         "0.1697",
         "Colorado",
         "Colorado"
        ],
        [
         138,
         "Inglewood",
         "CA",
         108151,
         109673,
         "−1.39%                       ",
         "California",
         "California"
        ],
        [
         139,
         "League City",
         "TX",
         107536,
         83560,
         "0.2869",
         "Texas",
         "Texas"
        ],
        [
         140,
         "Santa Maria",
         "CA",
         107263,
         99553,
         "0.0774",
         "California",
         "California"
        ],
        [
         141,
         "Tyler",
         "TX",
         106985,
         96900,
         "0.1041",
         "Texas",
         "Texas"
        ],
        [
         142,
         "Daly City",
         "CA",
         106280,
         101123,
         "0.051",
         "California",
         "California"
        ],
        [
         143,
         "Boulder",
         "CO",
         105673,
         97385,
         "0.0851",
         "Colorado",
         "Colorado"
        ],
        [
         144,
         "Allen",
         "TX",
         105623,
         84246,
         "0.2537",
         "Texas",
         "Texas"
        ],
        [
         145,
         "West Covina",
         "CA",
         105101,
         106098,
         "−0.94%                       ",
         "California",
         "California"
        ],
        [
         146,
         "Wichita Falls",
         "TX",
         104683,
         104553,
         "0.0012",
         "Texas",
         "Texas"
        ],
        [
         147,
         "San Mateo",
         "CA",
         104430,
         97207,
         "0.0743",
         "California",
         "California"
        ],
        [
         148,
         "Norwalk",
         "CA",
         103949,
         105549,
         "−1.52%                           ",
         "California",
         "California"
        ],
        [
         149,
         "Rialto",
         "CA",
         103526,
         99171,
         "0.0439",
         "California",
         "California"
        ],
        [
         150,
         "Chico",
         "CA",
         103301,
         86187,
         "0.1986",
         "California",
         "California"
        ],
        [
         151,
         "El Cajon",
         "CA",
         102708,
         99478,
         "0.0325",
         "California",
         "California"
        ],
        [
         152,
         "Burbank",
         "CA",
         102511,
         103340,
         "−0.80%                           ",
         "California",
         "California"
        ],
        [
         153,
         "Vista",
         "CA",
         101638,
         93834,
         "0.0832",
         "California",
         "California"
        ],
        [
         154,
         "Edinburg",
         "TX",
         101170,
         77100,
         "0.3122",
         "Texas",
         "Texas"
        ],
        [
         155,
         "San Angelo",
         "TX",
         101004,
         93200,
         "0.0837",
         "Texas",
         "Texas"
        ],
        [
         156,
         "Vacaville",
         "CA",
         100670,
         92428,
         "0.0892",
         "California",
         "California"
        ]
       ],
       "datasetInfos": [],
       "dbfsResultPath": null,
       "isJsonSchema": true,
       "metadata": {},
       "overflow": false,
       "plotOptions": {
        "customPlotOptions": {},
        "displayType": "table",
        "pivotAggregation": null,
        "pivotColumns": null,
        "xColumns": null,
        "yColumns": null
       },
       "removedWidgets": [],
       "schema": [
        {
         "metadata": "{}",
         "name": "2019_rank",
         "type": "\"integer\""
        },
        {
         "metadata": "{}",
         "name": "City",
         "type": "\"string\""
        },
        {
         "metadata": "{}",
         "name": "State_Code",
         "type": "\"string\""
        },
        {
         "metadata": "{}",
         "name": "2019_estimate",
         "type": "\"integer\""
        },
        {
         "metadata": "{}",
         "name": "2010_Census",
         "type": "\"integer\""
        },
        {
         "metadata": "{}",
         "name": "Change",
         "type": "\"string\""
        },
        {
         "metadata": "{}",
         "name": "State_Udf",
         "type": "\"string\""
        },
        {
         "metadata": "{}",
         "name": "State_Bvar",
         "type": "\"string\""
        }
       ],
       "type": "table"
      }
     },
     "output_type": "display_data"
    }
   ],
   "source": [
    "df=df.withColumn(\"State_Bvar\", map_state_code_bv(\"State_Code\"))\n",
    "display(df)"
   ]
  },
  {
   "cell_type": "code",
   "execution_count": 0,
   "metadata": {
    "application/vnd.databricks.v1+cell": {
     "cellMetadata": {
      "byteLimit": 2048000,
      "rowLimit": 10000
     },
     "inputWidgets": {},
     "nuid": "a6e7dc78-1f8c-4842-9e94-f2eb46b08c92",
     "showTitle": false,
     "title": ""
    }
   },
   "outputs": [
    {
     "output_type": "stream",
     "name": "stdout",
     "output_type": "stream",
     "text": [
      "Out[52]: 'New York'"
     ]
    }
   ],
   "source": [
    "broadcastVariable.value[\"NY\"]"
   ]
  },
  {
   "cell_type": "code",
   "execution_count": 0,
   "metadata": {
    "application/vnd.databricks.v1+cell": {
     "cellMetadata": {
      "byteLimit": 2048000,
      "rowLimit": 10000
     },
     "inputWidgets": {},
     "nuid": "11428455-e4ea-4a5a-8a27-3db79b925b2b",
     "showTitle": false,
     "title": ""
    }
   },
   "outputs": [],
   "source": [
    "# By default, broad cast variables are cached on the worker machine\n",
    "# You can also unpersist them by calling .unpersist( )\n",
    "broadcastVariable.unpersist()"
   ]
  },
  {
   "cell_type": "markdown",
   "metadata": {
    "application/vnd.databricks.v1+cell": {
     "cellMetadata": {},
     "inputWidgets": {},
     "nuid": "afc49051-a771-47a1-b7b3-f940017080d9",
     "showTitle": false,
     "title": ""
    }
   },
   "source": [
    "If I call destroy() then all worker machines will destroy the copy their broad cast variable & not to use it for any task execution"
   ]
  },
  {
   "cell_type": "code",
   "execution_count": 0,
   "metadata": {
    "application/vnd.databricks.v1+cell": {
     "cellMetadata": {
      "byteLimit": 2048000,
      "rowLimit": 10000
     },
     "inputWidgets": {},
     "nuid": "a971efe2-6319-489f-9dde-397565ec3b3d",
     "showTitle": false,
     "title": ""
    }
   },
   "outputs": [],
   "source": [
    "broadcastVariable.destroy()"
   ]
  },
  {
   "cell_type": "code",
   "execution_count": 0,
   "metadata": {
    "application/vnd.databricks.v1+cell": {
     "cellMetadata": {
      "byteLimit": 2048000,
      "rowLimit": 10000
     },
     "inputWidgets": {},
     "nuid": "1bce36d9-3156-4da1-97f8-4bd4599b381e",
     "showTitle": false,
     "title": ""
    }
   },
   "outputs": [
    {
     "output_type": "display_data",
     "data": {
      "text/plain": [
       "\u001B[0;31m---------------------------------------------------------------------------\u001B[0m\n",
       "\u001B[0;31mFileNotFoundError\u001B[0m                         Traceback (most recent call last)\n",
       "File \u001B[0;32m<command-262696914761746>:1\u001B[0m\n",
       "\u001B[0;32m----> 1\u001B[0m \u001B[43mbroadcastVariable\u001B[49m\u001B[38;5;241;43m.\u001B[39;49m\u001B[43mvalue\u001B[49m[\u001B[38;5;124m\"\u001B[39m\u001B[38;5;124mNy\u001B[39m\u001B[38;5;124m\"\u001B[39m]\n",
       "\n",
       "File \u001B[0;32m/databricks/spark/python/pyspark/broadcast.py:282\u001B[0m, in \u001B[0;36mBroadcast.value\u001B[0;34m(self)\u001B[0m\n",
       "\u001B[1;32m    280\u001B[0m         \u001B[38;5;28;01mreturn\u001B[39;00m \u001B[38;5;28mself\u001B[39m\u001B[38;5;241m.\u001B[39mload(decrypted_sock_file)\n",
       "\u001B[1;32m    281\u001B[0m     \u001B[38;5;28;01melse\u001B[39;00m:\n",
       "\u001B[0;32m--> 282\u001B[0m         \u001B[38;5;28mself\u001B[39m\u001B[38;5;241m.\u001B[39m_value \u001B[38;5;241m=\u001B[39m \u001B[38;5;28;43mself\u001B[39;49m\u001B[38;5;241;43m.\u001B[39;49m\u001B[43mload_from_path\u001B[49m\u001B[43m(\u001B[49m\u001B[38;5;28;43mself\u001B[39;49m\u001B[38;5;241;43m.\u001B[39;49m\u001B[43m_path\u001B[49m\u001B[43m)\u001B[49m\n",
       "\u001B[1;32m    283\u001B[0m \u001B[38;5;28;01mreturn\u001B[39;00m \u001B[38;5;28mself\u001B[39m\u001B[38;5;241m.\u001B[39m_value\n",
       "\n",
       "File \u001B[0;32m/databricks/spark/python/pyspark/broadcast.py:228\u001B[0m, in \u001B[0;36mBroadcast.load_from_path\u001B[0;34m(self, path)\u001B[0m\n",
       "\u001B[1;32m    195\u001B[0m \u001B[38;5;28;01mdef\u001B[39;00m \u001B[38;5;21mload_from_path\u001B[39m(\u001B[38;5;28mself\u001B[39m, path: \u001B[38;5;28mstr\u001B[39m) \u001B[38;5;241m-\u001B[39m\u001B[38;5;241m>\u001B[39m T:\n",
       "\u001B[1;32m    196\u001B[0m     \u001B[38;5;124;03m\"\"\"\u001B[39;00m\n",
       "\u001B[1;32m    197\u001B[0m \u001B[38;5;124;03m    Read the pickled representation of an object from the open file and\u001B[39;00m\n",
       "\u001B[1;32m    198\u001B[0m \u001B[38;5;124;03m    return the reconstituted object hierarchy specified therein.\u001B[39;00m\n",
       "\u001B[0;32m   (...)\u001B[0m\n",
       "\u001B[1;32m    226\u001B[0m \u001B[38;5;124;03m    [1, 2, 3, 4, 5]\u001B[39;00m\n",
       "\u001B[1;32m    227\u001B[0m \u001B[38;5;124;03m    \"\"\"\u001B[39;00m\n",
       "\u001B[0;32m--> 228\u001B[0m     \u001B[38;5;28;01mwith\u001B[39;00m \u001B[38;5;28;43mopen\u001B[39;49m\u001B[43m(\u001B[49m\u001B[43mpath\u001B[49m\u001B[43m,\u001B[49m\u001B[43m \u001B[49m\u001B[38;5;124;43m\"\u001B[39;49m\u001B[38;5;124;43mrb\u001B[39;49m\u001B[38;5;124;43m\"\u001B[39;49m\u001B[43m,\u001B[49m\u001B[43m \u001B[49m\u001B[38;5;241;43m1\u001B[39;49m\u001B[43m \u001B[49m\u001B[38;5;241;43m<<\u001B[39;49m\u001B[43m \u001B[49m\u001B[38;5;241;43m20\u001B[39;49m\u001B[43m)\u001B[49m \u001B[38;5;28;01mas\u001B[39;00m f:\n",
       "\u001B[1;32m    229\u001B[0m         \u001B[38;5;28;01mreturn\u001B[39;00m \u001B[38;5;28mself\u001B[39m\u001B[38;5;241m.\u001B[39mload(f)\n",
       "\n",
       "\u001B[0;31mFileNotFoundError\u001B[0m: [Errno 2] No such file or directory: '/local_disk0/spark-8b706fa0-0fa3-4aff-928d-51720bbe52ec/pyspark-38937139-198d-4ca2-966b-0bc23c73bdec/tmpxqgoki88'"
      ]
     },
     "metadata": {
      "application/vnd.databricks.v1+output": {
       "arguments": {},
       "data": "\u001B[0;31m---------------------------------------------------------------------------\u001B[0m\n\u001B[0;31mFileNotFoundError\u001B[0m                         Traceback (most recent call last)\nFile \u001B[0;32m<command-262696914761746>:1\u001B[0m\n\u001B[0;32m----> 1\u001B[0m \u001B[43mbroadcastVariable\u001B[49m\u001B[38;5;241;43m.\u001B[39;49m\u001B[43mvalue\u001B[49m[\u001B[38;5;124m\"\u001B[39m\u001B[38;5;124mNy\u001B[39m\u001B[38;5;124m\"\u001B[39m]\n\nFile \u001B[0;32m/databricks/spark/python/pyspark/broadcast.py:282\u001B[0m, in \u001B[0;36mBroadcast.value\u001B[0;34m(self)\u001B[0m\n\u001B[1;32m    280\u001B[0m         \u001B[38;5;28;01mreturn\u001B[39;00m \u001B[38;5;28mself\u001B[39m\u001B[38;5;241m.\u001B[39mload(decrypted_sock_file)\n\u001B[1;32m    281\u001B[0m     \u001B[38;5;28;01melse\u001B[39;00m:\n\u001B[0;32m--> 282\u001B[0m         \u001B[38;5;28mself\u001B[39m\u001B[38;5;241m.\u001B[39m_value \u001B[38;5;241m=\u001B[39m \u001B[38;5;28;43mself\u001B[39;49m\u001B[38;5;241;43m.\u001B[39;49m\u001B[43mload_from_path\u001B[49m\u001B[43m(\u001B[49m\u001B[38;5;28;43mself\u001B[39;49m\u001B[38;5;241;43m.\u001B[39;49m\u001B[43m_path\u001B[49m\u001B[43m)\u001B[49m\n\u001B[1;32m    283\u001B[0m \u001B[38;5;28;01mreturn\u001B[39;00m \u001B[38;5;28mself\u001B[39m\u001B[38;5;241m.\u001B[39m_value\n\nFile \u001B[0;32m/databricks/spark/python/pyspark/broadcast.py:228\u001B[0m, in \u001B[0;36mBroadcast.load_from_path\u001B[0;34m(self, path)\u001B[0m\n\u001B[1;32m    195\u001B[0m \u001B[38;5;28;01mdef\u001B[39;00m \u001B[38;5;21mload_from_path\u001B[39m(\u001B[38;5;28mself\u001B[39m, path: \u001B[38;5;28mstr\u001B[39m) \u001B[38;5;241m-\u001B[39m\u001B[38;5;241m>\u001B[39m T:\n\u001B[1;32m    196\u001B[0m     \u001B[38;5;124;03m\"\"\"\u001B[39;00m\n\u001B[1;32m    197\u001B[0m \u001B[38;5;124;03m    Read the pickled representation of an object from the open file and\u001B[39;00m\n\u001B[1;32m    198\u001B[0m \u001B[38;5;124;03m    return the reconstituted object hierarchy specified therein.\u001B[39;00m\n\u001B[0;32m   (...)\u001B[0m\n\u001B[1;32m    226\u001B[0m \u001B[38;5;124;03m    [1, 2, 3, 4, 5]\u001B[39;00m\n\u001B[1;32m    227\u001B[0m \u001B[38;5;124;03m    \"\"\"\u001B[39;00m\n\u001B[0;32m--> 228\u001B[0m     \u001B[38;5;28;01mwith\u001B[39;00m \u001B[38;5;28;43mopen\u001B[39;49m\u001B[43m(\u001B[49m\u001B[43mpath\u001B[49m\u001B[43m,\u001B[49m\u001B[43m \u001B[49m\u001B[38;5;124;43m\"\u001B[39;49m\u001B[38;5;124;43mrb\u001B[39;49m\u001B[38;5;124;43m\"\u001B[39;49m\u001B[43m,\u001B[49m\u001B[43m \u001B[49m\u001B[38;5;241;43m1\u001B[39;49m\u001B[43m \u001B[49m\u001B[38;5;241;43m<<\u001B[39;49m\u001B[43m \u001B[49m\u001B[38;5;241;43m20\u001B[39;49m\u001B[43m)\u001B[49m \u001B[38;5;28;01mas\u001B[39;00m f:\n\u001B[1;32m    229\u001B[0m         \u001B[38;5;28;01mreturn\u001B[39;00m \u001B[38;5;28mself\u001B[39m\u001B[38;5;241m.\u001B[39mload(f)\n\n\u001B[0;31mFileNotFoundError\u001B[0m: [Errno 2] No such file or directory: '/local_disk0/spark-8b706fa0-0fa3-4aff-928d-51720bbe52ec/pyspark-38937139-198d-4ca2-966b-0bc23c73bdec/tmpxqgoki88'",
       "errorSummary": "<span class='ansi-red-fg'>FileNotFoundError</span>: [Errno 2] No such file or directory: '/local_disk0/spark-8b706fa0-0fa3-4aff-928d-51720bbe52ec/pyspark-38937139-198d-4ca2-966b-0bc23c73bdec/tmpxqgoki88'",
       "errorTraceType": "ansi",
       "metadata": {},
       "type": "ipynbError"
      }
     },
     "output_type": "display_data"
    }
   ],
   "source": [
    "broadcastVariable.value[\"NY\"]"
   ]
  }
 ],
 "metadata": {
  "application/vnd.databricks.v1+notebook": {
   "dashboards": [],
   "environmentMetadata": null,
   "language": "python",
   "notebookMetadata": {
    "pythonIndentUnit": 4
   },
   "notebookName": "BroadCast and UDF",
   "widgets": {}
  }
 },
 "nbformat": 4,
 "nbformat_minor": 0
}
