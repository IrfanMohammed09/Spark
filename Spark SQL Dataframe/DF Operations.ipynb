{
 "cells": [
  {
   "cell_type": "code",
   "execution_count": 0,
   "metadata": {
    "application/vnd.databricks.v1+cell": {
     "cellMetadata": {
      "byteLimit": 2048000,
      "rowLimit": 10000
     },
     "inputWidgets": {},
     "nuid": "efed307d-d080-4cb5-be66-7d613e23142c",
     "showTitle": false,
     "title": ""
    }
   },
   "outputs": [
    {
     "output_type": "display_data",
     "data": {
      "text/html": [
       "<style scoped>\n",
       "  .ansiout {\n",
       "    display: block;\n",
       "    unicode-bidi: embed;\n",
       "    white-space: pre-wrap;\n",
       "    word-wrap: break-word;\n",
       "    word-break: break-all;\n",
       "    font-family: \"Menlo\", \"Monaco\", \"Consolas\", \"Ubuntu Mono\", \"Source Code Pro\", monospace;\n",
       "    font-size: 13px;\n",
       "    color: #555;\n",
       "    margin-left: 4px;\n",
       "    line-height: 19px;\n",
       "  }\n",
       "</style>\n",
       "<div class=\"ansiout\">2|Fitness\n",
       "3|Footwear\n",
       "4|Apparel\n",
       "5|Golf\n",
       "6|Outdoors\n",
       "7|Fan Shop\n",
       "\n",
       "</div>"
      ]
     },
     "metadata": {
      "application/vnd.databricks.v1+output": {
       "addedWidgets": {},
       "arguments": {},
       "data": "<div class=\"ansiout\">2|Fitness\n3|Footwear\n4|Apparel\n5|Golf\n6|Outdoors\n7|Fan Shop\n\n</div>",
       "datasetInfos": [],
       "metadata": {
        "isDbfsCommandResult": false
       },
       "removedWidgets": [],
       "type": "html"
      }
     },
     "output_type": "display_data"
    }
   ],
   "source": [
    "%fs head /FileStore/tables/Departments_csv/part_00000"
   ]
  },
  {
   "cell_type": "code",
   "execution_count": 0,
   "metadata": {
    "application/vnd.databricks.v1+cell": {
     "cellMetadata": {
      "byteLimit": 2048000,
      "rowLimit": 10000
     },
     "inputWidgets": {},
     "nuid": "232ec4b2-793f-4bb8-a86f-d6e74afaedea",
     "showTitle": false,
     "title": ""
    }
   },
   "outputs": [],
   "source": [
    "dept_df=(spark\n",
    "         .read\n",
    "         .format(\"csv\")\n",
    "         .option(\"delimiter\",\"|\")\n",
    "         .load(\"/FileStore/tables/Departments_csv/part_00000\"))"
   ]
  },
  {
   "cell_type": "code",
   "execution_count": 0,
   "metadata": {
    "application/vnd.databricks.v1+cell": {
     "cellMetadata": {
      "byteLimit": 2048000,
      "rowLimit": 10000
     },
     "inputWidgets": {},
     "nuid": "94d11f59-f93c-43c3-862b-99791fc9e6f5",
     "showTitle": false,
     "title": ""
    }
   },
   "outputs": [
    {
     "output_type": "stream",
     "name": "stdout",
     "output_type": "stream",
     "text": [
      "+---+--------+\n|_c0|     _c1|\n+---+--------+\n|  2| Fitness|\n|  3|Footwear|\n|  4| Apparel|\n|  5|    Golf|\n|  6|Outdoors|\n|  7|Fan Shop|\n+---+--------+\n\n"
     ]
    }
   ],
   "source": [
    "dept_df.show(10)"
   ]
  },
  {
   "cell_type": "code",
   "execution_count": 0,
   "metadata": {
    "application/vnd.databricks.v1+cell": {
     "cellMetadata": {
      "byteLimit": 2048000,
      "rowLimit": 10000
     },
     "inputWidgets": {},
     "nuid": "1e8acc14-f3f5-4460-8247-959f98b85986",
     "showTitle": false,
     "title": ""
    }
   },
   "outputs": [
    {
     "output_type": "stream",
     "name": "stdout",
     "output_type": "stream",
     "text": [
      "root\n |-- _c0: string (nullable = true)\n |-- _c1: string (nullable = true)\n\n"
     ]
    }
   ],
   "source": [
    "dept_df.printSchema()"
   ]
  },
  {
   "cell_type": "code",
   "execution_count": 0,
   "metadata": {
    "application/vnd.databricks.v1+cell": {
     "cellMetadata": {
      "byteLimit": 2048000,
      "rowLimit": 10000
     },
     "inputWidgets": {},
     "nuid": "1eb63cce-f42d-48c6-98f7-a363d7f3a84f",
     "showTitle": false,
     "title": ""
    }
   },
   "outputs": [],
   "source": [
    "from pyspark.sql.types import StructType, StructField, IntegerType, StringType\n",
    "dept_df_schema=StructType([\n",
    "    StructField(\"ID\",IntegerType()),\n",
    "    StructField(\"DepartmentType\",StringType())\n",
    "])"
   ]
  },
  {
   "cell_type": "code",
   "execution_count": 0,
   "metadata": {
    "application/vnd.databricks.v1+cell": {
     "cellMetadata": {
      "byteLimit": 2048000,
      "rowLimit": 10000
     },
     "inputWidgets": {},
     "nuid": "874508b0-fcba-4d70-a092-7e72612937a4",
     "showTitle": false,
     "title": ""
    }
   },
   "outputs": [],
   "source": [
    "dept_df=(spark\n",
    "         .read\n",
    "         .format(\"csv\")\n",
    "         .option(\"delimiter\",\"|\")\n",
    "         .schema(\"Id int, Type string\")\n",
    "         .load(\"/FileStore/tables/Departments_csv/part_00000\"))"
   ]
  },
  {
   "cell_type": "code",
   "execution_count": 0,
   "metadata": {
    "application/vnd.databricks.v1+cell": {
     "cellMetadata": {
      "byteLimit": 2048000,
      "rowLimit": 10000
     },
     "inputWidgets": {},
     "nuid": "2e740a26-2c0e-4711-8df7-36a11df8a5fa",
     "showTitle": false,
     "title": ""
    }
   },
   "outputs": [
    {
     "output_type": "display_data",
     "data": {
      "text/html": [
       "<style scoped>\n",
       "  .table-result-container {\n",
       "    max-height: 300px;\n",
       "    overflow: auto;\n",
       "  }\n",
       "  table, th, td {\n",
       "    border: 1px solid black;\n",
       "    border-collapse: collapse;\n",
       "  }\n",
       "  th, td {\n",
       "    padding: 5px;\n",
       "  }\n",
       "  th {\n",
       "    text-align: left;\n",
       "  }\n",
       "</style><div class='table-result-container'><table class='table-result'><thead style='background-color: white'><tr><th>Id</th><th>Type</th></tr></thead><tbody><tr><td>2</td><td>Fitness</td></tr><tr><td>3</td><td>Footwear</td></tr><tr><td>4</td><td>Apparel</td></tr><tr><td>5</td><td>Golf</td></tr><tr><td>6</td><td>Outdoors</td></tr><tr><td>7</td><td>Fan Shop</td></tr></tbody></table></div>"
      ]
     },
     "metadata": {
      "application/vnd.databricks.v1+output": {
       "addedWidgets": {},
       "aggData": [],
       "aggError": "",
       "aggOverflow": false,
       "aggSchema": [],
       "aggSeriesLimitReached": false,
       "aggType": "",
       "arguments": {},
       "columnCustomDisplayInfos": {},
       "data": [
        [
         2,
         "Fitness"
        ],
        [
         3,
         "Footwear"
        ],
        [
         4,
         "Apparel"
        ],
        [
         5,
         "Golf"
        ],
        [
         6,
         "Outdoors"
        ],
        [
         7,
         "Fan Shop"
        ]
       ],
       "datasetInfos": [],
       "dbfsResultPath": null,
       "isJsonSchema": true,
       "metadata": {},
       "overflow": false,
       "plotOptions": {
        "customPlotOptions": {},
        "displayType": "table",
        "pivotAggregation": null,
        "pivotColumns": null,
        "xColumns": null,
        "yColumns": null
       },
       "removedWidgets": [],
       "schema": [
        {
         "metadata": "{}",
         "name": "Id",
         "type": "\"integer\""
        },
        {
         "metadata": "{}",
         "name": "Type",
         "type": "\"string\""
        }
       ],
       "type": "table"
      }
     },
     "output_type": "display_data"
    }
   ],
   "source": [
    "display(dept_df)"
   ]
  },
  {
   "cell_type": "code",
   "execution_count": 0,
   "metadata": {
    "application/vnd.databricks.v1+cell": {
     "cellMetadata": {
      "byteLimit": 2048000,
      "rowLimit": 10000
     },
     "inputWidgets": {},
     "nuid": "8c35df97-c79c-48d2-9eef-e4632e58a913",
     "showTitle": false,
     "title": ""
    }
   },
   "outputs": [
    {
     "output_type": "stream",
     "name": "stdout",
     "output_type": "stream",
     "text": [
      "root\n |-- Id: integer (nullable = true)\n |-- Type: string (nullable = true)\n\n"
     ]
    }
   ],
   "source": [
    "dept_df.printSchema()"
   ]
  },
  {
   "cell_type": "code",
   "execution_count": 0,
   "metadata": {
    "application/vnd.databricks.v1+cell": {
     "cellMetadata": {
      "byteLimit": 2048000,
      "rowLimit": 10000
     },
     "inputWidgets": {},
     "nuid": "eb41d72d-31d7-4c3e-b0f8-385355a0355e",
     "showTitle": false,
     "title": ""
    }
   },
   "outputs": [],
   "source": [
    "department_df=(spark\n",
    "               .read\n",
    "               .format(\"CSV\")\n",
    "               .option(\"header\",\"true\")\n",
    "               .option(\"inferSchema\",\"true\")\n",
    "               .load(\"/FileStore/tables/Departments_csv/department.csv\"))"
   ]
  },
  {
   "cell_type": "code",
   "execution_count": 0,
   "metadata": {
    "application/vnd.databricks.v1+cell": {
     "cellMetadata": {
      "byteLimit": 2048000,
      "rowLimit": 10000
     },
     "inputWidgets": {},
     "nuid": "23215be2-c905-44cf-9b41-3f169a1fd171",
     "showTitle": false,
     "title": ""
    }
   },
   "outputs": [
    {
     "output_type": "display_data",
     "data": {
      "text/html": [
       "<style scoped>\n",
       "  .table-result-container {\n",
       "    max-height: 300px;\n",
       "    overflow: auto;\n",
       "  }\n",
       "  table, th, td {\n",
       "    border: 1px solid black;\n",
       "    border-collapse: collapse;\n",
       "  }\n",
       "  th, td {\n",
       "    padding: 5px;\n",
       "  }\n",
       "  th {\n",
       "    text-align: left;\n",
       "  }\n",
       "</style><div class='table-result-container'><table class='table-result'><thead style='background-color: white'><tr><th>EmployeeID</th><th>DepartmentName</th><th>Client</th><th>OnboardedDate</th></tr></thead><tbody><tr><td>1</td><td>Data Engineering</td><td>Funding Circle</td><td>2019-01-15</td></tr><tr><td>2</td><td>Data Engineering</td><td>Funding Circle</td><td>2018-11-19</td></tr><tr><td>3</td><td>Data Analytics</td><td>Funding Circle</td><td>2018-11-19</td></tr><tr><td>4</td><td>Data Analytics</td><td>Funding Circle</td><td>2018-12-16</td></tr></tbody></table></div>"
      ]
     },
     "metadata": {
      "application/vnd.databricks.v1+output": {
       "addedWidgets": {},
       "aggData": [],
       "aggError": "",
       "aggOverflow": false,
       "aggSchema": [],
       "aggSeriesLimitReached": false,
       "aggType": "",
       "arguments": {},
       "columnCustomDisplayInfos": {},
       "data": [
        [
         1,
         "Data Engineering",
         "Funding Circle",
         "2019-01-15"
        ],
        [
         2,
         "Data Engineering",
         "Funding Circle",
         "2018-11-19"
        ],
        [
         3,
         "Data Analytics",
         "Funding Circle",
         "2018-11-19"
        ],
        [
         4,
         "Data Analytics",
         "Funding Circle",
         "2018-12-16"
        ]
       ],
       "datasetInfos": [],
       "dbfsResultPath": null,
       "isJsonSchema": true,
       "metadata": {},
       "overflow": false,
       "plotOptions": {
        "customPlotOptions": {},
        "displayType": "table",
        "pivotAggregation": null,
        "pivotColumns": null,
        "xColumns": null,
        "yColumns": null
       },
       "removedWidgets": [],
       "schema": [
        {
         "metadata": "{}",
         "name": "EmployeeID",
         "type": "\"integer\""
        },
        {
         "metadata": "{}",
         "name": "DepartmentName",
         "type": "\"string\""
        },
        {
         "metadata": "{}",
         "name": "Client",
         "type": "\"string\""
        },
        {
         "metadata": "{\"__detected_date_formats\":\"yyyy-M-d\"}",
         "name": "OnboardedDate",
         "type": "\"date\""
        }
       ],
       "type": "table"
      }
     },
     "output_type": "display_data"
    }
   ],
   "source": [
    "display(department_df)"
   ]
  },
  {
   "cell_type": "code",
   "execution_count": 0,
   "metadata": {
    "application/vnd.databricks.v1+cell": {
     "cellMetadata": {
      "byteLimit": 2048000,
      "rowLimit": 10000
     },
     "inputWidgets": {},
     "nuid": "cbbd590d-10d3-4e53-8257-7acb96bf2b62",
     "showTitle": false,
     "title": ""
    }
   },
   "outputs": [
    {
     "output_type": "stream",
     "name": "stdout",
     "output_type": "stream",
     "text": [
      "root\n |-- EmployeeID: integer (nullable = true)\n |-- DepartmentName: string (nullable = true)\n |-- Client: string (nullable = true)\n |-- OnboardedDate: date (nullable = true)\n\n"
     ]
    }
   ],
   "source": [
    "department_df.printSchema()"
   ]
  },
  {
   "cell_type": "code",
   "execution_count": 0,
   "metadata": {
    "application/vnd.databricks.v1+cell": {
     "cellMetadata": {},
     "inputWidgets": {},
     "nuid": "7829f90f-94ab-4ee8-a015-380437ddb850",
     "showTitle": false,
     "title": ""
    }
   },
   "outputs": [],
   "source": [
    "department_df=(spark\n",
    "               .read\n",
    "               .format(\"CSV\")\n",
    "               .option(\"header\",\"true\")\n",
    "               \n",
    "               .load(\"/FileStore/tables/Departments_csv/department.csv\"))"
   ]
  },
  {
   "cell_type": "code",
   "execution_count": 0,
   "metadata": {
    "application/vnd.databricks.v1+cell": {
     "cellMetadata": {
      "byteLimit": 2048000,
      "rowLimit": 10000
     },
     "inputWidgets": {},
     "nuid": "81c71097-9ed1-49cb-9e41-1b08611681e5",
     "showTitle": false,
     "title": ""
    }
   },
   "outputs": [],
   "source": [
    "from pyspark.sql.types import StructType, StructField,IntegerType,StringType, DateType\n",
    "department_df1_schema=StructType([\n",
    "    StructField(\"Employee_ID\",IntegerType()),\n",
    "    StructField(\"DepartmentName\",StringType()),\n",
    "    StructField(\"Client\",StringType()),\n",
    "    StructField(\"OnboardedDate\",DateType())\n",
    "])"
   ]
  },
  {
   "cell_type": "code",
   "execution_count": 0,
   "metadata": {
    "application/vnd.databricks.v1+cell": {
     "cellMetadata": {
      "byteLimit": 2048000,
      "rowLimit": 10000
     },
     "inputWidgets": {},
     "nuid": "eaa39546-e821-49d5-9e92-51e036b25ee7",
     "showTitle": false,
     "title": ""
    }
   },
   "outputs": [
    {
     "output_type": "stream",
     "name": "stdout",
     "output_type": "stream",
     "text": [
      "Out[23]: pyspark.sql.types.StructType"
     ]
    }
   ],
   "source": [
    "type(department_df1_schema)"
   ]
  },
  {
   "cell_type": "code",
   "execution_count": 0,
   "metadata": {
    "application/vnd.databricks.v1+cell": {
     "cellMetadata": {
      "byteLimit": 2048000,
      "rowLimit": 10000
     },
     "inputWidgets": {},
     "nuid": "6da6f11c-5ea4-47f3-bc3f-695944011d3b",
     "showTitle": false,
     "title": ""
    }
   },
   "outputs": [
    {
     "output_type": "stream",
     "name": "stdout",
     "output_type": "stream",
     "text": [
      "Out[24]: StructType([StructField('Employee_ID', IntegerType(), True), StructField('DepartmentName', StringType(), True), StructField('Client', StringType(), True), StructField('OnboardedDate', DateType(), True)])"
     ]
    }
   ],
   "source": [
    "department_df1_schema"
   ]
  },
  {
   "cell_type": "code",
   "execution_count": 0,
   "metadata": {
    "application/vnd.databricks.v1+cell": {
     "cellMetadata": {
      "byteLimit": 2048000,
      "rowLimit": 10000
     },
     "inputWidgets": {},
     "nuid": "a699c37b-4571-4da2-9cc2-6079a5282426",
     "showTitle": false,
     "title": ""
    }
   },
   "outputs": [],
   "source": [
    "department_df1=(spark\n",
    "               .read\n",
    "               .format(\"CSV\")\n",
    "               .option(\"header\",\"true\")\n",
    "               .schema(department_df1_schema)\n",
    "               .load(\"/FileStore/tables/Departments_csv/department.csv\"))"
   ]
  },
  {
   "cell_type": "code",
   "execution_count": 0,
   "metadata": {
    "application/vnd.databricks.v1+cell": {
     "cellMetadata": {
      "byteLimit": 2048000,
      "rowLimit": 10000
     },
     "inputWidgets": {},
     "nuid": "5e44ce1f-acbf-45eb-bf3e-77cbfedee066",
     "showTitle": false,
     "title": ""
    }
   },
   "outputs": [
    {
     "output_type": "display_data",
     "data": {
      "text/html": [
       "<style scoped>\n",
       "  .table-result-container {\n",
       "    max-height: 300px;\n",
       "    overflow: auto;\n",
       "  }\n",
       "  table, th, td {\n",
       "    border: 1px solid black;\n",
       "    border-collapse: collapse;\n",
       "  }\n",
       "  th, td {\n",
       "    padding: 5px;\n",
       "  }\n",
       "  th {\n",
       "    text-align: left;\n",
       "  }\n",
       "</style><div class='table-result-container'><table class='table-result'><thead style='background-color: white'><tr><th>Employee_ID</th><th>DepartmentName</th><th>Client</th><th>OnboardedDate</th></tr></thead><tbody><tr><td>1</td><td>Data Engineering</td><td>Funding Circle</td><td>2019-01-15</td></tr><tr><td>2</td><td>Data Engineering</td><td>Funding Circle</td><td>2018-11-19</td></tr><tr><td>3</td><td>Data Analytics</td><td>Funding Circle</td><td>2018-11-19</td></tr><tr><td>4</td><td>Data Analytics</td><td>Funding Circle</td><td>2018-12-16</td></tr></tbody></table></div>"
      ]
     },
     "metadata": {
      "application/vnd.databricks.v1+output": {
       "addedWidgets": {},
       "aggData": [],
       "aggError": "",
       "aggOverflow": false,
       "aggSchema": [],
       "aggSeriesLimitReached": false,
       "aggType": "",
       "arguments": {},
       "columnCustomDisplayInfos": {},
       "data": [
        [
         1,
         "Data Engineering",
         "Funding Circle",
         "2019-01-15"
        ],
        [
         2,
         "Data Engineering",
         "Funding Circle",
         "2018-11-19"
        ],
        [
         3,
         "Data Analytics",
         "Funding Circle",
         "2018-11-19"
        ],
        [
         4,
         "Data Analytics",
         "Funding Circle",
         "2018-12-16"
        ]
       ],
       "datasetInfos": [],
       "dbfsResultPath": null,
       "isJsonSchema": true,
       "metadata": {},
       "overflow": false,
       "plotOptions": {
        "customPlotOptions": {},
        "displayType": "table",
        "pivotAggregation": null,
        "pivotColumns": null,
        "xColumns": null,
        "yColumns": null
       },
       "removedWidgets": [],
       "schema": [
        {
         "metadata": "{}",
         "name": "Employee_ID",
         "type": "\"integer\""
        },
        {
         "metadata": "{}",
         "name": "DepartmentName",
         "type": "\"string\""
        },
        {
         "metadata": "{}",
         "name": "Client",
         "type": "\"string\""
        },
        {
         "metadata": "{}",
         "name": "OnboardedDate",
         "type": "\"date\""
        }
       ],
       "type": "table"
      }
     },
     "output_type": "display_data"
    }
   ],
   "source": [
    "display(department_df1)"
   ]
  },
  {
   "cell_type": "code",
   "execution_count": 0,
   "metadata": {
    "application/vnd.databricks.v1+cell": {
     "cellMetadata": {
      "byteLimit": 2048000,
      "rowLimit": 10000
     },
     "inputWidgets": {},
     "nuid": "5dfbd8c4-cf22-439b-ab6d-286043f23c88",
     "showTitle": false,
     "title": ""
    }
   },
   "outputs": [
    {
     "output_type": "stream",
     "name": "stdout",
     "output_type": "stream",
     "text": [
      "root\n |-- Employee_ID: integer (nullable = true)\n |-- DepartmentName: string (nullable = true)\n |-- Client: string (nullable = true)\n |-- OnboardedDate: date (nullable = true)\n\n"
     ]
    }
   ],
   "source": [
    "department_df1.printSchema()"
   ]
  },
  {
   "cell_type": "code",
   "execution_count": 0,
   "metadata": {
    "application/vnd.databricks.v1+cell": {
     "cellMetadata": {
      "byteLimit": 2048000,
      "rowLimit": 10000
     },
     "inputWidgets": {},
     "nuid": "7ed2cdab-9254-4ed6-814c-5b48314c338f",
     "showTitle": false,
     "title": ""
    }
   },
   "outputs": [],
   "source": [
    "department_df2=(spark\n",
    "               .read\n",
    "               .format(\"CSV\")\n",
    "               .option(\"header\",\"true\")\n",
    "               .schema(\"EmployeeId int, Department_name string, Cleint string, OnboardedDate date\")\n",
    "               .load(\"/FileStore/tables/Departments_csv/department.csv\"))"
   ]
  },
  {
   "cell_type": "code",
   "execution_count": 0,
   "metadata": {
    "application/vnd.databricks.v1+cell": {
     "cellMetadata": {
      "byteLimit": 2048000,
      "rowLimit": 10000
     },
     "inputWidgets": {},
     "nuid": "15fa880c-3320-4dcc-ad2e-8f3b929200de",
     "showTitle": false,
     "title": ""
    }
   },
   "outputs": [
    {
     "output_type": "display_data",
     "data": {
      "text/html": [
       "<style scoped>\n",
       "  .table-result-container {\n",
       "    max-height: 300px;\n",
       "    overflow: auto;\n",
       "  }\n",
       "  table, th, td {\n",
       "    border: 1px solid black;\n",
       "    border-collapse: collapse;\n",
       "  }\n",
       "  th, td {\n",
       "    padding: 5px;\n",
       "  }\n",
       "  th {\n",
       "    text-align: left;\n",
       "  }\n",
       "</style><div class='table-result-container'><table class='table-result'><thead style='background-color: white'><tr><th>EmployeeId</th><th>Department_name</th><th>Cleint</th><th>OnboardedDate</th></tr></thead><tbody><tr><td>1</td><td>Data Engineering</td><td>Funding Circle</td><td>2019-01-15</td></tr><tr><td>2</td><td>Data Engineering</td><td>Funding Circle</td><td>2018-11-19</td></tr><tr><td>3</td><td>Data Analytics</td><td>Funding Circle</td><td>2018-11-19</td></tr><tr><td>4</td><td>Data Analytics</td><td>Funding Circle</td><td>2018-12-16</td></tr></tbody></table></div>"
      ]
     },
     "metadata": {
      "application/vnd.databricks.v1+output": {
       "addedWidgets": {},
       "aggData": [],
       "aggError": "",
       "aggOverflow": false,
       "aggSchema": [],
       "aggSeriesLimitReached": false,
       "aggType": "",
       "arguments": {},
       "columnCustomDisplayInfos": {},
       "data": [
        [
         1,
         "Data Engineering",
         "Funding Circle",
         "2019-01-15"
        ],
        [
         2,
         "Data Engineering",
         "Funding Circle",
         "2018-11-19"
        ],
        [
         3,
         "Data Analytics",
         "Funding Circle",
         "2018-11-19"
        ],
        [
         4,
         "Data Analytics",
         "Funding Circle",
         "2018-12-16"
        ]
       ],
       "datasetInfos": [],
       "dbfsResultPath": null,
       "isJsonSchema": true,
       "metadata": {},
       "overflow": false,
       "plotOptions": {
        "customPlotOptions": {},
        "displayType": "table",
        "pivotAggregation": null,
        "pivotColumns": null,
        "xColumns": null,
        "yColumns": null
       },
       "removedWidgets": [],
       "schema": [
        {
         "metadata": "{}",
         "name": "EmployeeId",
         "type": "\"integer\""
        },
        {
         "metadata": "{}",
         "name": "Department_name",
         "type": "\"string\""
        },
        {
         "metadata": "{}",
         "name": "Cleint",
         "type": "\"string\""
        },
        {
         "metadata": "{}",
         "name": "OnboardedDate",
         "type": "\"date\""
        }
       ],
       "type": "table"
      }
     },
     "output_type": "display_data"
    }
   ],
   "source": [
    "display(department_df2)"
   ]
  },
  {
   "cell_type": "code",
   "execution_count": 0,
   "metadata": {
    "application/vnd.databricks.v1+cell": {
     "cellMetadata": {
      "byteLimit": 2048000,
      "rowLimit": 10000
     },
     "inputWidgets": {},
     "nuid": "6a616718-1d37-45a3-be57-8b6c98261291",
     "showTitle": false,
     "title": ""
    }
   },
   "outputs": [
    {
     "output_type": "stream",
     "name": "stdout",
     "output_type": "stream",
     "text": [
      "root\n |-- EmployeeId: integer (nullable = true)\n |-- Department_name: string (nullable = true)\n |-- Cleint: string (nullable = true)\n |-- OnboardedDate: date (nullable = true)\n\n"
     ]
    }
   ],
   "source": [
    "department_df2.printSchema()"
   ]
  },
  {
   "cell_type": "code",
   "execution_count": 0,
   "metadata": {
    "application/vnd.databricks.v1+cell": {
     "cellMetadata": {
      "byteLimit": 2048000,
      "rowLimit": 10000
     },
     "inputWidgets": {},
     "nuid": "c5e26337-c0e5-4c97-8e86-5463fce6c1d8",
     "showTitle": false,
     "title": ""
    }
   },
   "outputs": [
    {
     "output_type": "display_data",
     "data": {
      "text/html": [
       "<style scoped>\n",
       "  .ansiout {\n",
       "    display: block;\n",
       "    unicode-bidi: embed;\n",
       "    white-space: pre-wrap;\n",
       "    word-wrap: break-word;\n",
       "    word-break: break-all;\n",
       "    font-family: \"Menlo\", \"Monaco\", \"Consolas\", \"Ubuntu Mono\", \"Source Code Pro\", monospace;\n",
       "    font-size: 13px;\n",
       "    color: #555;\n",
       "    margin-left: 4px;\n",
       "    line-height: 19px;\n",
       "  }\n",
       "</style>\n",
       "<div class=\"ansiout\">{\r\n",
       "  &quot;menu&quot;: {\r\n",
       "    &quot;id&quot;: &quot;file&quot;,\r\n",
       "    &quot;value&quot;: &quot;File&quot;,\r\n",
       "    &quot;popup&quot;: {\r\n",
       "      &quot;menuitem&quot;: [\r\n",
       "        {&quot;value&quot;: &quot;New&quot;, &quot;onclick&quot;: &quot;CreateNewDoc()&quot;},\r\n",
       "        {&quot;value&quot;: &quot;Open&quot;, &quot;onclick&quot;: &quot;OpenDoc()&quot;},\r\n",
       "        {&quot;value&quot;: &quot;Close&quot;, &quot;onclick&quot;: &quot;CloseDoc()&quot;}\r\n",
       "      ]\r\n",
       "    }\r\n",
       "  }\r\n",
       "}\n",
       "</div>"
      ]
     },
     "metadata": {
      "application/vnd.databricks.v1+output": {
       "addedWidgets": {},
       "arguments": {},
       "data": "<div class=\"ansiout\">{\r\n  &quot;menu&quot;: {\r\n    &quot;id&quot;: &quot;file&quot;,\r\n    &quot;value&quot;: &quot;File&quot;,\r\n    &quot;popup&quot;: {\r\n      &quot;menuitem&quot;: [\r\n        {&quot;value&quot;: &quot;New&quot;, &quot;onclick&quot;: &quot;CreateNewDoc()&quot;},\r\n        {&quot;value&quot;: &quot;Open&quot;, &quot;onclick&quot;: &quot;OpenDoc()&quot;},\r\n        {&quot;value&quot;: &quot;Close&quot;, &quot;onclick&quot;: &quot;CloseDoc()&quot;}\r\n      ]\r\n    }\r\n  }\r\n}\n</div>",
       "datasetInfos": [],
       "metadata": {
        "isDbfsCommandResult": false
       },
       "removedWidgets": [],
       "type": "html"
      }
     },
     "output_type": "display_data"
    }
   ],
   "source": [
    "%fs head /FileStore/tables/json/menu.json"
   ]
  },
  {
   "cell_type": "code",
   "execution_count": 0,
   "metadata": {
    "application/vnd.databricks.v1+cell": {
     "cellMetadata": {
      "byteLimit": 2048000,
      "rowLimit": 10000
     },
     "inputWidgets": {},
     "nuid": "fc542053-4547-457e-ae82-bd0099e011a8",
     "showTitle": false,
     "title": ""
    }
   },
   "outputs": [],
   "source": [
    "menu_df=(spark\n",
    "         .read\n",
    "         .format(\"json\")\n",
    "         .option(\"multiline\",\"true\")\n",
    "         .load(\"/FileStore/tables/json/menu.json\"))"
   ]
  },
  {
   "cell_type": "code",
   "execution_count": 0,
   "metadata": {
    "application/vnd.databricks.v1+cell": {
     "cellMetadata": {
      "byteLimit": 2048000,
      "rowLimit": 10000
     },
     "inputWidgets": {},
     "nuid": "30c95252-15e8-42b6-b83e-d99e77b5eec0",
     "showTitle": false,
     "title": ""
    }
   },
   "outputs": [
    {
     "output_type": "display_data",
     "data": {
      "text/html": [
       "<style scoped>\n",
       "  .table-result-container {\n",
       "    max-height: 300px;\n",
       "    overflow: auto;\n",
       "  }\n",
       "  table, th, td {\n",
       "    border: 1px solid black;\n",
       "    border-collapse: collapse;\n",
       "  }\n",
       "  th, td {\n",
       "    padding: 5px;\n",
       "  }\n",
       "  th {\n",
       "    text-align: left;\n",
       "  }\n",
       "</style><div class='table-result-container'><table class='table-result'><thead style='background-color: white'><tr><th>id</th><th>popup</th><th>value</th></tr></thead><tbody><tr><td>file</td><td>List(List(List(CreateNewDoc(), New), List(OpenDoc(), Open), List(CloseDoc(), Close)))</td><td>File</td></tr></tbody></table></div>"
      ]
     },
     "metadata": {
      "application/vnd.databricks.v1+output": {
       "addedWidgets": {},
       "aggData": [],
       "aggError": "",
       "aggOverflow": false,
       "aggSchema": [],
       "aggSeriesLimitReached": false,
       "aggType": "",
       "arguments": {},
       "columnCustomDisplayInfos": {},
       "data": [
        [
         "file",
         [
          [
           [
            "CreateNewDoc()",
            "New"
           ],
           [
            "OpenDoc()",
            "Open"
           ],
           [
            "CloseDoc()",
            "Close"
           ]
          ]
         ],
         "File"
        ]
       ],
       "datasetInfos": [],
       "dbfsResultPath": null,
       "isJsonSchema": true,
       "metadata": {},
       "overflow": false,
       "plotOptions": {
        "customPlotOptions": {},
        "displayType": "table",
        "pivotAggregation": null,
        "pivotColumns": null,
        "xColumns": null,
        "yColumns": null
       },
       "removedWidgets": [],
       "schema": [
        {
         "metadata": "{}",
         "name": "id",
         "type": "\"string\""
        },
        {
         "metadata": "{}",
         "name": "popup",
         "type": "{\"type\":\"struct\",\"fields\":[{\"name\":\"menuitem\",\"type\":{\"type\":\"array\",\"elementType\":{\"type\":\"struct\",\"fields\":[{\"name\":\"onclick\",\"type\":\"string\",\"nullable\":true,\"metadata\":{}},{\"name\":\"value\",\"type\":\"string\",\"nullable\":true,\"metadata\":{}}]},\"containsNull\":true},\"nullable\":true,\"metadata\":{}}]}"
        },
        {
         "metadata": "{}",
         "name": "value",
         "type": "\"string\""
        }
       ],
       "type": "table"
      }
     },
     "output_type": "display_data"
    }
   ],
   "source": [
    "menu_df1=menu_df.select(\"menu.*\")\n",
    "display(menu_df1)"
   ]
  },
  {
   "cell_type": "code",
   "execution_count": 0,
   "metadata": {
    "application/vnd.databricks.v1+cell": {
     "cellMetadata": {
      "byteLimit": 2048000,
      "rowLimit": 10000
     },
     "inputWidgets": {},
     "nuid": "ce57c015-3f58-4d0d-9266-d89c99734633",
     "showTitle": false,
     "title": ""
    }
   },
   "outputs": [
    {
     "output_type": "display_data",
     "data": {
      "text/html": [
       "<style scoped>\n",
       "  .table-result-container {\n",
       "    max-height: 300px;\n",
       "    overflow: auto;\n",
       "  }\n",
       "  table, th, td {\n",
       "    border: 1px solid black;\n",
       "    border-collapse: collapse;\n",
       "  }\n",
       "  th, td {\n",
       "    padding: 5px;\n",
       "  }\n",
       "  th {\n",
       "    text-align: left;\n",
       "  }\n",
       "</style><div class='table-result-container'><table class='table-result'><thead style='background-color: white'><tr><th>id</th><th>menuitem</th><th>value</th></tr></thead><tbody><tr><td>file</td><td>List(List(CreateNewDoc(), New), List(OpenDoc(), Open), List(CloseDoc(), Close))</td><td>File</td></tr></tbody></table></div>"
      ]
     },
     "metadata": {
      "application/vnd.databricks.v1+output": {
       "addedWidgets": {},
       "aggData": [],
       "aggError": "",
       "aggOverflow": false,
       "aggSchema": [],
       "aggSeriesLimitReached": false,
       "aggType": "",
       "arguments": {},
       "columnCustomDisplayInfos": {},
       "data": [
        [
         "file",
         [
          [
           "CreateNewDoc()",
           "New"
          ],
          [
           "OpenDoc()",
           "Open"
          ],
          [
           "CloseDoc()",
           "Close"
          ]
         ],
         "File"
        ]
       ],
       "datasetInfos": [],
       "dbfsResultPath": null,
       "isJsonSchema": true,
       "metadata": {},
       "overflow": false,
       "plotOptions": {
        "customPlotOptions": {},
        "displayType": "table",
        "pivotAggregation": null,
        "pivotColumns": null,
        "xColumns": null,
        "yColumns": null
       },
       "removedWidgets": [],
       "schema": [
        {
         "metadata": "{}",
         "name": "id",
         "type": "\"string\""
        },
        {
         "metadata": "{}",
         "name": "menuitem",
         "type": "{\"type\":\"array\",\"elementType\":{\"type\":\"struct\",\"fields\":[{\"name\":\"onclick\",\"type\":\"string\",\"nullable\":true,\"metadata\":{}},{\"name\":\"value\",\"type\":\"string\",\"nullable\":true,\"metadata\":{}}]},\"containsNull\":true}"
        },
        {
         "metadata": "{}",
         "name": "value",
         "type": "\"string\""
        }
       ],
       "type": "table"
      }
     },
     "output_type": "display_data"
    }
   ],
   "source": [
    "menu_df2=menu_df1.select(\"id\",\"popup.*\",\"value\")\n",
    "display(menu_df2)"
   ]
  },
  {
   "cell_type": "code",
   "execution_count": 0,
   "metadata": {
    "application/vnd.databricks.v1+cell": {
     "cellMetadata": {
      "byteLimit": 2048000,
      "rowLimit": 10000
     },
     "inputWidgets": {},
     "nuid": "d2aeb6c8-35ce-4d5a-af93-47a4e18035a3",
     "showTitle": false,
     "title": ""
    }
   },
   "outputs": [
    {
     "output_type": "display_data",
     "data": {
      "text/html": [
       "<style scoped>\n",
       "  .table-result-container {\n",
       "    max-height: 300px;\n",
       "    overflow: auto;\n",
       "  }\n",
       "  table, th, td {\n",
       "    border: 1px solid black;\n",
       "    border-collapse: collapse;\n",
       "  }\n",
       "  th, td {\n",
       "    padding: 5px;\n",
       "  }\n",
       "  th {\n",
       "    text-align: left;\n",
       "  }\n",
       "</style><div class='table-result-container'><table class='table-result'><thead style='background-color: white'><tr><th>id</th><th>menuitem</th><th>value</th></tr></thead><tbody><tr><td>file</td><td>List(CreateNewDoc(), New)</td><td>File</td></tr><tr><td>file</td><td>List(OpenDoc(), Open)</td><td>File</td></tr><tr><td>file</td><td>List(CloseDoc(), Close)</td><td>File</td></tr></tbody></table></div>"
      ]
     },
     "metadata": {
      "application/vnd.databricks.v1+output": {
       "addedWidgets": {},
       "aggData": [],
       "aggError": "",
       "aggOverflow": false,
       "aggSchema": [],
       "aggSeriesLimitReached": false,
       "aggType": "",
       "arguments": {},
       "columnCustomDisplayInfos": {},
       "data": [
        [
         "file",
         [
          "CreateNewDoc()",
          "New"
         ],
         "File"
        ],
        [
         "file",
         [
          "OpenDoc()",
          "Open"
         ],
         "File"
        ],
        [
         "file",
         [
          "CloseDoc()",
          "Close"
         ],
         "File"
        ]
       ],
       "datasetInfos": [],
       "dbfsResultPath": null,
       "isJsonSchema": true,
       "metadata": {},
       "overflow": false,
       "plotOptions": {
        "customPlotOptions": {},
        "displayType": "table",
        "pivotAggregation": null,
        "pivotColumns": null,
        "xColumns": null,
        "yColumns": null
       },
       "removedWidgets": [],
       "schema": [
        {
         "metadata": "{}",
         "name": "id",
         "type": "\"string\""
        },
        {
         "metadata": "{}",
         "name": "menuitem",
         "type": "{\"type\":\"struct\",\"fields\":[{\"name\":\"onclick\",\"type\":\"string\",\"nullable\":true,\"metadata\":{}},{\"name\":\"value\",\"type\":\"string\",\"nullable\":true,\"metadata\":{}}]}"
        },
        {
         "metadata": "{}",
         "name": "value",
         "type": "\"string\""
        }
       ],
       "type": "table"
      }
     },
     "output_type": "display_data"
    }
   ],
   "source": [
    "from pyspark.sql.functions import explode\n",
    "menu_df3=menu_df2.select(\"id\",explode(\"menuitem\").alias(\"menuitem\"),\"value\")\n",
    "display(menu_df3)"
   ]
  },
  {
   "cell_type": "code",
   "execution_count": 0,
   "metadata": {
    "application/vnd.databricks.v1+cell": {
     "cellMetadata": {
      "byteLimit": 2048000,
      "rowLimit": 10000
     },
     "inputWidgets": {},
     "nuid": "83e31282-41d7-453d-aa5e-2a0eda473768",
     "showTitle": false,
     "title": ""
    }
   },
   "outputs": [
    {
     "output_type": "display_data",
     "data": {
      "text/html": [
       "<style scoped>\n",
       "  .table-result-container {\n",
       "    max-height: 300px;\n",
       "    overflow: auto;\n",
       "  }\n",
       "  table, th, td {\n",
       "    border: 1px solid black;\n",
       "    border-collapse: collapse;\n",
       "  }\n",
       "  th, td {\n",
       "    padding: 5px;\n",
       "  }\n",
       "  th {\n",
       "    text-align: left;\n",
       "  }\n",
       "</style><div class='table-result-container'><table class='table-result'><thead style='background-color: white'><tr><th>id</th><th>onclick</th><th>value</th><th>value</th></tr></thead><tbody><tr><td>file</td><td>CreateNewDoc()</td><td>New</td><td>File</td></tr><tr><td>file</td><td>OpenDoc()</td><td>Open</td><td>File</td></tr><tr><td>file</td><td>CloseDoc()</td><td>Close</td><td>File</td></tr></tbody></table></div>"
      ]
     },
     "metadata": {
      "application/vnd.databricks.v1+output": {
       "addedWidgets": {},
       "aggData": [],
       "aggError": "",
       "aggOverflow": false,
       "aggSchema": [],
       "aggSeriesLimitReached": false,
       "aggType": "",
       "arguments": {},
       "columnCustomDisplayInfos": {},
       "data": [
        [
         "file",
         "CreateNewDoc()",
         "New",
         "File"
        ],
        [
         "file",
         "OpenDoc()",
         "Open",
         "File"
        ],
        [
         "file",
         "CloseDoc()",
         "Close",
         "File"
        ]
       ],
       "datasetInfos": [],
       "dbfsResultPath": null,
       "isJsonSchema": true,
       "metadata": {},
       "overflow": false,
       "plotOptions": {
        "customPlotOptions": {},
        "displayType": "table",
        "pivotAggregation": null,
        "pivotColumns": null,
        "xColumns": null,
        "yColumns": null
       },
       "removedWidgets": [],
       "schema": [
        {
         "metadata": "{}",
         "name": "id",
         "type": "\"string\""
        },
        {
         "metadata": "{}",
         "name": "onclick",
         "type": "\"string\""
        },
        {
         "metadata": "{}",
         "name": "value",
         "type": "\"string\""
        },
        {
         "metadata": "{}",
         "name": "value",
         "type": "\"string\""
        }
       ],
       "type": "table"
      }
     },
     "output_type": "display_data"
    }
   ],
   "source": [
    "menu_df4=menu_df3.select(\"id\",\"menuitem.*\",\"value\")\n",
    "display(menu_df4)"
   ]
  },
  {
   "cell_type": "code",
   "execution_count": 0,
   "metadata": {
    "application/vnd.databricks.v1+cell": {
     "cellMetadata": {
      "byteLimit": 2048000,
      "rowLimit": 10000
     },
     "inputWidgets": {},
     "nuid": "164a906e-d182-4402-8024-a183c0e475ec",
     "showTitle": false,
     "title": ""
    }
   },
   "outputs": [
    {
     "output_type": "display_data",
     "data": {
      "text/html": [
       "<style scoped>\n",
       "  .ansiout {\n",
       "    display: block;\n",
       "    unicode-bidi: embed;\n",
       "    white-space: pre-wrap;\n",
       "    word-wrap: break-word;\n",
       "    word-break: break-all;\n",
       "    font-family: \"Menlo\", \"Monaco\", \"Consolas\", \"Ubuntu Mono\", \"Source Code Pro\", monospace;\n",
       "    font-size: 13px;\n",
       "    color: #555;\n",
       "    margin-left: 4px;\n",
       "    line-height: 19px;\n",
       "  }\n",
       "</style>\n",
       "<div class=\"ansiout\">[\r\n",
       "   {\r\n",
       "      &quot;name&quot;:&quot;Ram&quot;,\r\n",
       "      &quot;Education&quot;:[\r\n",
       "         {\r\n",
       "            &quot;Qualification&quot;:&quot;BE&quot;,\r\n",
       "            &quot;year&quot;:2011\r\n",
       "         },\r\n",
       "         {\r\n",
       "            &quot;Qualification&quot;:&quot;ME&quot;,\r\n",
       "            &quot;year&quot;:2013\r\n",
       "         }\r\n",
       "      ]\r\n",
       "   },\r\n",
       "   {\r\n",
       "      &quot;name&quot;:&quot;Rohit&quot;,\r\n",
       "      &quot;Education&quot;:[\r\n",
       "         {\r\n",
       "            &quot;Qualification&quot;:&quot;BE&quot;,\r\n",
       "            &quot;year&quot;:2010\r\n",
       "         }\r\n",
       "      ]\r\n",
       "   }\r\n",
       "]\n",
       "</div>"
      ]
     },
     "metadata": {
      "application/vnd.databricks.v1+output": {
       "addedWidgets": {},
       "arguments": {},
       "data": "<div class=\"ansiout\">[\r\n   {\r\n      &quot;name&quot;:&quot;Ram&quot;,\r\n      &quot;Education&quot;:[\r\n         {\r\n            &quot;Qualification&quot;:&quot;BE&quot;,\r\n            &quot;year&quot;:2011\r\n         },\r\n         {\r\n            &quot;Qualification&quot;:&quot;ME&quot;,\r\n            &quot;year&quot;:2013\r\n         }\r\n      ]\r\n   },\r\n   {\r\n      &quot;name&quot;:&quot;Rohit&quot;,\r\n      &quot;Education&quot;:[\r\n         {\r\n            &quot;Qualification&quot;:&quot;BE&quot;,\r\n            &quot;year&quot;:2010\r\n         }\r\n      ]\r\n   }\r\n]\n</div>",
       "datasetInfos": [],
       "metadata": {
        "isDbfsCommandResult": false
       },
       "removedWidgets": [],
       "type": "html"
      }
     },
     "output_type": "display_data"
    }
   ],
   "source": [
    "%fs head /FileStore/tables/json/students_nested_json_data.json"
   ]
  },
  {
   "cell_type": "code",
   "execution_count": 0,
   "metadata": {
    "application/vnd.databricks.v1+cell": {
     "cellMetadata": {
      "byteLimit": 2048000,
      "rowLimit": 10000
     },
     "inputWidgets": {},
     "nuid": "48cf1070-5676-4b55-b16a-25450ee26052",
     "showTitle": false,
     "title": ""
    }
   },
   "outputs": [
    {
     "output_type": "display_data",
     "data": {
      "text/html": [
       "<style scoped>\n",
       "  .table-result-container {\n",
       "    max-height: 300px;\n",
       "    overflow: auto;\n",
       "  }\n",
       "  table, th, td {\n",
       "    border: 1px solid black;\n",
       "    border-collapse: collapse;\n",
       "  }\n",
       "  th, td {\n",
       "    padding: 5px;\n",
       "  }\n",
       "  th {\n",
       "    text-align: left;\n",
       "  }\n",
       "</style><div class='table-result-container'><table class='table-result'><thead style='background-color: white'><tr><th>Education</th><th>name</th></tr></thead><tbody><tr><td>List(List(BE, 2011), List(ME, 2013))</td><td>Ram</td></tr><tr><td>List(List(BE, 2010))</td><td>Rohit</td></tr></tbody></table></div>"
      ]
     },
     "metadata": {
      "application/vnd.databricks.v1+output": {
       "addedWidgets": {},
       "aggData": [],
       "aggError": "",
       "aggOverflow": false,
       "aggSchema": [],
       "aggSeriesLimitReached": false,
       "aggType": "",
       "arguments": {},
       "columnCustomDisplayInfos": {},
       "data": [
        [
         [
          [
           "BE",
           2011
          ],
          [
           "ME",
           2013
          ]
         ],
         "Ram"
        ],
        [
         [
          [
           "BE",
           2010
          ]
         ],
         "Rohit"
        ]
       ],
       "datasetInfos": [],
       "dbfsResultPath": null,
       "isJsonSchema": true,
       "metadata": {},
       "overflow": false,
       "plotOptions": {
        "customPlotOptions": {},
        "displayType": "table",
        "pivotAggregation": null,
        "pivotColumns": null,
        "xColumns": null,
        "yColumns": null
       },
       "removedWidgets": [],
       "schema": [
        {
         "metadata": "{}",
         "name": "Education",
         "type": "{\"type\":\"array\",\"elementType\":{\"type\":\"struct\",\"fields\":[{\"name\":\"Qualification\",\"type\":\"string\",\"nullable\":true,\"metadata\":{}},{\"name\":\"year\",\"type\":\"long\",\"nullable\":true,\"metadata\":{}}]},\"containsNull\":true}"
        },
        {
         "metadata": "{}",
         "name": "name",
         "type": "\"string\""
        }
       ],
       "type": "table"
      }
     },
     "output_type": "display_data"
    }
   ],
   "source": [
    "student_df=(spark\n",
    "            .read\n",
    "            .format(\"json\")\n",
    "            .option(\"multiline\",\"true\")\n",
    "            .load(\"/FileStore/tables/json/students_nested_json_data.json\"))\n",
    "display(student_df)"
   ]
  },
  {
   "cell_type": "code",
   "execution_count": 0,
   "metadata": {
    "application/vnd.databricks.v1+cell": {
     "cellMetadata": {
      "byteLimit": 2048000,
      "rowLimit": 10000
     },
     "inputWidgets": {},
     "nuid": "f6650d9f-929e-44f1-b00b-885b7fcc9c7f",
     "showTitle": false,
     "title": ""
    }
   },
   "outputs": [
    {
     "output_type": "display_data",
     "data": {
      "text/html": [
       "<style scoped>\n",
       "  .table-result-container {\n",
       "    max-height: 300px;\n",
       "    overflow: auto;\n",
       "  }\n",
       "  table, th, td {\n",
       "    border: 1px solid black;\n",
       "    border-collapse: collapse;\n",
       "  }\n",
       "  th, td {\n",
       "    padding: 5px;\n",
       "  }\n",
       "  th {\n",
       "    text-align: left;\n",
       "  }\n",
       "</style><div class='table-result-container'><table class='table-result'><thead style='background-color: white'><tr><th>name</th><th>Education</th></tr></thead><tbody><tr><td>Ram</td><td>List(BE, 2011)</td></tr><tr><td>Ram</td><td>List(ME, 2013)</td></tr><tr><td>Rohit</td><td>List(BE, 2010)</td></tr></tbody></table></div>"
      ]
     },
     "metadata": {
      "application/vnd.databricks.v1+output": {
       "addedWidgets": {},
       "aggData": [],
       "aggError": "",
       "aggOverflow": false,
       "aggSchema": [],
       "aggSeriesLimitReached": false,
       "aggType": "",
       "arguments": {},
       "columnCustomDisplayInfos": {},
       "data": [
        [
         "Ram",
         [
          "BE",
          2011
         ]
        ],
        [
         "Ram",
         [
          "ME",
          2013
         ]
        ],
        [
         "Rohit",
         [
          "BE",
          2010
         ]
        ]
       ],
       "datasetInfos": [],
       "dbfsResultPath": null,
       "isJsonSchema": true,
       "metadata": {},
       "overflow": false,
       "plotOptions": {
        "customPlotOptions": {},
        "displayType": "table",
        "pivotAggregation": null,
        "pivotColumns": null,
        "xColumns": null,
        "yColumns": null
       },
       "removedWidgets": [],
       "schema": [
        {
         "metadata": "{}",
         "name": "name",
         "type": "\"string\""
        },
        {
         "metadata": "{}",
         "name": "Education",
         "type": "{\"type\":\"struct\",\"fields\":[{\"name\":\"Qualification\",\"type\":\"string\",\"nullable\":true,\"metadata\":{}},{\"name\":\"year\",\"type\":\"long\",\"nullable\":true,\"metadata\":{}}]}"
        }
       ],
       "type": "table"
      }
     },
     "output_type": "display_data"
    }
   ],
   "source": [
    "from pyspark.sql.functions import explode \n",
    "student_df=student_df.select(\"name\",explode(\"Education\").alias(\"Education\"))\n",
    "display(student_df)"
   ]
  },
  {
   "cell_type": "code",
   "execution_count": 0,
   "metadata": {
    "application/vnd.databricks.v1+cell": {
     "cellMetadata": {
      "byteLimit": 2048000,
      "rowLimit": 10000
     },
     "inputWidgets": {},
     "nuid": "a6fce831-e80a-402e-bc32-e2d38918c262",
     "showTitle": false,
     "title": ""
    }
   },
   "outputs": [
    {
     "output_type": "display_data",
     "data": {
      "text/html": [
       "<style scoped>\n",
       "  .table-result-container {\n",
       "    max-height: 300px;\n",
       "    overflow: auto;\n",
       "  }\n",
       "  table, th, td {\n",
       "    border: 1px solid black;\n",
       "    border-collapse: collapse;\n",
       "  }\n",
       "  th, td {\n",
       "    padding: 5px;\n",
       "  }\n",
       "  th {\n",
       "    text-align: left;\n",
       "  }\n",
       "</style><div class='table-result-container'><table class='table-result'><thead style='background-color: white'><tr><th>name</th><th>Qualification</th><th>year</th></tr></thead><tbody><tr><td>Ram</td><td>BE</td><td>2011</td></tr><tr><td>Ram</td><td>ME</td><td>2013</td></tr><tr><td>Rohit</td><td>BE</td><td>2010</td></tr></tbody></table></div>"
      ]
     },
     "metadata": {
      "application/vnd.databricks.v1+output": {
       "addedWidgets": {},
       "aggData": [],
       "aggError": "",
       "aggOverflow": false,
       "aggSchema": [],
       "aggSeriesLimitReached": false,
       "aggType": "",
       "arguments": {},
       "columnCustomDisplayInfos": {},
       "data": [
        [
         "Ram",
         "BE",
         2011
        ],
        [
         "Ram",
         "ME",
         2013
        ],
        [
         "Rohit",
         "BE",
         2010
        ]
       ],
       "datasetInfos": [],
       "dbfsResultPath": null,
       "isJsonSchema": true,
       "metadata": {},
       "overflow": false,
       "plotOptions": {
        "customPlotOptions": {},
        "displayType": "table",
        "pivotAggregation": null,
        "pivotColumns": null,
        "xColumns": null,
        "yColumns": null
       },
       "removedWidgets": [],
       "schema": [
        {
         "metadata": "{}",
         "name": "name",
         "type": "\"string\""
        },
        {
         "metadata": "{}",
         "name": "Qualification",
         "type": "\"string\""
        },
        {
         "metadata": "{}",
         "name": "year",
         "type": "\"long\""
        }
       ],
       "type": "table"
      }
     },
     "output_type": "display_data"
    }
   ],
   "source": [
    "student_df=student_df.select(\"name\",\"Education.*\")\n",
    "display(student_df)"
   ]
  },
  {
   "cell_type": "code",
   "execution_count": 0,
   "metadata": {
    "application/vnd.databricks.v1+cell": {
     "cellMetadata": {
      "byteLimit": 2048000,
      "rowLimit": 10000
     },
     "inputWidgets": {},
     "nuid": "00dd5431-e3e0-4180-94f3-044bb5895bea",
     "showTitle": false,
     "title": ""
    }
   },
   "outputs": [
    {
     "output_type": "display_data",
     "data": {
      "text/html": [
       "<style scoped>\n",
       "  .ansiout {\n",
       "    display: block;\n",
       "    unicode-bidi: embed;\n",
       "    white-space: pre-wrap;\n",
       "    word-wrap: break-word;\n",
       "    word-break: break-all;\n",
       "    font-family: \"Menlo\", \"Monaco\", \"Consolas\", \"Ubuntu Mono\", \"Source Code Pro\", monospace;\n",
       "    font-size: 13px;\n",
       "    color: #555;\n",
       "    margin-left: 4px;\n",
       "    line-height: 19px;\n",
       "  }\n",
       "</style>\n",
       "<div class=\"ansiout\">hello world\r\n",
       "how are you\r\n",
       "hello world\r\n",
       "I am doing fine\r\n",
       "hello again\r\n",
       "hope you are fine\r\n",
       "hello world\r\n",
       "hello world\r\n",
       "I am also fine\n",
       "</div>"
      ]
     },
     "metadata": {
      "application/vnd.databricks.v1+output": {
       "addedWidgets": {},
       "arguments": {},
       "data": "<div class=\"ansiout\">hello world\r\nhow are you\r\nhello world\r\nI am doing fine\r\nhello again\r\nhope you are fine\r\nhello world\r\nhello world\r\nI am also fine\n</div>",
       "datasetInfos": [],
       "metadata": {
        "isDbfsCommandResult": false
       },
       "removedWidgets": [],
       "type": "html"
      }
     },
     "output_type": "display_data"
    }
   ],
   "source": [
    "%fs head /FileStore/tables/wordCount/sample.txt"
   ]
  },
  {
   "cell_type": "code",
   "execution_count": 0,
   "metadata": {
    "application/vnd.databricks.v1+cell": {
     "cellMetadata": {
      "byteLimit": 2048000,
      "rowLimit": 10000
     },
     "inputWidgets": {},
     "nuid": "a3a958c7-9d5d-428d-9adb-cf349aab85b3",
     "showTitle": false,
     "title": ""
    }
   },
   "outputs": [
    {
     "output_type": "display_data",
     "data": {
      "text/html": [
       "<style scoped>\n",
       "  .table-result-container {\n",
       "    max-height: 300px;\n",
       "    overflow: auto;\n",
       "  }\n",
       "  table, th, td {\n",
       "    border: 1px solid black;\n",
       "    border-collapse: collapse;\n",
       "  }\n",
       "  th, td {\n",
       "    padding: 5px;\n",
       "  }\n",
       "  th {\n",
       "    text-align: left;\n",
       "  }\n",
       "</style><div class='table-result-container'><table class='table-result'><thead style='background-color: white'><tr><th>value</th></tr></thead><tbody><tr><td>hello world</td></tr><tr><td>how are you</td></tr><tr><td>hello world</td></tr><tr><td>I am doing fine</td></tr><tr><td>hello again</td></tr><tr><td>hope you are fine</td></tr><tr><td>hello world</td></tr><tr><td>hello world</td></tr><tr><td>I am also fine</td></tr></tbody></table></div>"
      ]
     },
     "metadata": {
      "application/vnd.databricks.v1+output": {
       "addedWidgets": {},
       "aggData": [],
       "aggError": "",
       "aggOverflow": false,
       "aggSchema": [],
       "aggSeriesLimitReached": false,
       "aggType": "",
       "arguments": {},
       "columnCustomDisplayInfos": {},
       "data": [
        [
         "hello world"
        ],
        [
         "how are you"
        ],
        [
         "hello world"
        ],
        [
         "I am doing fine"
        ],
        [
         "hello again"
        ],
        [
         "hope you are fine"
        ],
        [
         "hello world"
        ],
        [
         "hello world"
        ],
        [
         "I am also fine"
        ]
       ],
       "datasetInfos": [],
       "dbfsResultPath": null,
       "isJsonSchema": true,
       "metadata": {},
       "overflow": false,
       "plotOptions": {
        "customPlotOptions": {},
        "displayType": "table",
        "pivotAggregation": null,
        "pivotColumns": null,
        "xColumns": null,
        "yColumns": null
       },
       "removedWidgets": [],
       "schema": [
        {
         "metadata": "{}",
         "name": "value",
         "type": "\"string\""
        }
       ],
       "type": "table"
      }
     },
     "output_type": "display_data"
    }
   ],
   "source": [
    "sample_df=(spark\n",
    "           .read\n",
    "           .format(\"text\")\n",
    "           .load(\"/FileStore/tables/wordCount/sample.txt\"))\n",
    "display(sample_df)"
   ]
  },
  {
   "cell_type": "code",
   "execution_count": 0,
   "metadata": {
    "application/vnd.databricks.v1+cell": {
     "cellMetadata": {
      "byteLimit": 2048000,
      "rowLimit": 10000
     },
     "inputWidgets": {},
     "nuid": "3db665b7-53fd-4cbc-b09d-6a3f6fcf8ff9",
     "showTitle": false,
     "title": ""
    }
   },
   "outputs": [
    {
     "output_type": "display_data",
     "data": {
      "text/html": [
       "<style scoped>\n",
       "  .table-result-container {\n",
       "    max-height: 300px;\n",
       "    overflow: auto;\n",
       "  }\n",
       "  table, th, td {\n",
       "    border: 1px solid black;\n",
       "    border-collapse: collapse;\n",
       "  }\n",
       "  th, td {\n",
       "    padding: 5px;\n",
       "  }\n",
       "  th {\n",
       "    text-align: left;\n",
       "  }\n",
       "</style><div class='table-result-container'><table class='table-result'><thead style='background-color: white'><tr><th>Word</th><th>count</th></tr></thead><tbody><tr><td>hello</td><td>5</td></tr><tr><td>world</td><td>4</td></tr><tr><td>fine</td><td>3</td></tr><tr><td>you</td><td>2</td></tr><tr><td>are</td><td>2</td></tr><tr><td>I</td><td>2</td></tr><tr><td>am</td><td>2</td></tr><tr><td>hope</td><td>1</td></tr><tr><td>how</td><td>1</td></tr><tr><td>again</td><td>1</td></tr><tr><td>doing</td><td>1</td></tr><tr><td>also</td><td>1</td></tr></tbody></table></div>"
      ]
     },
     "metadata": {
      "application/vnd.databricks.v1+output": {
       "addedWidgets": {},
       "aggData": [],
       "aggError": "",
       "aggOverflow": false,
       "aggSchema": [],
       "aggSeriesLimitReached": false,
       "aggType": "",
       "arguments": {},
       "columnCustomDisplayInfos": {},
       "data": [
        [
         "hello",
         5
        ],
        [
         "world",
         4
        ],
        [
         "fine",
         3
        ],
        [
         "you",
         2
        ],
        [
         "are",
         2
        ],
        [
         "I",
         2
        ],
        [
         "am",
         2
        ],
        [
         "hope",
         1
        ],
        [
         "how",
         1
        ],
        [
         "again",
         1
        ],
        [
         "doing",
         1
        ],
        [
         "also",
         1
        ]
       ],
       "datasetInfos": [],
       "dbfsResultPath": null,
       "isJsonSchema": true,
       "metadata": {},
       "overflow": false,
       "plotOptions": {
        "customPlotOptions": {},
        "displayType": "table",
        "pivotAggregation": null,
        "pivotColumns": null,
        "xColumns": null,
        "yColumns": null
       },
       "removedWidgets": [],
       "schema": [
        {
         "metadata": "{}",
         "name": "Word",
         "type": "\"string\""
        },
        {
         "metadata": "{}",
         "name": "count",
         "type": "\"long\""
        }
       ],
       "type": "table"
      }
     },
     "output_type": "display_data"
    }
   ],
   "source": [
    "from pyspark.sql.functions import split, explode, desc\n",
    "sample_df=sample_df.select(split(\"value\",\" \").alias(\"Word\"))\n",
    "sample_df=sample_df.select(explode(\"Word\").alias(\"Word\"))\n",
    "count_df=sample_df.groupBy(\"Word\").count().orderBy(desc(\"count\"))\n",
    "display(count_df)"
   ]
  },
  {
   "cell_type": "code",
   "execution_count": 0,
   "metadata": {
    "application/vnd.databricks.v1+cell": {
     "cellMetadata": {},
     "inputWidgets": {},
     "nuid": "3d4bf486-58b8-4000-99a6-d7efbb43cc30",
     "showTitle": false,
     "title": ""
    }
   },
   "outputs": [],
   "source": []
  }
 ],
 "metadata": {
  "application/vnd.databricks.v1+notebook": {
   "dashboards": [],
   "environmentMetadata": null,
   "language": "python",
   "notebookMetadata": {
    "mostRecentlyExecutedCommandWithImplicitDF": {
     "commandId": 3446772572344751,
     "dataframes": [
      "_sqldf"
     ]
    },
    "pythonIndentUnit": 4
   },
   "notebookName": "DF Operations",
   "widgets": {}
  }
 },
 "nbformat": 4,
 "nbformat_minor": 0
}
