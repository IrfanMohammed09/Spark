{
 "cells": [
  {
   "cell_type": "markdown",
   "metadata": {
    "application/vnd.databricks.v1+cell": {
     "cellMetadata": {},
     "inputWidgets": {},
     "nuid": "b4715c60-21f9-4901-a8ee-531b5fdc9ac4",
     "showTitle": false,
     "title": ""
    }
   },
   "source": [
    "Read the file\n"
   ]
  },
  {
   "cell_type": "code",
   "execution_count": 0,
   "metadata": {
    "application/vnd.databricks.v1+cell": {
     "cellMetadata": {
      "byteLimit": 2048000,
      "rowLimit": 10000
     },
     "inputWidgets": {},
     "nuid": "e6b9f77a-8c6c-4451-b0c0-1667dd0f1ed9",
     "showTitle": false,
     "title": ""
    }
   },
   "outputs": [
    {
     "output_type": "display_data",
     "data": {
      "text/html": [
       "<style scoped>\n",
       "  .ansiout {\n",
       "    display: block;\n",
       "    unicode-bidi: embed;\n",
       "    white-space: pre-wrap;\n",
       "    word-wrap: break-word;\n",
       "    word-break: break-all;\n",
       "    font-family: \"Menlo\", \"Monaco\", \"Consolas\", \"Ubuntu Mono\", \"Source Code Pro\", monospace;\n",
       "    font-size: 13px;\n",
       "    color: #555;\n",
       "    margin-left: 4px;\n",
       "    line-height: 19px;\n",
       "  }\n",
       "</style>\n",
       "<div class=\"ansiout\">2019_rank|City|State_Code|2019_estimate|2010_Census|Change\r\n",
       "1|New York[d]|NY|8336817|8175133|0.0198\r\n",
       "2|Los Angeles|CA|3979576|3792621|0.0493\r\n",
       "3|Chicago|IL|2693976|2695598|−0.06%            \r\n",
       "4|Houston[3]|TX|2320268|2100263|0.1048\r\n",
       "5|Phoenix|AZ|1680992|1445632|0.1628\r\n",
       "6|San Antonio|TX|1547253|1327407|0.1656\r\n",
       "7|San Diego|CA|1423851|1307402|0.0891\r\n",
       "8|Dallas|TX|1343573|1197816|0.1217\r\n",
       "9|San Jose|CA|1021795|945942|0.0802\r\n",
       "10|Austin|TX|978908|790390|0.2385\r\n",
       "11|Fort Worth|TX|909585|741206|0.2272\r\n",
       "12|Columbus|OH|898553|787033|0.1417\r\n",
       "13|San Francisco[g]|CA|881549|805235|0.0948\r\n",
       "14|Denver[i]|CO|727211|600158|0.2117\r\n",
       "15|El Paso|TX|681728|649121|0.0502\r\n",
       "16|Tucson|AZ|548073|520116|0.0538\r\n",
       "17|Fresno|CA|531576|494665|0.0746\r\n",
       "18|Mesa|AZ|518012|439041|0.1799\r\n",
       "19|Sacramento|CA|513624|466488|0.101\r\n",
       "20|Colorado Springs|CO|478221|416427|0.1484\r\n",
       "21|Long Beach|CA|462628|462257|0.0008\r\n",
       "22|Oakland|CA|433031|390724|0.1083\r\n",
       "23|Arlington|TX|398854|365438|0.0914\r\n",
       "24|Bakersfield|CA|384145|347483|0.1055\r\n",
       "25|Cleveland|OH|381009|396815|−3.98%                           \r\n",
       "26|Aurora|CO|379289|325078|0.1668\r\n",
       "27|Anaheim|CA|350365|336265|0.0419\r\n",
       "28|Santa Ana|CA|332318|324528|0.024\r\n",
       "29|Riverside|CA|331360|303871|0.0905\r\n",
       "30|Corpus Christi|TX|326586|305215|0.07\r\n",
       "31|Stockton|CA|312697|291707|0.072\r\n",
       "32|Cincinnati|OH|303940|296943|0.0236\r\n",
       "33|Plano|TX|287677|259841|0.1071\r\n",
       "34|Irvine|CA|287401|212375|0.3533\r\n",
       "35|Chula Vista|CA|274492|243916|0.1254\r\n",
       "36|Toledo|OH|272779|287208|−5.02%                               \r\n",
       "37|Laredo|TX|262491|236091|0.1118\r\n",
       "38|Chandler|AZ|261165|236123|0.1061\r\n",
       "39|Lubbock|TX|258862|229573|0.1276\r\n",
       "40|Scottsdale|AZ|258069|217385|0.1872\r\n",
       "41|Buffalo|NY|255284|261310|−2.31%                           \r\n",
       "42|Gilbert[q]|AZ|254114|208453|0.219\r\n",
       "43|Glendale|AZ|252381|226721|0.1132\r\n",
       "44|Fremont|CA|241110|214089|0.1262\r\n",
       "45|Garland|TX|239928|226876|0.0575\r\n",
       "46|Irving|TX|239798|216290|0.1087\r\n",
       "47|San Bernardino|CA|215784|209924|0.0279\r\n",
       "48|Modesto|CA|215196|201165|0.0697\r\n",
       "49|Fontana|CA|214547|196069|0.0942\r\n",
       "50|Moreno Valley|CA|213055|193365|0.1018\r\n",
       "51|Santa Clarita|CA|212979|176320|0.2079\r\n",
       "52|Oxnard|CA|208881|197899|0.0555\r\n",
       "53|Rochester|NY|205695|210565|−2.31%                       \r\n",
       "54|Frisco|TX|200490|116989|0.7138\r\n",
       "55|Yonkers|NY|200370|195976|0.0224\r\n",
       "56|Amarillo|TX|199371|190695|0.0455\r\n",
       "57|Glendale|CA|199303|191719|0.0396\r\n",
       "58|Huntington Beach|CA|199223|189992|0.0486\r\n",
       "59|McKinney|TX|199177|131117|0.5191\r\n",
       "60|Aurora|IL|197757|197899|−0.07%                           \r\n",
       "61|Akron|OH|197597|199110|−0.76%                               \r\n",
       "62|Tempe|AZ|195805|161719|0.2108\r\n",
       "63|Grand Prairie|TX|194543|175396|0.1092\r\n",
       "64|Ontario|CA|185010|163924|0.1286\r\n",
       "65|Brownsville|TX|182781|175023|0.0443\r\n",
       "66|Rancho Cucamonga|CA|177603|165269|0.0746\r\n",
       "67|Santa Rosa|CA|176753|167815|0.0533\r\n",
       "68|Peoria|AZ|175961|154065|0.1421\r\n",
       "69|Oceanside|CA|175742|167086|0.0518\r\n",
       "70|Elk Grove|CA|174775|153015|0.1422\r\n",
       "71|Garden Grove|CA|171644|170883|0.0045\r\n",
       "72|Fort Collins|CO|170243|143986|0.1824\r\n",
       "73|Corona|CA|169868|152374|0.1148\r\n",
       "74|Hayward|CA|159203|144186|0.1042\r\n",
       "75|Lakewood|CO|157935|142980|0.1046\r\n",
       "76|Lancaster|CA|157601|156633|0.0062\r\n",
       "77|Salinas|CA|155465|150441|0.0334\r\n",
       "78|Palmdale|CA|155079|152750|0.0152\r\n",
       "79|Sunnyvale|CA|152703|140081|0.0901\r\n",
       "80|Pomona|CA|151691|149058|0.0177\r\n",
       "81|Killeen|TX|151666|127921|0.1856\r\n",
       "82|Escondido|CA|151625|143911|0.0536\r\n",
       "83|Pasadena|TX|151227|149043|0.0147\r\n",
       "84|Naperville|IL|148449|141853|0.0465\r\n",
       "85|Joliet|IL|147344|147433|−0.06%                           \r\n",
       "86|Midland|TX|146038|111147|0.3139\r\n",
       "87|Rockford|IL|145609|152871|−4.75%                       \r\n",
       "88|Torrance|CA|143592|145438|−1.27%                       \r\n",
       "89|McAllen|TX|143268|129877|0.1031\r\n",
       "90|Syracuse|NY|142327|145170|−1.96%                       \r\n",
       "91|Surprise|AZ|141664|117517|0.2055\r\n",
       "92|Denton|TX|141541|113383|0.2483\r\n",
       "93|Roseville|CA|141500|118788|0.1912\r\n",
       "94|Thornton|CO|141464|118772|0.1911\r\n",
       "95|Pasadena|CA|141029|137122|0.0285\r\n",
       "96|Mesquite|TX|140937|139824|0.008\r\n",
       "97|Dayton|OH|140407|141527|−0.79%                               \r\n",
       "98|Carrollton|TX|139248|119097|0.1692\r\n",
       "99|Waco|TX|139236|124805|0.1156\r\n",
       "100|Orange|CA|138669|136416|0.0165\r\n",
       "101|Fullerton|CA|138632|135161|0.0257\r\n",
       "102|Visalia|CA|134605|124442|0.0817\r\n",
       "103|Round Rock|TX|133372|99887|0.3352\r\n",
       "104|Santa Clara|CA|130365|116468|0.1193\r\n",
       "105|Concord|CA|129295|122067|0.0592\r\n",
       "106|Thousand Oaks|CA|126813|126683|0.001\r\n",
       "107|Simi Valley|CA|125613|124237|0.0111\r\n",
       "108|Abilene|TX|123420|117063|0.0543\r\n",
       "109|Odessa|TX|123334|99940|0.2341\r\n",
       "110|Pearland|TX|122460|91252|0.342\r\n",
       "111|Victorville|CA|122385|115903|0.0559\r\n",
       "112|Vallejo|CA|121692|115942|0.0496\r\n",
       "113|Berkeley|CA|121363|112580|0.078\r\n",
       "114|Richardson|TX|121323|99223|0.2227\r\n",
       "115|Arvada|CO|121272|106433|0.1394\r\n",
       "116|Sugar Land|TX|118488|78817|0.5033\r\n",
       "117|College Station|TX|117911|93857|0.2563\r\n",
       "118|Fairfield|CA|117133|105321|0.1122\r\n",
       "119|Beaumont|TX|116825|118296|−1.24%                           \r\n",
       "120|Murrieta|CA|116223|103466|0.1233\r\n",
       "121|El Monte|CA|115487|113475|0.0177\r\n",
       "122|Carlsbad|CA|115382|105328|0.0955\r\n",
       "123|Temecula|CA|114761|100097|0.1465\r\n",
       "124|Clovis|CA|114584|95631|0.1982\r\n",
       "125|Springfield|IL|114230|116250|−1.74%                       \r\n",
       "126|Westminster|CO|113166|106114|0.0665\r\n",
       "127|Costa Mesa|CA|113003|109960|0.0277\r\n",
       "128|Pueblo|CO|112361|106595|0.0541\r\n",
       "129|Antioch|CA|111502|102372|0.0892\r\n",
       "130|Downey|CA|111126|111772|−0.58%                           \r\n",
       "131|Centennial|CO|110937|100377|0.1052\r\n",
       "132|Elgin|IL|110849|108188|0.0246\r\n",
       "133|Richmond|CA|110567|103701|0.0662\r\n",
       "134|Peoria|IL|110417|115007|−3.99%                           \r\n",
       "135|Lewisville|TX|109212|95290|0.1461\r\n",
       "136|Ventura[ab]|CA|109106|106433|0.0251\r\n",
       "137|Greeley|CO|108649|92889|0.1697\r\n",
       "138|Inglewood|CA|108151|109673|−1.39%                       \r\n",
       "139|League City|TX|107536|83560|0.2869\r\n",
       "140|Santa Maria|CA|107263|99553|0.0774\r\n",
       "141|Tyler|TX|106985|96900|0.1041\r\n",
       "142|Daly City|CA|106280|101123|0.051\r\n",
       "143|Boulder|CO|105673|97385|0.0851\r\n",
       "144|Allen|TX|105623|84246|0.2537\r\n",
       "145|West Covina|CA|105101|106098|−0.94%                       \r\n",
       "146|Wichita Falls|TX|104683|104553|0.0012\r\n",
       "147|San Mateo|CA|104430|97207|0.0743\r\n",
       "148|Norwalk|CA|103949|105549|−1.52%                           \r\n",
       "149|Rialto|CA|103526|99171|0.0439\r\n",
       "150|Chico|CA|103301|86187|0.1986\r\n",
       "151|El Cajon|CA|102708|99478|0.0325\r\n",
       "152|Burbank|CA|102511|103340|−0.80%                           \r\n",
       "153|Vista|CA|101638|93834|0.0832\r\n",
       "154|Edinburg|TX|101170|77100|0.3122\r\n",
       "155|San Angelo|TX|101004|93200|0.0837\r\n",
       "156|Vacaville|CA|100670|92428|0.0892\n",
       "</div>"
      ]
     },
     "metadata": {
      "application/vnd.databricks.v1+output": {
       "addedWidgets": {},
       "arguments": {},
       "data": "<div class=\"ansiout\">2019_rank|City|State_Code|2019_estimate|2010_Census|Change\r\n1|New York[d]|NY|8336817|8175133|0.0198\r\n2|Los Angeles|CA|3979576|3792621|0.0493\r\n3|Chicago|IL|2693976|2695598|−0.06%            \r\n4|Houston[3]|TX|2320268|2100263|0.1048\r\n5|Phoenix|AZ|1680992|1445632|0.1628\r\n6|San Antonio|TX|1547253|1327407|0.1656\r\n7|San Diego|CA|1423851|1307402|0.0891\r\n8|Dallas|TX|1343573|1197816|0.1217\r\n9|San Jose|CA|1021795|945942|0.0802\r\n10|Austin|TX|978908|790390|0.2385\r\n11|Fort Worth|TX|909585|741206|0.2272\r\n12|Columbus|OH|898553|787033|0.1417\r\n13|San Francisco[g]|CA|881549|805235|0.0948\r\n14|Denver[i]|CO|727211|600158|0.2117\r\n15|El Paso|TX|681728|649121|0.0502\r\n16|Tucson|AZ|548073|520116|0.0538\r\n17|Fresno|CA|531576|494665|0.0746\r\n18|Mesa|AZ|518012|439041|0.1799\r\n19|Sacramento|CA|513624|466488|0.101\r\n20|Colorado Springs|CO|478221|416427|0.1484\r\n21|Long Beach|CA|462628|462257|0.0008\r\n22|Oakland|CA|433031|390724|0.1083\r\n23|Arlington|TX|398854|365438|0.0914\r\n24|Bakersfield|CA|384145|347483|0.1055\r\n25|Cleveland|OH|381009|396815|−3.98%                           \r\n26|Aurora|CO|379289|325078|0.1668\r\n27|Anaheim|CA|350365|336265|0.0419\r\n28|Santa Ana|CA|332318|324528|0.024\r\n29|Riverside|CA|331360|303871|0.0905\r\n30|Corpus Christi|TX|326586|305215|0.07\r\n31|Stockton|CA|312697|291707|0.072\r\n32|Cincinnati|OH|303940|296943|0.0236\r\n33|Plano|TX|287677|259841|0.1071\r\n34|Irvine|CA|287401|212375|0.3533\r\n35|Chula Vista|CA|274492|243916|0.1254\r\n36|Toledo|OH|272779|287208|−5.02%                               \r\n37|Laredo|TX|262491|236091|0.1118\r\n38|Chandler|AZ|261165|236123|0.1061\r\n39|Lubbock|TX|258862|229573|0.1276\r\n40|Scottsdale|AZ|258069|217385|0.1872\r\n41|Buffalo|NY|255284|261310|−2.31%                           \r\n42|Gilbert[q]|AZ|254114|208453|0.219\r\n43|Glendale|AZ|252381|226721|0.1132\r\n44|Fremont|CA|241110|214089|0.1262\r\n45|Garland|TX|239928|226876|0.0575\r\n46|Irving|TX|239798|216290|0.1087\r\n47|San Bernardino|CA|215784|209924|0.0279\r\n48|Modesto|CA|215196|201165|0.0697\r\n49|Fontana|CA|214547|196069|0.0942\r\n50|Moreno Valley|CA|213055|193365|0.1018\r\n51|Santa Clarita|CA|212979|176320|0.2079\r\n52|Oxnard|CA|208881|197899|0.0555\r\n53|Rochester|NY|205695|210565|−2.31%                       \r\n54|Frisco|TX|200490|116989|0.7138\r\n55|Yonkers|NY|200370|195976|0.0224\r\n56|Amarillo|TX|199371|190695|0.0455\r\n57|Glendale|CA|199303|191719|0.0396\r\n58|Huntington Beach|CA|199223|189992|0.0486\r\n59|McKinney|TX|199177|131117|0.5191\r\n60|Aurora|IL|197757|197899|−0.07%                           \r\n61|Akron|OH|197597|199110|−0.76%                               \r\n62|Tempe|AZ|195805|161719|0.2108\r\n63|Grand Prairie|TX|194543|175396|0.1092\r\n64|Ontario|CA|185010|163924|0.1286\r\n65|Brownsville|TX|182781|175023|0.0443\r\n66|Rancho Cucamonga|CA|177603|165269|0.0746\r\n67|Santa Rosa|CA|176753|167815|0.0533\r\n68|Peoria|AZ|175961|154065|0.1421\r\n69|Oceanside|CA|175742|167086|0.0518\r\n70|Elk Grove|CA|174775|153015|0.1422\r\n71|Garden Grove|CA|171644|170883|0.0045\r\n72|Fort Collins|CO|170243|143986|0.1824\r\n73|Corona|CA|169868|152374|0.1148\r\n74|Hayward|CA|159203|144186|0.1042\r\n75|Lakewood|CO|157935|142980|0.1046\r\n76|Lancaster|CA|157601|156633|0.0062\r\n77|Salinas|CA|155465|150441|0.0334\r\n78|Palmdale|CA|155079|152750|0.0152\r\n79|Sunnyvale|CA|152703|140081|0.0901\r\n80|Pomona|CA|151691|149058|0.0177\r\n81|Killeen|TX|151666|127921|0.1856\r\n82|Escondido|CA|151625|143911|0.0536\r\n83|Pasadena|TX|151227|149043|0.0147\r\n84|Naperville|IL|148449|141853|0.0465\r\n85|Joliet|IL|147344|147433|−0.06%                           \r\n86|Midland|TX|146038|111147|0.3139\r\n87|Rockford|IL|145609|152871|−4.75%                       \r\n88|Torrance|CA|143592|145438|−1.27%                       \r\n89|McAllen|TX|143268|129877|0.1031\r\n90|Syracuse|NY|142327|145170|−1.96%                       \r\n91|Surprise|AZ|141664|117517|0.2055\r\n92|Denton|TX|141541|113383|0.2483\r\n93|Roseville|CA|141500|118788|0.1912\r\n94|Thornton|CO|141464|118772|0.1911\r\n95|Pasadena|CA|141029|137122|0.0285\r\n96|Mesquite|TX|140937|139824|0.008\r\n97|Dayton|OH|140407|141527|−0.79%                               \r\n98|Carrollton|TX|139248|119097|0.1692\r\n99|Waco|TX|139236|124805|0.1156\r\n100|Orange|CA|138669|136416|0.0165\r\n101|Fullerton|CA|138632|135161|0.0257\r\n102|Visalia|CA|134605|124442|0.0817\r\n103|Round Rock|TX|133372|99887|0.3352\r\n104|Santa Clara|CA|130365|116468|0.1193\r\n105|Concord|CA|129295|122067|0.0592\r\n106|Thousand Oaks|CA|126813|126683|0.001\r\n107|Simi Valley|CA|125613|124237|0.0111\r\n108|Abilene|TX|123420|117063|0.0543\r\n109|Odessa|TX|123334|99940|0.2341\r\n110|Pearland|TX|122460|91252|0.342\r\n111|Victorville|CA|122385|115903|0.0559\r\n112|Vallejo|CA|121692|115942|0.0496\r\n113|Berkeley|CA|121363|112580|0.078\r\n114|Richardson|TX|121323|99223|0.2227\r\n115|Arvada|CO|121272|106433|0.1394\r\n116|Sugar Land|TX|118488|78817|0.5033\r\n117|College Station|TX|117911|93857|0.2563\r\n118|Fairfield|CA|117133|105321|0.1122\r\n119|Beaumont|TX|116825|118296|−1.24%                           \r\n120|Murrieta|CA|116223|103466|0.1233\r\n121|El Monte|CA|115487|113475|0.0177\r\n122|Carlsbad|CA|115382|105328|0.0955\r\n123|Temecula|CA|114761|100097|0.1465\r\n124|Clovis|CA|114584|95631|0.1982\r\n125|Springfield|IL|114230|116250|−1.74%                       \r\n126|Westminster|CO|113166|106114|0.0665\r\n127|Costa Mesa|CA|113003|109960|0.0277\r\n128|Pueblo|CO|112361|106595|0.0541\r\n129|Antioch|CA|111502|102372|0.0892\r\n130|Downey|CA|111126|111772|−0.58%                           \r\n131|Centennial|CO|110937|100377|0.1052\r\n132|Elgin|IL|110849|108188|0.0246\r\n133|Richmond|CA|110567|103701|0.0662\r\n134|Peoria|IL|110417|115007|−3.99%                           \r\n135|Lewisville|TX|109212|95290|0.1461\r\n136|Ventura[ab]|CA|109106|106433|0.0251\r\n137|Greeley|CO|108649|92889|0.1697\r\n138|Inglewood|CA|108151|109673|−1.39%                       \r\n139|League City|TX|107536|83560|0.2869\r\n140|Santa Maria|CA|107263|99553|0.0774\r\n141|Tyler|TX|106985|96900|0.1041\r\n142|Daly City|CA|106280|101123|0.051\r\n143|Boulder|CO|105673|97385|0.0851\r\n144|Allen|TX|105623|84246|0.2537\r\n145|West Covina|CA|105101|106098|−0.94%                       \r\n146|Wichita Falls|TX|104683|104553|0.0012\r\n147|San Mateo|CA|104430|97207|0.0743\r\n148|Norwalk|CA|103949|105549|−1.52%                           \r\n149|Rialto|CA|103526|99171|0.0439\r\n150|Chico|CA|103301|86187|0.1986\r\n151|El Cajon|CA|102708|99478|0.0325\r\n152|Burbank|CA|102511|103340|−0.80%                           \r\n153|Vista|CA|101638|93834|0.0832\r\n154|Edinburg|TX|101170|77100|0.3122\r\n155|San Angelo|TX|101004|93200|0.0837\r\n156|Vacaville|CA|100670|92428|0.0892\n</div>",
       "datasetInfos": [],
       "metadata": {
        "isDbfsCommandResult": false
       },
       "removedWidgets": [],
       "type": "html"
      }
     },
     "output_type": "display_data"
    }
   ],
   "source": [
    "%fs head /FileStore/tables/uspopulation.csv"
   ]
  },
  {
   "cell_type": "markdown",
   "metadata": {
    "application/vnd.databricks.v1+cell": {
     "cellMetadata": {},
     "inputWidgets": {},
     "nuid": "db68d0a0-e0cc-4718-940d-d4647f3a274a",
     "showTitle": false,
     "title": ""
    }
   },
   "source": [
    "Convert the file to Spark Dataframe"
   ]
  },
  {
   "cell_type": "code",
   "execution_count": 0,
   "metadata": {
    "application/vnd.databricks.v1+cell": {
     "cellMetadata": {
      "byteLimit": 2048000,
      "rowLimit": 10000
     },
     "inputWidgets": {},
     "nuid": "01c85c22-7170-4732-a6d3-f41b7b31918d",
     "showTitle": false,
     "title": ""
    }
   },
   "outputs": [
    {
     "output_type": "display_data",
     "data": {
      "text/html": [
       "<style scoped>\n",
       "  .table-result-container {\n",
       "    max-height: 300px;\n",
       "    overflow: auto;\n",
       "  }\n",
       "  table, th, td {\n",
       "    border: 1px solid black;\n",
       "    border-collapse: collapse;\n",
       "  }\n",
       "  th, td {\n",
       "    padding: 5px;\n",
       "  }\n",
       "  th {\n",
       "    text-align: left;\n",
       "  }\n",
       "</style><div class='table-result-container'><table class='table-result'><thead style='background-color: white'><tr><th>2019_rank</th><th>City</th><th>State_Code</th><th>2019_estimate</th><th>2010_Census</th><th>Change</th></tr></thead><tbody><tr><td>1</td><td>New York[d]</td><td>NY</td><td>8336817</td><td>8175133</td><td>0.0198</td></tr><tr><td>2</td><td>Los Angeles</td><td>CA</td><td>3979576</td><td>3792621</td><td>0.0493</td></tr><tr><td>3</td><td>Chicago</td><td>IL</td><td>2693976</td><td>2695598</td><td>−0.06%            </td></tr><tr><td>4</td><td>Houston[3]</td><td>TX</td><td>2320268</td><td>2100263</td><td>0.1048</td></tr><tr><td>5</td><td>Phoenix</td><td>AZ</td><td>1680992</td><td>1445632</td><td>0.1628</td></tr><tr><td>6</td><td>San Antonio</td><td>TX</td><td>1547253</td><td>1327407</td><td>0.1656</td></tr><tr><td>7</td><td>San Diego</td><td>CA</td><td>1423851</td><td>1307402</td><td>0.0891</td></tr><tr><td>8</td><td>Dallas</td><td>TX</td><td>1343573</td><td>1197816</td><td>0.1217</td></tr><tr><td>9</td><td>San Jose</td><td>CA</td><td>1021795</td><td>945942</td><td>0.0802</td></tr><tr><td>10</td><td>Austin</td><td>TX</td><td>978908</td><td>790390</td><td>0.2385</td></tr><tr><td>11</td><td>Fort Worth</td><td>TX</td><td>909585</td><td>741206</td><td>0.2272</td></tr><tr><td>12</td><td>Columbus</td><td>OH</td><td>898553</td><td>787033</td><td>0.1417</td></tr><tr><td>13</td><td>San Francisco[g]</td><td>CA</td><td>881549</td><td>805235</td><td>0.0948</td></tr><tr><td>14</td><td>Denver[i]</td><td>CO</td><td>727211</td><td>600158</td><td>0.2117</td></tr><tr><td>15</td><td>El Paso</td><td>TX</td><td>681728</td><td>649121</td><td>0.0502</td></tr><tr><td>16</td><td>Tucson</td><td>AZ</td><td>548073</td><td>520116</td><td>0.0538</td></tr><tr><td>17</td><td>Fresno</td><td>CA</td><td>531576</td><td>494665</td><td>0.0746</td></tr><tr><td>18</td><td>Mesa</td><td>AZ</td><td>518012</td><td>439041</td><td>0.1799</td></tr><tr><td>19</td><td>Sacramento</td><td>CA</td><td>513624</td><td>466488</td><td>0.101</td></tr><tr><td>20</td><td>Colorado Springs</td><td>CO</td><td>478221</td><td>416427</td><td>0.1484</td></tr><tr><td>21</td><td>Long Beach</td><td>CA</td><td>462628</td><td>462257</td><td>0.0008</td></tr><tr><td>22</td><td>Oakland</td><td>CA</td><td>433031</td><td>390724</td><td>0.1083</td></tr><tr><td>23</td><td>Arlington</td><td>TX</td><td>398854</td><td>365438</td><td>0.0914</td></tr><tr><td>24</td><td>Bakersfield</td><td>CA</td><td>384145</td><td>347483</td><td>0.1055</td></tr><tr><td>25</td><td>Cleveland</td><td>OH</td><td>381009</td><td>396815</td><td>−3.98%                           </td></tr><tr><td>26</td><td>Aurora</td><td>CO</td><td>379289</td><td>325078</td><td>0.1668</td></tr><tr><td>27</td><td>Anaheim</td><td>CA</td><td>350365</td><td>336265</td><td>0.0419</td></tr><tr><td>28</td><td>Santa Ana</td><td>CA</td><td>332318</td><td>324528</td><td>0.024</td></tr><tr><td>29</td><td>Riverside</td><td>CA</td><td>331360</td><td>303871</td><td>0.0905</td></tr><tr><td>30</td><td>Corpus Christi</td><td>TX</td><td>326586</td><td>305215</td><td>0.07</td></tr><tr><td>31</td><td>Stockton</td><td>CA</td><td>312697</td><td>291707</td><td>0.072</td></tr><tr><td>32</td><td>Cincinnati</td><td>OH</td><td>303940</td><td>296943</td><td>0.0236</td></tr><tr><td>33</td><td>Plano</td><td>TX</td><td>287677</td><td>259841</td><td>0.1071</td></tr><tr><td>34</td><td>Irvine</td><td>CA</td><td>287401</td><td>212375</td><td>0.3533</td></tr><tr><td>35</td><td>Chula Vista</td><td>CA</td><td>274492</td><td>243916</td><td>0.1254</td></tr><tr><td>36</td><td>Toledo</td><td>OH</td><td>272779</td><td>287208</td><td>−5.02%                               </td></tr><tr><td>37</td><td>Laredo</td><td>TX</td><td>262491</td><td>236091</td><td>0.1118</td></tr><tr><td>38</td><td>Chandler</td><td>AZ</td><td>261165</td><td>236123</td><td>0.1061</td></tr><tr><td>39</td><td>Lubbock</td><td>TX</td><td>258862</td><td>229573</td><td>0.1276</td></tr><tr><td>40</td><td>Scottsdale</td><td>AZ</td><td>258069</td><td>217385</td><td>0.1872</td></tr><tr><td>41</td><td>Buffalo</td><td>NY</td><td>255284</td><td>261310</td><td>−2.31%                           </td></tr><tr><td>42</td><td>Gilbert[q]</td><td>AZ</td><td>254114</td><td>208453</td><td>0.219</td></tr><tr><td>43</td><td>Glendale</td><td>AZ</td><td>252381</td><td>226721</td><td>0.1132</td></tr><tr><td>44</td><td>Fremont</td><td>CA</td><td>241110</td><td>214089</td><td>0.1262</td></tr><tr><td>45</td><td>Garland</td><td>TX</td><td>239928</td><td>226876</td><td>0.0575</td></tr><tr><td>46</td><td>Irving</td><td>TX</td><td>239798</td><td>216290</td><td>0.1087</td></tr><tr><td>47</td><td>San Bernardino</td><td>CA</td><td>215784</td><td>209924</td><td>0.0279</td></tr><tr><td>48</td><td>Modesto</td><td>CA</td><td>215196</td><td>201165</td><td>0.0697</td></tr><tr><td>49</td><td>Fontana</td><td>CA</td><td>214547</td><td>196069</td><td>0.0942</td></tr><tr><td>50</td><td>Moreno Valley</td><td>CA</td><td>213055</td><td>193365</td><td>0.1018</td></tr><tr><td>51</td><td>Santa Clarita</td><td>CA</td><td>212979</td><td>176320</td><td>0.2079</td></tr><tr><td>52</td><td>Oxnard</td><td>CA</td><td>208881</td><td>197899</td><td>0.0555</td></tr><tr><td>53</td><td>Rochester</td><td>NY</td><td>205695</td><td>210565</td><td>−2.31%                       </td></tr><tr><td>54</td><td>Frisco</td><td>TX</td><td>200490</td><td>116989</td><td>0.7138</td></tr><tr><td>55</td><td>Yonkers</td><td>NY</td><td>200370</td><td>195976</td><td>0.0224</td></tr><tr><td>56</td><td>Amarillo</td><td>TX</td><td>199371</td><td>190695</td><td>0.0455</td></tr><tr><td>57</td><td>Glendale</td><td>CA</td><td>199303</td><td>191719</td><td>0.0396</td></tr><tr><td>58</td><td>Huntington Beach</td><td>CA</td><td>199223</td><td>189992</td><td>0.0486</td></tr><tr><td>59</td><td>McKinney</td><td>TX</td><td>199177</td><td>131117</td><td>0.5191</td></tr><tr><td>60</td><td>Aurora</td><td>IL</td><td>197757</td><td>197899</td><td>−0.07%                           </td></tr><tr><td>61</td><td>Akron</td><td>OH</td><td>197597</td><td>199110</td><td>−0.76%                               </td></tr><tr><td>62</td><td>Tempe</td><td>AZ</td><td>195805</td><td>161719</td><td>0.2108</td></tr><tr><td>63</td><td>Grand Prairie</td><td>TX</td><td>194543</td><td>175396</td><td>0.1092</td></tr><tr><td>64</td><td>Ontario</td><td>CA</td><td>185010</td><td>163924</td><td>0.1286</td></tr><tr><td>65</td><td>Brownsville</td><td>TX</td><td>182781</td><td>175023</td><td>0.0443</td></tr><tr><td>66</td><td>Rancho Cucamonga</td><td>CA</td><td>177603</td><td>165269</td><td>0.0746</td></tr><tr><td>67</td><td>Santa Rosa</td><td>CA</td><td>176753</td><td>167815</td><td>0.0533</td></tr><tr><td>68</td><td>Peoria</td><td>AZ</td><td>175961</td><td>154065</td><td>0.1421</td></tr><tr><td>69</td><td>Oceanside</td><td>CA</td><td>175742</td><td>167086</td><td>0.0518</td></tr><tr><td>70</td><td>Elk Grove</td><td>CA</td><td>174775</td><td>153015</td><td>0.1422</td></tr><tr><td>71</td><td>Garden Grove</td><td>CA</td><td>171644</td><td>170883</td><td>0.0045</td></tr><tr><td>72</td><td>Fort Collins</td><td>CO</td><td>170243</td><td>143986</td><td>0.1824</td></tr><tr><td>73</td><td>Corona</td><td>CA</td><td>169868</td><td>152374</td><td>0.1148</td></tr><tr><td>74</td><td>Hayward</td><td>CA</td><td>159203</td><td>144186</td><td>0.1042</td></tr><tr><td>75</td><td>Lakewood</td><td>CO</td><td>157935</td><td>142980</td><td>0.1046</td></tr><tr><td>76</td><td>Lancaster</td><td>CA</td><td>157601</td><td>156633</td><td>0.0062</td></tr><tr><td>77</td><td>Salinas</td><td>CA</td><td>155465</td><td>150441</td><td>0.0334</td></tr><tr><td>78</td><td>Palmdale</td><td>CA</td><td>155079</td><td>152750</td><td>0.0152</td></tr><tr><td>79</td><td>Sunnyvale</td><td>CA</td><td>152703</td><td>140081</td><td>0.0901</td></tr><tr><td>80</td><td>Pomona</td><td>CA</td><td>151691</td><td>149058</td><td>0.0177</td></tr><tr><td>81</td><td>Killeen</td><td>TX</td><td>151666</td><td>127921</td><td>0.1856</td></tr><tr><td>82</td><td>Escondido</td><td>CA</td><td>151625</td><td>143911</td><td>0.0536</td></tr><tr><td>83</td><td>Pasadena</td><td>TX</td><td>151227</td><td>149043</td><td>0.0147</td></tr><tr><td>84</td><td>Naperville</td><td>IL</td><td>148449</td><td>141853</td><td>0.0465</td></tr><tr><td>85</td><td>Joliet</td><td>IL</td><td>147344</td><td>147433</td><td>−0.06%                           </td></tr><tr><td>86</td><td>Midland</td><td>TX</td><td>146038</td><td>111147</td><td>0.3139</td></tr><tr><td>87</td><td>Rockford</td><td>IL</td><td>145609</td><td>152871</td><td>−4.75%                       </td></tr><tr><td>88</td><td>Torrance</td><td>CA</td><td>143592</td><td>145438</td><td>−1.27%                       </td></tr><tr><td>89</td><td>McAllen</td><td>TX</td><td>143268</td><td>129877</td><td>0.1031</td></tr><tr><td>90</td><td>Syracuse</td><td>NY</td><td>142327</td><td>145170</td><td>−1.96%                       </td></tr><tr><td>91</td><td>Surprise</td><td>AZ</td><td>141664</td><td>117517</td><td>0.2055</td></tr><tr><td>92</td><td>Denton</td><td>TX</td><td>141541</td><td>113383</td><td>0.2483</td></tr><tr><td>93</td><td>Roseville</td><td>CA</td><td>141500</td><td>118788</td><td>0.1912</td></tr><tr><td>94</td><td>Thornton</td><td>CO</td><td>141464</td><td>118772</td><td>0.1911</td></tr><tr><td>95</td><td>Pasadena</td><td>CA</td><td>141029</td><td>137122</td><td>0.0285</td></tr><tr><td>96</td><td>Mesquite</td><td>TX</td><td>140937</td><td>139824</td><td>0.008</td></tr><tr><td>97</td><td>Dayton</td><td>OH</td><td>140407</td><td>141527</td><td>−0.79%                               </td></tr><tr><td>98</td><td>Carrollton</td><td>TX</td><td>139248</td><td>119097</td><td>0.1692</td></tr><tr><td>99</td><td>Waco</td><td>TX</td><td>139236</td><td>124805</td><td>0.1156</td></tr><tr><td>100</td><td>Orange</td><td>CA</td><td>138669</td><td>136416</td><td>0.0165</td></tr><tr><td>101</td><td>Fullerton</td><td>CA</td><td>138632</td><td>135161</td><td>0.0257</td></tr><tr><td>102</td><td>Visalia</td><td>CA</td><td>134605</td><td>124442</td><td>0.0817</td></tr><tr><td>103</td><td>Round Rock</td><td>TX</td><td>133372</td><td>99887</td><td>0.3352</td></tr><tr><td>104</td><td>Santa Clara</td><td>CA</td><td>130365</td><td>116468</td><td>0.1193</td></tr><tr><td>105</td><td>Concord</td><td>CA</td><td>129295</td><td>122067</td><td>0.0592</td></tr><tr><td>106</td><td>Thousand Oaks</td><td>CA</td><td>126813</td><td>126683</td><td>0.001</td></tr><tr><td>107</td><td>Simi Valley</td><td>CA</td><td>125613</td><td>124237</td><td>0.0111</td></tr><tr><td>108</td><td>Abilene</td><td>TX</td><td>123420</td><td>117063</td><td>0.0543</td></tr><tr><td>109</td><td>Odessa</td><td>TX</td><td>123334</td><td>99940</td><td>0.2341</td></tr><tr><td>110</td><td>Pearland</td><td>TX</td><td>122460</td><td>91252</td><td>0.342</td></tr><tr><td>111</td><td>Victorville</td><td>CA</td><td>122385</td><td>115903</td><td>0.0559</td></tr><tr><td>112</td><td>Vallejo</td><td>CA</td><td>121692</td><td>115942</td><td>0.0496</td></tr><tr><td>113</td><td>Berkeley</td><td>CA</td><td>121363</td><td>112580</td><td>0.078</td></tr><tr><td>114</td><td>Richardson</td><td>TX</td><td>121323</td><td>99223</td><td>0.2227</td></tr><tr><td>115</td><td>Arvada</td><td>CO</td><td>121272</td><td>106433</td><td>0.1394</td></tr><tr><td>116</td><td>Sugar Land</td><td>TX</td><td>118488</td><td>78817</td><td>0.5033</td></tr><tr><td>117</td><td>College Station</td><td>TX</td><td>117911</td><td>93857</td><td>0.2563</td></tr><tr><td>118</td><td>Fairfield</td><td>CA</td><td>117133</td><td>105321</td><td>0.1122</td></tr><tr><td>119</td><td>Beaumont</td><td>TX</td><td>116825</td><td>118296</td><td>−1.24%                           </td></tr><tr><td>120</td><td>Murrieta</td><td>CA</td><td>116223</td><td>103466</td><td>0.1233</td></tr><tr><td>121</td><td>El Monte</td><td>CA</td><td>115487</td><td>113475</td><td>0.0177</td></tr><tr><td>122</td><td>Carlsbad</td><td>CA</td><td>115382</td><td>105328</td><td>0.0955</td></tr><tr><td>123</td><td>Temecula</td><td>CA</td><td>114761</td><td>100097</td><td>0.1465</td></tr><tr><td>124</td><td>Clovis</td><td>CA</td><td>114584</td><td>95631</td><td>0.1982</td></tr><tr><td>125</td><td>Springfield</td><td>IL</td><td>114230</td><td>116250</td><td>−1.74%                       </td></tr><tr><td>126</td><td>Westminster</td><td>CO</td><td>113166</td><td>106114</td><td>0.0665</td></tr><tr><td>127</td><td>Costa Mesa</td><td>CA</td><td>113003</td><td>109960</td><td>0.0277</td></tr><tr><td>128</td><td>Pueblo</td><td>CO</td><td>112361</td><td>106595</td><td>0.0541</td></tr><tr><td>129</td><td>Antioch</td><td>CA</td><td>111502</td><td>102372</td><td>0.0892</td></tr><tr><td>130</td><td>Downey</td><td>CA</td><td>111126</td><td>111772</td><td>−0.58%                           </td></tr><tr><td>131</td><td>Centennial</td><td>CO</td><td>110937</td><td>100377</td><td>0.1052</td></tr><tr><td>132</td><td>Elgin</td><td>IL</td><td>110849</td><td>108188</td><td>0.0246</td></tr><tr><td>133</td><td>Richmond</td><td>CA</td><td>110567</td><td>103701</td><td>0.0662</td></tr><tr><td>134</td><td>Peoria</td><td>IL</td><td>110417</td><td>115007</td><td>−3.99%                           </td></tr><tr><td>135</td><td>Lewisville</td><td>TX</td><td>109212</td><td>95290</td><td>0.1461</td></tr><tr><td>136</td><td>Ventura[ab]</td><td>CA</td><td>109106</td><td>106433</td><td>0.0251</td></tr><tr><td>137</td><td>Greeley</td><td>CO</td><td>108649</td><td>92889</td><td>0.1697</td></tr><tr><td>138</td><td>Inglewood</td><td>CA</td><td>108151</td><td>109673</td><td>−1.39%                       </td></tr><tr><td>139</td><td>League City</td><td>TX</td><td>107536</td><td>83560</td><td>0.2869</td></tr><tr><td>140</td><td>Santa Maria</td><td>CA</td><td>107263</td><td>99553</td><td>0.0774</td></tr><tr><td>141</td><td>Tyler</td><td>TX</td><td>106985</td><td>96900</td><td>0.1041</td></tr><tr><td>142</td><td>Daly City</td><td>CA</td><td>106280</td><td>101123</td><td>0.051</td></tr><tr><td>143</td><td>Boulder</td><td>CO</td><td>105673</td><td>97385</td><td>0.0851</td></tr><tr><td>144</td><td>Allen</td><td>TX</td><td>105623</td><td>84246</td><td>0.2537</td></tr><tr><td>145</td><td>West Covina</td><td>CA</td><td>105101</td><td>106098</td><td>−0.94%                       </td></tr><tr><td>146</td><td>Wichita Falls</td><td>TX</td><td>104683</td><td>104553</td><td>0.0012</td></tr><tr><td>147</td><td>San Mateo</td><td>CA</td><td>104430</td><td>97207</td><td>0.0743</td></tr><tr><td>148</td><td>Norwalk</td><td>CA</td><td>103949</td><td>105549</td><td>−1.52%                           </td></tr><tr><td>149</td><td>Rialto</td><td>CA</td><td>103526</td><td>99171</td><td>0.0439</td></tr><tr><td>150</td><td>Chico</td><td>CA</td><td>103301</td><td>86187</td><td>0.1986</td></tr><tr><td>151</td><td>El Cajon</td><td>CA</td><td>102708</td><td>99478</td><td>0.0325</td></tr><tr><td>152</td><td>Burbank</td><td>CA</td><td>102511</td><td>103340</td><td>−0.80%                           </td></tr><tr><td>153</td><td>Vista</td><td>CA</td><td>101638</td><td>93834</td><td>0.0832</td></tr><tr><td>154</td><td>Edinburg</td><td>TX</td><td>101170</td><td>77100</td><td>0.3122</td></tr><tr><td>155</td><td>San Angelo</td><td>TX</td><td>101004</td><td>93200</td><td>0.0837</td></tr><tr><td>156</td><td>Vacaville</td><td>CA</td><td>100670</td><td>92428</td><td>0.0892</td></tr></tbody></table></div>"
      ]
     },
     "metadata": {
      "application/vnd.databricks.v1+output": {
       "addedWidgets": {},
       "aggData": [],
       "aggError": "",
       "aggOverflow": false,
       "aggSchema": [],
       "aggSeriesLimitReached": false,
       "aggType": "",
       "arguments": {},
       "columnCustomDisplayInfos": {},
       "data": [
        [
         1,
         "New York[d]",
         "NY",
         8336817,
         8175133,
         "0.0198"
        ],
        [
         2,
         "Los Angeles",
         "CA",
         3979576,
         3792621,
         "0.0493"
        ],
        [
         3,
         "Chicago",
         "IL",
         2693976,
         2695598,
         "−0.06%            "
        ],
        [
         4,
         "Houston[3]",
         "TX",
         2320268,
         2100263,
         "0.1048"
        ],
        [
         5,
         "Phoenix",
         "AZ",
         1680992,
         1445632,
         "0.1628"
        ],
        [
         6,
         "San Antonio",
         "TX",
         1547253,
         1327407,
         "0.1656"
        ],
        [
         7,
         "San Diego",
         "CA",
         1423851,
         1307402,
         "0.0891"
        ],
        [
         8,
         "Dallas",
         "TX",
         1343573,
         1197816,
         "0.1217"
        ],
        [
         9,
         "San Jose",
         "CA",
         1021795,
         945942,
         "0.0802"
        ],
        [
         10,
         "Austin",
         "TX",
         978908,
         790390,
         "0.2385"
        ],
        [
         11,
         "Fort Worth",
         "TX",
         909585,
         741206,
         "0.2272"
        ],
        [
         12,
         "Columbus",
         "OH",
         898553,
         787033,
         "0.1417"
        ],
        [
         13,
         "San Francisco[g]",
         "CA",
         881549,
         805235,
         "0.0948"
        ],
        [
         14,
         "Denver[i]",
         "CO",
         727211,
         600158,
         "0.2117"
        ],
        [
         15,
         "El Paso",
         "TX",
         681728,
         649121,
         "0.0502"
        ],
        [
         16,
         "Tucson",
         "AZ",
         548073,
         520116,
         "0.0538"
        ],
        [
         17,
         "Fresno",
         "CA",
         531576,
         494665,
         "0.0746"
        ],
        [
         18,
         "Mesa",
         "AZ",
         518012,
         439041,
         "0.1799"
        ],
        [
         19,
         "Sacramento",
         "CA",
         513624,
         466488,
         "0.101"
        ],
        [
         20,
         "Colorado Springs",
         "CO",
         478221,
         416427,
         "0.1484"
        ],
        [
         21,
         "Long Beach",
         "CA",
         462628,
         462257,
         "0.0008"
        ],
        [
         22,
         "Oakland",
         "CA",
         433031,
         390724,
         "0.1083"
        ],
        [
         23,
         "Arlington",
         "TX",
         398854,
         365438,
         "0.0914"
        ],
        [
         24,
         "Bakersfield",
         "CA",
         384145,
         347483,
         "0.1055"
        ],
        [
         25,
         "Cleveland",
         "OH",
         381009,
         396815,
         "−3.98%                           "
        ],
        [
         26,
         "Aurora",
         "CO",
         379289,
         325078,
         "0.1668"
        ],
        [
         27,
         "Anaheim",
         "CA",
         350365,
         336265,
         "0.0419"
        ],
        [
         28,
         "Santa Ana",
         "CA",
         332318,
         324528,
         "0.024"
        ],
        [
         29,
         "Riverside",
         "CA",
         331360,
         303871,
         "0.0905"
        ],
        [
         30,
         "Corpus Christi",
         "TX",
         326586,
         305215,
         "0.07"
        ],
        [
         31,
         "Stockton",
         "CA",
         312697,
         291707,
         "0.072"
        ],
        [
         32,
         "Cincinnati",
         "OH",
         303940,
         296943,
         "0.0236"
        ],
        [
         33,
         "Plano",
         "TX",
         287677,
         259841,
         "0.1071"
        ],
        [
         34,
         "Irvine",
         "CA",
         287401,
         212375,
         "0.3533"
        ],
        [
         35,
         "Chula Vista",
         "CA",
         274492,
         243916,
         "0.1254"
        ],
        [
         36,
         "Toledo",
         "OH",
         272779,
         287208,
         "−5.02%                               "
        ],
        [
         37,
         "Laredo",
         "TX",
         262491,
         236091,
         "0.1118"
        ],
        [
         38,
         "Chandler",
         "AZ",
         261165,
         236123,
         "0.1061"
        ],
        [
         39,
         "Lubbock",
         "TX",
         258862,
         229573,
         "0.1276"
        ],
        [
         40,
         "Scottsdale",
         "AZ",
         258069,
         217385,
         "0.1872"
        ],
        [
         41,
         "Buffalo",
         "NY",
         255284,
         261310,
         "−2.31%                           "
        ],
        [
         42,
         "Gilbert[q]",
         "AZ",
         254114,
         208453,
         "0.219"
        ],
        [
         43,
         "Glendale",
         "AZ",
         252381,
         226721,
         "0.1132"
        ],
        [
         44,
         "Fremont",
         "CA",
         241110,
         214089,
         "0.1262"
        ],
        [
         45,
         "Garland",
         "TX",
         239928,
         226876,
         "0.0575"
        ],
        [
         46,
         "Irving",
         "TX",
         239798,
         216290,
         "0.1087"
        ],
        [
         47,
         "San Bernardino",
         "CA",
         215784,
         209924,
         "0.0279"
        ],
        [
         48,
         "Modesto",
         "CA",
         215196,
         201165,
         "0.0697"
        ],
        [
         49,
         "Fontana",
         "CA",
         214547,
         196069,
         "0.0942"
        ],
        [
         50,
         "Moreno Valley",
         "CA",
         213055,
         193365,
         "0.1018"
        ],
        [
         51,
         "Santa Clarita",
         "CA",
         212979,
         176320,
         "0.2079"
        ],
        [
         52,
         "Oxnard",
         "CA",
         208881,
         197899,
         "0.0555"
        ],
        [
         53,
         "Rochester",
         "NY",
         205695,
         210565,
         "−2.31%                       "
        ],
        [
         54,
         "Frisco",
         "TX",
         200490,
         116989,
         "0.7138"
        ],
        [
         55,
         "Yonkers",
         "NY",
         200370,
         195976,
         "0.0224"
        ],
        [
         56,
         "Amarillo",
         "TX",
         199371,
         190695,
         "0.0455"
        ],
        [
         57,
         "Glendale",
         "CA",
         199303,
         191719,
         "0.0396"
        ],
        [
         58,
         "Huntington Beach",
         "CA",
         199223,
         189992,
         "0.0486"
        ],
        [
         59,
         "McKinney",
         "TX",
         199177,
         131117,
         "0.5191"
        ],
        [
         60,
         "Aurora",
         "IL",
         197757,
         197899,
         "−0.07%                           "
        ],
        [
         61,
         "Akron",
         "OH",
         197597,
         199110,
         "−0.76%                               "
        ],
        [
         62,
         "Tempe",
         "AZ",
         195805,
         161719,
         "0.2108"
        ],
        [
         63,
         "Grand Prairie",
         "TX",
         194543,
         175396,
         "0.1092"
        ],
        [
         64,
         "Ontario",
         "CA",
         185010,
         163924,
         "0.1286"
        ],
        [
         65,
         "Brownsville",
         "TX",
         182781,
         175023,
         "0.0443"
        ],
        [
         66,
         "Rancho Cucamonga",
         "CA",
         177603,
         165269,
         "0.0746"
        ],
        [
         67,
         "Santa Rosa",
         "CA",
         176753,
         167815,
         "0.0533"
        ],
        [
         68,
         "Peoria",
         "AZ",
         175961,
         154065,
         "0.1421"
        ],
        [
         69,
         "Oceanside",
         "CA",
         175742,
         167086,
         "0.0518"
        ],
        [
         70,
         "Elk Grove",
         "CA",
         174775,
         153015,
         "0.1422"
        ],
        [
         71,
         "Garden Grove",
         "CA",
         171644,
         170883,
         "0.0045"
        ],
        [
         72,
         "Fort Collins",
         "CO",
         170243,
         143986,
         "0.1824"
        ],
        [
         73,
         "Corona",
         "CA",
         169868,
         152374,
         "0.1148"
        ],
        [
         74,
         "Hayward",
         "CA",
         159203,
         144186,
         "0.1042"
        ],
        [
         75,
         "Lakewood",
         "CO",
         157935,
         142980,
         "0.1046"
        ],
        [
         76,
         "Lancaster",
         "CA",
         157601,
         156633,
         "0.0062"
        ],
        [
         77,
         "Salinas",
         "CA",
         155465,
         150441,
         "0.0334"
        ],
        [
         78,
         "Palmdale",
         "CA",
         155079,
         152750,
         "0.0152"
        ],
        [
         79,
         "Sunnyvale",
         "CA",
         152703,
         140081,
         "0.0901"
        ],
        [
         80,
         "Pomona",
         "CA",
         151691,
         149058,
         "0.0177"
        ],
        [
         81,
         "Killeen",
         "TX",
         151666,
         127921,
         "0.1856"
        ],
        [
         82,
         "Escondido",
         "CA",
         151625,
         143911,
         "0.0536"
        ],
        [
         83,
         "Pasadena",
         "TX",
         151227,
         149043,
         "0.0147"
        ],
        [
         84,
         "Naperville",
         "IL",
         148449,
         141853,
         "0.0465"
        ],
        [
         85,
         "Joliet",
         "IL",
         147344,
         147433,
         "−0.06%                           "
        ],
        [
         86,
         "Midland",
         "TX",
         146038,
         111147,
         "0.3139"
        ],
        [
         87,
         "Rockford",
         "IL",
         145609,
         152871,
         "−4.75%                       "
        ],
        [
         88,
         "Torrance",
         "CA",
         143592,
         145438,
         "−1.27%                       "
        ],
        [
         89,
         "McAllen",
         "TX",
         143268,
         129877,
         "0.1031"
        ],
        [
         90,
         "Syracuse",
         "NY",
         142327,
         145170,
         "−1.96%                       "
        ],
        [
         91,
         "Surprise",
         "AZ",
         141664,
         117517,
         "0.2055"
        ],
        [
         92,
         "Denton",
         "TX",
         141541,
         113383,
         "0.2483"
        ],
        [
         93,
         "Roseville",
         "CA",
         141500,
         118788,
         "0.1912"
        ],
        [
         94,
         "Thornton",
         "CO",
         141464,
         118772,
         "0.1911"
        ],
        [
         95,
         "Pasadena",
         "CA",
         141029,
         137122,
         "0.0285"
        ],
        [
         96,
         "Mesquite",
         "TX",
         140937,
         139824,
         "0.008"
        ],
        [
         97,
         "Dayton",
         "OH",
         140407,
         141527,
         "−0.79%                               "
        ],
        [
         98,
         "Carrollton",
         "TX",
         139248,
         119097,
         "0.1692"
        ],
        [
         99,
         "Waco",
         "TX",
         139236,
         124805,
         "0.1156"
        ],
        [
         100,
         "Orange",
         "CA",
         138669,
         136416,
         "0.0165"
        ],
        [
         101,
         "Fullerton",
         "CA",
         138632,
         135161,
         "0.0257"
        ],
        [
         102,
         "Visalia",
         "CA",
         134605,
         124442,
         "0.0817"
        ],
        [
         103,
         "Round Rock",
         "TX",
         133372,
         99887,
         "0.3352"
        ],
        [
         104,
         "Santa Clara",
         "CA",
         130365,
         116468,
         "0.1193"
        ],
        [
         105,
         "Concord",
         "CA",
         129295,
         122067,
         "0.0592"
        ],
        [
         106,
         "Thousand Oaks",
         "CA",
         126813,
         126683,
         "0.001"
        ],
        [
         107,
         "Simi Valley",
         "CA",
         125613,
         124237,
         "0.0111"
        ],
        [
         108,
         "Abilene",
         "TX",
         123420,
         117063,
         "0.0543"
        ],
        [
         109,
         "Odessa",
         "TX",
         123334,
         99940,
         "0.2341"
        ],
        [
         110,
         "Pearland",
         "TX",
         122460,
         91252,
         "0.342"
        ],
        [
         111,
         "Victorville",
         "CA",
         122385,
         115903,
         "0.0559"
        ],
        [
         112,
         "Vallejo",
         "CA",
         121692,
         115942,
         "0.0496"
        ],
        [
         113,
         "Berkeley",
         "CA",
         121363,
         112580,
         "0.078"
        ],
        [
         114,
         "Richardson",
         "TX",
         121323,
         99223,
         "0.2227"
        ],
        [
         115,
         "Arvada",
         "CO",
         121272,
         106433,
         "0.1394"
        ],
        [
         116,
         "Sugar Land",
         "TX",
         118488,
         78817,
         "0.5033"
        ],
        [
         117,
         "College Station",
         "TX",
         117911,
         93857,
         "0.2563"
        ],
        [
         118,
         "Fairfield",
         "CA",
         117133,
         105321,
         "0.1122"
        ],
        [
         119,
         "Beaumont",
         "TX",
         116825,
         118296,
         "−1.24%                           "
        ],
        [
         120,
         "Murrieta",
         "CA",
         116223,
         103466,
         "0.1233"
        ],
        [
         121,
         "El Monte",
         "CA",
         115487,
         113475,
         "0.0177"
        ],
        [
         122,
         "Carlsbad",
         "CA",
         115382,
         105328,
         "0.0955"
        ],
        [
         123,
         "Temecula",
         "CA",
         114761,
         100097,
         "0.1465"
        ],
        [
         124,
         "Clovis",
         "CA",
         114584,
         95631,
         "0.1982"
        ],
        [
         125,
         "Springfield",
         "IL",
         114230,
         116250,
         "−1.74%                       "
        ],
        [
         126,
         "Westminster",
         "CO",
         113166,
         106114,
         "0.0665"
        ],
        [
         127,
         "Costa Mesa",
         "CA",
         113003,
         109960,
         "0.0277"
        ],
        [
         128,
         "Pueblo",
         "CO",
         112361,
         106595,
         "0.0541"
        ],
        [
         129,
         "Antioch",
         "CA",
         111502,
         102372,
         "0.0892"
        ],
        [
         130,
         "Downey",
         "CA",
         111126,
         111772,
         "−0.58%                           "
        ],
        [
         131,
         "Centennial",
         "CO",
         110937,
         100377,
         "0.1052"
        ],
        [
         132,
         "Elgin",
         "IL",
         110849,
         108188,
         "0.0246"
        ],
        [
         133,
         "Richmond",
         "CA",
         110567,
         103701,
         "0.0662"
        ],
        [
         134,
         "Peoria",
         "IL",
         110417,
         115007,
         "−3.99%                           "
        ],
        [
         135,
         "Lewisville",
         "TX",
         109212,
         95290,
         "0.1461"
        ],
        [
         136,
         "Ventura[ab]",
         "CA",
         109106,
         106433,
         "0.0251"
        ],
        [
         137,
         "Greeley",
         "CO",
         108649,
         92889,
         "0.1697"
        ],
        [
         138,
         "Inglewood",
         "CA",
         108151,
         109673,
         "−1.39%                       "
        ],
        [
         139,
         "League City",
         "TX",
         107536,
         83560,
         "0.2869"
        ],
        [
         140,
         "Santa Maria",
         "CA",
         107263,
         99553,
         "0.0774"
        ],
        [
         141,
         "Tyler",
         "TX",
         106985,
         96900,
         "0.1041"
        ],
        [
         142,
         "Daly City",
         "CA",
         106280,
         101123,
         "0.051"
        ],
        [
         143,
         "Boulder",
         "CO",
         105673,
         97385,
         "0.0851"
        ],
        [
         144,
         "Allen",
         "TX",
         105623,
         84246,
         "0.2537"
        ],
        [
         145,
         "West Covina",
         "CA",
         105101,
         106098,
         "−0.94%                       "
        ],
        [
         146,
         "Wichita Falls",
         "TX",
         104683,
         104553,
         "0.0012"
        ],
        [
         147,
         "San Mateo",
         "CA",
         104430,
         97207,
         "0.0743"
        ],
        [
         148,
         "Norwalk",
         "CA",
         103949,
         105549,
         "−1.52%                           "
        ],
        [
         149,
         "Rialto",
         "CA",
         103526,
         99171,
         "0.0439"
        ],
        [
         150,
         "Chico",
         "CA",
         103301,
         86187,
         "0.1986"
        ],
        [
         151,
         "El Cajon",
         "CA",
         102708,
         99478,
         "0.0325"
        ],
        [
         152,
         "Burbank",
         "CA",
         102511,
         103340,
         "−0.80%                           "
        ],
        [
         153,
         "Vista",
         "CA",
         101638,
         93834,
         "0.0832"
        ],
        [
         154,
         "Edinburg",
         "TX",
         101170,
         77100,
         "0.3122"
        ],
        [
         155,
         "San Angelo",
         "TX",
         101004,
         93200,
         "0.0837"
        ],
        [
         156,
         "Vacaville",
         "CA",
         100670,
         92428,
         "0.0892"
        ]
       ],
       "datasetInfos": [],
       "dbfsResultPath": null,
       "isJsonSchema": true,
       "metadata": {},
       "overflow": false,
       "plotOptions": {
        "customPlotOptions": {},
        "displayType": "table",
        "pivotAggregation": null,
        "pivotColumns": null,
        "xColumns": null,
        "yColumns": null
       },
       "removedWidgets": [],
       "schema": [
        {
         "metadata": "{}",
         "name": "2019_rank",
         "type": "\"integer\""
        },
        {
         "metadata": "{}",
         "name": "City",
         "type": "\"string\""
        },
        {
         "metadata": "{}",
         "name": "State_Code",
         "type": "\"string\""
        },
        {
         "metadata": "{}",
         "name": "2019_estimate",
         "type": "\"integer\""
        },
        {
         "metadata": "{}",
         "name": "2010_Census",
         "type": "\"integer\""
        },
        {
         "metadata": "{}",
         "name": "Change",
         "type": "\"string\""
        }
       ],
       "type": "table"
      }
     },
     "output_type": "display_data"
    }
   ],
   "source": [
    "df=(spark\n",
    "    .read\n",
    "    .format(\"csv\")\n",
    "    .option(\"header\",\"true\")\n",
    "    .option(\"inferSchema\",\"true\")\n",
    "    .option(\"delimiter\",\"|\")\n",
    "    .load(\"/FileStore/tables/uspopulation.csv\"))\n",
    "display(df)"
   ]
  },
  {
   "cell_type": "markdown",
   "metadata": {
    "application/vnd.databricks.v1+cell": {
     "cellMetadata": {},
     "inputWidgets": {},
     "nuid": "9e00095d-4679-4591-8b78-a9fda0869d39",
     "showTitle": false,
     "title": ""
    }
   },
   "source": [
    "Create Delta Table from Spark Dataframe"
   ]
  },
  {
   "cell_type": "code",
   "execution_count": 0,
   "metadata": {
    "application/vnd.databricks.v1+cell": {
     "cellMetadata": {
      "byteLimit": 2048000,
      "rowLimit": 10000
     },
     "inputWidgets": {},
     "nuid": "6e984076-b0ea-4fc6-8d8d-2132c5ed82e5",
     "showTitle": false,
     "title": ""
    }
   },
   "outputs": [],
   "source": [
    "(df\n",
    " .write\n",
    " .format(\"delta\")\n",
    " .option(\"mergeSchema\",True)\n",
    " .mode(\"append\")\n",
    " .saveAsTable(\"worldStocks\"))"
   ]
  },
  {
   "cell_type": "markdown",
   "metadata": {
    "application/vnd.databricks.v1+cell": {
     "cellMetadata": {},
     "inputWidgets": {},
     "nuid": "079bddf7-b6ed-4882-8300-de6e64c780dc",
     "showTitle": false,
     "title": ""
    }
   },
   "source": [
    "Once We create delta table we get the power of using data frame as sql table. Delta tables are based on databricks lakehouse architecture, so they are optimized both from warehousing BI tasks and Machine Learning tasks."
   ]
  },
  {
   "cell_type": "code",
   "execution_count": 0,
   "metadata": {
    "application/vnd.databricks.v1+cell": {
     "cellMetadata": {
      "byteLimit": 2048000,
      "implicitDf": true,
      "rowLimit": 10000
     },
     "inputWidgets": {},
     "nuid": "86f09acc-a328-498b-a1c0-5ac7f351d348",
     "showTitle": false,
     "title": ""
    }
   },
   "outputs": [
    {
     "output_type": "display_data",
     "data": {
      "text/html": [
       "<style scoped>\n",
       "  .table-result-container {\n",
       "    max-height: 300px;\n",
       "    overflow: auto;\n",
       "  }\n",
       "  table, th, td {\n",
       "    border: 1px solid black;\n",
       "    border-collapse: collapse;\n",
       "  }\n",
       "  th, td {\n",
       "    padding: 5px;\n",
       "  }\n",
       "  th {\n",
       "    text-align: left;\n",
       "  }\n",
       "</style><div class='table-result-container'><table class='table-result'><thead style='background-color: white'><tr><th>2019_rank</th><th>City</th><th>State_Code</th><th>2019_estimate</th><th>2010_Census</th><th>Change</th></tr></thead><tbody><tr><td>1</td><td>New York[d]</td><td>NY</td><td>8336817</td><td>8175133</td><td>0.0198</td></tr><tr><td>2</td><td>Los Angeles</td><td>CA</td><td>3979576</td><td>3792621</td><td>0.0493</td></tr><tr><td>3</td><td>Chicago</td><td>IL</td><td>2693976</td><td>2695598</td><td>−0.06%            </td></tr><tr><td>4</td><td>Houston[3]</td><td>TX</td><td>2320268</td><td>2100263</td><td>0.1048</td></tr><tr><td>5</td><td>Phoenix</td><td>AZ</td><td>1680992</td><td>1445632</td><td>0.1628</td></tr><tr><td>6</td><td>San Antonio</td><td>TX</td><td>1547253</td><td>1327407</td><td>0.1656</td></tr><tr><td>7</td><td>San Diego</td><td>CA</td><td>1423851</td><td>1307402</td><td>0.0891</td></tr><tr><td>8</td><td>Dallas</td><td>TX</td><td>1343573</td><td>1197816</td><td>0.1217</td></tr><tr><td>9</td><td>San Jose</td><td>CA</td><td>1021795</td><td>945942</td><td>0.0802</td></tr><tr><td>10</td><td>Austin</td><td>TX</td><td>978908</td><td>790390</td><td>0.2385</td></tr><tr><td>11</td><td>Fort Worth</td><td>TX</td><td>909585</td><td>741206</td><td>0.2272</td></tr><tr><td>12</td><td>Columbus</td><td>OH</td><td>898553</td><td>787033</td><td>0.1417</td></tr><tr><td>13</td><td>San Francisco[g]</td><td>CA</td><td>881549</td><td>805235</td><td>0.0948</td></tr><tr><td>14</td><td>Denver[i]</td><td>CO</td><td>727211</td><td>600158</td><td>0.2117</td></tr><tr><td>15</td><td>El Paso</td><td>TX</td><td>681728</td><td>649121</td><td>0.0502</td></tr><tr><td>16</td><td>Tucson</td><td>AZ</td><td>548073</td><td>520116</td><td>0.0538</td></tr><tr><td>17</td><td>Fresno</td><td>CA</td><td>531576</td><td>494665</td><td>0.0746</td></tr><tr><td>18</td><td>Mesa</td><td>AZ</td><td>518012</td><td>439041</td><td>0.1799</td></tr><tr><td>19</td><td>Sacramento</td><td>CA</td><td>513624</td><td>466488</td><td>0.101</td></tr><tr><td>20</td><td>Colorado Springs</td><td>CO</td><td>478221</td><td>416427</td><td>0.1484</td></tr><tr><td>21</td><td>Long Beach</td><td>CA</td><td>462628</td><td>462257</td><td>0.0008</td></tr><tr><td>22</td><td>Oakland</td><td>CA</td><td>433031</td><td>390724</td><td>0.1083</td></tr><tr><td>23</td><td>Arlington</td><td>TX</td><td>398854</td><td>365438</td><td>0.0914</td></tr><tr><td>24</td><td>Bakersfield</td><td>CA</td><td>384145</td><td>347483</td><td>0.1055</td></tr><tr><td>25</td><td>Cleveland</td><td>OH</td><td>381009</td><td>396815</td><td>−3.98%                           </td></tr><tr><td>26</td><td>Aurora</td><td>CO</td><td>379289</td><td>325078</td><td>0.1668</td></tr><tr><td>27</td><td>Anaheim</td><td>CA</td><td>350365</td><td>336265</td><td>0.0419</td></tr><tr><td>28</td><td>Santa Ana</td><td>CA</td><td>332318</td><td>324528</td><td>0.024</td></tr><tr><td>29</td><td>Riverside</td><td>CA</td><td>331360</td><td>303871</td><td>0.0905</td></tr><tr><td>30</td><td>Corpus Christi</td><td>TX</td><td>326586</td><td>305215</td><td>0.07</td></tr><tr><td>31</td><td>Stockton</td><td>CA</td><td>312697</td><td>291707</td><td>0.072</td></tr><tr><td>32</td><td>Cincinnati</td><td>OH</td><td>303940</td><td>296943</td><td>0.0236</td></tr><tr><td>33</td><td>Plano</td><td>TX</td><td>287677</td><td>259841</td><td>0.1071</td></tr><tr><td>34</td><td>Irvine</td><td>CA</td><td>287401</td><td>212375</td><td>0.3533</td></tr><tr><td>35</td><td>Chula Vista</td><td>CA</td><td>274492</td><td>243916</td><td>0.1254</td></tr><tr><td>36</td><td>Toledo</td><td>OH</td><td>272779</td><td>287208</td><td>−5.02%                               </td></tr><tr><td>37</td><td>Laredo</td><td>TX</td><td>262491</td><td>236091</td><td>0.1118</td></tr><tr><td>38</td><td>Chandler</td><td>AZ</td><td>261165</td><td>236123</td><td>0.1061</td></tr><tr><td>39</td><td>Lubbock</td><td>TX</td><td>258862</td><td>229573</td><td>0.1276</td></tr><tr><td>40</td><td>Scottsdale</td><td>AZ</td><td>258069</td><td>217385</td><td>0.1872</td></tr><tr><td>41</td><td>Buffalo</td><td>NY</td><td>255284</td><td>261310</td><td>−2.31%                           </td></tr><tr><td>42</td><td>Gilbert[q]</td><td>AZ</td><td>254114</td><td>208453</td><td>0.219</td></tr><tr><td>43</td><td>Glendale</td><td>AZ</td><td>252381</td><td>226721</td><td>0.1132</td></tr><tr><td>44</td><td>Fremont</td><td>CA</td><td>241110</td><td>214089</td><td>0.1262</td></tr><tr><td>45</td><td>Garland</td><td>TX</td><td>239928</td><td>226876</td><td>0.0575</td></tr><tr><td>46</td><td>Irving</td><td>TX</td><td>239798</td><td>216290</td><td>0.1087</td></tr><tr><td>47</td><td>San Bernardino</td><td>CA</td><td>215784</td><td>209924</td><td>0.0279</td></tr><tr><td>48</td><td>Modesto</td><td>CA</td><td>215196</td><td>201165</td><td>0.0697</td></tr><tr><td>49</td><td>Fontana</td><td>CA</td><td>214547</td><td>196069</td><td>0.0942</td></tr><tr><td>50</td><td>Moreno Valley</td><td>CA</td><td>213055</td><td>193365</td><td>0.1018</td></tr><tr><td>51</td><td>Santa Clarita</td><td>CA</td><td>212979</td><td>176320</td><td>0.2079</td></tr><tr><td>52</td><td>Oxnard</td><td>CA</td><td>208881</td><td>197899</td><td>0.0555</td></tr><tr><td>53</td><td>Rochester</td><td>NY</td><td>205695</td><td>210565</td><td>−2.31%                       </td></tr><tr><td>54</td><td>Frisco</td><td>TX</td><td>200490</td><td>116989</td><td>0.7138</td></tr><tr><td>55</td><td>Yonkers</td><td>NY</td><td>200370</td><td>195976</td><td>0.0224</td></tr><tr><td>56</td><td>Amarillo</td><td>TX</td><td>199371</td><td>190695</td><td>0.0455</td></tr><tr><td>57</td><td>Glendale</td><td>CA</td><td>199303</td><td>191719</td><td>0.0396</td></tr><tr><td>58</td><td>Huntington Beach</td><td>CA</td><td>199223</td><td>189992</td><td>0.0486</td></tr><tr><td>59</td><td>McKinney</td><td>TX</td><td>199177</td><td>131117</td><td>0.5191</td></tr><tr><td>60</td><td>Aurora</td><td>IL</td><td>197757</td><td>197899</td><td>−0.07%                           </td></tr><tr><td>61</td><td>Akron</td><td>OH</td><td>197597</td><td>199110</td><td>−0.76%                               </td></tr><tr><td>62</td><td>Tempe</td><td>AZ</td><td>195805</td><td>161719</td><td>0.2108</td></tr><tr><td>63</td><td>Grand Prairie</td><td>TX</td><td>194543</td><td>175396</td><td>0.1092</td></tr><tr><td>64</td><td>Ontario</td><td>CA</td><td>185010</td><td>163924</td><td>0.1286</td></tr><tr><td>65</td><td>Brownsville</td><td>TX</td><td>182781</td><td>175023</td><td>0.0443</td></tr><tr><td>66</td><td>Rancho Cucamonga</td><td>CA</td><td>177603</td><td>165269</td><td>0.0746</td></tr><tr><td>67</td><td>Santa Rosa</td><td>CA</td><td>176753</td><td>167815</td><td>0.0533</td></tr><tr><td>68</td><td>Peoria</td><td>AZ</td><td>175961</td><td>154065</td><td>0.1421</td></tr><tr><td>69</td><td>Oceanside</td><td>CA</td><td>175742</td><td>167086</td><td>0.0518</td></tr><tr><td>70</td><td>Elk Grove</td><td>CA</td><td>174775</td><td>153015</td><td>0.1422</td></tr><tr><td>71</td><td>Garden Grove</td><td>CA</td><td>171644</td><td>170883</td><td>0.0045</td></tr><tr><td>72</td><td>Fort Collins</td><td>CO</td><td>170243</td><td>143986</td><td>0.1824</td></tr><tr><td>73</td><td>Corona</td><td>CA</td><td>169868</td><td>152374</td><td>0.1148</td></tr><tr><td>74</td><td>Hayward</td><td>CA</td><td>159203</td><td>144186</td><td>0.1042</td></tr><tr><td>75</td><td>Lakewood</td><td>CO</td><td>157935</td><td>142980</td><td>0.1046</td></tr><tr><td>76</td><td>Lancaster</td><td>CA</td><td>157601</td><td>156633</td><td>0.0062</td></tr><tr><td>77</td><td>Salinas</td><td>CA</td><td>155465</td><td>150441</td><td>0.0334</td></tr><tr><td>78</td><td>Palmdale</td><td>CA</td><td>155079</td><td>152750</td><td>0.0152</td></tr><tr><td>79</td><td>Sunnyvale</td><td>CA</td><td>152703</td><td>140081</td><td>0.0901</td></tr><tr><td>80</td><td>Pomona</td><td>CA</td><td>151691</td><td>149058</td><td>0.0177</td></tr><tr><td>81</td><td>Killeen</td><td>TX</td><td>151666</td><td>127921</td><td>0.1856</td></tr><tr><td>82</td><td>Escondido</td><td>CA</td><td>151625</td><td>143911</td><td>0.0536</td></tr><tr><td>83</td><td>Pasadena</td><td>TX</td><td>151227</td><td>149043</td><td>0.0147</td></tr><tr><td>84</td><td>Naperville</td><td>IL</td><td>148449</td><td>141853</td><td>0.0465</td></tr><tr><td>85</td><td>Joliet</td><td>IL</td><td>147344</td><td>147433</td><td>−0.06%                           </td></tr><tr><td>86</td><td>Midland</td><td>TX</td><td>146038</td><td>111147</td><td>0.3139</td></tr><tr><td>87</td><td>Rockford</td><td>IL</td><td>145609</td><td>152871</td><td>−4.75%                       </td></tr><tr><td>88</td><td>Torrance</td><td>CA</td><td>143592</td><td>145438</td><td>−1.27%                       </td></tr><tr><td>89</td><td>McAllen</td><td>TX</td><td>143268</td><td>129877</td><td>0.1031</td></tr><tr><td>90</td><td>Syracuse</td><td>NY</td><td>142327</td><td>145170</td><td>−1.96%                       </td></tr><tr><td>91</td><td>Surprise</td><td>AZ</td><td>141664</td><td>117517</td><td>0.2055</td></tr><tr><td>92</td><td>Denton</td><td>TX</td><td>141541</td><td>113383</td><td>0.2483</td></tr><tr><td>93</td><td>Roseville</td><td>CA</td><td>141500</td><td>118788</td><td>0.1912</td></tr><tr><td>94</td><td>Thornton</td><td>CO</td><td>141464</td><td>118772</td><td>0.1911</td></tr><tr><td>95</td><td>Pasadena</td><td>CA</td><td>141029</td><td>137122</td><td>0.0285</td></tr><tr><td>96</td><td>Mesquite</td><td>TX</td><td>140937</td><td>139824</td><td>0.008</td></tr><tr><td>97</td><td>Dayton</td><td>OH</td><td>140407</td><td>141527</td><td>−0.79%                               </td></tr><tr><td>98</td><td>Carrollton</td><td>TX</td><td>139248</td><td>119097</td><td>0.1692</td></tr><tr><td>99</td><td>Waco</td><td>TX</td><td>139236</td><td>124805</td><td>0.1156</td></tr><tr><td>100</td><td>Orange</td><td>CA</td><td>138669</td><td>136416</td><td>0.0165</td></tr><tr><td>101</td><td>Fullerton</td><td>CA</td><td>138632</td><td>135161</td><td>0.0257</td></tr><tr><td>102</td><td>Visalia</td><td>CA</td><td>134605</td><td>124442</td><td>0.0817</td></tr><tr><td>103</td><td>Round Rock</td><td>TX</td><td>133372</td><td>99887</td><td>0.3352</td></tr><tr><td>104</td><td>Santa Clara</td><td>CA</td><td>130365</td><td>116468</td><td>0.1193</td></tr><tr><td>105</td><td>Concord</td><td>CA</td><td>129295</td><td>122067</td><td>0.0592</td></tr><tr><td>106</td><td>Thousand Oaks</td><td>CA</td><td>126813</td><td>126683</td><td>0.001</td></tr><tr><td>107</td><td>Simi Valley</td><td>CA</td><td>125613</td><td>124237</td><td>0.0111</td></tr><tr><td>108</td><td>Abilene</td><td>TX</td><td>123420</td><td>117063</td><td>0.0543</td></tr><tr><td>109</td><td>Odessa</td><td>TX</td><td>123334</td><td>99940</td><td>0.2341</td></tr><tr><td>110</td><td>Pearland</td><td>TX</td><td>122460</td><td>91252</td><td>0.342</td></tr><tr><td>111</td><td>Victorville</td><td>CA</td><td>122385</td><td>115903</td><td>0.0559</td></tr><tr><td>112</td><td>Vallejo</td><td>CA</td><td>121692</td><td>115942</td><td>0.0496</td></tr><tr><td>113</td><td>Berkeley</td><td>CA</td><td>121363</td><td>112580</td><td>0.078</td></tr><tr><td>114</td><td>Richardson</td><td>TX</td><td>121323</td><td>99223</td><td>0.2227</td></tr><tr><td>115</td><td>Arvada</td><td>CO</td><td>121272</td><td>106433</td><td>0.1394</td></tr><tr><td>116</td><td>Sugar Land</td><td>TX</td><td>118488</td><td>78817</td><td>0.5033</td></tr><tr><td>117</td><td>College Station</td><td>TX</td><td>117911</td><td>93857</td><td>0.2563</td></tr><tr><td>118</td><td>Fairfield</td><td>CA</td><td>117133</td><td>105321</td><td>0.1122</td></tr><tr><td>119</td><td>Beaumont</td><td>TX</td><td>116825</td><td>118296</td><td>−1.24%                           </td></tr><tr><td>120</td><td>Murrieta</td><td>CA</td><td>116223</td><td>103466</td><td>0.1233</td></tr><tr><td>121</td><td>El Monte</td><td>CA</td><td>115487</td><td>113475</td><td>0.0177</td></tr><tr><td>122</td><td>Carlsbad</td><td>CA</td><td>115382</td><td>105328</td><td>0.0955</td></tr><tr><td>123</td><td>Temecula</td><td>CA</td><td>114761</td><td>100097</td><td>0.1465</td></tr><tr><td>124</td><td>Clovis</td><td>CA</td><td>114584</td><td>95631</td><td>0.1982</td></tr><tr><td>125</td><td>Springfield</td><td>IL</td><td>114230</td><td>116250</td><td>−1.74%                       </td></tr><tr><td>126</td><td>Westminster</td><td>CO</td><td>113166</td><td>106114</td><td>0.0665</td></tr><tr><td>127</td><td>Costa Mesa</td><td>CA</td><td>113003</td><td>109960</td><td>0.0277</td></tr><tr><td>128</td><td>Pueblo</td><td>CO</td><td>112361</td><td>106595</td><td>0.0541</td></tr><tr><td>129</td><td>Antioch</td><td>CA</td><td>111502</td><td>102372</td><td>0.0892</td></tr><tr><td>130</td><td>Downey</td><td>CA</td><td>111126</td><td>111772</td><td>−0.58%                           </td></tr><tr><td>131</td><td>Centennial</td><td>CO</td><td>110937</td><td>100377</td><td>0.1052</td></tr><tr><td>132</td><td>Elgin</td><td>IL</td><td>110849</td><td>108188</td><td>0.0246</td></tr><tr><td>133</td><td>Richmond</td><td>CA</td><td>110567</td><td>103701</td><td>0.0662</td></tr><tr><td>134</td><td>Peoria</td><td>IL</td><td>110417</td><td>115007</td><td>−3.99%                           </td></tr><tr><td>135</td><td>Lewisville</td><td>TX</td><td>109212</td><td>95290</td><td>0.1461</td></tr><tr><td>136</td><td>Ventura[ab]</td><td>CA</td><td>109106</td><td>106433</td><td>0.0251</td></tr><tr><td>137</td><td>Greeley</td><td>CO</td><td>108649</td><td>92889</td><td>0.1697</td></tr><tr><td>138</td><td>Inglewood</td><td>CA</td><td>108151</td><td>109673</td><td>−1.39%                       </td></tr><tr><td>139</td><td>League City</td><td>TX</td><td>107536</td><td>83560</td><td>0.2869</td></tr><tr><td>140</td><td>Santa Maria</td><td>CA</td><td>107263</td><td>99553</td><td>0.0774</td></tr><tr><td>141</td><td>Tyler</td><td>TX</td><td>106985</td><td>96900</td><td>0.1041</td></tr><tr><td>142</td><td>Daly City</td><td>CA</td><td>106280</td><td>101123</td><td>0.051</td></tr><tr><td>143</td><td>Boulder</td><td>CO</td><td>105673</td><td>97385</td><td>0.0851</td></tr><tr><td>144</td><td>Allen</td><td>TX</td><td>105623</td><td>84246</td><td>0.2537</td></tr><tr><td>145</td><td>West Covina</td><td>CA</td><td>105101</td><td>106098</td><td>−0.94%                       </td></tr><tr><td>146</td><td>Wichita Falls</td><td>TX</td><td>104683</td><td>104553</td><td>0.0012</td></tr><tr><td>147</td><td>San Mateo</td><td>CA</td><td>104430</td><td>97207</td><td>0.0743</td></tr><tr><td>148</td><td>Norwalk</td><td>CA</td><td>103949</td><td>105549</td><td>−1.52%                           </td></tr><tr><td>149</td><td>Rialto</td><td>CA</td><td>103526</td><td>99171</td><td>0.0439</td></tr><tr><td>150</td><td>Chico</td><td>CA</td><td>103301</td><td>86187</td><td>0.1986</td></tr><tr><td>151</td><td>El Cajon</td><td>CA</td><td>102708</td><td>99478</td><td>0.0325</td></tr><tr><td>152</td><td>Burbank</td><td>CA</td><td>102511</td><td>103340</td><td>−0.80%                           </td></tr><tr><td>153</td><td>Vista</td><td>CA</td><td>101638</td><td>93834</td><td>0.0832</td></tr><tr><td>154</td><td>Edinburg</td><td>TX</td><td>101170</td><td>77100</td><td>0.3122</td></tr><tr><td>155</td><td>San Angelo</td><td>TX</td><td>101004</td><td>93200</td><td>0.0837</td></tr><tr><td>156</td><td>Vacaville</td><td>CA</td><td>100670</td><td>92428</td><td>0.0892</td></tr></tbody></table></div>"
      ]
     },
     "metadata": {
      "application/vnd.databricks.v1+output": {
       "addedWidgets": {},
       "aggData": [],
       "aggError": "",
       "aggOverflow": false,
       "aggSchema": [],
       "aggSeriesLimitReached": false,
       "aggType": "",
       "arguments": {},
       "columnCustomDisplayInfos": {},
       "data": [
        [
         1,
         "New York[d]",
         "NY",
         8336817,
         8175133,
         "0.0198"
        ],
        [
         2,
         "Los Angeles",
         "CA",
         3979576,
         3792621,
         "0.0493"
        ],
        [
         3,
         "Chicago",
         "IL",
         2693976,
         2695598,
         "−0.06%            "
        ],
        [
         4,
         "Houston[3]",
         "TX",
         2320268,
         2100263,
         "0.1048"
        ],
        [
         5,
         "Phoenix",
         "AZ",
         1680992,
         1445632,
         "0.1628"
        ],
        [
         6,
         "San Antonio",
         "TX",
         1547253,
         1327407,
         "0.1656"
        ],
        [
         7,
         "San Diego",
         "CA",
         1423851,
         1307402,
         "0.0891"
        ],
        [
         8,
         "Dallas",
         "TX",
         1343573,
         1197816,
         "0.1217"
        ],
        [
         9,
         "San Jose",
         "CA",
         1021795,
         945942,
         "0.0802"
        ],
        [
         10,
         "Austin",
         "TX",
         978908,
         790390,
         "0.2385"
        ],
        [
         11,
         "Fort Worth",
         "TX",
         909585,
         741206,
         "0.2272"
        ],
        [
         12,
         "Columbus",
         "OH",
         898553,
         787033,
         "0.1417"
        ],
        [
         13,
         "San Francisco[g]",
         "CA",
         881549,
         805235,
         "0.0948"
        ],
        [
         14,
         "Denver[i]",
         "CO",
         727211,
         600158,
         "0.2117"
        ],
        [
         15,
         "El Paso",
         "TX",
         681728,
         649121,
         "0.0502"
        ],
        [
         16,
         "Tucson",
         "AZ",
         548073,
         520116,
         "0.0538"
        ],
        [
         17,
         "Fresno",
         "CA",
         531576,
         494665,
         "0.0746"
        ],
        [
         18,
         "Mesa",
         "AZ",
         518012,
         439041,
         "0.1799"
        ],
        [
         19,
         "Sacramento",
         "CA",
         513624,
         466488,
         "0.101"
        ],
        [
         20,
         "Colorado Springs",
         "CO",
         478221,
         416427,
         "0.1484"
        ],
        [
         21,
         "Long Beach",
         "CA",
         462628,
         462257,
         "0.0008"
        ],
        [
         22,
         "Oakland",
         "CA",
         433031,
         390724,
         "0.1083"
        ],
        [
         23,
         "Arlington",
         "TX",
         398854,
         365438,
         "0.0914"
        ],
        [
         24,
         "Bakersfield",
         "CA",
         384145,
         347483,
         "0.1055"
        ],
        [
         25,
         "Cleveland",
         "OH",
         381009,
         396815,
         "−3.98%                           "
        ],
        [
         26,
         "Aurora",
         "CO",
         379289,
         325078,
         "0.1668"
        ],
        [
         27,
         "Anaheim",
         "CA",
         350365,
         336265,
         "0.0419"
        ],
        [
         28,
         "Santa Ana",
         "CA",
         332318,
         324528,
         "0.024"
        ],
        [
         29,
         "Riverside",
         "CA",
         331360,
         303871,
         "0.0905"
        ],
        [
         30,
         "Corpus Christi",
         "TX",
         326586,
         305215,
         "0.07"
        ],
        [
         31,
         "Stockton",
         "CA",
         312697,
         291707,
         "0.072"
        ],
        [
         32,
         "Cincinnati",
         "OH",
         303940,
         296943,
         "0.0236"
        ],
        [
         33,
         "Plano",
         "TX",
         287677,
         259841,
         "0.1071"
        ],
        [
         34,
         "Irvine",
         "CA",
         287401,
         212375,
         "0.3533"
        ],
        [
         35,
         "Chula Vista",
         "CA",
         274492,
         243916,
         "0.1254"
        ],
        [
         36,
         "Toledo",
         "OH",
         272779,
         287208,
         "−5.02%                               "
        ],
        [
         37,
         "Laredo",
         "TX",
         262491,
         236091,
         "0.1118"
        ],
        [
         38,
         "Chandler",
         "AZ",
         261165,
         236123,
         "0.1061"
        ],
        [
         39,
         "Lubbock",
         "TX",
         258862,
         229573,
         "0.1276"
        ],
        [
         40,
         "Scottsdale",
         "AZ",
         258069,
         217385,
         "0.1872"
        ],
        [
         41,
         "Buffalo",
         "NY",
         255284,
         261310,
         "−2.31%                           "
        ],
        [
         42,
         "Gilbert[q]",
         "AZ",
         254114,
         208453,
         "0.219"
        ],
        [
         43,
         "Glendale",
         "AZ",
         252381,
         226721,
         "0.1132"
        ],
        [
         44,
         "Fremont",
         "CA",
         241110,
         214089,
         "0.1262"
        ],
        [
         45,
         "Garland",
         "TX",
         239928,
         226876,
         "0.0575"
        ],
        [
         46,
         "Irving",
         "TX",
         239798,
         216290,
         "0.1087"
        ],
        [
         47,
         "San Bernardino",
         "CA",
         215784,
         209924,
         "0.0279"
        ],
        [
         48,
         "Modesto",
         "CA",
         215196,
         201165,
         "0.0697"
        ],
        [
         49,
         "Fontana",
         "CA",
         214547,
         196069,
         "0.0942"
        ],
        [
         50,
         "Moreno Valley",
         "CA",
         213055,
         193365,
         "0.1018"
        ],
        [
         51,
         "Santa Clarita",
         "CA",
         212979,
         176320,
         "0.2079"
        ],
        [
         52,
         "Oxnard",
         "CA",
         208881,
         197899,
         "0.0555"
        ],
        [
         53,
         "Rochester",
         "NY",
         205695,
         210565,
         "−2.31%                       "
        ],
        [
         54,
         "Frisco",
         "TX",
         200490,
         116989,
         "0.7138"
        ],
        [
         55,
         "Yonkers",
         "NY",
         200370,
         195976,
         "0.0224"
        ],
        [
         56,
         "Amarillo",
         "TX",
         199371,
         190695,
         "0.0455"
        ],
        [
         57,
         "Glendale",
         "CA",
         199303,
         191719,
         "0.0396"
        ],
        [
         58,
         "Huntington Beach",
         "CA",
         199223,
         189992,
         "0.0486"
        ],
        [
         59,
         "McKinney",
         "TX",
         199177,
         131117,
         "0.5191"
        ],
        [
         60,
         "Aurora",
         "IL",
         197757,
         197899,
         "−0.07%                           "
        ],
        [
         61,
         "Akron",
         "OH",
         197597,
         199110,
         "−0.76%                               "
        ],
        [
         62,
         "Tempe",
         "AZ",
         195805,
         161719,
         "0.2108"
        ],
        [
         63,
         "Grand Prairie",
         "TX",
         194543,
         175396,
         "0.1092"
        ],
        [
         64,
         "Ontario",
         "CA",
         185010,
         163924,
         "0.1286"
        ],
        [
         65,
         "Brownsville",
         "TX",
         182781,
         175023,
         "0.0443"
        ],
        [
         66,
         "Rancho Cucamonga",
         "CA",
         177603,
         165269,
         "0.0746"
        ],
        [
         67,
         "Santa Rosa",
         "CA",
         176753,
         167815,
         "0.0533"
        ],
        [
         68,
         "Peoria",
         "AZ",
         175961,
         154065,
         "0.1421"
        ],
        [
         69,
         "Oceanside",
         "CA",
         175742,
         167086,
         "0.0518"
        ],
        [
         70,
         "Elk Grove",
         "CA",
         174775,
         153015,
         "0.1422"
        ],
        [
         71,
         "Garden Grove",
         "CA",
         171644,
         170883,
         "0.0045"
        ],
        [
         72,
         "Fort Collins",
         "CO",
         170243,
         143986,
         "0.1824"
        ],
        [
         73,
         "Corona",
         "CA",
         169868,
         152374,
         "0.1148"
        ],
        [
         74,
         "Hayward",
         "CA",
         159203,
         144186,
         "0.1042"
        ],
        [
         75,
         "Lakewood",
         "CO",
         157935,
         142980,
         "0.1046"
        ],
        [
         76,
         "Lancaster",
         "CA",
         157601,
         156633,
         "0.0062"
        ],
        [
         77,
         "Salinas",
         "CA",
         155465,
         150441,
         "0.0334"
        ],
        [
         78,
         "Palmdale",
         "CA",
         155079,
         152750,
         "0.0152"
        ],
        [
         79,
         "Sunnyvale",
         "CA",
         152703,
         140081,
         "0.0901"
        ],
        [
         80,
         "Pomona",
         "CA",
         151691,
         149058,
         "0.0177"
        ],
        [
         81,
         "Killeen",
         "TX",
         151666,
         127921,
         "0.1856"
        ],
        [
         82,
         "Escondido",
         "CA",
         151625,
         143911,
         "0.0536"
        ],
        [
         83,
         "Pasadena",
         "TX",
         151227,
         149043,
         "0.0147"
        ],
        [
         84,
         "Naperville",
         "IL",
         148449,
         141853,
         "0.0465"
        ],
        [
         85,
         "Joliet",
         "IL",
         147344,
         147433,
         "−0.06%                           "
        ],
        [
         86,
         "Midland",
         "TX",
         146038,
         111147,
         "0.3139"
        ],
        [
         87,
         "Rockford",
         "IL",
         145609,
         152871,
         "−4.75%                       "
        ],
        [
         88,
         "Torrance",
         "CA",
         143592,
         145438,
         "−1.27%                       "
        ],
        [
         89,
         "McAllen",
         "TX",
         143268,
         129877,
         "0.1031"
        ],
        [
         90,
         "Syracuse",
         "NY",
         142327,
         145170,
         "−1.96%                       "
        ],
        [
         91,
         "Surprise",
         "AZ",
         141664,
         117517,
         "0.2055"
        ],
        [
         92,
         "Denton",
         "TX",
         141541,
         113383,
         "0.2483"
        ],
        [
         93,
         "Roseville",
         "CA",
         141500,
         118788,
         "0.1912"
        ],
        [
         94,
         "Thornton",
         "CO",
         141464,
         118772,
         "0.1911"
        ],
        [
         95,
         "Pasadena",
         "CA",
         141029,
         137122,
         "0.0285"
        ],
        [
         96,
         "Mesquite",
         "TX",
         140937,
         139824,
         "0.008"
        ],
        [
         97,
         "Dayton",
         "OH",
         140407,
         141527,
         "−0.79%                               "
        ],
        [
         98,
         "Carrollton",
         "TX",
         139248,
         119097,
         "0.1692"
        ],
        [
         99,
         "Waco",
         "TX",
         139236,
         124805,
         "0.1156"
        ],
        [
         100,
         "Orange",
         "CA",
         138669,
         136416,
         "0.0165"
        ],
        [
         101,
         "Fullerton",
         "CA",
         138632,
         135161,
         "0.0257"
        ],
        [
         102,
         "Visalia",
         "CA",
         134605,
         124442,
         "0.0817"
        ],
        [
         103,
         "Round Rock",
         "TX",
         133372,
         99887,
         "0.3352"
        ],
        [
         104,
         "Santa Clara",
         "CA",
         130365,
         116468,
         "0.1193"
        ],
        [
         105,
         "Concord",
         "CA",
         129295,
         122067,
         "0.0592"
        ],
        [
         106,
         "Thousand Oaks",
         "CA",
         126813,
         126683,
         "0.001"
        ],
        [
         107,
         "Simi Valley",
         "CA",
         125613,
         124237,
         "0.0111"
        ],
        [
         108,
         "Abilene",
         "TX",
         123420,
         117063,
         "0.0543"
        ],
        [
         109,
         "Odessa",
         "TX",
         123334,
         99940,
         "0.2341"
        ],
        [
         110,
         "Pearland",
         "TX",
         122460,
         91252,
         "0.342"
        ],
        [
         111,
         "Victorville",
         "CA",
         122385,
         115903,
         "0.0559"
        ],
        [
         112,
         "Vallejo",
         "CA",
         121692,
         115942,
         "0.0496"
        ],
        [
         113,
         "Berkeley",
         "CA",
         121363,
         112580,
         "0.078"
        ],
        [
         114,
         "Richardson",
         "TX",
         121323,
         99223,
         "0.2227"
        ],
        [
         115,
         "Arvada",
         "CO",
         121272,
         106433,
         "0.1394"
        ],
        [
         116,
         "Sugar Land",
         "TX",
         118488,
         78817,
         "0.5033"
        ],
        [
         117,
         "College Station",
         "TX",
         117911,
         93857,
         "0.2563"
        ],
        [
         118,
         "Fairfield",
         "CA",
         117133,
         105321,
         "0.1122"
        ],
        [
         119,
         "Beaumont",
         "TX",
         116825,
         118296,
         "−1.24%                           "
        ],
        [
         120,
         "Murrieta",
         "CA",
         116223,
         103466,
         "0.1233"
        ],
        [
         121,
         "El Monte",
         "CA",
         115487,
         113475,
         "0.0177"
        ],
        [
         122,
         "Carlsbad",
         "CA",
         115382,
         105328,
         "0.0955"
        ],
        [
         123,
         "Temecula",
         "CA",
         114761,
         100097,
         "0.1465"
        ],
        [
         124,
         "Clovis",
         "CA",
         114584,
         95631,
         "0.1982"
        ],
        [
         125,
         "Springfield",
         "IL",
         114230,
         116250,
         "−1.74%                       "
        ],
        [
         126,
         "Westminster",
         "CO",
         113166,
         106114,
         "0.0665"
        ],
        [
         127,
         "Costa Mesa",
         "CA",
         113003,
         109960,
         "0.0277"
        ],
        [
         128,
         "Pueblo",
         "CO",
         112361,
         106595,
         "0.0541"
        ],
        [
         129,
         "Antioch",
         "CA",
         111502,
         102372,
         "0.0892"
        ],
        [
         130,
         "Downey",
         "CA",
         111126,
         111772,
         "−0.58%                           "
        ],
        [
         131,
         "Centennial",
         "CO",
         110937,
         100377,
         "0.1052"
        ],
        [
         132,
         "Elgin",
         "IL",
         110849,
         108188,
         "0.0246"
        ],
        [
         133,
         "Richmond",
         "CA",
         110567,
         103701,
         "0.0662"
        ],
        [
         134,
         "Peoria",
         "IL",
         110417,
         115007,
         "−3.99%                           "
        ],
        [
         135,
         "Lewisville",
         "TX",
         109212,
         95290,
         "0.1461"
        ],
        [
         136,
         "Ventura[ab]",
         "CA",
         109106,
         106433,
         "0.0251"
        ],
        [
         137,
         "Greeley",
         "CO",
         108649,
         92889,
         "0.1697"
        ],
        [
         138,
         "Inglewood",
         "CA",
         108151,
         109673,
         "−1.39%                       "
        ],
        [
         139,
         "League City",
         "TX",
         107536,
         83560,
         "0.2869"
        ],
        [
         140,
         "Santa Maria",
         "CA",
         107263,
         99553,
         "0.0774"
        ],
        [
         141,
         "Tyler",
         "TX",
         106985,
         96900,
         "0.1041"
        ],
        [
         142,
         "Daly City",
         "CA",
         106280,
         101123,
         "0.051"
        ],
        [
         143,
         "Boulder",
         "CO",
         105673,
         97385,
         "0.0851"
        ],
        [
         144,
         "Allen",
         "TX",
         105623,
         84246,
         "0.2537"
        ],
        [
         145,
         "West Covina",
         "CA",
         105101,
         106098,
         "−0.94%                       "
        ],
        [
         146,
         "Wichita Falls",
         "TX",
         104683,
         104553,
         "0.0012"
        ],
        [
         147,
         "San Mateo",
         "CA",
         104430,
         97207,
         "0.0743"
        ],
        [
         148,
         "Norwalk",
         "CA",
         103949,
         105549,
         "−1.52%                           "
        ],
        [
         149,
         "Rialto",
         "CA",
         103526,
         99171,
         "0.0439"
        ],
        [
         150,
         "Chico",
         "CA",
         103301,
         86187,
         "0.1986"
        ],
        [
         151,
         "El Cajon",
         "CA",
         102708,
         99478,
         "0.0325"
        ],
        [
         152,
         "Burbank",
         "CA",
         102511,
         103340,
         "−0.80%                           "
        ],
        [
         153,
         "Vista",
         "CA",
         101638,
         93834,
         "0.0832"
        ],
        [
         154,
         "Edinburg",
         "TX",
         101170,
         77100,
         "0.3122"
        ],
        [
         155,
         "San Angelo",
         "TX",
         101004,
         93200,
         "0.0837"
        ],
        [
         156,
         "Vacaville",
         "CA",
         100670,
         92428,
         "0.0892"
        ]
       ],
       "datasetInfos": [],
       "dbfsResultPath": null,
       "isJsonSchema": true,
       "metadata": {},
       "overflow": false,
       "plotOptions": {
        "customPlotOptions": {},
        "displayType": "table",
        "pivotAggregation": null,
        "pivotColumns": null,
        "xColumns": null,
        "yColumns": null
       },
       "removedWidgets": [],
       "schema": [
        {
         "metadata": "{}",
         "name": "2019_rank",
         "type": "\"integer\""
        },
        {
         "metadata": "{}",
         "name": "City",
         "type": "\"string\""
        },
        {
         "metadata": "{}",
         "name": "State_Code",
         "type": "\"string\""
        },
        {
         "metadata": "{}",
         "name": "2019_estimate",
         "type": "\"integer\""
        },
        {
         "metadata": "{}",
         "name": "2010_Census",
         "type": "\"integer\""
        },
        {
         "metadata": "{}",
         "name": "Change",
         "type": "\"string\""
        }
       ],
       "type": "table"
      }
     },
     "output_type": "display_data"
    }
   ],
   "source": [
    "%sql\n",
    "select * from worldStocks"
   ]
  },
  {
   "cell_type": "markdown",
   "metadata": {
    "application/vnd.databricks.v1+cell": {
     "cellMetadata": {},
     "inputWidgets": {},
     "nuid": "fd01d26d-cb7b-44dd-b724-b4687b9ed542",
     "showTitle": false,
     "title": ""
    }
   },
   "source": [
    "Delta table store data in Parquet format"
   ]
  },
  {
   "cell_type": "code",
   "execution_count": 0,
   "metadata": {
    "application/vnd.databricks.v1+cell": {
     "cellMetadata": {
      "byteLimit": 2048000,
      "rowLimit": 10000
     },
     "inputWidgets": {},
     "nuid": "b1388fc3-7c5b-4e50-8cd1-bd584fa6446b",
     "showTitle": false,
     "title": ""
    }
   },
   "outputs": [
    {
     "output_type": "display_data",
     "data": {
      "text/html": [
       "<style scoped>\n",
       "  .table-result-container {\n",
       "    max-height: 300px;\n",
       "    overflow: auto;\n",
       "  }\n",
       "  table, th, td {\n",
       "    border: 1px solid black;\n",
       "    border-collapse: collapse;\n",
       "  }\n",
       "  th, td {\n",
       "    padding: 5px;\n",
       "  }\n",
       "  th {\n",
       "    text-align: left;\n",
       "  }\n",
       "</style><div class='table-result-container'><table class='table-result'><thead style='background-color: white'><tr><th>path</th><th>name</th><th>size</th><th>modificationTime</th></tr></thead><tbody><tr><td>dbfs:/user/hive/warehouse/worldstocks/_delta_log/</td><td>_delta_log/</td><td>0</td><td>0</td></tr><tr><td>dbfs:/user/hive/warehouse/worldstocks/part-00000-0b0065e6-2d59-41a1-9327-a8c9b39d3bbc-c000.snappy.parquet</td><td>part-00000-0b0065e6-2d59-41a1-9327-a8c9b39d3bbc-c000.snappy.parquet</td><td>6380</td><td>1719608940000</td></tr></tbody></table></div>"
      ]
     },
     "metadata": {
      "application/vnd.databricks.v1+output": {
       "addedWidgets": {},
       "aggData": [],
       "aggError": "",
       "aggOverflow": false,
       "aggSchema": [],
       "aggSeriesLimitReached": false,
       "aggType": "",
       "arguments": {},
       "columnCustomDisplayInfos": {},
       "data": [
        [
         "dbfs:/user/hive/warehouse/worldstocks/_delta_log/",
         "_delta_log/",
         0,
         0
        ],
        [
         "dbfs:/user/hive/warehouse/worldstocks/part-00000-0b0065e6-2d59-41a1-9327-a8c9b39d3bbc-c000.snappy.parquet",
         "part-00000-0b0065e6-2d59-41a1-9327-a8c9b39d3bbc-c000.snappy.parquet",
         6380,
         1719608940000
        ]
       ],
       "datasetInfos": [],
       "dbfsResultPath": null,
       "isJsonSchema": true,
       "metadata": {
        "isDbfsCommandResult": false
       },
       "overflow": false,
       "plotOptions": {
        "customPlotOptions": {},
        "displayType": "table",
        "pivotAggregation": null,
        "pivotColumns": null,
        "xColumns": null,
        "yColumns": null
       },
       "removedWidgets": [],
       "schema": [
        {
         "metadata": "{}",
         "name": "path",
         "type": "\"string\""
        },
        {
         "metadata": "{}",
         "name": "name",
         "type": "\"string\""
        },
        {
         "metadata": "{}",
         "name": "size",
         "type": "\"long\""
        },
        {
         "metadata": "{}",
         "name": "modificationTime",
         "type": "\"long\""
        }
       ],
       "type": "table"
      }
     },
     "output_type": "display_data"
    }
   ],
   "source": [
    "%fs ls dbfs:/user/hive/warehouse/worldstocks/"
   ]
  },
  {
   "cell_type": "code",
   "execution_count": 0,
   "metadata": {
    "application/vnd.databricks.v1+cell": {
     "cellMetadata": {
      "byteLimit": 2048000,
      "implicitDf": true,
      "rowLimit": 10000
     },
     "inputWidgets": {},
     "nuid": "2a0c1124-f894-4193-b143-140710c8d377",
     "showTitle": false,
     "title": ""
    }
   },
   "outputs": [
    {
     "output_type": "display_data",
     "data": {
      "text/html": [
       "<style scoped>\n",
       "  .table-result-container {\n",
       "    max-height: 300px;\n",
       "    overflow: auto;\n",
       "  }\n",
       "  table, th, td {\n",
       "    border: 1px solid black;\n",
       "    border-collapse: collapse;\n",
       "  }\n",
       "  th, td {\n",
       "    padding: 5px;\n",
       "  }\n",
       "  th {\n",
       "    text-align: left;\n",
       "  }\n",
       "</style><div class='table-result-container'><table class='table-result'><thead style='background-color: white'><tr><th>col_name</th><th>data_type</th><th>comment</th></tr></thead><tbody><tr><td>2019_rank</td><td>int</td><td>null</td></tr><tr><td>City</td><td>string</td><td>null</td></tr><tr><td>State_Code</td><td>string</td><td>null</td></tr><tr><td>2019_estimate</td><td>int</td><td>null</td></tr><tr><td>2010_Census</td><td>int</td><td>null</td></tr><tr><td>Change</td><td>string</td><td>null</td></tr><tr><td></td><td></td><td></td></tr><tr><td># Detailed Table Information</td><td></td><td></td></tr><tr><td>Catalog</td><td>spark_catalog</td><td></td></tr><tr><td>Database</td><td>default</td><td></td></tr><tr><td>Table</td><td>worldStocks</td><td></td></tr><tr><td>Created Time</td><td>Fri Jun 28 21:09:06 UTC 2024</td><td></td></tr><tr><td>Last Access</td><td>UNKNOWN</td><td></td></tr><tr><td>Created By</td><td>Spark 3.3.2</td><td></td></tr><tr><td>Statistics</td><td>6380 bytes</td><td></td></tr><tr><td>Type</td><td>MANAGED</td><td></td></tr><tr><td>Location</td><td>dbfs:/user/hive/warehouse/worldstocks</td><td></td></tr><tr><td>Provider</td><td>delta</td><td></td></tr><tr><td>Owner</td><td>root</td><td></td></tr><tr><td>Is_managed_location</td><td>true</td><td></td></tr><tr><td>Table Properties</td><td>[delta.minReaderVersion=1,delta.minWriterVersion=2]</td><td></td></tr></tbody></table></div>"
      ]
     },
     "metadata": {
      "application/vnd.databricks.v1+output": {
       "addedWidgets": {},
       "aggData": [],
       "aggError": "",
       "aggOverflow": false,
       "aggSchema": [],
       "aggSeriesLimitReached": false,
       "aggType": "",
       "arguments": {},
       "columnCustomDisplayInfos": {},
       "data": [
        [
         "2019_rank",
         "int",
         null
        ],
        [
         "City",
         "string",
         null
        ],
        [
         "State_Code",
         "string",
         null
        ],
        [
         "2019_estimate",
         "int",
         null
        ],
        [
         "2010_Census",
         "int",
         null
        ],
        [
         "Change",
         "string",
         null
        ],
        [
         "",
         "",
         ""
        ],
        [
         "# Detailed Table Information",
         "",
         ""
        ],
        [
         "Catalog",
         "spark_catalog",
         ""
        ],
        [
         "Database",
         "default",
         ""
        ],
        [
         "Table",
         "worldStocks",
         ""
        ],
        [
         "Created Time",
         "Fri Jun 28 21:09:06 UTC 2024",
         ""
        ],
        [
         "Last Access",
         "UNKNOWN",
         ""
        ],
        [
         "Created By",
         "Spark 3.3.2",
         ""
        ],
        [
         "Statistics",
         "6380 bytes",
         ""
        ],
        [
         "Type",
         "MANAGED",
         ""
        ],
        [
         "Location",
         "dbfs:/user/hive/warehouse/worldstocks",
         ""
        ],
        [
         "Provider",
         "delta",
         ""
        ],
        [
         "Owner",
         "root",
         ""
        ],
        [
         "Is_managed_location",
         "true",
         ""
        ],
        [
         "Table Properties",
         "[delta.minReaderVersion=1,delta.minWriterVersion=2]",
         ""
        ]
       ],
       "datasetInfos": [],
       "dbfsResultPath": null,
       "isJsonSchema": true,
       "metadata": {},
       "overflow": false,
       "plotOptions": {
        "customPlotOptions": {},
        "displayType": "table",
        "pivotAggregation": null,
        "pivotColumns": null,
        "xColumns": null,
        "yColumns": null
       },
       "removedWidgets": [],
       "schema": [
        {
         "metadata": "{\"comment\":\"name of the column\"}",
         "name": "col_name",
         "type": "\"string\""
        },
        {
         "metadata": "{\"comment\":\"data type of the column\"}",
         "name": "data_type",
         "type": "\"string\""
        },
        {
         "metadata": "{\"comment\":\"comment of the column\"}",
         "name": "comment",
         "type": "\"string\""
        }
       ],
       "type": "table"
      }
     },
     "output_type": "display_data"
    }
   ],
   "source": [
    "%sql \n",
    "desc formatted worldStocks "
   ]
  },
  {
   "cell_type": "code",
   "execution_count": 0,
   "metadata": {
    "application/vnd.databricks.v1+cell": {
     "cellMetadata": {
      "byteLimit": 2048000,
      "rowLimit": 10000
     },
     "inputWidgets": {},
     "nuid": "2d4d798e-9aff-48cc-9cd1-24adc374f35f",
     "showTitle": false,
     "title": ""
    }
   },
   "outputs": [
    {
     "output_type": "stream",
     "name": "stdout",
     "output_type": "stream",
     "text": [
      "Out[32]: DataFrame[num_affected_rows: bigint, num_inserted_rows: bigint]"
     ]
    }
   ],
   "source": [
    "spark.sql(\"insert into worldStocks values (234,'Hyderabad','IN',4234324,314234,'0.234')\")"
   ]
  },
  {
   "cell_type": "code",
   "execution_count": 0,
   "metadata": {
    "application/vnd.databricks.v1+cell": {
     "cellMetadata": {
      "byteLimit": 2048000,
      "implicitDf": true,
      "rowLimit": 10000
     },
     "inputWidgets": {},
     "nuid": "422c4141-0320-4814-bbda-2d83d01fa2bf",
     "showTitle": false,
     "title": ""
    }
   },
   "outputs": [
    {
     "output_type": "display_data",
     "data": {
      "text/html": [
       "<style scoped>\n",
       "  .table-result-container {\n",
       "    max-height: 300px;\n",
       "    overflow: auto;\n",
       "  }\n",
       "  table, th, td {\n",
       "    border: 1px solid black;\n",
       "    border-collapse: collapse;\n",
       "  }\n",
       "  th, td {\n",
       "    padding: 5px;\n",
       "  }\n",
       "  th {\n",
       "    text-align: left;\n",
       "  }\n",
       "</style><div class='table-result-container'><table class='table-result'><thead style='background-color: white'><tr><th>2019_rank</th><th>City</th><th>State_Code</th><th>2019_estimate</th><th>2010_Census</th><th>Change</th></tr></thead><tbody><tr><td>234</td><td>Hyderabad</td><td>IN</td><td>4234324</td><td>314234</td><td>0.234</td></tr></tbody></table></div>"
      ]
     },
     "metadata": {
      "application/vnd.databricks.v1+output": {
       "addedWidgets": {},
       "aggData": [],
       "aggError": "",
       "aggOverflow": false,
       "aggSchema": [],
       "aggSeriesLimitReached": false,
       "aggType": "",
       "arguments": {},
       "columnCustomDisplayInfos": {},
       "data": [
        [
         234,
         "Hyderabad",
         "IN",
         4234324,
         314234,
         "0.234"
        ]
       ],
       "datasetInfos": [],
       "dbfsResultPath": null,
       "isJsonSchema": true,
       "metadata": {},
       "overflow": false,
       "plotOptions": {
        "customPlotOptions": {},
        "displayType": "table",
        "pivotAggregation": null,
        "pivotColumns": null,
        "xColumns": null,
        "yColumns": null
       },
       "removedWidgets": [],
       "schema": [
        {
         "metadata": "{}",
         "name": "2019_rank",
         "type": "\"integer\""
        },
        {
         "metadata": "{}",
         "name": "City",
         "type": "\"string\""
        },
        {
         "metadata": "{}",
         "name": "State_Code",
         "type": "\"string\""
        },
        {
         "metadata": "{}",
         "name": "2019_estimate",
         "type": "\"integer\""
        },
        {
         "metadata": "{}",
         "name": "2010_Census",
         "type": "\"integer\""
        },
        {
         "metadata": "{}",
         "name": "Change",
         "type": "\"string\""
        }
       ],
       "type": "table"
      }
     },
     "output_type": "display_data"
    }
   ],
   "source": [
    "%sql\n",
    "select * from worldStocks where city='Hyderabad'"
   ]
  },
  {
   "cell_type": "code",
   "execution_count": 0,
   "metadata": {
    "application/vnd.databricks.v1+cell": {
     "cellMetadata": {
      "byteLimit": 2048000,
      "rowLimit": 10000
     },
     "inputWidgets": {},
     "nuid": "911203b8-64e4-460c-bc0f-4ae9c6fcd05c",
     "showTitle": false,
     "title": ""
    }
   },
   "outputs": [
    {
     "output_type": "display_data",
     "data": {
      "text/html": [
       "<style scoped>\n",
       "  .table-result-container {\n",
       "    max-height: 300px;\n",
       "    overflow: auto;\n",
       "  }\n",
       "  table, th, td {\n",
       "    border: 1px solid black;\n",
       "    border-collapse: collapse;\n",
       "  }\n",
       "  th, td {\n",
       "    padding: 5px;\n",
       "  }\n",
       "  th {\n",
       "    text-align: left;\n",
       "  }\n",
       "</style><div class='table-result-container'><table class='table-result'><thead style='background-color: white'><tr><th>2019_rank</th><th>City</th><th>State_Code</th><th>2019_estimate</th><th>2010_Census</th><th>Change</th><th>Country</th></tr></thead><tbody><tr><td>239</td><td>Hyderabad</td><td>TG</td><td>4234324</td><td>314234</td><td>0.234</td><td>IN</td></tr><tr><td>236</td><td>Mumbai</td><td>MH</td><td>4234324</td><td>314234</td><td>0.234</td><td>IN</td></tr><tr><td>237</td><td>Delhi</td><td>DL</td><td>4234324</td><td>314234</td><td>0.234</td><td>IN</td></tr><tr><td>238</td><td>Bangaloe</td><td>KA</td><td>4234324</td><td>314234</td><td>0.234</td><td>IN</td></tr></tbody></table></div>"
      ]
     },
     "metadata": {
      "application/vnd.databricks.v1+output": {
       "addedWidgets": {},
       "aggData": [],
       "aggError": "",
       "aggOverflow": false,
       "aggSchema": [],
       "aggSeriesLimitReached": false,
       "aggType": "",
       "arguments": {},
       "columnCustomDisplayInfos": {},
       "data": [
        [
         239,
         "Hyderabad",
         "TG",
         4234324,
         314234,
         "0.234",
         "IN"
        ],
        [
         236,
         "Mumbai",
         "MH",
         4234324,
         314234,
         "0.234",
         "IN"
        ],
        [
         237,
         "Delhi",
         "DL",
         4234324,
         314234,
         "0.234",
         "IN"
        ],
        [
         238,
         "Bangaloe",
         "KA",
         4234324,
         314234,
         "0.234",
         "IN"
        ]
       ],
       "datasetInfos": [],
       "dbfsResultPath": null,
       "isJsonSchema": true,
       "metadata": {},
       "overflow": false,
       "plotOptions": {
        "customPlotOptions": {},
        "displayType": "table",
        "pivotAggregation": null,
        "pivotColumns": null,
        "xColumns": null,
        "yColumns": null
       },
       "removedWidgets": [],
       "schema": [
        {
         "metadata": "{}",
         "name": "2019_rank",
         "type": "\"long\""
        },
        {
         "metadata": "{}",
         "name": "City",
         "type": "\"string\""
        },
        {
         "metadata": "{}",
         "name": "State_Code",
         "type": "\"string\""
        },
        {
         "metadata": "{}",
         "name": "2019_estimate",
         "type": "\"long\""
        },
        {
         "metadata": "{}",
         "name": "2010_Census",
         "type": "\"long\""
        },
        {
         "metadata": "{}",
         "name": "Change",
         "type": "\"string\""
        },
        {
         "metadata": "{}",
         "name": "Country",
         "type": "\"string\""
        }
       ],
       "type": "table"
      }
     },
     "output_type": "display_data"
    }
   ],
   "source": [
    "data=[\n",
    "    [239,'Hyderabad','TG',4234324,314234,'0.234','IN'],\n",
    "    [236,'Mumbai','MH',4234324,314234,'0.234','IN'],\n",
    "    [237,'Delhi','DL',4234324,314234,'0.234','IN'],\n",
    "    [238,'Bangalore','KA',4234324,314234,'0.234','IN']\n",
    "]\n",
    "columns=(\"2019_rank\",\t\"City\",\t\"State_Code\",\t\"2019_estimate\",\t\"2010_Census\",\t\"Change\", \"Country\")\n",
    "df2=spark.createDataFrame(data, columns)\n",
    "display(df2)"
   ]
  },
  {
   "cell_type": "code",
   "execution_count": 0,
   "metadata": {
    "application/vnd.databricks.v1+cell": {
     "cellMetadata": {
      "byteLimit": 2048000,
      "rowLimit": 10000
     },
     "inputWidgets": {},
     "nuid": "07301e97-7d98-4e31-baaf-6f39882e1ff5",
     "showTitle": false,
     "title": ""
    }
   },
   "outputs": [],
   "source": [
    "\n",
    "from pyspark.sql.functions import col\n",
    "df2=df2.withColumn(\"2019_rank\", col(\"2019_rank\").cast(\"integer\"))\n",
    "df2=df2.withColumn(\"2019_estimate\", col(\"2019_estimate\").cast(\"integer\"))\n",
    "df2=df2.withColumn(\"2010_Census\", col(\"2010_Census\").cast(\"integer\"))"
   ]
  },
  {
   "cell_type": "markdown",
   "metadata": {
    "application/vnd.databricks.v1+cell": {
     "cellMetadata": {},
     "inputWidgets": {},
     "nuid": "948e27e6-ba6c-4b0b-a9d3-3dd80b5aa50a",
     "showTitle": false,
     "title": ""
    }
   },
   "source": [
    "Merge Two delta tables, to show that delta table can also store unstructured data, or the schema of delta table is dynamic"
   ]
  },
  {
   "cell_type": "code",
   "execution_count": 0,
   "metadata": {
    "application/vnd.databricks.v1+cell": {
     "cellMetadata": {
      "byteLimit": 2048000,
      "rowLimit": 10000
     },
     "inputWidgets": {},
     "nuid": "bca803ec-fd05-4275-bf2a-3700fc5c4927",
     "showTitle": false,
     "title": ""
    }
   },
   "outputs": [],
   "source": [
    "(df2\n",
    " .write\n",
    " .format(\"delta\")\n",
    " .option(\"mergeSchema\",True)\n",
    " .mode(\"append\")\n",
    " .saveAsTable(\"worldStocks\"))"
   ]
  },
  {
   "cell_type": "code",
   "execution_count": 0,
   "metadata": {
    "application/vnd.databricks.v1+cell": {
     "cellMetadata": {
      "byteLimit": 2048000,
      "implicitDf": true,
      "rowLimit": 10000
     },
     "inputWidgets": {},
     "nuid": "bc2b8c41-8b2e-4fae-8d94-d82944eb88f3",
     "showTitle": false,
     "title": ""
    }
   },
   "outputs": [
    {
     "output_type": "display_data",
     "data": {
      "text/html": [
       "<style scoped>\n",
       "  .table-result-container {\n",
       "    max-height: 300px;\n",
       "    overflow: auto;\n",
       "  }\n",
       "  table, th, td {\n",
       "    border: 1px solid black;\n",
       "    border-collapse: collapse;\n",
       "  }\n",
       "  th, td {\n",
       "    padding: 5px;\n",
       "  }\n",
       "  th {\n",
       "    text-align: left;\n",
       "  }\n",
       "</style><div class='table-result-container'><table class='table-result'><thead style='background-color: white'><tr><th>2019_rank</th><th>City</th><th>State_Code</th><th>2019_estimate</th><th>2010_Census</th><th>Change</th><th>Country</th></tr></thead><tbody><tr><td>1</td><td>New York[d]</td><td>NY</td><td>8336817</td><td>8175133</td><td>0.0198</td><td>null</td></tr><tr><td>2</td><td>Los Angeles</td><td>CA</td><td>3979576</td><td>3792621</td><td>0.0493</td><td>null</td></tr><tr><td>3</td><td>Chicago</td><td>IL</td><td>2693976</td><td>2695598</td><td>−0.06%            </td><td>null</td></tr><tr><td>4</td><td>Houston[3]</td><td>TX</td><td>2320268</td><td>2100263</td><td>0.1048</td><td>null</td></tr><tr><td>5</td><td>Phoenix</td><td>AZ</td><td>1680992</td><td>1445632</td><td>0.1628</td><td>null</td></tr><tr><td>6</td><td>San Antonio</td><td>TX</td><td>1547253</td><td>1327407</td><td>0.1656</td><td>null</td></tr><tr><td>7</td><td>San Diego</td><td>CA</td><td>1423851</td><td>1307402</td><td>0.0891</td><td>null</td></tr><tr><td>8</td><td>Dallas</td><td>TX</td><td>1343573</td><td>1197816</td><td>0.1217</td><td>null</td></tr><tr><td>9</td><td>San Jose</td><td>CA</td><td>1021795</td><td>945942</td><td>0.0802</td><td>null</td></tr><tr><td>10</td><td>Austin</td><td>TX</td><td>978908</td><td>790390</td><td>0.2385</td><td>null</td></tr><tr><td>11</td><td>Fort Worth</td><td>TX</td><td>909585</td><td>741206</td><td>0.2272</td><td>null</td></tr><tr><td>12</td><td>Columbus</td><td>OH</td><td>898553</td><td>787033</td><td>0.1417</td><td>null</td></tr><tr><td>13</td><td>San Francisco[g]</td><td>CA</td><td>881549</td><td>805235</td><td>0.0948</td><td>null</td></tr><tr><td>14</td><td>Denver[i]</td><td>CO</td><td>727211</td><td>600158</td><td>0.2117</td><td>null</td></tr><tr><td>15</td><td>El Paso</td><td>TX</td><td>681728</td><td>649121</td><td>0.0502</td><td>null</td></tr><tr><td>16</td><td>Tucson</td><td>AZ</td><td>548073</td><td>520116</td><td>0.0538</td><td>null</td></tr><tr><td>17</td><td>Fresno</td><td>CA</td><td>531576</td><td>494665</td><td>0.0746</td><td>null</td></tr><tr><td>18</td><td>Mesa</td><td>AZ</td><td>518012</td><td>439041</td><td>0.1799</td><td>null</td></tr><tr><td>19</td><td>Sacramento</td><td>CA</td><td>513624</td><td>466488</td><td>0.101</td><td>null</td></tr><tr><td>20</td><td>Colorado Springs</td><td>CO</td><td>478221</td><td>416427</td><td>0.1484</td><td>null</td></tr><tr><td>21</td><td>Long Beach</td><td>CA</td><td>462628</td><td>462257</td><td>0.0008</td><td>null</td></tr><tr><td>22</td><td>Oakland</td><td>CA</td><td>433031</td><td>390724</td><td>0.1083</td><td>null</td></tr><tr><td>23</td><td>Arlington</td><td>TX</td><td>398854</td><td>365438</td><td>0.0914</td><td>null</td></tr><tr><td>24</td><td>Bakersfield</td><td>CA</td><td>384145</td><td>347483</td><td>0.1055</td><td>null</td></tr><tr><td>25</td><td>Cleveland</td><td>OH</td><td>381009</td><td>396815</td><td>−3.98%                           </td><td>null</td></tr><tr><td>26</td><td>Aurora</td><td>CO</td><td>379289</td><td>325078</td><td>0.1668</td><td>null</td></tr><tr><td>27</td><td>Anaheim</td><td>CA</td><td>350365</td><td>336265</td><td>0.0419</td><td>null</td></tr><tr><td>28</td><td>Santa Ana</td><td>CA</td><td>332318</td><td>324528</td><td>0.024</td><td>null</td></tr><tr><td>29</td><td>Riverside</td><td>CA</td><td>331360</td><td>303871</td><td>0.0905</td><td>null</td></tr><tr><td>30</td><td>Corpus Christi</td><td>TX</td><td>326586</td><td>305215</td><td>0.07</td><td>null</td></tr><tr><td>31</td><td>Stockton</td><td>CA</td><td>312697</td><td>291707</td><td>0.072</td><td>null</td></tr><tr><td>32</td><td>Cincinnati</td><td>OH</td><td>303940</td><td>296943</td><td>0.0236</td><td>null</td></tr><tr><td>33</td><td>Plano</td><td>TX</td><td>287677</td><td>259841</td><td>0.1071</td><td>null</td></tr><tr><td>34</td><td>Irvine</td><td>CA</td><td>287401</td><td>212375</td><td>0.3533</td><td>null</td></tr><tr><td>35</td><td>Chula Vista</td><td>CA</td><td>274492</td><td>243916</td><td>0.1254</td><td>null</td></tr><tr><td>36</td><td>Toledo</td><td>OH</td><td>272779</td><td>287208</td><td>−5.02%                               </td><td>null</td></tr><tr><td>37</td><td>Laredo</td><td>TX</td><td>262491</td><td>236091</td><td>0.1118</td><td>null</td></tr><tr><td>38</td><td>Chandler</td><td>AZ</td><td>261165</td><td>236123</td><td>0.1061</td><td>null</td></tr><tr><td>39</td><td>Lubbock</td><td>TX</td><td>258862</td><td>229573</td><td>0.1276</td><td>null</td></tr><tr><td>40</td><td>Scottsdale</td><td>AZ</td><td>258069</td><td>217385</td><td>0.1872</td><td>null</td></tr><tr><td>41</td><td>Buffalo</td><td>NY</td><td>255284</td><td>261310</td><td>−2.31%                           </td><td>null</td></tr><tr><td>42</td><td>Gilbert[q]</td><td>AZ</td><td>254114</td><td>208453</td><td>0.219</td><td>null</td></tr><tr><td>43</td><td>Glendale</td><td>AZ</td><td>252381</td><td>226721</td><td>0.1132</td><td>null</td></tr><tr><td>44</td><td>Fremont</td><td>CA</td><td>241110</td><td>214089</td><td>0.1262</td><td>null</td></tr><tr><td>45</td><td>Garland</td><td>TX</td><td>239928</td><td>226876</td><td>0.0575</td><td>null</td></tr><tr><td>46</td><td>Irving</td><td>TX</td><td>239798</td><td>216290</td><td>0.1087</td><td>null</td></tr><tr><td>47</td><td>San Bernardino</td><td>CA</td><td>215784</td><td>209924</td><td>0.0279</td><td>null</td></tr><tr><td>48</td><td>Modesto</td><td>CA</td><td>215196</td><td>201165</td><td>0.0697</td><td>null</td></tr><tr><td>49</td><td>Fontana</td><td>CA</td><td>214547</td><td>196069</td><td>0.0942</td><td>null</td></tr><tr><td>50</td><td>Moreno Valley</td><td>CA</td><td>213055</td><td>193365</td><td>0.1018</td><td>null</td></tr><tr><td>51</td><td>Santa Clarita</td><td>CA</td><td>212979</td><td>176320</td><td>0.2079</td><td>null</td></tr><tr><td>52</td><td>Oxnard</td><td>CA</td><td>208881</td><td>197899</td><td>0.0555</td><td>null</td></tr><tr><td>53</td><td>Rochester</td><td>NY</td><td>205695</td><td>210565</td><td>−2.31%                       </td><td>null</td></tr><tr><td>54</td><td>Frisco</td><td>TX</td><td>200490</td><td>116989</td><td>0.7138</td><td>null</td></tr><tr><td>55</td><td>Yonkers</td><td>NY</td><td>200370</td><td>195976</td><td>0.0224</td><td>null</td></tr><tr><td>56</td><td>Amarillo</td><td>TX</td><td>199371</td><td>190695</td><td>0.0455</td><td>null</td></tr><tr><td>57</td><td>Glendale</td><td>CA</td><td>199303</td><td>191719</td><td>0.0396</td><td>null</td></tr><tr><td>58</td><td>Huntington Beach</td><td>CA</td><td>199223</td><td>189992</td><td>0.0486</td><td>null</td></tr><tr><td>59</td><td>McKinney</td><td>TX</td><td>199177</td><td>131117</td><td>0.5191</td><td>null</td></tr><tr><td>60</td><td>Aurora</td><td>IL</td><td>197757</td><td>197899</td><td>−0.07%                           </td><td>null</td></tr><tr><td>61</td><td>Akron</td><td>OH</td><td>197597</td><td>199110</td><td>−0.76%                               </td><td>null</td></tr><tr><td>62</td><td>Tempe</td><td>AZ</td><td>195805</td><td>161719</td><td>0.2108</td><td>null</td></tr><tr><td>63</td><td>Grand Prairie</td><td>TX</td><td>194543</td><td>175396</td><td>0.1092</td><td>null</td></tr><tr><td>64</td><td>Ontario</td><td>CA</td><td>185010</td><td>163924</td><td>0.1286</td><td>null</td></tr><tr><td>65</td><td>Brownsville</td><td>TX</td><td>182781</td><td>175023</td><td>0.0443</td><td>null</td></tr><tr><td>66</td><td>Rancho Cucamonga</td><td>CA</td><td>177603</td><td>165269</td><td>0.0746</td><td>null</td></tr><tr><td>67</td><td>Santa Rosa</td><td>CA</td><td>176753</td><td>167815</td><td>0.0533</td><td>null</td></tr><tr><td>68</td><td>Peoria</td><td>AZ</td><td>175961</td><td>154065</td><td>0.1421</td><td>null</td></tr><tr><td>69</td><td>Oceanside</td><td>CA</td><td>175742</td><td>167086</td><td>0.0518</td><td>null</td></tr><tr><td>70</td><td>Elk Grove</td><td>CA</td><td>174775</td><td>153015</td><td>0.1422</td><td>null</td></tr><tr><td>71</td><td>Garden Grove</td><td>CA</td><td>171644</td><td>170883</td><td>0.0045</td><td>null</td></tr><tr><td>72</td><td>Fort Collins</td><td>CO</td><td>170243</td><td>143986</td><td>0.1824</td><td>null</td></tr><tr><td>73</td><td>Corona</td><td>CA</td><td>169868</td><td>152374</td><td>0.1148</td><td>null</td></tr><tr><td>74</td><td>Hayward</td><td>CA</td><td>159203</td><td>144186</td><td>0.1042</td><td>null</td></tr><tr><td>75</td><td>Lakewood</td><td>CO</td><td>157935</td><td>142980</td><td>0.1046</td><td>null</td></tr><tr><td>76</td><td>Lancaster</td><td>CA</td><td>157601</td><td>156633</td><td>0.0062</td><td>null</td></tr><tr><td>77</td><td>Salinas</td><td>CA</td><td>155465</td><td>150441</td><td>0.0334</td><td>null</td></tr><tr><td>78</td><td>Palmdale</td><td>CA</td><td>155079</td><td>152750</td><td>0.0152</td><td>null</td></tr><tr><td>79</td><td>Sunnyvale</td><td>CA</td><td>152703</td><td>140081</td><td>0.0901</td><td>null</td></tr><tr><td>80</td><td>Pomona</td><td>CA</td><td>151691</td><td>149058</td><td>0.0177</td><td>null</td></tr><tr><td>81</td><td>Killeen</td><td>TX</td><td>151666</td><td>127921</td><td>0.1856</td><td>null</td></tr><tr><td>82</td><td>Escondido</td><td>CA</td><td>151625</td><td>143911</td><td>0.0536</td><td>null</td></tr><tr><td>83</td><td>Pasadena</td><td>TX</td><td>151227</td><td>149043</td><td>0.0147</td><td>null</td></tr><tr><td>84</td><td>Naperville</td><td>IL</td><td>148449</td><td>141853</td><td>0.0465</td><td>null</td></tr><tr><td>85</td><td>Joliet</td><td>IL</td><td>147344</td><td>147433</td><td>−0.06%                           </td><td>null</td></tr><tr><td>86</td><td>Midland</td><td>TX</td><td>146038</td><td>111147</td><td>0.3139</td><td>null</td></tr><tr><td>87</td><td>Rockford</td><td>IL</td><td>145609</td><td>152871</td><td>−4.75%                       </td><td>null</td></tr><tr><td>88</td><td>Torrance</td><td>CA</td><td>143592</td><td>145438</td><td>−1.27%                       </td><td>null</td></tr><tr><td>89</td><td>McAllen</td><td>TX</td><td>143268</td><td>129877</td><td>0.1031</td><td>null</td></tr><tr><td>90</td><td>Syracuse</td><td>NY</td><td>142327</td><td>145170</td><td>−1.96%                       </td><td>null</td></tr><tr><td>91</td><td>Surprise</td><td>AZ</td><td>141664</td><td>117517</td><td>0.2055</td><td>null</td></tr><tr><td>92</td><td>Denton</td><td>TX</td><td>141541</td><td>113383</td><td>0.2483</td><td>null</td></tr><tr><td>93</td><td>Roseville</td><td>CA</td><td>141500</td><td>118788</td><td>0.1912</td><td>null</td></tr><tr><td>94</td><td>Thornton</td><td>CO</td><td>141464</td><td>118772</td><td>0.1911</td><td>null</td></tr><tr><td>95</td><td>Pasadena</td><td>CA</td><td>141029</td><td>137122</td><td>0.0285</td><td>null</td></tr><tr><td>96</td><td>Mesquite</td><td>TX</td><td>140937</td><td>139824</td><td>0.008</td><td>null</td></tr><tr><td>97</td><td>Dayton</td><td>OH</td><td>140407</td><td>141527</td><td>−0.79%                               </td><td>null</td></tr><tr><td>98</td><td>Carrollton</td><td>TX</td><td>139248</td><td>119097</td><td>0.1692</td><td>null</td></tr><tr><td>99</td><td>Waco</td><td>TX</td><td>139236</td><td>124805</td><td>0.1156</td><td>null</td></tr><tr><td>100</td><td>Orange</td><td>CA</td><td>138669</td><td>136416</td><td>0.0165</td><td>null</td></tr><tr><td>101</td><td>Fullerton</td><td>CA</td><td>138632</td><td>135161</td><td>0.0257</td><td>null</td></tr><tr><td>102</td><td>Visalia</td><td>CA</td><td>134605</td><td>124442</td><td>0.0817</td><td>null</td></tr><tr><td>103</td><td>Round Rock</td><td>TX</td><td>133372</td><td>99887</td><td>0.3352</td><td>null</td></tr><tr><td>104</td><td>Santa Clara</td><td>CA</td><td>130365</td><td>116468</td><td>0.1193</td><td>null</td></tr><tr><td>105</td><td>Concord</td><td>CA</td><td>129295</td><td>122067</td><td>0.0592</td><td>null</td></tr><tr><td>106</td><td>Thousand Oaks</td><td>CA</td><td>126813</td><td>126683</td><td>0.001</td><td>null</td></tr><tr><td>107</td><td>Simi Valley</td><td>CA</td><td>125613</td><td>124237</td><td>0.0111</td><td>null</td></tr><tr><td>108</td><td>Abilene</td><td>TX</td><td>123420</td><td>117063</td><td>0.0543</td><td>null</td></tr><tr><td>109</td><td>Odessa</td><td>TX</td><td>123334</td><td>99940</td><td>0.2341</td><td>null</td></tr><tr><td>110</td><td>Pearland</td><td>TX</td><td>122460</td><td>91252</td><td>0.342</td><td>null</td></tr><tr><td>111</td><td>Victorville</td><td>CA</td><td>122385</td><td>115903</td><td>0.0559</td><td>null</td></tr><tr><td>112</td><td>Vallejo</td><td>CA</td><td>121692</td><td>115942</td><td>0.0496</td><td>null</td></tr><tr><td>113</td><td>Berkeley</td><td>CA</td><td>121363</td><td>112580</td><td>0.078</td><td>null</td></tr><tr><td>114</td><td>Richardson</td><td>TX</td><td>121323</td><td>99223</td><td>0.2227</td><td>null</td></tr><tr><td>115</td><td>Arvada</td><td>CO</td><td>121272</td><td>106433</td><td>0.1394</td><td>null</td></tr><tr><td>116</td><td>Sugar Land</td><td>TX</td><td>118488</td><td>78817</td><td>0.5033</td><td>null</td></tr><tr><td>117</td><td>College Station</td><td>TX</td><td>117911</td><td>93857</td><td>0.2563</td><td>null</td></tr><tr><td>118</td><td>Fairfield</td><td>CA</td><td>117133</td><td>105321</td><td>0.1122</td><td>null</td></tr><tr><td>119</td><td>Beaumont</td><td>TX</td><td>116825</td><td>118296</td><td>−1.24%                           </td><td>null</td></tr><tr><td>120</td><td>Murrieta</td><td>CA</td><td>116223</td><td>103466</td><td>0.1233</td><td>null</td></tr><tr><td>121</td><td>El Monte</td><td>CA</td><td>115487</td><td>113475</td><td>0.0177</td><td>null</td></tr><tr><td>122</td><td>Carlsbad</td><td>CA</td><td>115382</td><td>105328</td><td>0.0955</td><td>null</td></tr><tr><td>123</td><td>Temecula</td><td>CA</td><td>114761</td><td>100097</td><td>0.1465</td><td>null</td></tr><tr><td>124</td><td>Clovis</td><td>CA</td><td>114584</td><td>95631</td><td>0.1982</td><td>null</td></tr><tr><td>125</td><td>Springfield</td><td>IL</td><td>114230</td><td>116250</td><td>−1.74%                       </td><td>null</td></tr><tr><td>126</td><td>Westminster</td><td>CO</td><td>113166</td><td>106114</td><td>0.0665</td><td>null</td></tr><tr><td>127</td><td>Costa Mesa</td><td>CA</td><td>113003</td><td>109960</td><td>0.0277</td><td>null</td></tr><tr><td>128</td><td>Pueblo</td><td>CO</td><td>112361</td><td>106595</td><td>0.0541</td><td>null</td></tr><tr><td>129</td><td>Antioch</td><td>CA</td><td>111502</td><td>102372</td><td>0.0892</td><td>null</td></tr><tr><td>130</td><td>Downey</td><td>CA</td><td>111126</td><td>111772</td><td>−0.58%                           </td><td>null</td></tr><tr><td>131</td><td>Centennial</td><td>CO</td><td>110937</td><td>100377</td><td>0.1052</td><td>null</td></tr><tr><td>132</td><td>Elgin</td><td>IL</td><td>110849</td><td>108188</td><td>0.0246</td><td>null</td></tr><tr><td>133</td><td>Richmond</td><td>CA</td><td>110567</td><td>103701</td><td>0.0662</td><td>null</td></tr><tr><td>134</td><td>Peoria</td><td>IL</td><td>110417</td><td>115007</td><td>−3.99%                           </td><td>null</td></tr><tr><td>135</td><td>Lewisville</td><td>TX</td><td>109212</td><td>95290</td><td>0.1461</td><td>null</td></tr><tr><td>136</td><td>Ventura[ab]</td><td>CA</td><td>109106</td><td>106433</td><td>0.0251</td><td>null</td></tr><tr><td>137</td><td>Greeley</td><td>CO</td><td>108649</td><td>92889</td><td>0.1697</td><td>null</td></tr><tr><td>138</td><td>Inglewood</td><td>CA</td><td>108151</td><td>109673</td><td>−1.39%                       </td><td>null</td></tr><tr><td>139</td><td>League City</td><td>TX</td><td>107536</td><td>83560</td><td>0.2869</td><td>null</td></tr><tr><td>140</td><td>Santa Maria</td><td>CA</td><td>107263</td><td>99553</td><td>0.0774</td><td>null</td></tr><tr><td>141</td><td>Tyler</td><td>TX</td><td>106985</td><td>96900</td><td>0.1041</td><td>null</td></tr><tr><td>142</td><td>Daly City</td><td>CA</td><td>106280</td><td>101123</td><td>0.051</td><td>null</td></tr><tr><td>143</td><td>Boulder</td><td>CO</td><td>105673</td><td>97385</td><td>0.0851</td><td>null</td></tr><tr><td>144</td><td>Allen</td><td>TX</td><td>105623</td><td>84246</td><td>0.2537</td><td>null</td></tr><tr><td>145</td><td>West Covina</td><td>CA</td><td>105101</td><td>106098</td><td>−0.94%                       </td><td>null</td></tr><tr><td>146</td><td>Wichita Falls</td><td>TX</td><td>104683</td><td>104553</td><td>0.0012</td><td>null</td></tr><tr><td>147</td><td>San Mateo</td><td>CA</td><td>104430</td><td>97207</td><td>0.0743</td><td>null</td></tr><tr><td>148</td><td>Norwalk</td><td>CA</td><td>103949</td><td>105549</td><td>−1.52%                           </td><td>null</td></tr><tr><td>149</td><td>Rialto</td><td>CA</td><td>103526</td><td>99171</td><td>0.0439</td><td>null</td></tr><tr><td>150</td><td>Chico</td><td>CA</td><td>103301</td><td>86187</td><td>0.1986</td><td>null</td></tr><tr><td>151</td><td>El Cajon</td><td>CA</td><td>102708</td><td>99478</td><td>0.0325</td><td>null</td></tr><tr><td>152</td><td>Burbank</td><td>CA</td><td>102511</td><td>103340</td><td>−0.80%                           </td><td>null</td></tr><tr><td>153</td><td>Vista</td><td>CA</td><td>101638</td><td>93834</td><td>0.0832</td><td>null</td></tr><tr><td>154</td><td>Edinburg</td><td>TX</td><td>101170</td><td>77100</td><td>0.3122</td><td>null</td></tr><tr><td>155</td><td>San Angelo</td><td>TX</td><td>101004</td><td>93200</td><td>0.0837</td><td>null</td></tr><tr><td>156</td><td>Vacaville</td><td>CA</td><td>100670</td><td>92428</td><td>0.0892</td><td>null</td></tr><tr><td>239</td><td>Hyderabad</td><td>TG</td><td>4234324</td><td>314234</td><td>0.234</td><td>IN</td></tr><tr><td>238</td><td>Bangalore</td><td>KA</td><td>4234324</td><td>314234</td><td>0.234</td><td>IN</td></tr><tr><td>236</td><td>Mumbai</td><td>MH</td><td>4234324</td><td>314234</td><td>0.234</td><td>IN</td></tr><tr><td>237</td><td>Delhi</td><td>DL</td><td>4234324</td><td>314234</td><td>0.234</td><td>IN</td></tr><tr><td>234</td><td>Hyderabad</td><td>IN</td><td>4234324</td><td>314234</td><td>0.234</td><td>null</td></tr></tbody></table></div>"
      ]
     },
     "metadata": {
      "application/vnd.databricks.v1+output": {
       "addedWidgets": {},
       "aggData": [],
       "aggError": "",
       "aggOverflow": false,
       "aggSchema": [],
       "aggSeriesLimitReached": false,
       "aggType": "",
       "arguments": {},
       "columnCustomDisplayInfos": {},
       "data": [
        [
         1,
         "New York[d]",
         "NY",
         8336817,
         8175133,
         "0.0198",
         null
        ],
        [
         2,
         "Los Angeles",
         "CA",
         3979576,
         3792621,
         "0.0493",
         null
        ],
        [
         3,
         "Chicago",
         "IL",
         2693976,
         2695598,
         "−0.06%            ",
         null
        ],
        [
         4,
         "Houston[3]",
         "TX",
         2320268,
         2100263,
         "0.1048",
         null
        ],
        [
         5,
         "Phoenix",
         "AZ",
         1680992,
         1445632,
         "0.1628",
         null
        ],
        [
         6,
         "San Antonio",
         "TX",
         1547253,
         1327407,
         "0.1656",
         null
        ],
        [
         7,
         "San Diego",
         "CA",
         1423851,
         1307402,
         "0.0891",
         null
        ],
        [
         8,
         "Dallas",
         "TX",
         1343573,
         1197816,
         "0.1217",
         null
        ],
        [
         9,
         "San Jose",
         "CA",
         1021795,
         945942,
         "0.0802",
         null
        ],
        [
         10,
         "Austin",
         "TX",
         978908,
         790390,
         "0.2385",
         null
        ],
        [
         11,
         "Fort Worth",
         "TX",
         909585,
         741206,
         "0.2272",
         null
        ],
        [
         12,
         "Columbus",
         "OH",
         898553,
         787033,
         "0.1417",
         null
        ],
        [
         13,
         "San Francisco[g]",
         "CA",
         881549,
         805235,
         "0.0948",
         null
        ],
        [
         14,
         "Denver[i]",
         "CO",
         727211,
         600158,
         "0.2117",
         null
        ],
        [
         15,
         "El Paso",
         "TX",
         681728,
         649121,
         "0.0502",
         null
        ],
        [
         16,
         "Tucson",
         "AZ",
         548073,
         520116,
         "0.0538",
         null
        ],
        [
         17,
         "Fresno",
         "CA",
         531576,
         494665,
         "0.0746",
         null
        ],
        [
         18,
         "Mesa",
         "AZ",
         518012,
         439041,
         "0.1799",
         null
        ],
        [
         19,
         "Sacramento",
         "CA",
         513624,
         466488,
         "0.101",
         null
        ],
        [
         20,
         "Colorado Springs",
         "CO",
         478221,
         416427,
         "0.1484",
         null
        ],
        [
         21,
         "Long Beach",
         "CA",
         462628,
         462257,
         "0.0008",
         null
        ],
        [
         22,
         "Oakland",
         "CA",
         433031,
         390724,
         "0.1083",
         null
        ],
        [
         23,
         "Arlington",
         "TX",
         398854,
         365438,
         "0.0914",
         null
        ],
        [
         24,
         "Bakersfield",
         "CA",
         384145,
         347483,
         "0.1055",
         null
        ],
        [
         25,
         "Cleveland",
         "OH",
         381009,
         396815,
         "−3.98%                           ",
         null
        ],
        [
         26,
         "Aurora",
         "CO",
         379289,
         325078,
         "0.1668",
         null
        ],
        [
         27,
         "Anaheim",
         "CA",
         350365,
         336265,
         "0.0419",
         null
        ],
        [
         28,
         "Santa Ana",
         "CA",
         332318,
         324528,
         "0.024",
         null
        ],
        [
         29,
         "Riverside",
         "CA",
         331360,
         303871,
         "0.0905",
         null
        ],
        [
         30,
         "Corpus Christi",
         "TX",
         326586,
         305215,
         "0.07",
         null
        ],
        [
         31,
         "Stockton",
         "CA",
         312697,
         291707,
         "0.072",
         null
        ],
        [
         32,
         "Cincinnati",
         "OH",
         303940,
         296943,
         "0.0236",
         null
        ],
        [
         33,
         "Plano",
         "TX",
         287677,
         259841,
         "0.1071",
         null
        ],
        [
         34,
         "Irvine",
         "CA",
         287401,
         212375,
         "0.3533",
         null
        ],
        [
         35,
         "Chula Vista",
         "CA",
         274492,
         243916,
         "0.1254",
         null
        ],
        [
         36,
         "Toledo",
         "OH",
         272779,
         287208,
         "−5.02%                               ",
         null
        ],
        [
         37,
         "Laredo",
         "TX",
         262491,
         236091,
         "0.1118",
         null
        ],
        [
         38,
         "Chandler",
         "AZ",
         261165,
         236123,
         "0.1061",
         null
        ],
        [
         39,
         "Lubbock",
         "TX",
         258862,
         229573,
         "0.1276",
         null
        ],
        [
         40,
         "Scottsdale",
         "AZ",
         258069,
         217385,
         "0.1872",
         null
        ],
        [
         41,
         "Buffalo",
         "NY",
         255284,
         261310,
         "−2.31%                           ",
         null
        ],
        [
         42,
         "Gilbert[q]",
         "AZ",
         254114,
         208453,
         "0.219",
         null
        ],
        [
         43,
         "Glendale",
         "AZ",
         252381,
         226721,
         "0.1132",
         null
        ],
        [
         44,
         "Fremont",
         "CA",
         241110,
         214089,
         "0.1262",
         null
        ],
        [
         45,
         "Garland",
         "TX",
         239928,
         226876,
         "0.0575",
         null
        ],
        [
         46,
         "Irving",
         "TX",
         239798,
         216290,
         "0.1087",
         null
        ],
        [
         47,
         "San Bernardino",
         "CA",
         215784,
         209924,
         "0.0279",
         null
        ],
        [
         48,
         "Modesto",
         "CA",
         215196,
         201165,
         "0.0697",
         null
        ],
        [
         49,
         "Fontana",
         "CA",
         214547,
         196069,
         "0.0942",
         null
        ],
        [
         50,
         "Moreno Valley",
         "CA",
         213055,
         193365,
         "0.1018",
         null
        ],
        [
         51,
         "Santa Clarita",
         "CA",
         212979,
         176320,
         "0.2079",
         null
        ],
        [
         52,
         "Oxnard",
         "CA",
         208881,
         197899,
         "0.0555",
         null
        ],
        [
         53,
         "Rochester",
         "NY",
         205695,
         210565,
         "−2.31%                       ",
         null
        ],
        [
         54,
         "Frisco",
         "TX",
         200490,
         116989,
         "0.7138",
         null
        ],
        [
         55,
         "Yonkers",
         "NY",
         200370,
         195976,
         "0.0224",
         null
        ],
        [
         56,
         "Amarillo",
         "TX",
         199371,
         190695,
         "0.0455",
         null
        ],
        [
         57,
         "Glendale",
         "CA",
         199303,
         191719,
         "0.0396",
         null
        ],
        [
         58,
         "Huntington Beach",
         "CA",
         199223,
         189992,
         "0.0486",
         null
        ],
        [
         59,
         "McKinney",
         "TX",
         199177,
         131117,
         "0.5191",
         null
        ],
        [
         60,
         "Aurora",
         "IL",
         197757,
         197899,
         "−0.07%                           ",
         null
        ],
        [
         61,
         "Akron",
         "OH",
         197597,
         199110,
         "−0.76%                               ",
         null
        ],
        [
         62,
         "Tempe",
         "AZ",
         195805,
         161719,
         "0.2108",
         null
        ],
        [
         63,
         "Grand Prairie",
         "TX",
         194543,
         175396,
         "0.1092",
         null
        ],
        [
         64,
         "Ontario",
         "CA",
         185010,
         163924,
         "0.1286",
         null
        ],
        [
         65,
         "Brownsville",
         "TX",
         182781,
         175023,
         "0.0443",
         null
        ],
        [
         66,
         "Rancho Cucamonga",
         "CA",
         177603,
         165269,
         "0.0746",
         null
        ],
        [
         67,
         "Santa Rosa",
         "CA",
         176753,
         167815,
         "0.0533",
         null
        ],
        [
         68,
         "Peoria",
         "AZ",
         175961,
         154065,
         "0.1421",
         null
        ],
        [
         69,
         "Oceanside",
         "CA",
         175742,
         167086,
         "0.0518",
         null
        ],
        [
         70,
         "Elk Grove",
         "CA",
         174775,
         153015,
         "0.1422",
         null
        ],
        [
         71,
         "Garden Grove",
         "CA",
         171644,
         170883,
         "0.0045",
         null
        ],
        [
         72,
         "Fort Collins",
         "CO",
         170243,
         143986,
         "0.1824",
         null
        ],
        [
         73,
         "Corona",
         "CA",
         169868,
         152374,
         "0.1148",
         null
        ],
        [
         74,
         "Hayward",
         "CA",
         159203,
         144186,
         "0.1042",
         null
        ],
        [
         75,
         "Lakewood",
         "CO",
         157935,
         142980,
         "0.1046",
         null
        ],
        [
         76,
         "Lancaster",
         "CA",
         157601,
         156633,
         "0.0062",
         null
        ],
        [
         77,
         "Salinas",
         "CA",
         155465,
         150441,
         "0.0334",
         null
        ],
        [
         78,
         "Palmdale",
         "CA",
         155079,
         152750,
         "0.0152",
         null
        ],
        [
         79,
         "Sunnyvale",
         "CA",
         152703,
         140081,
         "0.0901",
         null
        ],
        [
         80,
         "Pomona",
         "CA",
         151691,
         149058,
         "0.0177",
         null
        ],
        [
         81,
         "Killeen",
         "TX",
         151666,
         127921,
         "0.1856",
         null
        ],
        [
         82,
         "Escondido",
         "CA",
         151625,
         143911,
         "0.0536",
         null
        ],
        [
         83,
         "Pasadena",
         "TX",
         151227,
         149043,
         "0.0147",
         null
        ],
        [
         84,
         "Naperville",
         "IL",
         148449,
         141853,
         "0.0465",
         null
        ],
        [
         85,
         "Joliet",
         "IL",
         147344,
         147433,
         "−0.06%                           ",
         null
        ],
        [
         86,
         "Midland",
         "TX",
         146038,
         111147,
         "0.3139",
         null
        ],
        [
         87,
         "Rockford",
         "IL",
         145609,
         152871,
         "−4.75%                       ",
         null
        ],
        [
         88,
         "Torrance",
         "CA",
         143592,
         145438,
         "−1.27%                       ",
         null
        ],
        [
         89,
         "McAllen",
         "TX",
         143268,
         129877,
         "0.1031",
         null
        ],
        [
         90,
         "Syracuse",
         "NY",
         142327,
         145170,
         "−1.96%                       ",
         null
        ],
        [
         91,
         "Surprise",
         "AZ",
         141664,
         117517,
         "0.2055",
         null
        ],
        [
         92,
         "Denton",
         "TX",
         141541,
         113383,
         "0.2483",
         null
        ],
        [
         93,
         "Roseville",
         "CA",
         141500,
         118788,
         "0.1912",
         null
        ],
        [
         94,
         "Thornton",
         "CO",
         141464,
         118772,
         "0.1911",
         null
        ],
        [
         95,
         "Pasadena",
         "CA",
         141029,
         137122,
         "0.0285",
         null
        ],
        [
         96,
         "Mesquite",
         "TX",
         140937,
         139824,
         "0.008",
         null
        ],
        [
         97,
         "Dayton",
         "OH",
         140407,
         141527,
         "−0.79%                               ",
         null
        ],
        [
         98,
         "Carrollton",
         "TX",
         139248,
         119097,
         "0.1692",
         null
        ],
        [
         99,
         "Waco",
         "TX",
         139236,
         124805,
         "0.1156",
         null
        ],
        [
         100,
         "Orange",
         "CA",
         138669,
         136416,
         "0.0165",
         null
        ],
        [
         101,
         "Fullerton",
         "CA",
         138632,
         135161,
         "0.0257",
         null
        ],
        [
         102,
         "Visalia",
         "CA",
         134605,
         124442,
         "0.0817",
         null
        ],
        [
         103,
         "Round Rock",
         "TX",
         133372,
         99887,
         "0.3352",
         null
        ],
        [
         104,
         "Santa Clara",
         "CA",
         130365,
         116468,
         "0.1193",
         null
        ],
        [
         105,
         "Concord",
         "CA",
         129295,
         122067,
         "0.0592",
         null
        ],
        [
         106,
         "Thousand Oaks",
         "CA",
         126813,
         126683,
         "0.001",
         null
        ],
        [
         107,
         "Simi Valley",
         "CA",
         125613,
         124237,
         "0.0111",
         null
        ],
        [
         108,
         "Abilene",
         "TX",
         123420,
         117063,
         "0.0543",
         null
        ],
        [
         109,
         "Odessa",
         "TX",
         123334,
         99940,
         "0.2341",
         null
        ],
        [
         110,
         "Pearland",
         "TX",
         122460,
         91252,
         "0.342",
         null
        ],
        [
         111,
         "Victorville",
         "CA",
         122385,
         115903,
         "0.0559",
         null
        ],
        [
         112,
         "Vallejo",
         "CA",
         121692,
         115942,
         "0.0496",
         null
        ],
        [
         113,
         "Berkeley",
         "CA",
         121363,
         112580,
         "0.078",
         null
        ],
        [
         114,
         "Richardson",
         "TX",
         121323,
         99223,
         "0.2227",
         null
        ],
        [
         115,
         "Arvada",
         "CO",
         121272,
         106433,
         "0.1394",
         null
        ],
        [
         116,
         "Sugar Land",
         "TX",
         118488,
         78817,
         "0.5033",
         null
        ],
        [
         117,
         "College Station",
         "TX",
         117911,
         93857,
         "0.2563",
         null
        ],
        [
         118,
         "Fairfield",
         "CA",
         117133,
         105321,
         "0.1122",
         null
        ],
        [
         119,
         "Beaumont",
         "TX",
         116825,
         118296,
         "−1.24%                           ",
         null
        ],
        [
         120,
         "Murrieta",
         "CA",
         116223,
         103466,
         "0.1233",
         null
        ],
        [
         121,
         "El Monte",
         "CA",
         115487,
         113475,
         "0.0177",
         null
        ],
        [
         122,
         "Carlsbad",
         "CA",
         115382,
         105328,
         "0.0955",
         null
        ],
        [
         123,
         "Temecula",
         "CA",
         114761,
         100097,
         "0.1465",
         null
        ],
        [
         124,
         "Clovis",
         "CA",
         114584,
         95631,
         "0.1982",
         null
        ],
        [
         125,
         "Springfield",
         "IL",
         114230,
         116250,
         "−1.74%                       ",
         null
        ],
        [
         126,
         "Westminster",
         "CO",
         113166,
         106114,
         "0.0665",
         null
        ],
        [
         127,
         "Costa Mesa",
         "CA",
         113003,
         109960,
         "0.0277",
         null
        ],
        [
         128,
         "Pueblo",
         "CO",
         112361,
         106595,
         "0.0541",
         null
        ],
        [
         129,
         "Antioch",
         "CA",
         111502,
         102372,
         "0.0892",
         null
        ],
        [
         130,
         "Downey",
         "CA",
         111126,
         111772,
         "−0.58%                           ",
         null
        ],
        [
         131,
         "Centennial",
         "CO",
         110937,
         100377,
         "0.1052",
         null
        ],
        [
         132,
         "Elgin",
         "IL",
         110849,
         108188,
         "0.0246",
         null
        ],
        [
         133,
         "Richmond",
         "CA",
         110567,
         103701,
         "0.0662",
         null
        ],
        [
         134,
         "Peoria",
         "IL",
         110417,
         115007,
         "−3.99%                           ",
         null
        ],
        [
         135,
         "Lewisville",
         "TX",
         109212,
         95290,
         "0.1461",
         null
        ],
        [
         136,
         "Ventura[ab]",
         "CA",
         109106,
         106433,
         "0.0251",
         null
        ],
        [
         137,
         "Greeley",
         "CO",
         108649,
         92889,
         "0.1697",
         null
        ],
        [
         138,
         "Inglewood",
         "CA",
         108151,
         109673,
         "−1.39%                       ",
         null
        ],
        [
         139,
         "League City",
         "TX",
         107536,
         83560,
         "0.2869",
         null
        ],
        [
         140,
         "Santa Maria",
         "CA",
         107263,
         99553,
         "0.0774",
         null
        ],
        [
         141,
         "Tyler",
         "TX",
         106985,
         96900,
         "0.1041",
         null
        ],
        [
         142,
         "Daly City",
         "CA",
         106280,
         101123,
         "0.051",
         null
        ],
        [
         143,
         "Boulder",
         "CO",
         105673,
         97385,
         "0.0851",
         null
        ],
        [
         144,
         "Allen",
         "TX",
         105623,
         84246,
         "0.2537",
         null
        ],
        [
         145,
         "West Covina",
         "CA",
         105101,
         106098,
         "−0.94%                       ",
         null
        ],
        [
         146,
         "Wichita Falls",
         "TX",
         104683,
         104553,
         "0.0012",
         null
        ],
        [
         147,
         "San Mateo",
         "CA",
         104430,
         97207,
         "0.0743",
         null
        ],
        [
         148,
         "Norwalk",
         "CA",
         103949,
         105549,
         "−1.52%                           ",
         null
        ],
        [
         149,
         "Rialto",
         "CA",
         103526,
         99171,
         "0.0439",
         null
        ],
        [
         150,
         "Chico",
         "CA",
         103301,
         86187,
         "0.1986",
         null
        ],
        [
         151,
         "El Cajon",
         "CA",
         102708,
         99478,
         "0.0325",
         null
        ],
        [
         152,
         "Burbank",
         "CA",
         102511,
         103340,
         "−0.80%                           ",
         null
        ],
        [
         153,
         "Vista",
         "CA",
         101638,
         93834,
         "0.0832",
         null
        ],
        [
         154,
         "Edinburg",
         "TX",
         101170,
         77100,
         "0.3122",
         null
        ],
        [
         155,
         "San Angelo",
         "TX",
         101004,
         93200,
         "0.0837",
         null
        ],
        [
         156,
         "Vacaville",
         "CA",
         100670,
         92428,
         "0.0892",
         null
        ],
        [
         239,
         "Hyderabad",
         "TG",
         4234324,
         314234,
         "0.234",
         "IN"
        ],
        [
         238,
         "Bangalore",
         "KA",
         4234324,
         314234,
         "0.234",
         "IN"
        ],
        [
         236,
         "Mumbai",
         "MH",
         4234324,
         314234,
         "0.234",
         "IN"
        ],
        [
         237,
         "Delhi",
         "DL",
         4234324,
         314234,
         "0.234",
         "IN"
        ],
        [
         234,
         "Hyderabad",
         "IN",
         4234324,
         314234,
         "0.234",
         null
        ]
       ],
       "datasetInfos": [],
       "dbfsResultPath": null,
       "isJsonSchema": true,
       "metadata": {},
       "overflow": false,
       "plotOptions": {
        "customPlotOptions": {},
        "displayType": "table",
        "pivotAggregation": null,
        "pivotColumns": null,
        "xColumns": null,
        "yColumns": null
       },
       "removedWidgets": [],
       "schema": [
        {
         "metadata": "{}",
         "name": "2019_rank",
         "type": "\"integer\""
        },
        {
         "metadata": "{}",
         "name": "City",
         "type": "\"string\""
        },
        {
         "metadata": "{}",
         "name": "State_Code",
         "type": "\"string\""
        },
        {
         "metadata": "{}",
         "name": "2019_estimate",
         "type": "\"integer\""
        },
        {
         "metadata": "{}",
         "name": "2010_Census",
         "type": "\"integer\""
        },
        {
         "metadata": "{}",
         "name": "Change",
         "type": "\"string\""
        },
        {
         "metadata": "{}",
         "name": "Country",
         "type": "\"string\""
        }
       ],
       "type": "table"
      }
     },
     "output_type": "display_data"
    }
   ],
   "source": [
    "%sql\n",
    "select * from worldstocks"
   ]
  },
  {
   "cell_type": "code",
   "execution_count": 0,
   "metadata": {
    "application/vnd.databricks.v1+cell": {
     "cellMetadata": {
      "byteLimit": 2048000,
      "rowLimit": 10000
     },
     "inputWidgets": {},
     "nuid": "3ce19dcd-0e0b-49bd-9585-628ad8e6b084",
     "showTitle": false,
     "title": ""
    }
   },
   "outputs": [
    {
     "output_type": "display_data",
     "data": {
      "text/html": [
       "<style scoped>\n",
       "  .table-result-container {\n",
       "    max-height: 300px;\n",
       "    overflow: auto;\n",
       "  }\n",
       "  table, th, td {\n",
       "    border: 1px solid black;\n",
       "    border-collapse: collapse;\n",
       "  }\n",
       "  th, td {\n",
       "    padding: 5px;\n",
       "  }\n",
       "  th {\n",
       "    text-align: left;\n",
       "  }\n",
       "</style><div class='table-result-container'><table class='table-result'><thead style='background-color: white'><tr><th>path</th><th>name</th><th>size</th><th>modificationTime</th></tr></thead><tbody><tr><td>dbfs:/user/hive/warehouse/worldstocks/_delta_log/</td><td>_delta_log/</td><td>0</td><td>0</td></tr><tr><td>dbfs:/user/hive/warehouse/worldstocks/part-00000-0b0065e6-2d59-41a1-9327-a8c9b39d3bbc-c000.snappy.parquet</td><td>part-00000-0b0065e6-2d59-41a1-9327-a8c9b39d3bbc-c000.snappy.parquet</td><td>6380</td><td>1719608940000</td></tr><tr><td>dbfs:/user/hive/warehouse/worldstocks/part-00000-29204313-9397-44cc-a1a0-dece4fea6295-c000.snappy.parquet</td><td>part-00000-29204313-9397-44cc-a1a0-dece4fea6295-c000.snappy.parquet</td><td>6724</td><td>1719611679000</td></tr><tr><td>dbfs:/user/hive/warehouse/worldstocks/part-00000-e3bbba4d-5b46-464c-acd3-d5653cce2a17-c000.snappy.parquet</td><td>part-00000-e3bbba4d-5b46-464c-acd3-d5653cce2a17-c000.snappy.parquet</td><td>1844</td><td>1719609012000</td></tr><tr><td>dbfs:/user/hive/warehouse/worldstocks/part-00001-035d8131-ae17-472e-a190-d2f9978c67b6-c000.snappy.parquet</td><td>part-00001-035d8131-ae17-472e-a190-d2f9978c67b6-c000.snappy.parquet</td><td>2072</td><td>1719610043000</td></tr><tr><td>dbfs:/user/hive/warehouse/worldstocks/part-00001-0845c141-26c5-41b1-a453-da2a636f7d23-c000.snappy.parquet</td><td>part-00001-0845c141-26c5-41b1-a453-da2a636f7d23-c000.snappy.parquet</td><td>2149</td><td>1719611679000</td></tr><tr><td>dbfs:/user/hive/warehouse/worldstocks/part-00001-1bfb35f7-dda6-4393-a52a-da6979b9b729-c000.snappy.parquet</td><td>part-00001-1bfb35f7-dda6-4393-a52a-da6979b9b729-c000.snappy.parquet</td><td>2072</td><td>1719610253000</td></tr><tr><td>dbfs:/user/hive/warehouse/worldstocks/part-00003-6b360618-4322-4cf7-b737-d72bc342f185-c000.snappy.parquet</td><td>part-00003-6b360618-4322-4cf7-b737-d72bc342f185-c000.snappy.parquet</td><td>2051</td><td>1719610043000</td></tr><tr><td>dbfs:/user/hive/warehouse/worldstocks/part-00003-b6909bbd-60bd-45b6-b6e8-d52c8d404f4c-c000.snappy.parquet</td><td>part-00003-b6909bbd-60bd-45b6-b6e8-d52c8d404f4c-c000.snappy.parquet</td><td>2051</td><td>1719610253000</td></tr><tr><td>dbfs:/user/hive/warehouse/worldstocks/part-00005-193cf0c6-81a7-4bea-8d54-36216ccdde53-c000.snappy.parquet</td><td>part-00005-193cf0c6-81a7-4bea-8d54-36216ccdde53-c000.snappy.parquet</td><td>2044</td><td>1719610043000</td></tr><tr><td>dbfs:/user/hive/warehouse/worldstocks/part-00005-23cf43b2-5a27-46c7-9509-fbcfdcf85d7d-c000.snappy.parquet</td><td>part-00005-23cf43b2-5a27-46c7-9509-fbcfdcf85d7d-c000.snappy.parquet</td><td>2044</td><td>1719610253000</td></tr><tr><td>dbfs:/user/hive/warehouse/worldstocks/part-00007-6236a034-0b92-41b7-960a-132042aba98f-c000.snappy.parquet</td><td>part-00007-6236a034-0b92-41b7-960a-132042aba98f-c000.snappy.parquet</td><td>2065</td><td>1719610253000</td></tr><tr><td>dbfs:/user/hive/warehouse/worldstocks/part-00007-8f2f7a53-e689-4ea9-9459-a839c2aa0737-c000.snappy.parquet</td><td>part-00007-8f2f7a53-e689-4ea9-9459-a839c2aa0737-c000.snappy.parquet</td><td>2072</td><td>1719610043000</td></tr></tbody></table></div>"
      ]
     },
     "metadata": {
      "application/vnd.databricks.v1+output": {
       "addedWidgets": {},
       "aggData": [],
       "aggError": "",
       "aggOverflow": false,
       "aggSchema": [],
       "aggSeriesLimitReached": false,
       "aggType": "",
       "arguments": {},
       "columnCustomDisplayInfos": {},
       "data": [
        [
         "dbfs:/user/hive/warehouse/worldstocks/_delta_log/",
         "_delta_log/",
         0,
         0
        ],
        [
         "dbfs:/user/hive/warehouse/worldstocks/part-00000-0b0065e6-2d59-41a1-9327-a8c9b39d3bbc-c000.snappy.parquet",
         "part-00000-0b0065e6-2d59-41a1-9327-a8c9b39d3bbc-c000.snappy.parquet",
         6380,
         1719608940000
        ],
        [
         "dbfs:/user/hive/warehouse/worldstocks/part-00000-29204313-9397-44cc-a1a0-dece4fea6295-c000.snappy.parquet",
         "part-00000-29204313-9397-44cc-a1a0-dece4fea6295-c000.snappy.parquet",
         6724,
         1719611679000
        ],
        [
         "dbfs:/user/hive/warehouse/worldstocks/part-00000-e3bbba4d-5b46-464c-acd3-d5653cce2a17-c000.snappy.parquet",
         "part-00000-e3bbba4d-5b46-464c-acd3-d5653cce2a17-c000.snappy.parquet",
         1844,
         1719609012000
        ],
        [
         "dbfs:/user/hive/warehouse/worldstocks/part-00001-035d8131-ae17-472e-a190-d2f9978c67b6-c000.snappy.parquet",
         "part-00001-035d8131-ae17-472e-a190-d2f9978c67b6-c000.snappy.parquet",
         2072,
         1719610043000
        ],
        [
         "dbfs:/user/hive/warehouse/worldstocks/part-00001-0845c141-26c5-41b1-a453-da2a636f7d23-c000.snappy.parquet",
         "part-00001-0845c141-26c5-41b1-a453-da2a636f7d23-c000.snappy.parquet",
         2149,
         1719611679000
        ],
        [
         "dbfs:/user/hive/warehouse/worldstocks/part-00001-1bfb35f7-dda6-4393-a52a-da6979b9b729-c000.snappy.parquet",
         "part-00001-1bfb35f7-dda6-4393-a52a-da6979b9b729-c000.snappy.parquet",
         2072,
         1719610253000
        ],
        [
         "dbfs:/user/hive/warehouse/worldstocks/part-00003-6b360618-4322-4cf7-b737-d72bc342f185-c000.snappy.parquet",
         "part-00003-6b360618-4322-4cf7-b737-d72bc342f185-c000.snappy.parquet",
         2051,
         1719610043000
        ],
        [
         "dbfs:/user/hive/warehouse/worldstocks/part-00003-b6909bbd-60bd-45b6-b6e8-d52c8d404f4c-c000.snappy.parquet",
         "part-00003-b6909bbd-60bd-45b6-b6e8-d52c8d404f4c-c000.snappy.parquet",
         2051,
         1719610253000
        ],
        [
         "dbfs:/user/hive/warehouse/worldstocks/part-00005-193cf0c6-81a7-4bea-8d54-36216ccdde53-c000.snappy.parquet",
         "part-00005-193cf0c6-81a7-4bea-8d54-36216ccdde53-c000.snappy.parquet",
         2044,
         1719610043000
        ],
        [
         "dbfs:/user/hive/warehouse/worldstocks/part-00005-23cf43b2-5a27-46c7-9509-fbcfdcf85d7d-c000.snappy.parquet",
         "part-00005-23cf43b2-5a27-46c7-9509-fbcfdcf85d7d-c000.snappy.parquet",
         2044,
         1719610253000
        ],
        [
         "dbfs:/user/hive/warehouse/worldstocks/part-00007-6236a034-0b92-41b7-960a-132042aba98f-c000.snappy.parquet",
         "part-00007-6236a034-0b92-41b7-960a-132042aba98f-c000.snappy.parquet",
         2065,
         1719610253000
        ],
        [
         "dbfs:/user/hive/warehouse/worldstocks/part-00007-8f2f7a53-e689-4ea9-9459-a839c2aa0737-c000.snappy.parquet",
         "part-00007-8f2f7a53-e689-4ea9-9459-a839c2aa0737-c000.snappy.parquet",
         2072,
         1719610043000
        ]
       ],
       "datasetInfos": [],
       "dbfsResultPath": null,
       "isJsonSchema": true,
       "metadata": {
        "isDbfsCommandResult": false
       },
       "overflow": false,
       "plotOptions": {
        "customPlotOptions": {},
        "displayType": "table",
        "pivotAggregation": null,
        "pivotColumns": null,
        "xColumns": null,
        "yColumns": null
       },
       "removedWidgets": [],
       "schema": [
        {
         "metadata": "{}",
         "name": "path",
         "type": "\"string\""
        },
        {
         "metadata": "{}",
         "name": "name",
         "type": "\"string\""
        },
        {
         "metadata": "{}",
         "name": "size",
         "type": "\"long\""
        },
        {
         "metadata": "{}",
         "name": "modificationTime",
         "type": "\"long\""
        }
       ],
       "type": "table"
      }
     },
     "output_type": "display_data"
    }
   ],
   "source": [
    "%fs ls dbfs:/user/hive/warehouse/worldstocks/"
   ]
  },
  {
   "cell_type": "code",
   "execution_count": 0,
   "metadata": {
    "application/vnd.databricks.v1+cell": {
     "cellMetadata": {
      "byteLimit": 2048000,
      "implicitDf": true,
      "rowLimit": 10000
     },
     "inputWidgets": {},
     "nuid": "13e810f1-a7e4-4edb-b90d-5d8c8c9d2702",
     "showTitle": false,
     "title": ""
    }
   },
   "outputs": [
    {
     "output_type": "display_data",
     "data": {
      "text/html": [
       "<style scoped>\n",
       "  .table-result-container {\n",
       "    max-height: 300px;\n",
       "    overflow: auto;\n",
       "  }\n",
       "  table, th, td {\n",
       "    border: 1px solid black;\n",
       "    border-collapse: collapse;\n",
       "  }\n",
       "  th, td {\n",
       "    padding: 5px;\n",
       "  }\n",
       "  th {\n",
       "    text-align: left;\n",
       "  }\n",
       "</style><div class='table-result-container'><table class='table-result'><thead style='background-color: white'><tr><th>num_affected_rows</th></tr></thead><tbody><tr><td>157</td></tr></tbody></table></div>"
      ]
     },
     "metadata": {
      "application/vnd.databricks.v1+output": {
       "addedWidgets": {},
       "aggData": [],
       "aggError": "",
       "aggOverflow": false,
       "aggSchema": [],
       "aggSeriesLimitReached": false,
       "aggType": "",
       "arguments": {},
       "columnCustomDisplayInfos": {},
       "data": [
        [
         157
        ]
       ],
       "datasetInfos": [],
       "dbfsResultPath": null,
       "isJsonSchema": true,
       "metadata": {},
       "overflow": false,
       "plotOptions": {
        "customPlotOptions": {},
        "displayType": "table",
        "pivotAggregation": null,
        "pivotColumns": null,
        "xColumns": null,
        "yColumns": null
       },
       "removedWidgets": [],
       "schema": [
        {
         "metadata": "{}",
         "name": "num_affected_rows",
         "type": "\"long\""
        }
       ],
       "type": "table"
      }
     },
     "output_type": "display_data"
    }
   ],
   "source": [
    "%sql\n",
    "update worldstocks\n",
    "set country= 'United States' \n",
    "where country is null"
   ]
  },
  {
   "cell_type": "markdown",
   "metadata": {
    "application/vnd.databricks.v1+cell": {
     "cellMetadata": {},
     "inputWidgets": {},
     "nuid": "1699e10b-c6c0-4cba-8418-ed7882e40ac3",
     "showTitle": false,
     "title": ""
    }
   },
   "source": [
    "Time Travel -> Delta tables stores previous version of the table"
   ]
  },
  {
   "cell_type": "code",
   "execution_count": 0,
   "metadata": {
    "application/vnd.databricks.v1+cell": {
     "cellMetadata": {
      "byteLimit": 2048000,
      "implicitDf": true,
      "rowLimit": 10000
     },
     "inputWidgets": {},
     "nuid": "bcab14ef-8c9c-4eee-9abe-112c4398d120",
     "showTitle": false,
     "title": ""
    }
   },
   "outputs": [
    {
     "output_type": "display_data",
     "data": {
      "text/html": [
       "<style scoped>\n",
       "  .table-result-container {\n",
       "    max-height: 300px;\n",
       "    overflow: auto;\n",
       "  }\n",
       "  table, th, td {\n",
       "    border: 1px solid black;\n",
       "    border-collapse: collapse;\n",
       "  }\n",
       "  th, td {\n",
       "    padding: 5px;\n",
       "  }\n",
       "  th {\n",
       "    text-align: left;\n",
       "  }\n",
       "</style><div class='table-result-container'><table class='table-result'><thead style='background-color: white'><tr><th>version</th><th>timestamp</th><th>userId</th><th>userName</th><th>operation</th><th>operationParameters</th><th>job</th><th>notebook</th><th>clusterId</th><th>readVersion</th><th>isolationLevel</th><th>isBlindAppend</th><th>operationMetrics</th><th>userMetadata</th><th>engineInfo</th></tr></thead><tbody><tr><td>4</td><td>2024-06-28T21:54:40.000+0000</td><td>8565553880906637</td><td>irfanmohammed9@gwu.edu</td><td>UPDATE</td><td>Map(predicate -> [\"isnull(country#6896)\"])</td><td>null</td><td>List(3048189924655024)</td><td>0628-202507-p8m6sdpw</td><td>3</td><td>WriteSerializable</td><td>false</td><td>Map(numRemovedFiles -> 2, numRemovedBytes -> 8224, numCopiedRows -> 0, numDeletionVectorsAdded -> 0, numDeletionVectorsRemoved -> 0, numAddedChangeFiles -> 0, executionTimeMs -> 5079, scanTimeMs -> 3110, numAddedFiles -> 2, numUpdatedRows -> 157, numAddedBytes -> 8873, rewriteTimeMs -> 1923)</td><td>null</td><td>Databricks-Runtime/12.2.x-scala2.12</td></tr><tr><td>3</td><td>2024-06-28T21:30:54.000+0000</td><td>8565553880906637</td><td>irfanmohammed9@gwu.edu</td><td>WRITE</td><td>Map(mode -> Append, partitionBy -> [])</td><td>null</td><td>List(3048189924655024)</td><td>0628-202507-p8m6sdpw</td><td>2</td><td>WriteSerializable</td><td>true</td><td>Map(numFiles -> 4, numOutputRows -> 4, numOutputBytes -> 8232)</td><td>null</td><td>Databricks-Runtime/12.2.x-scala2.12</td></tr><tr><td>2</td><td>2024-06-28T21:27:23.000+0000</td><td>8565553880906637</td><td>irfanmohammed9@gwu.edu</td><td>WRITE</td><td>Map(mode -> Append, partitionBy -> [])</td><td>null</td><td>List(3048189924655024)</td><td>0628-202507-p8m6sdpw</td><td>1</td><td>WriteSerializable</td><td>true</td><td>Map(numFiles -> 4, numOutputRows -> 4, numOutputBytes -> 8239)</td><td>null</td><td>Databricks-Runtime/12.2.x-scala2.12</td></tr><tr><td>1</td><td>2024-06-28T21:10:13.000+0000</td><td>8565553880906637</td><td>irfanmohammed9@gwu.edu</td><td>WRITE</td><td>Map(mode -> Append, partitionBy -> [])</td><td>null</td><td>List(3048189924655024)</td><td>0628-202507-p8m6sdpw</td><td>0</td><td>WriteSerializable</td><td>true</td><td>Map(numFiles -> 1, numOutputRows -> 1, numOutputBytes -> 1844)</td><td>null</td><td>Databricks-Runtime/12.2.x-scala2.12</td></tr><tr><td>0</td><td>2024-06-28T21:09:01.000+0000</td><td>8565553880906637</td><td>irfanmohammed9@gwu.edu</td><td>CREATE TABLE AS SELECT</td><td>Map(isManaged -> true, description -> null, partitionBy -> [], properties -> {})</td><td>null</td><td>List(3048189924655024)</td><td>0628-202507-p8m6sdpw</td><td>null</td><td>WriteSerializable</td><td>true</td><td>Map(numFiles -> 1, numOutputRows -> 156, numOutputBytes -> 6380)</td><td>null</td><td>Databricks-Runtime/12.2.x-scala2.12</td></tr></tbody></table></div>"
      ]
     },
     "metadata": {
      "application/vnd.databricks.v1+output": {
       "addedWidgets": {},
       "aggData": [],
       "aggError": "",
       "aggOverflow": false,
       "aggSchema": [],
       "aggSeriesLimitReached": false,
       "aggType": "",
       "arguments": {},
       "columnCustomDisplayInfos": {},
       "data": [
        [
         4,
         "2024-06-28T21:54:40.000+0000",
         "8565553880906637",
         "irfanmohammed9@gwu.edu",
         "UPDATE",
         {
          "predicate": "[\"isnull(country#6896)\"]"
         },
         null,
         [
          "3048189924655024"
         ],
         "0628-202507-p8m6sdpw",
         3,
         "WriteSerializable",
         false,
         {
          "executionTimeMs": "5079",
          "numAddedBytes": "8873",
          "numAddedChangeFiles": "0",
          "numAddedFiles": "2",
          "numCopiedRows": "0",
          "numDeletionVectorsAdded": "0",
          "numDeletionVectorsRemoved": "0",
          "numRemovedBytes": "8224",
          "numRemovedFiles": "2",
          "numUpdatedRows": "157",
          "rewriteTimeMs": "1923",
          "scanTimeMs": "3110"
         },
         null,
         "Databricks-Runtime/12.2.x-scala2.12"
        ],
        [
         3,
         "2024-06-28T21:30:54.000+0000",
         "8565553880906637",
         "irfanmohammed9@gwu.edu",
         "WRITE",
         {
          "mode": "Append",
          "partitionBy": "[]"
         },
         null,
         [
          "3048189924655024"
         ],
         "0628-202507-p8m6sdpw",
         2,
         "WriteSerializable",
         true,
         {
          "numFiles": "4",
          "numOutputBytes": "8232",
          "numOutputRows": "4"
         },
         null,
         "Databricks-Runtime/12.2.x-scala2.12"
        ],
        [
         2,
         "2024-06-28T21:27:23.000+0000",
         "8565553880906637",
         "irfanmohammed9@gwu.edu",
         "WRITE",
         {
          "mode": "Append",
          "partitionBy": "[]"
         },
         null,
         [
          "3048189924655024"
         ],
         "0628-202507-p8m6sdpw",
         1,
         "WriteSerializable",
         true,
         {
          "numFiles": "4",
          "numOutputBytes": "8239",
          "numOutputRows": "4"
         },
         null,
         "Databricks-Runtime/12.2.x-scala2.12"
        ],
        [
         1,
         "2024-06-28T21:10:13.000+0000",
         "8565553880906637",
         "irfanmohammed9@gwu.edu",
         "WRITE",
         {
          "mode": "Append",
          "partitionBy": "[]"
         },
         null,
         [
          "3048189924655024"
         ],
         "0628-202507-p8m6sdpw",
         0,
         "WriteSerializable",
         true,
         {
          "numFiles": "1",
          "numOutputBytes": "1844",
          "numOutputRows": "1"
         },
         null,
         "Databricks-Runtime/12.2.x-scala2.12"
        ],
        [
         0,
         "2024-06-28T21:09:01.000+0000",
         "8565553880906637",
         "irfanmohammed9@gwu.edu",
         "CREATE TABLE AS SELECT",
         {
          "description": null,
          "isManaged": "true",
          "partitionBy": "[]",
          "properties": "{}"
         },
         null,
         [
          "3048189924655024"
         ],
         "0628-202507-p8m6sdpw",
         null,
         "WriteSerializable",
         true,
         {
          "numFiles": "1",
          "numOutputBytes": "6380",
          "numOutputRows": "156"
         },
         null,
         "Databricks-Runtime/12.2.x-scala2.12"
        ]
       ],
       "datasetInfos": [],
       "dbfsResultPath": null,
       "isJsonSchema": true,
       "metadata": {},
       "overflow": false,
       "plotOptions": {
        "customPlotOptions": {},
        "displayType": "table",
        "pivotAggregation": null,
        "pivotColumns": null,
        "xColumns": null,
        "yColumns": null
       },
       "removedWidgets": [],
       "schema": [
        {
         "metadata": "{}",
         "name": "version",
         "type": "\"long\""
        },
        {
         "metadata": "{}",
         "name": "timestamp",
         "type": "\"timestamp\""
        },
        {
         "metadata": "{}",
         "name": "userId",
         "type": "\"string\""
        },
        {
         "metadata": "{}",
         "name": "userName",
         "type": "\"string\""
        },
        {
         "metadata": "{}",
         "name": "operation",
         "type": "\"string\""
        },
        {
         "metadata": "{}",
         "name": "operationParameters",
         "type": "{\"type\":\"map\",\"keyType\":\"string\",\"valueType\":\"string\",\"valueContainsNull\":true}"
        },
        {
         "metadata": "{}",
         "name": "job",
         "type": "{\"type\":\"struct\",\"fields\":[{\"name\":\"jobId\",\"type\":\"string\",\"nullable\":true,\"metadata\":{}},{\"name\":\"jobName\",\"type\":\"string\",\"nullable\":true,\"metadata\":{}},{\"name\":\"jobRunId\",\"type\":\"string\",\"nullable\":true,\"metadata\":{}},{\"name\":\"runId\",\"type\":\"string\",\"nullable\":true,\"metadata\":{}},{\"name\":\"jobOwnerId\",\"type\":\"string\",\"nullable\":true,\"metadata\":{}},{\"name\":\"triggerType\",\"type\":\"string\",\"nullable\":true,\"metadata\":{}}]}"
        },
        {
         "metadata": "{}",
         "name": "notebook",
         "type": "{\"type\":\"struct\",\"fields\":[{\"name\":\"notebookId\",\"type\":\"string\",\"nullable\":true,\"metadata\":{}}]}"
        },
        {
         "metadata": "{}",
         "name": "clusterId",
         "type": "\"string\""
        },
        {
         "metadata": "{}",
         "name": "readVersion",
         "type": "\"long\""
        },
        {
         "metadata": "{}",
         "name": "isolationLevel",
         "type": "\"string\""
        },
        {
         "metadata": "{}",
         "name": "isBlindAppend",
         "type": "\"boolean\""
        },
        {
         "metadata": "{}",
         "name": "operationMetrics",
         "type": "{\"type\":\"map\",\"keyType\":\"string\",\"valueType\":\"string\",\"valueContainsNull\":true}"
        },
        {
         "metadata": "{}",
         "name": "userMetadata",
         "type": "\"string\""
        },
        {
         "metadata": "{}",
         "name": "engineInfo",
         "type": "\"string\""
        }
       ],
       "type": "table"
      }
     },
     "output_type": "display_data"
    }
   ],
   "source": [
    "%sql \n",
    "describe history worldstocks"
   ]
  },
  {
   "cell_type": "markdown",
   "metadata": {
    "application/vnd.databricks.v1+cell": {
     "cellMetadata": {},
     "inputWidgets": {},
     "nuid": "b99ed542-01ee-488c-926d-3d42741b2590",
     "showTitle": false,
     "title": ""
    }
   },
   "source": [
    "Revert back to previous versions"
   ]
  },
  {
   "cell_type": "code",
   "execution_count": 0,
   "metadata": {
    "application/vnd.databricks.v1+cell": {
     "cellMetadata": {
      "byteLimit": 2048000,
      "implicitDf": true,
      "rowLimit": 10000
     },
     "inputWidgets": {},
     "nuid": "ab3a28e2-4e96-4296-bc1d-6e2b31b1913c",
     "showTitle": false,
     "title": ""
    }
   },
   "outputs": [
    {
     "output_type": "display_data",
     "data": {
      "text/html": [
       "<style scoped>\n",
       "  .table-result-container {\n",
       "    max-height: 300px;\n",
       "    overflow: auto;\n",
       "  }\n",
       "  table, th, td {\n",
       "    border: 1px solid black;\n",
       "    border-collapse: collapse;\n",
       "  }\n",
       "  th, td {\n",
       "    padding: 5px;\n",
       "  }\n",
       "  th {\n",
       "    text-align: left;\n",
       "  }\n",
       "</style><div class='table-result-container'><table class='table-result'><thead style='background-color: white'><tr><th>count(1)</th></tr></thead><tbody><tr><td>0</td></tr></tbody></table></div>"
      ]
     },
     "metadata": {
      "application/vnd.databricks.v1+output": {
       "addedWidgets": {},
       "aggData": [],
       "aggError": "",
       "aggOverflow": false,
       "aggSchema": [],
       "aggSeriesLimitReached": false,
       "aggType": "",
       "arguments": {},
       "columnCustomDisplayInfos": {},
       "data": [
        [
         0
        ]
       ],
       "datasetInfos": [],
       "dbfsResultPath": null,
       "isJsonSchema": true,
       "metadata": {},
       "overflow": false,
       "plotOptions": {
        "customPlotOptions": {},
        "displayType": "table",
        "pivotAggregation": null,
        "pivotColumns": null,
        "xColumns": null,
        "yColumns": null
       },
       "removedWidgets": [],
       "schema": [
        {
         "metadata": "{\"__autoGeneratedAlias\":\"true\"}",
         "name": "count(1)",
         "type": "\"long\""
        }
       ],
       "type": "table"
      }
     },
     "output_type": "display_data"
    }
   ],
   "source": [
    "%sql \n",
    "select count(*) from worldstocks\n",
    "version as of 4\n",
    "where country is null"
   ]
  },
  {
   "cell_type": "code",
   "execution_count": 0,
   "metadata": {
    "application/vnd.databricks.v1+cell": {
     "cellMetadata": {
      "byteLimit": 2048000,
      "implicitDf": true,
      "rowLimit": 10000
     },
     "inputWidgets": {},
     "nuid": "50f88668-0796-4cea-b469-e4dd05787048",
     "showTitle": false,
     "title": ""
    }
   },
   "outputs": [
    {
     "output_type": "display_data",
     "data": {
      "text/html": [
       "<style scoped>\n",
       "  .table-result-container {\n",
       "    max-height: 300px;\n",
       "    overflow: auto;\n",
       "  }\n",
       "  table, th, td {\n",
       "    border: 1px solid black;\n",
       "    border-collapse: collapse;\n",
       "  }\n",
       "  th, td {\n",
       "    padding: 5px;\n",
       "  }\n",
       "  th {\n",
       "    text-align: left;\n",
       "  }\n",
       "</style><div class='table-result-container'><table class='table-result'><thead style='background-color: white'><tr><th>count(1)</th></tr></thead><tbody><tr><td>157</td></tr></tbody></table></div>"
      ]
     },
     "metadata": {
      "application/vnd.databricks.v1+output": {
       "addedWidgets": {},
       "aggData": [],
       "aggError": "",
       "aggOverflow": false,
       "aggSchema": [],
       "aggSeriesLimitReached": false,
       "aggType": "",
       "arguments": {},
       "columnCustomDisplayInfos": {},
       "data": [
        [
         157
        ]
       ],
       "datasetInfos": [],
       "dbfsResultPath": null,
       "isJsonSchema": true,
       "metadata": {},
       "overflow": false,
       "plotOptions": {
        "customPlotOptions": {},
        "displayType": "table",
        "pivotAggregation": null,
        "pivotColumns": null,
        "xColumns": null,
        "yColumns": null
       },
       "removedWidgets": [],
       "schema": [
        {
         "metadata": "{\"__autoGeneratedAlias\":\"true\"}",
         "name": "count(1)",
         "type": "\"long\""
        }
       ],
       "type": "table"
      }
     },
     "output_type": "display_data"
    }
   ],
   "source": [
    "%sql \n",
    "select count(*) from worldstocks\n",
    "version as of 3\n",
    "where country is null"
   ]
  }
 ],
 "metadata": {
  "application/vnd.databricks.v1+notebook": {
   "dashboards": [],
   "environmentMetadata": null,
   "language": "python",
   "notebookMetadata": {
    "mostRecentlyExecutedCommandWithImplicitDF": {
     "commandId": 4050843678746502,
     "dataframes": [
      "_sqldf"
     ]
    },
    "pythonIndentUnit": 4
   },
   "notebookName": "Delta Lake",
   "widgets": {}
  }
 },
 "nbformat": 4,
 "nbformat_minor": 0
}
